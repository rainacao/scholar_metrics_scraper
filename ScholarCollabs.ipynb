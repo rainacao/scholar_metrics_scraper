{
 "cells": [
  {
   "cell_type": "markdown",
   "id": "4058bbe7-90df-4c95-934b-dd4c17c4c859",
   "metadata": {
    "tags": []
   },
   "source": [
    "![DBC](Images/DBC.png)\n",
    "\n",
    "# ScholarCollabs\n",
    "\n",
    "**Introduction**\n",
    "\n",
    "This R notebook creates a chord diagram to visualize publication collaborations between coauthors. It creates links between authors and their coauthors from the output CSV file created by the ScholarScraper.ipynb notebook. This notebook does not group the authors into sub-groups. For this purpose, use GroupedCollabs.ipynb. \n",
    "\n",
    "**Installation and Setup**\n",
    "1. At this point we will assume you have this project loaded in Jupyter and have successfully run ScholarScraper, which has created an output CSV file with author data. If this is not the case, go to the ScholarScraper.ipynb file and follow the instructions to setup and run. \n",
    "\n",
    "2. Ensure that the CSV file created by ScholarScraper is in the same directory as this notebook. Make sure it has a column labeled 'Name' and a column labeled 'Coauthors'.\n",
    "\n",
    "3. Create a CSV file for the groupings. This should contain the author names in the first column, the group names as column names, and the author names under their respective groups.\n",
    "![Groupings](Images/ExampleGroupCSV.png)\n",
    "\n",
    "4. Modify the names of ss_output_file and the author_name_file. \n",
    "\n",
    "5. Modify the name of the output PDF file.\n",
    "\n",
    "6. Modify \"links\" depending on whether you want a weighted or non-weighted diagram. \n",
    "\n"
   ]
  },
  {
   "cell_type": "markdown",
   "id": "fce6ee32-a70e-404c-8637-5a549b4d3008",
   "metadata": {},
   "source": [
    "Install and load libraries"
   ]
  },
  {
   "cell_type": "code",
   "execution_count": 5,
   "id": "0b8f7647-2f14-4e3e-99b0-df093190f2ee",
   "metadata": {},
   "outputs": [
    {
     "name": "stderr",
     "output_type": "stream",
     "text": [
      "Downloading GitHub repo thomasp85/patchwork@HEAD\n",
      "\n"
     ]
    },
    {
     "name": "stdout",
     "output_type": "stream",
     "text": [
      "\n",
      "\u001b[32m✔\u001b[39m  \u001b[90mchecking for file ‘/tmp/RtmpGXXOx1/remotes34c423df0c1/thomasp85-patchwork-79223d3/DESCRIPTION’\u001b[39m\u001b[36m\u001b[36m (667ms)\u001b[36m\u001b[39m\n",
      "\u001b[90m─\u001b[39m\u001b[90m  \u001b[39m\u001b[90mpreparing ‘patchwork’:\u001b[39m\u001b[36m\u001b[39m\n",
      "\u001b[32m✔\u001b[39m  \u001b[90mchecking DESCRIPTION meta-information\u001b[39m\u001b[36m\u001b[39m\n",
      "\u001b[90m─\u001b[39m\u001b[90m  \u001b[39m\u001b[90mchecking for LF line-endings in source and make files and shell scripts\u001b[39m\u001b[36m\u001b[39m\n",
      "\u001b[90m─\u001b[39m\u001b[90m  \u001b[39m\u001b[90mchecking for empty or unneeded directories\u001b[39m\u001b[36m\u001b[39m\n",
      "\u001b[90m─\u001b[39m\u001b[90m  \u001b[39m\u001b[90mbuilding ‘patchwork_1.1.0.9000.tar.gz’\u001b[39m\u001b[36m\u001b[39m\n",
      "   \n",
      "\r"
     ]
    },
    {
     "name": "stderr",
     "output_type": "stream",
     "text": [
      "Installing package into ‘/home/jupyter/R/x86_64-pc-linux-gnu-library/4.0’\n",
      "(as ‘lib’ is unspecified)\n",
      "\n",
      "Downloading GitHub repo jokergoo/circlize@HEAD\n",
      "\n"
     ]
    },
    {
     "name": "stdout",
     "output_type": "stream",
     "text": [
      "\n",
      "\u001b[32m✔\u001b[39m  \u001b[90mchecking for file ‘/tmp/RtmpGXXOx1/remotes34c51d62f7b/jokergoo-circlize-14116da/DESCRIPTION’\u001b[39m\u001b[36m\u001b[36m (659ms)\u001b[36m\u001b[39m\n",
      "\u001b[90m─\u001b[39m\u001b[90m  \u001b[39m\u001b[90mpreparing ‘circlize’:\u001b[39m\u001b[36m\u001b[39m\n",
      "\u001b[32m✔\u001b[39m  \u001b[90mchecking DESCRIPTION meta-information\u001b[39m\u001b[36m\u001b[39m\n",
      "\u001b[90m─\u001b[39m\u001b[90m  \u001b[39m\u001b[90mchecking for LF line-endings in source and make files and shell scripts\u001b[39m\u001b[36m\u001b[39m\n",
      "\u001b[90m─\u001b[39m\u001b[90m  \u001b[39m\u001b[90mchecking for empty or unneeded directories\u001b[39m\u001b[36m\u001b[39m\n",
      "   Removed empty directory ‘circlize/example’\n",
      "   Removed empty directory ‘circlize/test’\n",
      "\u001b[90m─\u001b[39m\u001b[90m  \u001b[39m\u001b[90mbuilding ‘circlize_0.4.14.tar.gz’\u001b[39m\u001b[36m\u001b[39m\n",
      "   \n",
      "\r"
     ]
    },
    {
     "name": "stderr",
     "output_type": "stream",
     "text": [
      "Installing package into ‘/home/jupyter/R/x86_64-pc-linux-gnu-library/4.0’\n",
      "(as ‘lib’ is unspecified)\n",
      "\n",
      "Installing package into ‘/home/jupyter/R/x86_64-pc-linux-gnu-library/4.0’\n",
      "(as ‘lib’ is unspecified)\n",
      "\n"
     ]
    }
   ],
   "source": [
    "library(tidyverse)\n",
    "library(viridis)\n",
    "devtools::install_github(\"thomasp85/patchwork\")\n",
    "devtools::install_github(\"jokergoo/circlize\")\n",
    "install.packages(\"RColorBrewer\")\n",
    "library(patchwork)\n",
    "library(circlize)\n",
    "library(RColorBrewer)\n"
   ]
  },
  {
   "cell_type": "markdown",
   "id": "79c4c541-2ad8-46e3-a0c1-9f01291fcf68",
   "metadata": {},
   "source": [
    "Define the name of the data file (CSV created by Scholar Scraper) and author name CSV file\n"
   ]
  },
  {
   "cell_type": "code",
   "execution_count": 6,
   "id": "48dd282f-c187-4c92-855d-a42f2c607d86",
   "metadata": {},
   "outputs": [],
   "source": [
    "ss_output_file = \"ss_output_data.csv\"\n",
    "author_name_file = \"DBC Investigators.csv\""
   ]
  },
  {
   "cell_type": "markdown",
   "id": "ac35fcda-e203-4f7f-8250-629d7a79ea5c",
   "metadata": {},
   "source": [
    "Define the title and the color palette you want to use \n",
    "\n",
    "View color palettes: https://www.r-graph-gallery.com/38-rcolorbrewers-palettes.html"
   ]
  },
  {
   "cell_type": "code",
   "execution_count": 7,
   "id": "cbf220ec-01c2-4bac-aeec-64b01ef9ce4a",
   "metadata": {},
   "outputs": [],
   "source": [
    "title = \"Dynamic Brain Circuits\"\n",
    "c_pallete <- brewer.pal(12,\"Paired\")"
   ]
  },
  {
   "cell_type": "markdown",
   "id": "f6ccaaca-906e-45f0-bff4-be5ebdf206b7",
   "metadata": {},
   "source": [
    "Load in collaboration and investigator data\n"
   ]
  },
  {
   "cell_type": "code",
   "execution_count": 8,
   "id": "657afcbe-e914-4029-865a-d4ee343ce060",
   "metadata": {},
   "outputs": [],
   "source": [
    "df_collab = read.csv(ss_output_file)\n",
    "names_l = read.csv(author_name_file)"
   ]
  },
  {
   "cell_type": "markdown",
   "id": "1ecea0a1-99b0-4069-8f9a-12e7e6e4753b",
   "metadata": {},
   "source": [
    "Assign colors."
   ]
  },
  {
   "cell_type": "code",
   "execution_count": 9,
   "id": "4490937c-f743-4584-b016-785bac8c3777",
   "metadata": {},
   "outputs": [],
   "source": [
    "color =  c()\n",
    "\n",
    "for (i in 1:nrow(df_collab)) {\n",
    "    j=i%%12\n",
    "    if(j==0){\n",
    "        j= 12\n",
    "        }\n",
    "      color = append(color,c_pallete[j])\n",
    "}\n",
    "\n",
    "# adding the color column to the dataframe.\n",
    "df_collab$color = color\n",
    "\n",
    "# creating colour_ind structure\n",
    "color_ind = structure(df_collab$color, names = df_collab$Name)"
   ]
  },
  {
   "cell_type": "markdown",
   "id": "32d505af-c7f5-4237-9e25-12a348d808c9",
   "metadata": {},
   "source": [
    "Tidy the dataframe"
   ]
  },
  {
   "cell_type": "code",
   "execution_count": 10,
   "id": "1db6abb7-5a2e-4ff3-8683-d2a32a80d15b",
   "metadata": {},
   "outputs": [],
   "source": [
    "# creating a subset of our survey data that extracts the useful columns. \n",
    "df_collab = subset(df_collab, select = c(Name, Coauthors))\n",
    "\n",
    "# get rid of rows containing NAs\n",
    "df_collab=df_collab[rowSums(is.na(df_collab)) != ncol(df_collab), ]"
   ]
  },
  {
   "cell_type": "markdown",
   "id": "41a47742-2f87-42eb-ad61-c94c7d756bd9",
   "metadata": {},
   "source": [
    "Set up the links"
   ]
  },
  {
   "cell_type": "code",
   "execution_count": 11,
   "id": "9bf222d0-9e43-4a65-b8be-75c472437150",
   "metadata": {},
   "outputs": [],
   "source": [
    "origin = c()\n",
    "destination = c()\n",
    "count = c()\n",
    "\n",
    "for (i in 1:nrow(df_collab)) {\n",
    "  x = df_collab$Name[i]\n",
    "  for (n in 1:nrow(df_collab)) {\n",
    "    if(is.na(df_collab$Coauthors[n]) == FALSE) {\n",
    "      if(str_detect(df_collab$Coauthors[n], x) == TRUE) {\n",
    "        origin = append(origin, df_collab$Name[n])\n",
    "        destination = append(destination, x)\n",
    "#       extracts digits that come after author name in df_collab$Collaborators[n]\n",
    "        count = append(count, strtoi(\n",
    "            str_extract(df_collab$Coauthors[n],paste(\"(?<=\", df_collab$Name[i], \"\\': )\\\\d+\", sep=\"\"))))\n",
    "      }\n",
    "    }\n",
    "  }\n",
    "}\n",
    "\n",
    "edge_l = data.frame(origin, destination, count)\n",
    "# cleaning up the edge list by removing duplicates\n",
    "edge_l = unique(edge_l)\n",
    "edge_l$temp = apply(edge_l, 1, function(x) paste(sort(x), collapse=\"\"))\n",
    "edge_l = edge_l[!duplicated(edge_l$temp), 1:3]\n",
    "                    \n",
    " # create an adjacency list. \n",
    "adjacencyData = data.frame(with(edge_l, table(origin, destination))) "
   ]
  },
  {
   "cell_type": "markdown",
   "id": "9544cdb5-fe62-47e7-8900-7a6f92bba466",
   "metadata": {},
   "source": [
    "If you want a non-weighted diagram (all links the same width, set links to adjacencyData. If you want a weighted diagram, set links to edge_l. "
   ]
  },
  {
   "cell_type": "code",
   "execution_count": 18,
   "id": "e4ff5c31-012f-43b3-a672-86f8d693a7fa",
   "metadata": {},
   "outputs": [],
   "source": [
    "links <- edge_l"
   ]
  },
  {
   "cell_type": "markdown",
   "id": "9fdd28b7-72f5-46c3-b728-4ebf4daa2b2c",
   "metadata": {},
   "source": [
    "Modify the name of the output PDF file, and create the chord diagram"
   ]
  },
  {
   "cell_type": "code",
   "execution_count": 19,
   "id": "131f81a0-8fd0-46d9-a856-245d27ae912b",
   "metadata": {},
   "outputs": [
    {
     "data": {
      "text/html": [
       "<strong>png:</strong> 2"
      ],
      "text/latex": [
       "\\textbf{png:} 2"
      ],
      "text/markdown": [
       "**png:** 2"
      ],
      "text/plain": [
       "png \n",
       "  2 "
      ]
     },
     "metadata": {},
     "output_type": "display_data"
    }
   ],
   "source": [
    "# Modify this!!!\n",
    "pdf(\"DBC_collab_diagram_weighted_NOV29.pdf\") \n",
    "\n",
    "# set up the parameters\n",
    "circos.clear()\n",
    "circos.par(start.degree = 90,gap.degree = 1, \n",
    "           track.margin = c(-0.1, 0.1), \n",
    "           points.overflow.warning = FALSE, canvas.xlim = c(-1.3,1.3),\n",
    "           canvas.ylim = c(-1.3,1.3))\n",
    "par(mar = c(0,0,2,0),xpd = TRUE, cex.main = 1.5)\n",
    "\n",
    "# create the chord diagram\n",
    "chordDiagram(links,\n",
    "              grid.col = color_ind,\n",
    "             transparency = 0.25,\n",
    "             diffHeight  = -0.04,\n",
    "             annotationTrack = \"grid\", \n",
    "             annotationTrackHeight = c(0.05, 0.1),\n",
    "             link.sort = TRUE, \n",
    "             link.largest.ontop = FALSE,\n",
    "              self.link = 1, \n",
    "              small.gap = 1,\n",
    "              big.gap = 1\n",
    ")\n",
    "                    \n",
    "\n",
    "# Add the text and the axis surrounding the diagram.\n",
    "circos.trackPlotRegion(\n",
    "  track.index = 1, \n",
    "  bg.border = NA, \n",
    "  panel.fun = function(x, y) {\n",
    "    \n",
    "    xlim = get.cell.meta.data(\"xlim\")\n",
    "    sector.index = get.cell.meta.data(\"sector.index\")\n",
    "    \n",
    "    # Add names to the sector. \n",
    "    circos.text(\n",
    "      x = mean(xlim), \n",
    "      y = 5.2, \n",
    "      labels = sector.index, \n",
    "      facing = \"clockwise\", \n",
    "      niceFacing = TRUE,\n",
    "      cex = 0.7,\n",
    "    )\n",
    "    \n",
    "     #Add graduation on axis\n",
    "    circos.axis(\n",
    "      h = \"top\", \n",
    "      labels.cex = 0.001,\n",
    "      minor.ticks = 2, \n",
    "      major.tick.length = 0.1, \n",
    "      labels.niceFacing = FALSE)\n",
    "      \n",
    "  }\n",
    ")\n",
    "\n",
    "# Add a title\n",
    "title(title,outer=FALSE)\n",
    "                    \n",
    "                    \n",
    "dev.off()\n",
    "                    "
   ]
  },
  {
   "cell_type": "code",
   "execution_count": null,
   "id": "f54e8f06-bbb9-404e-9dc7-2cfa7ac36cc4",
   "metadata": {},
   "outputs": [],
   "source": [
    "\n"
   ]
  },
  {
   "cell_type": "code",
   "execution_count": null,
   "id": "2f4b13b2-d9df-44cb-ab15-9dfca5e3ce26",
   "metadata": {},
   "outputs": [],
   "source": []
  }
 ],
 "metadata": {
  "kernelspec": {
   "display_name": "R",
   "language": "R",
   "name": "ir"
  },
  "language_info": {
   "codemirror_mode": "r",
   "file_extension": ".r",
   "mimetype": "text/x-r-source",
   "name": "R",
   "pygments_lexer": "r",
   "version": "4.0.5"
  }
 },
 "nbformat": 4,
 "nbformat_minor": 5
}
