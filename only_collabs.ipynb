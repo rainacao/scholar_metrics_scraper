{
 "cells": [
  {
   "cell_type": "code",
   "execution_count": 2,
   "metadata": {},
   "outputs": [],
   "source": [
    "import csv\n",
    "import os\n",
    "import numpy as np\n",
    "import pandas as pd"
   ]
  },
  {
   "cell_type": "code",
   "execution_count": null,
   "metadata": {},
   "outputs": [],
   "source": []
  },
  {
   "cell_type": "code",
   "execution_count": 33,
   "metadata": {},
   "outputs": [
    {
     "name": "stdout",
     "output_type": "stream",
     "text": [
      "{'11241026700': 'Z. Jane Wang', '24279161600': 'Fidel Vila-Rodriguez', '7004549374': 'Sophia Frangou', '16407421900': 'Ian Mackenzie', '7005375626': 'Martin McKeown', '7101895712': 'Lara A. Boyd', '7004079043': 'Liisa A. M. Galea', '7103067039': 'Leonid Sigal', '6603629883': 'P. A. Cripton', '7401756510': 'Fabio Rossi', '55860139200': 'Helge Rhodin', '35408131500': 'Terrance P. Snutch', '8908521300': 'YuTian Wang', '7004896118': 'A. Jon Stoessl', '7102848867': 'Todd Stephen Woodward', '9239638800': 'Andy Y. Shih', '7006262846': 'Wolfram G. Tetzlaff', '7004159655': 'Paul Pavlidis', '7401632487': 'Timothy H. Murphy', '7007032941': 'Catharine Rankin', '6701751588': 'Peyman Servati', '7006717711': 'Brian A. MacVicar', '7102737545': 'Lynn A. Raymond', '15065850600': 'Eric T. Shea-Brown', '36237882900': 'Silke Appel-Cresswell', '7401658611': 'Anthony G. Phillips', '28167863900': 'Jason S. Snyder', '6602928622': 'Adrienne L. Fairhall', '56363838400': 'Brian Fisher', '7004454250': 'Leigh Anne Swayne', '37036981000': 'Mark S. Cembrowski', '55491054000': 'Annie Vogel Ciernia', '55554765000': 'Kurt Haas', '7408311558': 'Craig E. Brown', '7402800449': 'Michael D. Gordon', '7005627810': 'Shernaz X. Bamji', '7003907622': 'Jeremy Keith Seamans', '35146488900': 'Manu S. Madhav', '26634611400': 'Emily Lauren Sylwestrak', '7005018303': 'Catharine A. Winstanley', '55889287500': 'Angela Jane I. Roskams'}\n"
     ]
    }
   ],
   "source": [
    "full_df = pd.read_csv(\"dbc_pubs_2023_2013_to_2022.csv\")\n",
    "author_df = pd.read_csv(\"authorlist comparisons/scival_outputs/scival_ids_authorlist_official.csv\")\n",
    "id_array = [{f'{data[\"Author ID\"]}': f'{data[\"First Name\"].strip()} {data[\"Last Name\"].strip()}'} for i, data in author_df.iterrows()]\n",
    "id_dict = {k: v for d in id_array for k, v in d.items()}\n",
    "print(id_dict)\n",
    "author_ids = [str(id) for id in author_df.iloc[:,2].to_list()]\n",
    "\n",
    "out_df = pd.DataFrame(columns =list(full_df))\n",
    "out_rows = []\n",
    "\n",
    "for i, data in full_df.iterrows():\n",
    "    \n",
    "    collabs = [author_id for author_id in author_ids if author_id in data[\"Scopus Author Ids\"]]\n",
    "\n",
    "    if len(collabs) > 1:\n",
    "        for id in collabs:\n",
    "            author_row = data.to_dict()\n",
    "            author_row[\"Authors\"] = author_row[\"Authors\"].replace(\"|\", \",\")\n",
    "            author_row[\"Author Keyword\"] = id_dict[id]\n",
    "            out_rows.append(author_row)\n",
    "\n",
    "out_df = pd.concat([out_df,pd.DataFrame(out_rows)])\n",
    "\n",
    "out_df.to_csv(\"dbc_pubs_collabs_authors_only.csv\", index=False)"
   ]
  }
 ],
 "metadata": {
  "kernelspec": {
   "display_name": "sms",
   "language": "python",
   "name": "python3"
  },
  "language_info": {
   "codemirror_mode": {
    "name": "ipython",
    "version": 3
   },
   "file_extension": ".py",
   "mimetype": "text/x-python",
   "name": "python",
   "nbconvert_exporter": "python",
   "pygments_lexer": "ipython3",
   "version": "3.10.0"
  },
  "orig_nbformat": 4
 },
 "nbformat": 4,
 "nbformat_minor": 2
}
