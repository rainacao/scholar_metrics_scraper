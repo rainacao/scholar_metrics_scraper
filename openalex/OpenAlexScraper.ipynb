{
 "cells": [
  {
   "cell_type": "code",
   "execution_count": 1,
   "metadata": {},
   "outputs": [],
   "source": [
    "import requests, json\n",
    "from pprint import pprint\n",
    "import pandas as pd"
   ]
  },
  {
   "cell_type": "markdown",
   "metadata": {},
   "source": [
    "## create csv of openalex author IDs"
   ]
  },
  {
   "cell_type": "code",
   "execution_count": 2,
   "metadata": {},
   "outputs": [],
   "source": [
    "WORKS_ENDPOINT = \"https://api.openalex.org/works?\"\n",
    "AUTHORS_ENDPOINT = \"https://api.openalex.org/authors?\"\n",
    "API_KEY = \"\"\n",
    "header = {\n",
    "        \"apikey\": API_KEY,\n",
    "    }"
   ]
  },
  {
   "cell_type": "code",
   "execution_count": 3,
   "metadata": {},
   "outputs": [],
   "source": [
    "def get_api_response(param, url):\n",
    "    try:\n",
    "        response = requests.get(url=url, headers=header, params=param)\n",
    "        response.raise_for_status()\n",
    "        return response.json()\n",
    "    except requests.exceptions.HTTPError as errh:\n",
    "        print(\"Http Error:\", errh)\n",
    "    except requests.exceptions.ConnectionError as errc:\n",
    "        print(\"Error Connecting:\", errc)\n",
    "    except requests.exceptions.Timeout as errt:\n",
    "        print(\"Timeout Error:\", errt)\n",
    "    except requests.exceptions.RequestException as err:\n",
    "        print(\"Something Else\", err)\n",
    "    except ValueError as e: \n",
    "        print(\"Decoding JSON has failed:\", e)\n",
    "        print(\"Raw Response:\", response.text)"
   ]
  },
  {
   "cell_type": "code",
   "execution_count": 4,
   "metadata": {},
   "outputs": [],
   "source": [
    "affiliation_list = ['University of British Columbia', 'Simon Fraser University', 'University of Victoria', 'University of Washington']"
   ]
  },
  {
   "cell_type": "code",
   "execution_count": null,
   "metadata": {},
   "outputs": [],
   "source": [
    "# to find count of author results: data[\"meta\"][\"count\"]\n"
   ]
  },
  {
   "cell_type": "code",
   "execution_count": 5,
   "metadata": {},
   "outputs": [
    {
     "name": "stdout",
     "output_type": "stream",
     "text": [
      "[{'search': 'Tim H. Murphy', 'per_page': 200}, {'search': 'Annie Ciernia', 'per_page': 200}, {'search': 'Brian MacVicar', 'per_page': 200}, {'search': 'Fidel Vila-Rodriguez', 'per_page': 200}, {'search': 'Shernaz Bamji', 'per_page': 200}, {'search': 'Lara Boyd', 'per_page': 200}, {'search': 'Paul Pavlidis', 'per_page': 200}, {'search': 'Martin McKeown', 'per_page': 200}, {'search': 'A Jon Stoessl', 'per_page': 200}, {'search': 'Peter Cripton', 'per_page': 200}, {'search': 'Jason Snyder', 'per_page': 200}, {'search': 'Wolfram Tetzlaff', 'per_page': 200}, {'search': 'Anthony Phillips', 'per_page': 200}, {'search': 'Catharine Winstanley', 'per_page': 200}, {'search': 'Yu Tian Wang', 'per_page': 200}, {'search': 'Jeremy Seamans', 'per_page': 200}, {'search': 'Terry Snutch', 'per_page': 200}, {'search': 'Ian Mackenzie', 'per_page': 200}, {'search': 'Lynn Raymond', 'per_page': 200}, {'search': 'Kurt Haas', 'per_page': 200}, {'search': 'Mark Cembrowski', 'per_page': 200}, {'search': 'Fabio Rossi', 'per_page': 200}, {'search': 'Jane Roskams', 'per_page': 200}, {'search': 'Catharine Rankin', 'per_page': 200}, {'search': 'Michael Gordon', 'per_page': 200}, {'search': 'Leonid Sigal', 'per_page': 200}, {'search': 'Z. Jane Wang', 'per_page': 200}, {'search': 'Peyman Servati', 'per_page': 200}, {'search': 'Liisa Galea', 'per_page': 200}, {'search': 'Sophia Frangou', 'per_page': 200}, {'search': 'Silke Cresswell', 'per_page': 200}, {'search': 'Helge Rhodin', 'per_page': 200}, {'search': 'Manu Madhav', 'per_page': 200}, {'search': 'Brian D. Fisher', 'per_page': 200}, {'search': 'Leigh Anne Swayne', 'per_page': 200}, {'search': 'Craig E. Brown', 'per_page': 200}, {'search': 'Adrienne Fairhall', 'per_page': 200}, {'search': 'Eric Shea-Brown', 'per_page': 200}, {'search': 'Emily Sylwestrak', 'per_page': 200}, {'search': 'Andy Shih', 'per_page': 200}, {'search': 'Todd Woodward', 'per_page': 200}, {'search': 'Jeffrey LeDue', 'per_page': 200}, {'search': 'Ilker Hacihaliloglu', 'per_page': 200}, {'search': 'Randy Mcintosh', 'per_page': 200}, {'search': 'Purang Abolmaesumi', 'per_page': 200}, {'search': 'Vesna Sossi', 'per_page': 200}]\n"
     ]
    }
   ],
   "source": [
    "authorlist_df = pd.read_csv(\"authorlist.csv\")\n",
    "authors = authorlist_df[\"Name\"].to_list()\n",
    "authors_params = [\n",
    "    {\n",
    "        \"search\": author,\n",
    "        \"per_page\": 200,\n",
    "    } \n",
    "    for author in authors]\n",
    "print(authors_params)"
   ]
  },
  {
   "cell_type": "code",
   "execution_count": 30,
   "metadata": {},
   "outputs": [],
   "source": [
    "empty_data = get_api_response(param={\n",
    "        \"search\": \"hueiahrejanfeba fnjeknf\",\n",
    "        \"per_page\": 200,\n",
    "    }, url=AUTHORS_ENDPOINT)"
   ]
  },
  {
   "cell_type": "code",
   "execution_count": 31,
   "metadata": {},
   "outputs": [
    {
     "name": "stdout",
     "output_type": "stream",
     "text": [
      "[]\n"
     ]
    }
   ],
   "source": [
    "pprint(empty_data[\"results\"])"
   ]
  },
  {
   "cell_type": "code",
   "execution_count": 57,
   "metadata": {},
   "outputs": [],
   "source": [
    "data = get_api_response(param={\n",
    "    \"search\": \"Randy Mcintosh\",\n",
    "    \"per_page\": 200,\n",
    "}, url=AUTHORS_ENDPOINT)"
   ]
  },
  {
   "cell_type": "code",
   "execution_count": 58,
   "metadata": {},
   "outputs": [
    {
     "name": "stdout",
     "output_type": "stream",
     "text": [
      "['Anthony R. McIntosh', 'R. McIntosh']\n"
     ]
    }
   ],
   "source": [
    "pprint([result[\"display_name\"] for result in data[\"results\"]])"
   ]
  },
  {
   "cell_type": "code",
   "execution_count": 60,
   "metadata": {},
   "outputs": [
    {
     "name": "stdout",
     "output_type": "stream",
     "text": [
      "{'affiliations': [{'institution': {'country_code': 'CA',\n",
      "                                   'display_name': 'Baycrest Hospital',\n",
      "                                   'id': 'https://openalex.org/I2802437833',\n",
      "                                   'lineage': ['https://openalex.org/I2802437833'],\n",
      "                                   'ror': 'https://ror.org/03gp5b411',\n",
      "                                   'type': 'healthcare'},\n",
      "                   'years': [2023,\n",
      "                             2022,\n",
      "                             2021,\n",
      "                             2018,\n",
      "                             2016,\n",
      "                             2015,\n",
      "                             2014,\n",
      "                             2013,\n",
      "                             2012,\n",
      "                             2011]},\n",
      "                  {'institution': {'country_code': 'CA',\n",
      "                                   'display_name': 'University of Toronto',\n",
      "                                   'id': 'https://openalex.org/I185261750',\n",
      "                                   'lineage': ['https://openalex.org/I185261750'],\n",
      "                                   'ror': 'https://ror.org/03dbr7087',\n",
      "                                   'type': 'education'},\n",
      "                   'years': [2023,\n",
      "                             2022,\n",
      "                             2018,\n",
      "                             2016,\n",
      "                             2015,\n",
      "                             2014,\n",
      "                             2013,\n",
      "                             2012,\n",
      "                             2011,\n",
      "                             2010]},\n",
      "                  {'institution': {'country_code': 'CA',\n",
      "                                   'display_name': 'Simon Fraser University',\n",
      "                                   'id': 'https://openalex.org/I18014758',\n",
      "                                   'lineage': ['https://openalex.org/I18014758'],\n",
      "                                   'ror': 'https://ror.org/0213rcc28',\n",
      "                                   'type': 'education'},\n",
      "                   'years': [2023, 2022]},\n",
      "                  {'institution': {'country_code': 'CA',\n",
      "                                   'display_name': 'Schwartz/Reisman Emergency '\n",
      "                                                   'Medicine Institute',\n",
      "                                   'id': 'https://openalex.org/I4210149858',\n",
      "                                   'lineage': ['https://openalex.org/I4210149858'],\n",
      "                                   'ror': 'https://ror.org/03sc84089',\n",
      "                                   'type': 'nonprofit'},\n",
      "                   'years': [2016]},\n",
      "                  {'institution': {'country_code': 'CA',\n",
      "                                   'display_name': 'Health Sciences Centre',\n",
      "                                   'id': 'https://openalex.org/I2802362269',\n",
      "                                   'lineage': ['https://openalex.org/I110535807',\n",
      "                                               'https://openalex.org/I2802362269'],\n",
      "                                   'ror': 'https://ror.org/05pr37258',\n",
      "                                   'type': 'healthcare'},\n",
      "                   'years': [2001]},\n",
      "                  {'institution': {'country_code': 'CA',\n",
      "                                   'display_name': 'Sunnybrook Health Science '\n",
      "                                                   'Centre',\n",
      "                                   'id': 'https://openalex.org/I1323843004',\n",
      "                                   'lineage': ['https://openalex.org/I1323843004'],\n",
      "                                   'ror': 'https://ror.org/03wefcv03',\n",
      "                                   'type': 'healthcare'},\n",
      "                   'years': [2001]},\n",
      "                  {'institution': {'country_code': 'US',\n",
      "                                   'display_name': 'National Institute on '\n",
      "                                                   'Aging',\n",
      "                                   'id': 'https://openalex.org/I4210136897',\n",
      "                                   'lineage': ['https://openalex.org/I1299303238',\n",
      "                                               'https://openalex.org/I4210136897'],\n",
      "                                   'ror': 'https://ror.org/049v75w11',\n",
      "                                   'type': 'facility'},\n",
      "                   'years': [1995, 1993]},\n",
      "                  {'institution': {'country_code': 'US',\n",
      "                                   'display_name': 'National Institutes of '\n",
      "                                                   'Health',\n",
      "                                   'id': 'https://openalex.org/I1299303238',\n",
      "                                   'lineage': ['https://openalex.org/I1299022934',\n",
      "                                               'https://openalex.org/I1299303238'],\n",
      "                                   'ror': 'https://ror.org/01cwqze88',\n",
      "                                   'type': 'government'},\n",
      "                   'years': [1995, 1993]},\n",
      "                  {'institution': {'country_code': 'US',\n",
      "                                   'display_name': 'National Institute of '\n",
      "                                                   'Mental Health',\n",
      "                                   'id': 'https://openalex.org/I4210158500',\n",
      "                                   'lineage': ['https://openalex.org/I1299303238',\n",
      "                                               'https://openalex.org/I4210158500'],\n",
      "                                   'ror': 'https://ror.org/04xeg9z08',\n",
      "                                   'type': 'facility'},\n",
      "                   'years': [1994]},\n",
      "                  {'institution': {'country_code': 'US',\n",
      "                                   'display_name': 'The University of Texas at '\n",
      "                                                   'Austin',\n",
      "                                   'id': 'https://openalex.org/I86519309',\n",
      "                                   'lineage': ['https://openalex.org/I16452829',\n",
      "                                               'https://openalex.org/I86519309'],\n",
      "                                   'ror': 'https://ror.org/00hj54h04',\n",
      "                                   'type': 'education'},\n",
      "                   'years': [1993, 1992, 1991]}],\n",
      " 'cited_by_count': 26126,\n",
      " 'counts_by_year': [{'cited_by_count': 2419, 'works_count': 5, 'year': 2023},\n",
      "                    {'cited_by_count': 2586, 'works_count': 4, 'year': 2022},\n",
      "                    {'cited_by_count': 3115, 'works_count': 2, 'year': 2021},\n",
      "                    {'cited_by_count': 3002, 'works_count': 0, 'year': 2020},\n",
      "                    {'cited_by_count': 2877, 'works_count': 0, 'year': 2019},\n",
      "                    {'cited_by_count': 2886, 'works_count': 3, 'year': 2018},\n",
      "                    {'cited_by_count': 2756, 'works_count': 0, 'year': 2017},\n",
      "                    {'cited_by_count': 2727, 'works_count': 10, 'year': 2016},\n",
      "                    {'cited_by_count': 2650, 'works_count': 15, 'year': 2015},\n",
      "                    {'cited_by_count': 2508, 'works_count': 14, 'year': 2014},\n",
      "                    {'cited_by_count': 2228, 'works_count': 16, 'year': 2013},\n",
      "                    {'cited_by_count': 2083, 'works_count': 8, 'year': 2012}],\n",
      " 'created_date': '2023-07-21',\n",
      " 'display_name': 'Anthony R. McIntosh',\n",
      " 'display_name_alternatives': ['A. R. Mcintosh',\n",
      "                               'McIntosh Ar',\n",
      "                               'Anthony Randal Mcintosh',\n",
      "                               'Anthony McIntosh',\n",
      "                               'A. Randal McIntosh',\n",
      "                               'Anthony R. Mcintosh',\n",
      "                               'A. Randal McIntosh',\n",
      "                               'AR McIntosh',\n",
      "                               'Randy McIntosh'],\n",
      " 'id': 'https://openalex.org/A5050825978',\n",
      " 'ids': {'openalex': 'https://openalex.org/A5050825978',\n",
      "         'orcid': 'https://orcid.org/0000-0002-1784-5662',\n",
      "         'scopus': 'http://www.scopus.com/inward/authorDetails.url?authorID=35465675000&partnerID=MN8TOARS'},\n",
      " 'last_known_institution': {'country_code': 'CA',\n",
      "                            'display_name': 'Simon Fraser University',\n",
      "                            'id': 'https://openalex.org/I18014758',\n",
      "                            'lineage': ['https://openalex.org/I18014758'],\n",
      "                            'ror': 'https://ror.org/0213rcc28',\n",
      "                            'type': 'education'},\n",
      " 'last_known_institutions': [{'country_code': 'CA',\n",
      "                              'display_name': 'Simon Fraser University',\n",
      "                              'id': 'https://openalex.org/I18014758',\n",
      "                              'lineage': ['https://openalex.org/I18014758'],\n",
      "                              'ror': 'https://ror.org/0213rcc28',\n",
      "                              'type': 'education'}],\n",
      " 'orcid': 'https://orcid.org/0000-0002-1784-5662',\n",
      " 'relevance_score': 17452.139,\n",
      " 'summary_stats': {'2yr_mean_citedness': 0.0, 'h_index': 82, 'i10_index': 177},\n",
      " 'updated_date': '2023-12-28T13:42:21.974897',\n",
      " 'works_api_url': 'https://api.openalex.org/works?filter=author.id:A5050825978',\n",
      " 'works_count': 216,\n",
      " 'x_concepts': [{'display_name': 'Psychology',\n",
      "                 'id': 'https://openalex.org/C15744967',\n",
      "                 'level': 0,\n",
      "                 'score': 95.8,\n",
      "                 'wikidata': 'https://www.wikidata.org/wiki/Q9418'},\n",
      "                {'display_name': 'Biology',\n",
      "                 'id': 'https://openalex.org/C86803240',\n",
      "                 'level': 0,\n",
      "                 'score': 93.1,\n",
      "                 'wikidata': 'https://www.wikidata.org/wiki/Q420'},\n",
      "                {'display_name': 'Neuroscience',\n",
      "                 'id': 'https://openalex.org/C169760540',\n",
      "                 'level': 1,\n",
      "                 'score': 91.7,\n",
      "                 'wikidata': 'https://www.wikidata.org/wiki/Q207011'},\n",
      "                {'display_name': 'Medicine',\n",
      "                 'id': 'https://openalex.org/C71924100',\n",
      "                 'level': 0,\n",
      "                 'score': 88.0,\n",
      "                 'wikidata': 'https://www.wikidata.org/wiki/Q11190'},\n",
      "                {'display_name': 'Psychiatry',\n",
      "                 'id': 'https://openalex.org/C118552586',\n",
      "                 'level': 1,\n",
      "                 'score': 76.9,\n",
      "                 'wikidata': 'https://www.wikidata.org/wiki/Q7867'},\n",
      "                {'display_name': 'Computer science',\n",
      "                 'id': 'https://openalex.org/C41008148',\n",
      "                 'level': 0,\n",
      "                 'score': 63.4,\n",
      "                 'wikidata': 'https://www.wikidata.org/wiki/Q21198'},\n",
      "                {'display_name': 'Cognitive psychology',\n",
      "                 'id': 'https://openalex.org/C180747234',\n",
      "                 'level': 1,\n",
      "                 'score': 62.0,\n",
      "                 'wikidata': 'https://www.wikidata.org/wiki/Q23373'},\n",
      "                {'display_name': 'Cognition',\n",
      "                 'id': 'https://openalex.org/C169900460',\n",
      "                 'level': 2,\n",
      "                 'score': 52.3,\n",
      "                 'wikidata': 'https://www.wikidata.org/wiki/Q2200417'},\n",
      "                {'display_name': 'Artificial intelligence',\n",
      "                 'id': 'https://openalex.org/C154945302',\n",
      "                 'level': 1,\n",
      "                 'score': 44.9,\n",
      "                 'wikidata': 'https://www.wikidata.org/wiki/Q11660'},\n",
      "                {'display_name': 'Radiology',\n",
      "                 'id': 'https://openalex.org/C126838900',\n",
      "                 'level': 1,\n",
      "                 'score': 41.7,\n",
      "                 'wikidata': 'https://www.wikidata.org/wiki/Q77604'},\n",
      "                {'display_name': 'Mathematics',\n",
      "                 'id': 'https://openalex.org/C33923547',\n",
      "                 'level': 0,\n",
      "                 'score': 41.2,\n",
      "                 'wikidata': 'https://www.wikidata.org/wiki/Q395'},\n",
      "                {'display_name': 'Philosophy',\n",
      "                 'id': 'https://openalex.org/C138885662',\n",
      "                 'level': 0,\n",
      "                 'score': 34.7,\n",
      "                 'wikidata': 'https://www.wikidata.org/wiki/Q5891'},\n",
      "                {'display_name': 'Internal medicine',\n",
      "                 'id': 'https://openalex.org/C126322002',\n",
      "                 'level': 1,\n",
      "                 'score': 28.7,\n",
      "                 'wikidata': 'https://www.wikidata.org/wiki/Q11180'},\n",
      "                {'display_name': 'Functional magnetic resonance imaging',\n",
      "                 'id': 'https://openalex.org/C2779226451',\n",
      "                 'level': 2,\n",
      "                 'score': 27.8,\n",
      "                 'wikidata': 'https://www.wikidata.org/wiki/Q903809'},\n",
      "                {'display_name': 'Electroencephalography',\n",
      "                 'id': 'https://openalex.org/C522805319',\n",
      "                 'level': 2,\n",
      "                 'score': 26.9,\n",
      "                 'wikidata': 'https://www.wikidata.org/wiki/Q179965'},\n",
      "                {'display_name': 'Statistics',\n",
      "                 'id': 'https://openalex.org/C105795698',\n",
      "                 'level': 1,\n",
      "                 'score': 25.0,\n",
      "                 'wikidata': 'https://www.wikidata.org/wiki/Q12483'},\n",
      "                {'display_name': 'Physics',\n",
      "                 'id': 'https://openalex.org/C121332964',\n",
      "                 'level': 0,\n",
      "                 'score': 25.0,\n",
      "                 'wikidata': 'https://www.wikidata.org/wiki/Q413'},\n",
      "                {'display_name': 'Neuroimaging',\n",
      "                 'id': 'https://openalex.org/C58693492',\n",
      "                 'level': 2,\n",
      "                 'score': 22.7,\n",
      "                 'wikidata': 'https://www.wikidata.org/wiki/Q551875'},\n",
      "                {'display_name': 'Engineering',\n",
      "                 'id': 'https://openalex.org/C127413603',\n",
      "                 'level': 0,\n",
      "                 'score': 21.8,\n",
      "                 'wikidata': 'https://www.wikidata.org/wiki/Q11023'}]}\n"
     ]
    }
   ],
   "source": [
    "pprint(data[\"results\"][0])"
   ]
  },
  {
   "cell_type": "code",
   "execution_count": 32,
   "metadata": {},
   "outputs": [],
   "source": [
    "data = get_api_response(param={\n",
    "    \"search\": \"Z. Jane Wang\",\n",
    "    \"per_page\": 200,\n",
    "}, url=AUTHORS_ENDPOINT)"
   ]
  },
  {
   "cell_type": "code",
   "execution_count": 33,
   "metadata": {},
   "outputs": [
    {
     "name": "stdout",
     "output_type": "stream",
     "text": [
      "dict_keys(['id', 'orcid', 'display_name', 'display_name_alternatives', 'relevance_score', 'works_count', 'cited_by_count', 'summary_stats', 'ids', 'affiliations', 'last_known_institution', 'last_known_institutions', 'x_concepts', 'counts_by_year', 'works_api_url', 'updated_date', 'created_date'])\n"
     ]
    }
   ],
   "source": [
    "pprint(data[\"results\"][0].keys())"
   ]
  },
  {
   "cell_type": "code",
   "execution_count": 49,
   "metadata": {},
   "outputs": [
    {
     "name": "stdout",
     "output_type": "stream",
     "text": [
      "['Z. Jane Wang',\n",
      " 'Z. Jane Wang',\n",
      " 'Z. Jane Wang',\n",
      " 'Z. Jane Wang',\n",
      " 'Z. Jane Wang',\n",
      " 'Z Jane Wang',\n",
      " 'Z. Jane Wang',\n",
      " 'Z Jane Wang',\n",
      " 'Zhuochen Wang',\n",
      " 'Z. Jane Wang',\n",
      " 'Z. Jane Wang',\n",
      " 'Z Jane Wang',\n",
      " 'Z. Jane Wang',\n",
      " 'Z. Jane Wang',\n",
      " 'Z. Jane Wang',\n",
      " 'Z. Jane Wang',\n",
      " 'Z. Jane Wang',\n",
      " 'Z. Jane Wang',\n",
      " 'Z. Jane Wang',\n",
      " 'Z. Jane Wang',\n",
      " 'Z. Jane Wang',\n",
      " 'Z. Jane Wang',\n",
      " 'Jane Z. Wang',\n",
      " 'Z. Jane Wang',\n",
      " 'Z. Jane Wang',\n",
      " 'Z. Jane Wang',\n",
      " 'Z. Jane Wang',\n",
      " 'Z. Jane Wang',\n",
      " 'Z. Jane Wang',\n",
      " 'Z. Jane Wang',\n",
      " 'Z. Jane Wang',\n",
      " 'Z. Jane Wang',\n",
      " 'Z. Jane Wang',\n",
      " 'Zhangyu Wang',\n",
      " 'Z Jane Wang',\n",
      " 'Z. Jane Wang',\n",
      " 'Z. Jane Wang',\n",
      " 'Z. Jane Wang',\n",
      " 'Zilu Wang',\n",
      " 'Z. Jane Wang',\n",
      " 'Z. Jane Wang',\n",
      " 'Z. Jane Wang',\n",
      " 'Z Jane Wang',\n",
      " 'Z. Jane Wang',\n",
      " 'Z. Jane Wang',\n",
      " 'Z. Jane Wang',\n",
      " 'Z. Jane Wang',\n",
      " 'Z. Jane Wang',\n",
      " 'Z. Jane Wang',\n",
      " 'Z Jane Wang',\n",
      " 'Z. Jane Wang',\n",
      " 'Z. Jane Wang',\n",
      " 'Z. Jane Wang',\n",
      " 'Z. Jane Wang',\n",
      " 'Z. Jane Wang',\n",
      " 'Z. Jane Wang',\n",
      " 'Z. Jane Wang',\n",
      " 'Z. Jane Wang',\n",
      " 'Z. Jane Wang',\n",
      " 'Zefeng Wang',\n",
      " 'Zhuoyuan Wang',\n",
      " 'Z. Jane Wang',\n",
      " 'Z. Jane Wang',\n",
      " 'Z. Jane Wang',\n",
      " 'Z. Jane Wang',\n",
      " 'Z. Jane Wang',\n",
      " 'Z. Jane Wang',\n",
      " 'Z. Jane Wang',\n",
      " 'Z. Jane Wang',\n",
      " 'Z. Jane Wang',\n",
      " 'Z. Jane Wang',\n",
      " 'Z. Jane Wang',\n",
      " 'Z. Jane Wang',\n",
      " 'Z. Jane Wang',\n",
      " 'Z. Jane Wang',\n",
      " 'Z. Jane Wang',\n",
      " 'Z. Jane Wang',\n",
      " 'Z. Jane Wang',\n",
      " 'Z. Jane Wang',\n",
      " 'Z. Jane Wang',\n",
      " 'Z. Jane Wang',\n",
      " 'Z. Jane Wang',\n",
      " 'Z. Jane Wang',\n",
      " 'Z. Jane Wang',\n",
      " 'Z. Jane Wang',\n",
      " 'Z. Jane Wang',\n",
      " 'Z. Jane Wang',\n",
      " 'Z. Jane Wang',\n",
      " 'Z. Jane Wang',\n",
      " 'Z. Jane Wang',\n",
      " 'Z. Jane Wang',\n",
      " 'Z. Jane Wang',\n",
      " 'Z. Jane Wang',\n",
      " 'Z. Jane Wang',\n",
      " 'Z. Jane Wang',\n",
      " 'Z. Jane Wang',\n",
      " 'Z. Jane Wang',\n",
      " 'Z. Jane Wang',\n",
      " 'Z. Jane Wang',\n",
      " 'Z. Jane Wang',\n",
      " 'Z. Jane Wang',\n",
      " 'Z. Jane Wang',\n",
      " 'Z. Jane Wang',\n",
      " 'Z. Jane Wang',\n",
      " 'Z. Jane Wang',\n",
      " 'Z. Jane Wang',\n",
      " 'Z. Jane Wang',\n",
      " 'Z. Jane Wang',\n",
      " 'Z. Jane Wang',\n",
      " 'Z. Jane Wang',\n",
      " 'Z. Jane Wang',\n",
      " 'Z. Jane Wang',\n",
      " 'Z. Jane Wang',\n",
      " 'Z. Jane Wang',\n",
      " 'Z. Jane Wang',\n",
      " 'Z. Jane Wang',\n",
      " 'Z. Jane Wang',\n",
      " 'Z. Jane Wang',\n",
      " 'Z. Jane Wang',\n",
      " 'Z. Jane Wang',\n",
      " 'Z. Jane Wang',\n",
      " 'Z. Jane Wang',\n",
      " 'Z. Jane Wang',\n",
      " 'Z. Jane Wang',\n",
      " 'Z. Jane Wang',\n",
      " 'Z. Jane Wang',\n",
      " 'Z Jane Wang',\n",
      " 'Zhangdong Wang',\n",
      " 'Zhan Wang',\n",
      " 'Zhenchen Wang',\n",
      " 'Zhaoxun Wang',\n",
      " 'Wang Z. Jane',\n",
      " 'Wang Z. Jane',\n",
      " 'Wang Z. Jane',\n",
      " 'Wang Z. Jane',\n",
      " 'Wang Z. Jane']\n"
     ]
    }
   ],
   "source": [
    "pprint([result[\"display_name\"] for result in data[\"results\"]])"
   ]
  },
  {
   "cell_type": "code",
   "execution_count": 34,
   "metadata": {},
   "outputs": [
    {
     "name": "stdout",
     "output_type": "stream",
     "text": [
      "Z. Jane Wang\n",
      "['Zhongshu Wang', 'Zhan Wang', 'Zhouzheng Wang', 'Zhenkuan Wang', 'Z. Jane Wang', 'Zimiao Wang', 'ZhiChuan WANG', 'Ziyue Wang', 'Zhengran Wang', 'zhiping Wang', 'Zhanyu WANG', 'Zini Wang']\n",
      "10142.98\n"
     ]
    }
   ],
   "source": [
    "print(data[\"results\"][0][\"display_name\"])\n",
    "print(data[\"results\"][0][\"display_name_alternatives\"])\n",
    "print(data[\"results\"][0][\"relevance_score\"])"
   ]
  },
  {
   "cell_type": "code",
   "execution_count": 35,
   "metadata": {},
   "outputs": [
    {
     "name": "stdout",
     "output_type": "stream",
     "text": [
      "248\n",
      "6251\n",
      "{'2yr_mean_citedness': 4.666666666666667, 'h_index': 35, 'i10_index': 112}\n",
      "[{'cited_by_count': 1048, 'works_count': 23, 'year': 2023},\n",
      " {'cited_by_count': 1171, 'works_count': 13, 'year': 2022},\n",
      " {'cited_by_count': 1120, 'works_count': 25, 'year': 2021},\n",
      " {'cited_by_count': 968, 'works_count': 20, 'year': 2020},\n",
      " {'cited_by_count': 682, 'works_count': 23, 'year': 2019},\n",
      " {'cited_by_count': 433, 'works_count': 21, 'year': 2018},\n",
      " {'cited_by_count': 238, 'works_count': 16, 'year': 2017},\n",
      " {'cited_by_count': 158, 'works_count': 22, 'year': 2016},\n",
      " {'cited_by_count': 101, 'works_count': 9, 'year': 2015},\n",
      " {'cited_by_count': 92, 'works_count': 15, 'year': 2014},\n",
      " {'cited_by_count': 65, 'works_count': 15, 'year': 2013},\n",
      " {'cited_by_count': 48, 'works_count': 8, 'year': 2012}]\n"
     ]
    }
   ],
   "source": [
    "print(data[\"results\"][0][\"works_count\"])\n",
    "print(data[\"results\"][0][\"cited_by_count\"])\n",
    "pprint(data[\"results\"][0][\"summary_stats\"])\n",
    "pprint(data[\"results\"][0][\"counts_by_year\"])"
   ]
  },
  {
   "cell_type": "code",
   "execution_count": 36,
   "metadata": {},
   "outputs": [
    {
     "name": "stdout",
     "output_type": "stream",
     "text": [
      "{'id': 'https://openalex.org/I37461747', 'ror': 'https://ror.org/033vjfk17', 'display_name': 'Wuhan University', 'country_code': 'CN', 'type': 'education', 'lineage': ['https://openalex.org/I37461747']}\n"
     ]
    }
   ],
   "source": [
    "print(data[\"results\"][0][\"last_known_institution\"])"
   ]
  },
  {
   "cell_type": "code",
   "execution_count": 37,
   "metadata": {},
   "outputs": [
    {
     "name": "stdout",
     "output_type": "stream",
     "text": [
      "248\n",
      "6251\n"
     ]
    }
   ],
   "source": [
    "print(data[\"results\"][0][\"works_count\"])\n",
    "print(data[\"results\"][0][\"cited_by_count\"])"
   ]
  },
  {
   "cell_type": "code",
   "execution_count": 38,
   "metadata": {},
   "outputs": [
    {
     "name": "stdout",
     "output_type": "stream",
     "text": [
      "'https://openalex.org/A5051587486'\n",
      "A5051587486\n"
     ]
    }
   ],
   "source": [
    "pprint(data[\"results\"][0][\"id\"])\n",
    "print(data[\"results\"][0][\"id\"].split(\"/\")[-1])"
   ]
  },
  {
   "cell_type": "code",
   "execution_count": 39,
   "metadata": {},
   "outputs": [
    {
     "name": "stdout",
     "output_type": "stream",
     "text": [
      "https://orcid.org/0000-0002-3193-8208\n"
     ]
    }
   ],
   "source": [
    "print(data[\"results\"][0][\"orcid\"])"
   ]
  },
  {
   "cell_type": "code",
   "execution_count": 40,
   "metadata": {},
   "outputs": [
    {
     "name": "stdout",
     "output_type": "stream",
     "text": [
      "[('Computer science', 0),\n",
      " ('Artificial intelligence', 1),\n",
      " ('Mathematics', 0),\n",
      " ('Psychology', 0),\n",
      " ('Cognitive psychology', 1),\n",
      " ('Pattern recognition (psychology)', 2),\n",
      " ('Machine learning', 1),\n",
      " ('Biology', 0),\n",
      " ('Computer vision', 1),\n",
      " ('Statistics', 1),\n",
      " ('Engineering', 0),\n",
      " ('Physics', 0),\n",
      " ('Programming language', 1),\n",
      " ('Medicine', 0),\n",
      " ('Algorithm', 1),\n",
      " ('Philosophy', 0),\n",
      " ('Neuroscience', 1),\n",
      " ('Image (mathematics)', 2),\n",
      " ('Telecommunications', 1),\n",
      " ('Electrical engineering', 1),\n",
      " ('Quantum mechanics', 1),\n",
      " ('Linguistics', 1),\n",
      " ('Computer network', 1),\n",
      " ('Operating system', 1),\n",
      " ('Psychiatry', 1)]\n",
      "['Computer science',\n",
      " 'Mathematics',\n",
      " 'Psychology',\n",
      " 'Biology',\n",
      " 'Engineering',\n",
      " 'Physics',\n",
      " 'Medicine',\n",
      " 'Philosophy']\n"
     ]
    }
   ],
   "source": [
    "pprint([(concept[\"display_name\"], concept[\"level\"]) for concept in data[\"results\"][0][\"x_concepts\"]])\n",
    "\n",
    "pprint([concept[\"display_name\"] for concept in data[\"results\"][0][\"x_concepts\"] if concept[\"level\"]==0])"
   ]
  },
  {
   "cell_type": "code",
   "execution_count": 54,
   "metadata": {},
   "outputs": [
    {
     "name": "stdout",
     "output_type": "stream",
     "text": [
      "[{'institution': {'country_code': 'US',\n",
      "                  'display_name': 'Pinnacle Oncology Hematology',\n",
      "                  'id': 'https://openalex.org/I4210146652',\n",
      "                  'lineage': ['https://openalex.org/I4210146652'],\n",
      "                  'ror': 'https://ror.org/043rqx383',\n",
      "                  'type': 'healthcare'},\n",
      "  'years': [2023, 2022, 2021, 2020, 2019, 2018, 2017, 2016, 2015, 2014]},\n",
      " {'institution': {'country_code': 'US',\n",
      "                  'display_name': 'HonorHealth',\n",
      "                  'id': 'https://openalex.org/I4210130412',\n",
      "                  'lineage': ['https://openalex.org/I4210130412'],\n",
      "                  'ror': 'https://ror.org/03szbwj17',\n",
      "                  'type': 'healthcare'},\n",
      "  'years': [2023, 2022, 2021, 2020, 2019, 2018, 2017, 2016, 2015]},\n",
      " {'institution': {'country_code': 'US',\n",
      "                  'display_name': 'Global Aerospace (United States)',\n",
      "                  'id': 'https://openalex.org/I4210112697',\n",
      "                  'lineage': ['https://openalex.org/I4210112697'],\n",
      "                  'ror': 'https://ror.org/01wtzjm14',\n",
      "                  'type': 'company'},\n",
      "  'years': [2023, 2022]},\n",
      " {'institution': {'country_code': 'US',\n",
      "                  'display_name': 'University of California, Santa Barbara',\n",
      "                  'id': 'https://openalex.org/I154570441',\n",
      "                  'lineage': ['https://openalex.org/I154570441',\n",
      "                              'https://openalex.org/I2803209242'],\n",
      "                  'ror': 'https://ror.org/02t274463',\n",
      "                  'type': 'education'},\n",
      "  'years': [2022, 1979]},\n",
      " {'institution': {'country_code': 'US',\n",
      "                  'display_name': 'Clinical Research Institute',\n",
      "                  'id': 'https://openalex.org/I4210088741',\n",
      "                  'lineage': ['https://openalex.org/I4210088741'],\n",
      "                  'ror': 'https://ror.org/009ywjj88',\n",
      "                  'type': 'facility'},\n",
      "  'years': [2022]},\n",
      " {'institution': {'country_code': 'US',\n",
      "                  'display_name': 'Scottsdale Research Institute (United '\n",
      "                                  'States)',\n",
      "                  'id': 'https://openalex.org/I4210133079',\n",
      "                  'lineage': ['https://openalex.org/I4210133079'],\n",
      "                  'ror': 'https://ror.org/03gv2tj61',\n",
      "                  'type': 'company'},\n",
      "  'years': [2020]},\n",
      " {'institution': {'country_code': 'IT',\n",
      "                  'display_name': 'Università Cattolica del Sacro Cuore',\n",
      "                  'id': 'https://openalex.org/I103320735',\n",
      "                  'lineage': ['https://openalex.org/I103320735'],\n",
      "                  'ror': 'https://ror.org/03h7r5v07',\n",
      "                  'type': 'education'},\n",
      "  'years': [2019]},\n",
      " {'institution': {'country_code': 'US',\n",
      "                  'display_name': 'University of Arizona',\n",
      "                  'id': 'https://openalex.org/I138006243',\n",
      "                  'lineage': ['https://openalex.org/I138006243',\n",
      "                              'https://openalex.org/I3132585960'],\n",
      "                  'ror': 'https://ror.org/03m2x1q45',\n",
      "                  'type': 'education'},\n",
      "  'years': [2018, 2017, 2015, 2014, 2013, 2012, 2010, 2007, 2005, 2004]},\n",
      " {'institution': {'country_code': 'US',\n",
      "                  'display_name': 'Optical Sciences (United States)',\n",
      "                  'id': 'https://openalex.org/I4210122332',\n",
      "                  'lineage': ['https://openalex.org/I4210122332'],\n",
      "                  'ror': 'https://ror.org/03122yk49',\n",
      "                  'type': 'company'},\n",
      "  'years': [2017, 2014, 2013, 2012]},\n",
      " {'institution': {'country_code': 'US',\n",
      "                  'display_name': 'Beth Israel Deaconess Medical Center',\n",
      "                  'id': 'https://openalex.org/I1316535847',\n",
      "                  'lineage': ['https://openalex.org/I1316535847'],\n",
      "                  'ror': 'https://ror.org/04drvxt59',\n",
      "                  'type': 'healthcare'},\n",
      "  'years': [2016, 2005]}]\n"
     ]
    }
   ],
   "source": [
    "pprint(data[\"results\"][0][\"affiliations\"])"
   ]
  },
  {
   "cell_type": "code",
   "execution_count": 41,
   "metadata": {},
   "outputs": [
    {
     "name": "stdout",
     "output_type": "stream",
     "text": [
      "[{'country_code': 'CA',\n",
      "  'display_name': 'University of British Columbia',\n",
      "  'id': 'https://openalex.org/I141945490',\n",
      "  'lineage': ['https://openalex.org/I141945490'],\n",
      "  'ror': 'https://ror.org/03rmrcq20',\n",
      "  'type': 'education'},\n",
      " {'country_code': 'CN',\n",
      "  'display_name': 'Wuhan University',\n",
      "  'id': 'https://openalex.org/I37461747',\n",
      "  'lineage': ['https://openalex.org/I37461747'],\n",
      "  'ror': 'https://ror.org/033vjfk17',\n",
      "  'type': 'education'},\n",
      " {'country_code': 'CN',\n",
      "  'display_name': 'Heilongjiang University',\n",
      "  'id': 'https://openalex.org/I55022517',\n",
      "  'lineage': ['https://openalex.org/I55022517'],\n",
      "  'ror': 'https://ror.org/04zyhq975',\n",
      "  'type': 'education'},\n",
      " {'country_code': 'CN',\n",
      "  'display_name': 'Shanxi Agricultural University',\n",
      "  'id': 'https://openalex.org/I119868032',\n",
      "  'lineage': ['https://openalex.org/I119868032'],\n",
      "  'ror': 'https://ror.org/05e9f5362',\n",
      "  'type': 'education'},\n",
      " {'country_code': 'CN',\n",
      "  'display_name': 'Northeast Forestry University',\n",
      "  'id': 'https://openalex.org/I47689461',\n",
      "  'lineage': ['https://openalex.org/I47689461'],\n",
      "  'ror': 'https://ror.org/02yxnh564',\n",
      "  'type': 'education'},\n",
      " {'country_code': 'KR',\n",
      "  'display_name': 'Hanyang University',\n",
      "  'id': 'https://openalex.org/I4575257',\n",
      "  'lineage': ['https://openalex.org/I4575257'],\n",
      "  'ror': 'https://ror.org/046865y68',\n",
      "  'type': 'education'},\n",
      " {'country_code': 'CN',\n",
      "  'display_name': 'Anhui Jianzhu University',\n",
      "  'id': 'https://openalex.org/I118987531',\n",
      "  'lineage': ['https://openalex.org/I118987531'],\n",
      "  'ror': 'https://ror.org/0108wjw08',\n",
      "  'type': 'education'},\n",
      " {'country_code': 'CN',\n",
      "  'display_name': 'Beijing University of Posts and Telecommunications',\n",
      "  'id': 'https://openalex.org/I139759216',\n",
      "  'lineage': ['https://openalex.org/I139759216'],\n",
      "  'ror': 'https://ror.org/04w9fbh59',\n",
      "  'type': 'education'},\n",
      " {'country_code': 'CN',\n",
      "  'display_name': 'PLA Information Engineering University',\n",
      "  'id': 'https://openalex.org/I169689159',\n",
      "  'lineage': ['https://openalex.org/I169689159'],\n",
      "  'ror': 'https://ror.org/00mm1qk40',\n",
      "  'type': 'education'},\n",
      " {'country_code': 'CN',\n",
      "  'display_name': 'Beijing University of Technology',\n",
      "  'id': 'https://openalex.org/I37796252',\n",
      "  'lineage': ['https://openalex.org/I37796252'],\n",
      "  'ror': 'https://ror.org/037b1pp87',\n",
      "  'type': 'education'}]\n"
     ]
    }
   ],
   "source": [
    "pprint([affils[\"institution\"] for affils in data[\"results\"][0][\"affiliations\"]])"
   ]
  },
  {
   "cell_type": "code",
   "execution_count": 13,
   "metadata": {},
   "outputs": [
    {
     "name": "stdout",
     "output_type": "stream",
     "text": [
      "['University of British Columbia',\n",
      " 'Neurological Research Institute',\n",
      " 'Alberta Innovates',\n",
      " 'Vancouver Coastal Health',\n",
      " 'Heart and Stroke Foundation',\n",
      " 'Texas A&M University',\n",
      " 'Conference Board',\n",
      " 'Brain (Germany)',\n",
      " 'National Brain Research Centre',\n",
      " 'Johns Hopkins Medicine']\n"
     ]
    }
   ],
   "source": [
    "pprint([affils[\"institution\"][\"display_name\"] for affils in data[\"results\"][0][\"affiliations\"]])"
   ]
  },
  {
   "cell_type": "code",
   "execution_count": 15,
   "metadata": {},
   "outputs": [
    {
     "name": "stdout",
     "output_type": "stream",
     "text": [
      "found\n"
     ]
    }
   ],
   "source": [
    "#data[\"results\"][index][\"id\"]\n",
    "#data[\"results\"][index][\"affiliations\"][\"institution\"]['display_name'] contains any of the list of accepted universities 'University of British Columbia'\n",
    "accounts = data[\"results\"]\n",
    "\n",
    "for index in range(len(accounts)):\n",
    "    account_affils = [\n",
    "        affils[\"institution\"][\"display_name\"] \n",
    "        for affils in data[\"results\"][index][\"affiliations\"]]\n",
    "    if \"University of British Columbia\" in account_affils:\n",
    "        print(\"found\")\n",
    "    \n",
    "    # print(account_affils)\n",
    "    # if 'University of British Columbia' in account_affils:\n",
    "    #     print(accounts[\"id\"])\n",
    "\n",
    "# pprint([result[\"x_concepts\"] for result in data[\"results\"]])"
   ]
  },
  {
   "cell_type": "code",
   "execution_count": null,
   "metadata": {},
   "outputs": [],
   "source": []
  },
  {
   "cell_type": "markdown",
   "metadata": {},
   "source": [
    "## find works"
   ]
  },
  {
   "cell_type": "code",
   "execution_count": 10,
   "metadata": {},
   "outputs": [],
   "source": [
    "## for author lookup\n",
    "author_param = {\n",
    "    # \"format\": \"json\",\n",
    "    \"author\": \"Jeffrey Ledue\",\n",
    "}\n",
    "\n",
    "## for publications containing that author\n",
    "work_param = {\n",
    "    \"filter\": \"author.id:A5063582649\",\n",
    "    'per_page': 200,\n",
    "}"
   ]
  },
  {
   "cell_type": "code",
   "execution_count": null,
   "metadata": {},
   "outputs": [],
   "source": []
  },
  {
   "cell_type": "code",
   "execution_count": null,
   "metadata": {},
   "outputs": [],
   "source": [
    "get_api_response"
   ]
  }
 ],
 "metadata": {
  "kernelspec": {
   "display_name": "sms",
   "language": "python",
   "name": "python3"
  },
  "language_info": {
   "codemirror_mode": {
    "name": "ipython",
    "version": 3
   },
   "file_extension": ".py",
   "mimetype": "text/x-python",
   "name": "python",
   "nbconvert_exporter": "python",
   "pygments_lexer": "ipython3",
   "version": "3.10.0"
  }
 },
 "nbformat": 4,
 "nbformat_minor": 2
}
