{
 "cells": [
  {
   "cell_type": "markdown",
   "id": "7fb8d362-d38b-41b1-9894-7755e19975bd",
   "metadata": {},
   "source": [
    "![DBC](Images/DBC.png)\n",
    "\n",
    "**Introduction**\n",
    "\n",
    "[Scholarly](https://pypi.org/project/scholarly/) is a Python module that allows users to retrieve bibliometrics from [Google Scholar](https://scholar.google.ca/). This script automates the process of scraping this information from Google Scholar using scholarly for a list of authors. \n",
    "\n",
    "This project currently works with scholarly 1.4.5\n",
    "\n",
    "**Installation and Setup**\n",
    "\n",
    "1. Upload this project in [Syzygy](https://ubc.syzygy.ca/).\n",
    "    - Click the \"+\" button to open a new launcher and click \"Terminal\"\n",
    "    - Type  \"git clone https://github.com/ubcbraincircuits/Scholar_Scraper\" and click enter\n",
    "    - The file should now be in cloned in your directory. \n",
    "2. [Install scholarly](https://pypi.org/project/scholarly/)\n",
    "    - In the terminal (from above) type \"pip3 install --user git+https://github.com/scholarly-python-package/scholarly.git\" and press enter\n",
    "3. Upload a .csv file with the list of author names. Author names should match their names in Google Scholar. This file should be in the same directory as this notebook file. \n",
    "4. Modify the names of the input/output files below (in step 1). The input file name must match the .csv file name. \n",
    "5. Modify the \"affiliations\" variable as a list of institution names which the researchers are affiliated with. Include both abbreviated and long form.  \n",
    "5. Run all cells (click shift+enter to run a cell or the play button above). \n",
    "6. Check for warnings in step 5 and make sure that the authors scraped from Google Scholar have the correct affiliation and are in fact the correct author. You may need to change the names in the input csv file to match the author name on Google Scholar. \n",
    "7. Step 5 should produce an output csv file in the same directory as this notebook file. You can check the last column of this file for warnings. \n"
   ]
  },
  {
   "cell_type": "code",
   "execution_count": 1,
   "id": "332df0dc-a0ad-4946-a11b-7ea1813766ec",
   "metadata": {},
   "outputs": [],
   "source": [
    "from scholarly import scholarly\n",
    "import csv\n",
    "import warnings"
   ]
  },
  {
   "cell_type": "markdown",
   "id": "8d8296e4-0796-48c1-b4c7-a72cefac5dab",
   "metadata": {},
   "source": [
    "1. Modify the names of the input and output files. The input file should be in this directory. The output file does not have to exist yet (it will be created). "
   ]
  },
  {
   "cell_type": "code",
   "execution_count": 2,
   "id": "1637768d-85ae-4f31-9af7-7f9c890eb869",
   "metadata": {},
   "outputs": [],
   "source": [
    "input_authors = 'DBC Investigators.csv'\n",
    "output_data = 'output_dbc.csv'"
   ]
  },
  {
   "cell_type": "markdown",
   "id": "356ce131-3f1c-48a8-98fb-0130f871aa29",
   "metadata": {},
   "source": [
    "2. Load author list as .csv. Note: author names should match their name on Google Scholar."
   ]
  },
  {
   "cell_type": "code",
   "execution_count": 3,
   "id": "27cc98e7-2e5f-47ed-a354-0cf2e471c5b1",
   "metadata": {},
   "outputs": [],
   "source": [
    "j = 0\n",
    "with open(input_authors, encoding =\"utf-8-sig\") as csv_file:\n",
    "    csv_reader = csv.reader(csv_file, delimiter =',')\n",
    "    for row in csv_reader:\n",
    "        j = j +1\n",
    "\n",
    "author_names= ['0']*j\n",
    "i = 0\n",
    "with open(input_authors, encoding =\"utf-8-sig\") as csv_file:\n",
    "    csv_reader = csv.reader(csv_file, delimiter =',')\n",
    "    for row in csv_reader:\n",
    "        if (len(row) == 1):\n",
    "            author_names[i]=row[0]\n",
    "            i = i +1\n"
   ]
  },
  {
   "cell_type": "markdown",
   "id": "35b1fe16-1611-481e-9a1f-002db9385962",
   "metadata": {},
   "source": [
    "3. Specify the institution which the researchers are affiliated with. Tip: include long and abbreviated institution names. Remember to use quotations!"
   ]
  },
  {
   "cell_type": "code",
   "execution_count": 4,
   "id": "bb73535e-9cd7-4977-ae10-939aa00d63a0",
   "metadata": {},
   "outputs": [],
   "source": [
    "affiliations = [\"University of British Columbia\", \"UBC\"]"
   ]
  },
  {
   "cell_type": "markdown",
   "id": "998bb632-871c-420f-9388-0b2366493e32",
   "metadata": {},
   "source": [
    "4. Create rows array containing data for each author."
   ]
  },
  {
   "cell_type": "code",
   "execution_count": 8,
   "id": "4ed9c40e-4e68-4f38-9130-b1d6059bd351",
   "metadata": {},
   "outputs": [],
   "source": [
    "rows = []\n",
    "warning_list=[]\n",
    "\n",
    "\n",
    "for i, athr in enumerate(author_names):\n",
    "    row_num=str(i+1)\n",
    "    search_query = scholarly.search_author(athr)\n",
    "    try :\n",
    "        author = next(search_query)\n",
    "    except (RuntimeError,TypeError,StopIteration):\n",
    "        row = [athr,'','','','','','','','','no information found']\n",
    "    else:\n",
    "        data_dict = scholarly.fill(author, sections=['basics', 'indices'])\n",
    "        row = [data_dict['name'],data_dict['scholar_id'],data_dict['citedby'],data_dict['citedby5y'],data_dict['hindex'],data_dict['hindex5y'],data_dict['i10index'],data_dict['i10index5y'],data_dict['affiliation']]\n",
    "        # Create list of authors who do not have the specified affiliation\n",
    "        if not any(a in data_dict['affiliation'] for a in affiliations):\n",
    "            warning_list_row=[i+1, data_dict['name']]\n",
    "            warning_list.append(warning_list_row)\n",
    "            row.append(\"Specified institutions not found in affiliation!\")\n",
    "    finally:    \n",
    "        rows.append(row)\n",
    "        \n",
    "                "
   ]
  },
  {
   "cell_type": "markdown",
   "id": "de9644d3-9fdf-453b-86ee-2f8ede6afca0",
   "metadata": {},
   "source": [
    "5. Check for authors scraped from Google Scholar without UBC listed as their affiliation. Make sure you have the correct author."
   ]
  },
  {
   "cell_type": "code",
   "execution_count": 11,
   "id": "e5f27db3-2967-4d62-bb8a-60c8ad8cfcc3",
   "metadata": {},
   "outputs": [
    {
     "name": "stdout",
     "output_type": "stream",
     "text": [
      "Warning: The following authors (with respective row numbers) do not have any of the specified institutions listed as their affiliation: \n",
      "[[6, 'Cheryl Rivers'], [13, 'Jason S. Snyder'], [34, 'Sophia Frangou'], [38, 'Brian D. Fisher'], [39, 'Leigh Anne Swayne'], [41, 'Adrienne Fairhall'], [42, 'Eric Shea-Brown'], [43, 'Emily Sylwestrak'], [44, 'Andy Y. Shih']]\n"
     ]
    }
   ],
   "source": [
    "# Notify user of any authors without specified affiliation in case the wrong author has been scraped from Google Scholar.\n",
    "if warning_list: # (if not empty)\n",
    "    print('Warning: The following authors (with respective row numbers) do not have any of the specified institutions listed as their affiliation: ')\n",
    "    print(warning_list)\n",
    "    "
   ]
  },
  {
   "cell_type": "markdown",
   "id": "ff719ca3-a2b3-4b62-bc57-58ae9913f521",
   "metadata": {},
   "source": [
    "6. Write rows to output .csv"
   ]
  },
  {
   "cell_type": "code",
   "execution_count": 10,
   "id": "765aa4c8-9e4c-45da-a8ff-f7bfddd3a287",
   "metadata": {},
   "outputs": [],
   "source": [
    "# This creates/opens the file with filename with the intention to write to the csv_file\n",
    "# The encoding allows the characters to be properly written to the csv_file\n",
    "with open(output_data, mode='w', encoding =\"utf-8\") as csv_file:\n",
    "    csv_writer = csv.writer(csv_file, delimiter=',', quotechar='\"', quoting=csv.QUOTE_MINIMAL)\n",
    "    query_row = ['Name', 'Scholar ID', 'Cited by', 'Cited by 5 years','H Index', 'H Index 5 years', 'I Index', 'I Index 5 years', 'Affiliation', 'Warning']\n",
    "    csv_writer.writerow(query_row)\n",
    "    csv_writer.writerows(rows)"
   ]
  },
  {
   "cell_type": "code",
   "execution_count": null,
   "id": "97772e61-f397-4e5b-ab16-0c6131e35db5",
   "metadata": {},
   "outputs": [],
   "source": []
  }
 ],
 "metadata": {
  "kernelspec": {
   "display_name": "Python 3 (ipykernel)",
   "language": "python",
   "name": "python3"
  },
  "language_info": {
   "codemirror_mode": {
    "name": "ipython",
    "version": 3
   },
   "file_extension": ".py",
   "mimetype": "text/x-python",
   "name": "python",
   "nbconvert_exporter": "python",
   "pygments_lexer": "ipython3",
   "version": "3.9.6"
  }
 },
 "nbformat": 4,
 "nbformat_minor": 5
}
