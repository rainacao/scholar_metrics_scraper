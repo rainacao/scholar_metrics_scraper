{
 "cells": [
  {
   "cell_type": "markdown",
   "id": "c6f442bd-1a42-4b96-aaff-b7d28fffbea8",
   "metadata": {},
   "source": [
    "![DBC](Images/DBC.png)\n",
    "\n",
    "# GroupedCollabs\n",
    "\n",
    "**Introduction**\n",
    "\n",
    "This R notebook creates a **grouped** chord diagram to visualize publication collaborations between coauthors. It creates links between authors and their coauthors from the output CSV file created by the ScholarScraper.ipynb notebook. It also takes another CSV file as input to specify groups. If you do not want a grouped diagram, use ScholarCollabs.ipynb. \n",
    "\n",
    "**Installation and Setup**\n",
    "1. At this point we will assume you have this project loaded in Jupyter and have successfully run ScholarScraper, which has created an output CSV file with author data. If this is not the case, go to the ScholarScraper.ipynb file and follow the instructions to setup and run. \n",
    "\n",
    "2. Ensure that the CSV file created by ScholarScraper is in the same directory as this notebook. Make sure it has a column labeled 'Name' and a column labeled 'Coauthors'. \n",
    "\n",
    "3. Create a CSV file for the groupings. This should contain the author names in the first column, the group names as column names, and the author names under their respective groups.\n",
    "![Groupings](Images/ExampleGroupCSV.png)\n",
    "\n",
    "4. Modify the names of ss_output_file, author_name_file, and group_file to match the names of your files. Ensure they are in the main project directory. \n",
    "\n",
    "5. Modify the title of the diagram. \n",
    "\n",
    "5. Modify \"links\" depending on whether you want a weighted or non-weighted diagram. \n",
    "\n",
    "6. Modify the name of the output PDF file.\n",
    "\n"
   ]
  },
  {
   "cell_type": "markdown",
   "id": "50c2ae0c-8e38-4cea-89e1-f55b82fddfdc",
   "metadata": {},
   "source": [
    "Install and load libraries"
   ]
  },
  {
   "cell_type": "code",
   "execution_count": 1,
   "id": "0b8f7647-2f14-4e3e-99b0-df093190f2ee",
   "metadata": {},
   "outputs": [
    {
     "name": "stderr",
     "output_type": "stream",
     "text": [
      "Warning message in system(\"timedatectl\", intern = TRUE):\n",
      "“running command 'timedatectl' had status 1”\n",
      "── \u001b[1mAttaching packages\u001b[22m ─────────────────────────────────────── tidyverse 1.3.1 ──\n",
      "\n",
      "\u001b[32m✔\u001b[39m \u001b[34mggplot2\u001b[39m 3.3.5     \u001b[32m✔\u001b[39m \u001b[34mpurrr  \u001b[39m 0.3.4\n",
      "\u001b[32m✔\u001b[39m \u001b[34mtibble \u001b[39m 3.1.6     \u001b[32m✔\u001b[39m \u001b[34mdplyr  \u001b[39m 1.0.7\n",
      "\u001b[32m✔\u001b[39m \u001b[34mtidyr  \u001b[39m 1.1.3     \u001b[32m✔\u001b[39m \u001b[34mstringr\u001b[39m 1.4.0\n",
      "\u001b[32m✔\u001b[39m \u001b[34mreadr  \u001b[39m 1.4.0     \u001b[32m✔\u001b[39m \u001b[34mforcats\u001b[39m 0.5.1\n",
      "\n",
      "── \u001b[1mConflicts\u001b[22m ────────────────────────────────────────── tidyverse_conflicts() ──\n",
      "\u001b[31m✖\u001b[39m \u001b[34mdplyr\u001b[39m::\u001b[32mfilter()\u001b[39m masks \u001b[34mstats\u001b[39m::filter()\n",
      "\u001b[31m✖\u001b[39m \u001b[34mdplyr\u001b[39m::\u001b[32mlag()\u001b[39m    masks \u001b[34mstats\u001b[39m::lag()\n",
      "\n",
      "Loading required package: viridisLite\n",
      "\n",
      "Skipping install of 'patchwork' from a github remote, the SHA1 (79223d30) has not changed since last install.\n",
      "  Use `force = TRUE` to force installation\n",
      "\n",
      "Skipping install of 'circlize' from a github remote, the SHA1 (14116da5) has not changed since last install.\n",
      "  Use `force = TRUE` to force installation\n",
      "\n",
      "Installing package into ‘/home/jupyter/R/x86_64-pc-linux-gnu-library/4.0’\n",
      "(as ‘lib’ is unspecified)\n",
      "\n",
      "========================================\n",
      "circlize version 0.4.14\n",
      "CRAN page: https://cran.r-project.org/package=circlize\n",
      "Github page: https://github.com/jokergoo/circlize\n",
      "Documentation: https://jokergoo.github.io/circlize_book/book/\n",
      "\n",
      "If you use it in published research, please cite:\n",
      "Gu, Z. circlize implements and enhances circular visualization\n",
      "  in R. Bioinformatics 2014.\n",
      "\n",
      "This message can be suppressed by:\n",
      "  suppressPackageStartupMessages(library(circlize))\n",
      "========================================\n",
      "\n",
      "\n"
     ]
    }
   ],
   "source": [
    "library(tidyverse)\n",
    "library(viridis)\n",
    "devtools::install_github(\"thomasp85/patchwork\")\n",
    "devtools::install_github(\"jokergoo/circlize\")\n",
    "install.packages(\"RColorBrewer\")\n",
    "library(patchwork)\n",
    "library(circlize)\n",
    "library(RColorBrewer)\n",
    "\n"
   ]
  },
  {
   "cell_type": "markdown",
   "id": "f2842a5d-6225-4fa3-9070-b9d68a569821",
   "metadata": {},
   "source": [
    "Define the name of the data file (CSV created by Scholar Scraper), investigator names CSV file, and group CSV file"
   ]
  },
  {
   "cell_type": "code",
   "execution_count": 21,
   "id": "514ef364-911c-4691-be89-86ea515fe665",
   "metadata": {},
   "outputs": [],
   "source": [
    "ss_output_file = \"ss_output_data.csv\"\n",
    "author_name_file = \"DBC Investigators.csv\"\n",
    "group_file = \"DBC-Investigator-Faculty-Groups.csv\""
   ]
  },
  {
   "cell_type": "markdown",
   "id": "c370a661-a832-4264-9eb9-3d54172fab04",
   "metadata": {},
   "source": [
    "Define the title and colors you want to use. \n",
    "\n",
    "View color options [here](http://www.stat.columbia.edu/~tzheng/files/Rcolor.pdf)."
   ]
  },
  {
   "cell_type": "code",
   "execution_count": 2,
   "id": "4ce25601-644b-4bcf-a0f1-fd2cc7379719",
   "metadata": {},
   "outputs": [],
   "source": [
    "title = \"Dynamic Brain Circuits\"\n",
    "\n",
    "c_pallete = c(\"red\",\"green\",\"blue\",\"cyan\",\"magenta\")"
   ]
  },
  {
   "cell_type": "markdown",
   "id": "a61e4022-e3c4-48c8-a64d-834a9669bb08",
   "metadata": {},
   "source": [
    "Load in collaboration data and investigator names\n"
   ]
  },
  {
   "cell_type": "code",
   "execution_count": 15,
   "id": "fb50c617-0297-47bf-9f26-c22405c2d957",
   "metadata": {
    "tags": []
   },
   "outputs": [],
   "source": [
    "df_collab = read.csv(ss_output_file)\n",
    "names_l = read.csv(author_name_file)"
   ]
  },
  {
   "cell_type": "markdown",
   "id": "fc9ce449-e53a-42b9-8a09-16470d7e5a27",
   "metadata": {},
   "source": [
    "Tidy the dataframe"
   ]
  },
  {
   "cell_type": "code",
   "execution_count": null,
   "id": "81d0642c-bcda-4e48-bbe1-e844cc26871b",
   "metadata": {},
   "outputs": [],
   "source": [
    "# creating a subset of our survey data that extracts the useful columns. \n",
    "df_collab = subset(df_collab, select = c(Name, Coauthors))\n",
    "\n",
    "# get rid of rows containing NAs\n",
    "df_collab=df_collab[rowSums(is.na(df_collab)) != ncol(df_collab), ]"
   ]
  },
  {
   "cell_type": "markdown",
   "id": "ae22663d-6646-4b93-ba0d-07fa0f99105b",
   "metadata": {},
   "source": [
    "Setup the links"
   ]
  },
  {
   "cell_type": "code",
   "execution_count": 15,
   "id": "e4015ec1-b38b-4bb9-a176-632a1a9fb6d2",
   "metadata": {},
   "outputs": [],
   "source": [
    "##### create an edge list using for loop. ####\n",
    "origin = c()\n",
    "destination = c()\n",
    "count = c()\n",
    "\n",
    "for (i in 1:nrow(df_collab)) {\n",
    "  x = df_collab$Name[i]\n",
    "  for (n in 1:nrow(df_collab)) {\n",
    "    if(is.na(df_collab$Coauthors[n]) == FALSE) {\n",
    "      if(str_detect(df_collab$Coauthors[n], x) == TRUE) {\n",
    "        origin = append(origin, df_collab$Name[n])\n",
    "        destination = append(destination, x)\n",
    "#       extracts digits that come after author name in df_collab$Coauthors[n]\n",
    "        count = append(count, strtoi(\n",
    "            str_extract(df_collab$Coauthors[n],paste(\"(?<=\", df_collab$Name[i], \"\\': )\\\\d+\", sep=\"\"))))\n",
    "      }\n",
    "    }\n",
    "  }\n",
    "}\n",
    "\n",
    "edge_l = data.frame(origin, destination, count)\n",
    "# cleaning up the edge list by removing duplicates\n",
    "edge_l = unique(edge_l)\n",
    "edge_l$temp = apply(edge_l, 1, function(x) paste(sort(x), collapse=\"\"))\n",
    "edge_l = edge_l[!duplicated(edge_l$temp), 1:3]\n",
    "                    \n",
    "# create an adjacency list. \n",
    "adjacencyData = data.frame(with(edge_l, table(origin, destination)))"
   ]
  },
  {
   "cell_type": "markdown",
   "id": "87ab4f4b-b037-4f66-a5d6-2e15cbfcde8b",
   "metadata": {},
   "source": [
    "Set up the groupings"
   ]
  },
  {
   "cell_type": "code",
   "execution_count": 40,
   "id": "d7daa448-bf7e-4f91-ac00-59e4b7e77342",
   "metadata": {},
   "outputs": [],
   "source": [
    "# loading in the group names\n",
    "df_group = read.csv(group_file)\n",
    "\n",
    "# Setting up group names\n",
    "Primary_c = colnames(df_group)[-1]\n",
    "\n",
    "# Removing unnecessary first column\n",
    "df_group <- df_group[,-1]\n",
    "\n",
    "# Creating a group column by pivoting \n",
    "df_group = df_group %>%\n",
    "  pivot_longer(Primary_c,\n",
    "               names_to = \"group\",\n",
    "               values_to = \"name\")\n",
    "\n",
    "# Removing NAs\n",
    "df_group = na.omit(df_group)\n",
    "\n",
    "# Assigning a colour to each group. \n",
    "color =  c()\n",
    "                    \n",
    "for (i in 1:nrow(df_group)) {\n",
    "  for (j in 1:length(Primary_c)) {\n",
    "    if(df_group$group[i] == Primary_c[j]) {\n",
    "      color = append(color,c_pallete[j])\n",
    "    }\n",
    "  }\n",
    "}\n",
    "\n",
    "# adding the color column to the dataframe.\n",
    "df_group$color = color\n",
    "\n",
    "# creating the groupings\n",
    "group_ind = structure(df_group$group, names = df_group$name)\n",
    "\n",
    "# creating colors for the groupings\n",
    "color_ind = structure(df_group$color, names = df_group$name)"
   ]
  },
  {
   "cell_type": "markdown",
   "id": "4c127ab5-8735-4ed6-98f3-e7d4f1e10e42",
   "metadata": {},
   "source": [
    "If you want a non-weighted diagram (all links the same width, set links to adjacencyData. If you want a weighted diagram, set links to edge_l. "
   ]
  },
  {
   "cell_type": "code",
   "execution_count": null,
   "id": "c31b1be1-71fc-4b93-b8ce-67b72f65aea2",
   "metadata": {},
   "outputs": [],
   "source": [
    "links <- edge_l"
   ]
  },
  {
   "cell_type": "markdown",
   "id": "59d42e26-6ca9-4e6e-969d-835edfc3f33f",
   "metadata": {},
   "source": [
    "Modify the name of the output PDF file, and create the chord diagram"
   ]
  },
  {
   "cell_type": "code",
   "execution_count": 46,
   "id": "131f81a0-8fd0-46d9-a856-245d27ae912b",
   "metadata": {},
   "outputs": [
    {
     "data": {
      "text/html": [
       "<strong>png:</strong> 2"
      ],
      "text/latex": [
       "\\textbf{png:} 2"
      ],
      "text/markdown": [
       "**png:** 2"
      ],
      "text/plain": [
       "png \n",
       "  2 "
      ]
     },
     "metadata": {},
     "output_type": "display_data"
    }
   ],
   "source": [
    "\n",
    "# Modify this!!!\n",
    "pdf(\"DBC_collab_diagram_grouped_weighted.pdf\") \n",
    "\n",
    "# set up the parameters\n",
    "circos.clear()\n",
    "circos.par(start.degree = 90,gap.degree = 1, \n",
    "           track.margin = c(-0.1, 0.1), \n",
    "           points.overflow.warning = FALSE, canvas.xlim = c(-1.3,1.3),\n",
    "           canvas.ylim = c(-1.3,1.3))\n",
    "par(mar = c(0,0,2,0),xpd = TRUE, cex.main = 1.5)\n",
    "\n",
    "# create the chord diagram\n",
    "chordDiagram(links, group = group_ind,\n",
    "              grid.col = color_ind,\n",
    "             transparency = 0.25,\n",
    "             diffHeight  = -0.04,\n",
    "             annotationTrack = \"grid\", \n",
    "             annotationTrackHeight = c(0.05, 0.1),\n",
    "             link.sort = TRUE, \n",
    "             link.largest.ontop = FALSE,\n",
    "              self.link = 1, \n",
    "\n",
    ")\n",
    "                    \n",
    "\n",
    "# Add the text and the axis surrounding the diagram.\n",
    "circos.trackPlotRegion(\n",
    "  track.index = 1, \n",
    "  bg.border = NA, \n",
    "  panel.fun = function(x, y) {\n",
    "    \n",
    "    xlim = get.cell.meta.data(\"xlim\")\n",
    "    sector.index = get.cell.meta.data(\"sector.index\")\n",
    "    \n",
    "    # Add names to the sector. \n",
    "    circos.text(\n",
    "      x = mean(xlim), \n",
    "      y = 5.2, \n",
    "      labels = sector.index, \n",
    "      facing = \"clockwise\", \n",
    "      niceFacing = TRUE,\n",
    "      cex = 0.7,\n",
    "    )\n",
    "    \n",
    "     #Add graduation on axis\n",
    "    circos.axis(\n",
    "      h = \"top\", \n",
    "      labels.cex = 0.001,\n",
    "      minor.ticks = 2, \n",
    "      major.tick.length = 0.1, \n",
    "      labels.niceFacing = FALSE)\n",
    "      \n",
    "  }\n",
    ")\n",
    "\n",
    "# Add a title\n",
    "title(title,outer=FALSE)\n",
    "                    \n",
    "                    \n",
    "dev.off()\n",
    "                    "
   ]
  },
  {
   "cell_type": "code",
   "execution_count": null,
   "id": "f54e8f06-bbb9-404e-9dc7-2cfa7ac36cc4",
   "metadata": {},
   "outputs": [],
   "source": [
    "\n"
   ]
  },
  {
   "cell_type": "code",
   "execution_count": null,
   "id": "2f4b13b2-d9df-44cb-ab15-9dfca5e3ce26",
   "metadata": {},
   "outputs": [],
   "source": []
  }
 ],
 "metadata": {
  "kernelspec": {
   "display_name": "R",
   "language": "R",
   "name": "ir"
  },
  "language_info": {
   "codemirror_mode": "r",
   "file_extension": ".r",
   "mimetype": "text/x-r-source",
   "name": "R",
   "pygments_lexer": "r",
   "version": "4.0.5"
  }
 },
 "nbformat": 4,
 "nbformat_minor": 5
}
