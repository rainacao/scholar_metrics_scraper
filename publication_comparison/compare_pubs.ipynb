{
 "cells": [
  {
   "cell_type": "code",
   "execution_count": 4,
   "metadata": {},
   "outputs": [],
   "source": [
    "import os, sys, re, ast\n",
    "import pandas as pd\n",
    "import numpy as np\n",
    "import bct"
   ]
  },
  {
   "cell_type": "code",
   "execution_count": 126,
   "metadata": {},
   "outputs": [],
   "source": [
    "sv_df = pd.read_csv(\"sv_shared_pubs.csv\")\n",
    "gs_df = pd.read_csv(\"shared_pubs.csv\")"
   ]
  },
  {
   "cell_type": "code",
   "execution_count": 127,
   "metadata": {},
   "outputs": [
    {
     "name": "stdout",
     "output_type": "stream",
     "text": [
      "                                               Title  \\\n",
      "0  Chronic multiscale resolution of mouse brain n...   \n",
      "1  Water-Reaching Platform for Longitudinal Asses...   \n",
      "2  Multiscale imaging informs translational mouse...   \n",
      "3  Towards a Visualizable, De-identified Syntheti...   \n",
      "4  Altered cortical processing of sensory input i...   \n",
      "\n",
      "                                     Authors  \n",
      "0   ['Timothy H. Murphy', 'Lynn A. Raymond']  \n",
      "1   ['Timothy H. Murphy', 'Lynn A. Raymond']  \n",
      "2  ['Timothy H. Murphy', 'Jeffrey M. LeDue']  \n",
      "3      ['Timothy H. Murphy', 'Helge Rhodin']  \n",
      "4   ['Timothy H. Murphy', 'Lynn A. Raymond']  \n"
     ]
    }
   ],
   "source": [
    "print(sv_df.head())"
   ]
  },
  {
   "cell_type": "code",
   "execution_count": 130,
   "metadata": {},
   "outputs": [],
   "source": [
    "def standardize_title(title:str) -> str:\n",
    "    '''return clean cleaned, lowercase string'''\n",
    "\n",
    "    title = \"\".join(\n",
    "        re.sub(r'[^\\w ]', '', #replace anything that is not a letter with \"\"\n",
    "               title.replace(\"<sup>\",\"\") #remove tags (mostly in scival data)\n",
    "               .replace(\"</sup>\",\"\")\n",
    "               .replace(\"<inf>\",\"\")\n",
    "               .replace(\"</inf>\",\"\")\n",
    "               .lower(), #lower all letters\n",
    "               ) \n",
    "            .split(\" \"))\n",
    "    return title"
   ]
  },
  {
   "cell_type": "code",
   "execution_count": 131,
   "metadata": {},
   "outputs": [],
   "source": [
    "#clean titles\n",
    "sv_df[\"Standard Titles\"] = pd.DataFrame([standardize_title(title) for title in sv_df[\"Title\"].tolist()])\n",
    "gs_df[\"Standard Titles\"] = pd.DataFrame([standardize_title(title) for title in gs_df[\"Title\"].tolist()])"
   ]
  },
  {
   "cell_type": "code",
   "execution_count": 132,
   "metadata": {},
   "outputs": [
    {
     "name": "stdout",
     "output_type": "stream",
     "text": [
      "                                               Title  \\\n",
      "0  Chronic multiscale resolution of mouse brain n...   \n",
      "1  Water-Reaching Platform for Longitudinal Asses...   \n",
      "2  Multiscale imaging informs translational mouse...   \n",
      "3  Towards a Visualizable, De-identified Syntheti...   \n",
      "4  Altered cortical processing of sensory input i...   \n",
      "\n",
      "                                     Authors  \\\n",
      "0   ['Timothy H. Murphy', 'Lynn A. Raymond']   \n",
      "1   ['Timothy H. Murphy', 'Lynn A. Raymond']   \n",
      "2  ['Timothy H. Murphy', 'Jeffrey M. LeDue']   \n",
      "3      ['Timothy H. Murphy', 'Helge Rhodin']   \n",
      "4   ['Timothy H. Murphy', 'Lynn A. Raymond']   \n",
      "\n",
      "                                     Standard Titles  \n",
      "0  chronicmultiscaleresolutionofmousebrainnetwork...  \n",
      "1  waterreachingplatformforlongitudinalassessment...  \n",
      "2  multiscaleimaginginformstranslationalmousemode...  \n",
      "3  towardsavisualizabledeidentifiedsyntheticbioma...  \n",
      "4  alteredcorticalprocessingofsensoryinputinhunti...  \n"
     ]
    }
   ],
   "source": [
    "print(sv_df.head())"
   ]
  },
  {
   "cell_type": "code",
   "execution_count": 133,
   "metadata": {},
   "outputs": [
    {
     "name": "stderr",
     "output_type": "stream",
     "text": [
      "/var/folders/47/6bm96nxd0ks5x370bsvkpghh0000gn/T/ipykernel_88020/3357728429.py:9: UserWarning: DataFrame columns are not unique, some columns will be omitted.\n",
      "  gs_dict = gs_df.set_index('Standard Titles').T.to_dict('list')\n"
     ]
    }
   ],
   "source": [
    "#turn into a dictionary of keys with coauthors as values\n",
    "\n",
    "# s = [ast.literal_eval(coauthors) for coauthors in sv_df[\"Authors\"].tolist()]\n",
    "# print(s)\n",
    "\n",
    "# s = [ast.literal_eval(coauthors) for coauthors in sv_df[\"Authors\"].tolist()]\n",
    "\n",
    "sv_dict = sv_df.set_index('Standard Titles').T.to_dict('list')\n",
    "gs_dict = gs_df.set_index('Standard Titles').T.to_dict('list')"
   ]
  },
  {
   "cell_type": "code",
   "execution_count": 134,
   "metadata": {},
   "outputs": [
    {
     "name": "stdout",
     "output_type": "stream",
     "text": [
      "total sv publications: 360\n",
      "total gs publications: 477\n",
      "\n",
      "sv only publications: 64\n",
      "gs only publications: 181\n",
      "shared publications: 296\n"
     ]
    }
   ],
   "source": [
    "sv_only = list(set(sv_dict.keys()) - set(gs_dict.keys()))\n",
    "gs_only = list(set(gs_dict.keys()) - set(sv_dict.keys()))\n",
    "shared_titles = list(set(sv_dict.keys()).intersection(gs_dict.keys()))\n",
    "print(\"total sv publications:\", len(sv_dict.keys()))\n",
    "print(\"total gs publications:\", len(gs_dict.keys()))\n",
    "print()\n",
    "print(\"sv only publications:\",len(sv_only))\n",
    "print(\"gs only publications:\",len(gs_only))\n",
    "print(\"shared publications:\",len(shared_titles))"
   ]
  },
  {
   "cell_type": "code",
   "execution_count": 137,
   "metadata": {},
   "outputs": [],
   "source": [
    "fill_space = lambda x: [\"\"]*(len(shared_titles)-len(x))\n",
    "out_df = pd.DataFrame(\n",
    "    {\n",
    "        \"GS ONLY publications\":gs_only \n",
    "                                + fill_space(gs_only),\n",
    "        \"GS ONLY title\": [gs_dict[title][0] for title in gs_only] \n",
    "                                + fill_space(gs_only),\n",
    "        \"GS ONLY coauthors\": [gs_dict[title][1] for title in gs_only] \n",
    "                                + fill_space(gs_only),\n",
    "        \"SV ONLY publications\": sv_only \n",
    "                                + fill_space(sv_only),\n",
    "        \"SV ONLY title\": [sv_dict[title][0] for title in sv_only] \n",
    "                                + fill_space(sv_only),\n",
    "        \"SV ONLY coauthors\": [sv_dict[title][1] for title in sv_only] \n",
    "                                + fill_space(sv_only),\n",
    "        \"shared publications\": shared_titles,\n",
    "        \"shared gs title\": [gs_dict[title][0] for title in shared_titles],\n",
    "        \"shared sv title\": [sv_dict[title][0] for title in shared_titles],\n",
    "        \"shared gs coauthors\": [gs_dict[title][1] for title in shared_titles],\n",
    "        \"shared sv coauthors\": [sv_dict[title][1] for title in shared_titles],\n",
    "    })"
   ]
  },
  {
   "cell_type": "code",
   "execution_count": 138,
   "metadata": {},
   "outputs": [],
   "source": [
    "out_df.to_csv(\"check1.csv\",index=False)"
   ]
  }
 ],
 "metadata": {
  "kernelspec": {
   "display_name": "sms",
   "language": "python",
   "name": "python3"
  },
  "language_info": {
   "codemirror_mode": {
    "name": "ipython",
    "version": 3
   },
   "file_extension": ".py",
   "mimetype": "text/x-python",
   "name": "python",
   "nbconvert_exporter": "python",
   "pygments_lexer": "ipython3",
   "version": "3.10.0"
  }
 },
 "nbformat": 4,
 "nbformat_minor": 2
}
