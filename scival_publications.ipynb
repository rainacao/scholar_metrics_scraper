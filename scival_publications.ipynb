{
 "cells": [
  {
   "cell_type": "code",
   "execution_count": 1,
   "id": "71be538a-2b12-4e9e-a089-5f119656add7",
   "metadata": {},
   "outputs": [
    {
     "name": "stdout",
     "output_type": "stream",
     "text": [
      "127f5bf5de20d338f686704a9a328b86\n"
     ]
    }
   ],
   "source": [
    "import os\n",
    "import requests\n",
    "import json\n",
    "import csv\n",
    "import pandas as pd\n",
    "from time import sleep\n",
    "import numpy as np\n",
    "from pybliometrics.scopus import CitationOverview, AuthorRetrieval, AbstractRetrieval\n",
    "from pybliometrics.scopus.utils import config\n",
    "config['Authentication'] ['APIKey'] = \"127f5bf5de20d338f686704a9a328b86\"\n",
    "print(config['Authentication'] ['APIKey'])"
   ]
  },
  {
   "cell_type": "markdown",
   "id": "b7cb0cba",
   "metadata": {},
   "source": [
    "## constants\n",
    "publication_cutoff_year refers to the year where publications during and after will be counted\n",
    "\n",
    "start_year refers to the first year that the publication count will be calculated (first year to be graphed)\n",
    "\n",
    "end_year refers to the last year that the publication will be calculated (last year to be graphed)\n"
   ]
  },
  {
   "cell_type": "code",
   "execution_count": 2,
   "id": "e29f00a9-95b1-4543-8306-0135969cd7f0",
   "metadata": {},
   "outputs": [],
   "source": [
    "INPUT_PATH_TO_CSV = \"authorlist comparisons/scival_outputs/scival_ids_authorlist_official.csv\"\n",
    "OUTPUT_PATH_TO_CSV = \"sv_authorlist_publications_updated4.csv\"\n",
    "OUTPUT_PATH_TO_CLEANED_CSV = \"scival_authorlist_citations_nodupes.csv\"\n",
    "\n",
    "PUBLICATION_CUTOFF_YEAR = 0 #only publications DURING and AFTER this year will be counted\n",
    "START_YEAR = 2018\n",
    "END_YEAR = 2023"
   ]
  },
  {
   "cell_type": "code",
   "execution_count": 3,
   "id": "afda8b4d-73d7-4070-a6a6-cb5e3b8960b6",
   "metadata": {},
   "outputs": [],
   "source": [
    "YEARS_INCLUDED = END_YEAR - START_YEAR + 1 #year range count, inclusive\n",
    "\n",
    "# prepare columns of csv output\n",
    "# output_cols = [\"Name\", \"Scopus ID\", \"Document Count\", \"Cited by\", \"Cited by 5 years\", \"Publications\", \"Coauthors\", \"Affiliation\"]\n",
    "output_cols = [\"Name\", \"Scopus ID\", \"Document Count\", \"Cited by\", \"Coauthors\", \"Affiliation\"]"
   ]
  },
  {
   "cell_type": "markdown",
   "id": "e09d27b1",
   "metadata": {},
   "source": [
    "### helper functions"
   ]
  },
  {
   "cell_type": "code",
   "execution_count": 4,
   "id": "ab3b11a9-521d-46c2-9811-d7095154e9b2",
   "metadata": {},
   "outputs": [],
   "source": [
    "def get_all_citations(documents):\n",
    "    '''return yearly citation data for all documents for the author'''\n",
    "    yearly_citations_data = []\n",
    "\n",
    "    #scopus ID is everything after 2nd hyphen for the eid\n",
    "    scopus_id_list = [document.eid.split(\"-\",2)[2] for document in documents]\n",
    "    print(scopus_id_list)\n",
    "\n",
    "    pages = int(len(documents)/25)\n",
    "    \n",
    "    if pages == 0:\n",
    "        print(f\"gathering citations\")\n",
    "        co = CitationOverview(scopus_id_list, start=START_YEAR, end=END_YEAR)\n",
    "        yearly_citations_data = co.cc\n",
    "    elif len(documents)%25 == 0:\n",
    "        # urls = []\n",
    "        for page in range(pages):\n",
    "            print(f\"gathering citations for page {page}/{pages-1}\")\n",
    "            list_per_page = scopus_id_list[(25*page):(25*(page+1))]\n",
    "            co = CitationOverview(list_per_page, start=START_YEAR, end=END_YEAR)\n",
    "            yearly_citations_data = yearly_citations_data + co.cc\n",
    "            # urls = urls + co.url\n",
    "    else:\n",
    "        # urls = []\n",
    "        for page in range(pages+1):\n",
    "            print(f\"gathering citations for page {page}/{pages}\")\n",
    "            list_per_page = scopus_id_list[(25*page):(25*(page+1))]\n",
    "            co = CitationOverview(list_per_page, start=START_YEAR, end=END_YEAR)\n",
    "            yearly_citations_data = yearly_citations_data + co.cc\n",
    "            # urls = urls + co.url\n",
    "        \n",
    "    return yearly_citations_data"
   ]
  },
  {
   "cell_type": "code",
   "execution_count": 5,
   "id": "645c93b4-e6f6-41ae-9721-3578c136aaf2",
   "metadata": {},
   "outputs": [],
   "source": [
    "def remove_duplicate_pubs(out_arr):\n",
    "    eids = []\n",
    "    new_arr = []\n",
    "    for i in range(len(out_arr)):\n",
    "        current_eid = out_arr[i][2]\n",
    "        if current_eid in eids:\n",
    "            pass\n",
    "        else:\n",
    "            new_arr.append(out_arr[i])\n",
    "            eids.append(current_eid)\n",
    "    print(\"all publications searched\")\n",
    "    return new_arr, eids\n",
    "\n",
    "# def remove_duplicate_pubs(out_dict):\n",
    "#     eids = []\n",
    "#     for i in range(len(out_dict[output_cols[0]])):\n",
    "#         current_eid = out_dict[\"eid\"][i]\n",
    "#         if current_eid in eids:\n",
    "#             #remove everything in that row\n",
    "#             for key in out_dict.keys():\n",
    "#                 # print(\"duplicate found\")\n",
    "#                 out_dict[key].pop(i)\n",
    "#         else:\n",
    "#             eids.append(current_eid)\n",
    "#     print(\"all publications searched\")\n",
    "#     return out_dict, eids"
   ]
  },
  {
   "cell_type": "code",
   "execution_count": 92,
   "id": "bad0dadc",
   "metadata": {},
   "outputs": [],
   "source": [
    "def get_document_coauthors(document, author_id, ids_names_dict, coauthor_dict, publications=[], pub_dict={}, author_name =\"\"):\n",
    "    '''document: pybliometrics document object\n",
    "    author_id: id of author to look for coauthors with\n",
    "    ids_names_dict: dictionary where key is id and value is author name\n",
    "    coauthor_dict: dictionary of the document's coauthors'''\n",
    "    # publications.append(document.title)\n",
    "    #for the SMS method\n",
    "\n",
    "    #get all author IDs related to paper\n",
    "    coauthors_list = document.author_ids.split(\";\")\n",
    "    # if author_id in coauthors_list: \n",
    "    #     coauthors_list.remove(author_id)\n",
    "    #filter for coauthors on list\n",
    "    matching_coauthors = list(set(coauthors_list).intersection(ids_names_dict.keys())) \n",
    "    \n",
    "    for id in matching_coauthors:\n",
    "        coauthor_name = ids_names_dict[id]\n",
    "\n",
    "        if (document.title not in pub_dict.keys()) or (coauthor_name not in pub_dict[document.title]): \n",
    "            pub_dict.setdefault(document.title,[]).append(coauthor_name)\n",
    "\n",
    "        if id == author_id: \n",
    "            continue #do not add the author to their own coauthor dict\n",
    "        \n",
    "        try:\n",
    "            coauthor_dict[coauthor_name] = coauthor_dict[coauthor_name] + 1\n",
    "        except KeyError:\n",
    "            coauthor_dict[coauthor_name] = 1\n",
    "    return coauthor_dict,pub_dict"
   ]
  },
  {
   "cell_type": "code",
   "execution_count": 93,
   "id": "fb82d373-9ea6-4ce4-84c2-8a65a9892260",
   "metadata": {},
   "outputs": [],
   "source": [
    "def fill_article_rows(author_details:tuple, documents, dict):\n",
    "    '''author_details are (lastname, firstname, author ID)'''\n",
    "    for document in documents:\n",
    "        dict[output_cols[0]].append(document.title) #title\n",
    "        dict[output_cols[1]].append(document.eid) #eid\n",
    "        dict[output_cols[2]].append(document.coverDate.split(\"-\")[0]) #publication date\n",
    "        dict[output_cols[3]].append(document.author_names) #author names\n",
    "        dict[output_cols[4]].append(author_details[0]) #last name\n",
    "        dict[output_cols[5]].append(author_details[1]) #first name\n",
    "        dict[output_cols[6]].append(author_details[2]) #author ID"
   ]
  },
  {
   "cell_type": "markdown",
   "id": "57a5527c",
   "metadata": {},
   "source": [
    "## start here\n",
    "1. read the input array that has a column containing author IDs"
   ]
  },
  {
   "cell_type": "code",
   "execution_count": 94,
   "id": "a6de18f2",
   "metadata": {},
   "outputs": [
    {
     "name": "stdout",
     "output_type": "stream",
     "text": [
      "['Murphy', 'Timothy H.', '7401632487']\n",
      "46\n"
     ]
    }
   ],
   "source": [
    "member_arr = []\n",
    "with open(INPUT_PATH_TO_CSV, \"r\") as f:\n",
    "    r = csv.reader(f)\n",
    "    for row in r:\n",
    "        if row[0] != \"\":\n",
    "            member_arr.append(row)\n",
    "\n",
    "# skip header rows\n",
    "member_arr = member_arr[1:]\n",
    "print(member_arr[0])\n",
    "print(len(member_arr))"
   ]
  },
  {
   "cell_type": "markdown",
   "id": "eeeed789",
   "metadata": {},
   "source": [
    "2. filter for only the IDs\n",
    "- member_arr_filtered is a 2D array; each row is a new member and each col is that member's information."
   ]
  },
  {
   "cell_type": "code",
   "execution_count": 95,
   "id": "f1cc81ab",
   "metadata": {},
   "outputs": [
    {
     "name": "stdout",
     "output_type": "stream",
     "text": [
      "first row: ['Murphy', 'Timothy H.', '7401632487']\n",
      "number of authors in list: 46\n"
     ]
    }
   ],
   "source": [
    "#get members who have ids filled\n",
    "id_col_idx = 2\n",
    "lastname_col_idx = 0\n",
    "firstname_col_idx = 1\n",
    "print(\"first row:\", member_arr[0])\n",
    "try:\n",
    "    member_arr_filtered = [row for row in member_arr if row[id_col_idx] != \"\" and int(row[id_col_idx])]\n",
    "except ValueError:\n",
    "    raise ValueError(\"make sure the index of the column ID from member array is valid!\")\n",
    "print(\"number of authors in list:\",len(member_arr_filtered))\n",
    "\n",
    "#subj search in query: 320 "
   ]
  },
  {
   "cell_type": "code",
   "execution_count": 96,
   "id": "181db4d4",
   "metadata": {},
   "outputs": [
    {
     "name": "stdout",
     "output_type": "stream",
     "text": [
      "{'7401632487': 'Timothy H. Murphy', '55491054000': 'Annie Vogel Ciernia', '7006717711': 'Brian A. MacVicar', '24279161600': 'Fidel Vila-Rodriguez', '7005627810': 'Shernaz X. Bamji', '7101895712': 'Lara A. Boyd', '7004159655': 'Paul Pavlidis', '7005375626': 'Martin McKeown', '7004896118': 'A. Jon Stoessl', '6603629883': 'P. A. Cripton', '28167863900': 'Jason S. Snyder', '7006262846': 'Wolfram G. Tetzlaff', '7401658611': 'Anthony G. Phillips', '7005018303': 'Catharine A. Winstanley', '8908521300': 'YuTian Wang', '7003907622': 'Jeremy Keith Seamans', '35408131500': 'Terrance P. Snutch', '16407421900': 'Ian Mackenzie', '7102737545': 'Lynn A. Raymond', '55554765000': 'Kurt Haas', '37036981000': 'Mark S. Cembrowski', '7401756510': 'Fabio Rossi', '55889287500': 'Angela Jane I. Roskams', '7007032941': 'Catharine Rankin', '7402800449': 'Michael D. Gordon', '7103067039': 'Leonid Sigal', '11241026700': 'Z. Jane Wang', '6701751588': 'Peyman Servati', '7004079043': 'Liisa A. M. Galea', '7004549374': 'Sophia Frangou', '36237882900': 'Silke Appel-Cresswell', '55860139200': 'Helge Rhodin', '35146488900': 'Manu S. Madhav', '56363838400': 'Brian Fisher', '7004454250': 'Leigh Anne Swayne', '7408311558': 'Craig E. Brown', '6602928622': 'Adrienne L. Fairhall', '15065850600': 'Eric T. Shea-Brown', '26634611400': 'Emily Lauren Sylwestrak', '9239638800': 'Andy Y. Shih', '7102848867': 'Todd Stephen Woodward', '56371437500': 'Jeffrey M. LeDue', '24467768400': 'Ilker Hacihaliloglu', '35465675000': 'Anthony Randal McIntosh', '6602170125': 'Purang Abolmaesumi', '56276238300': 'Vesna Sossi'}\n"
     ]
    }
   ],
   "source": [
    "member_ids = [row[id_col_idx] for row in member_arr]\n",
    "member_names = [f\"{member_arr_filtered[i][firstname_col_idx]} {member_arr_filtered[i][lastname_col_idx]}\" for i in range(len(member_ids))]\n",
    "name_id_dict = dict(zip(member_ids, member_names))\n",
    "print(name_id_dict)"
   ]
  },
  {
   "cell_type": "markdown",
   "id": "06003fde",
   "metadata": {},
   "source": [
    "3. get all the documents from the list of author IDs"
   ]
  },
  {
   "cell_type": "code",
   "execution_count": 103,
   "id": "f8135e16-c82d-46f7-a120-e3dfce5de143",
   "metadata": {
    "scrolled": true
   },
   "outputs": [
    {
     "name": "stdout",
     "output_type": "stream",
     "text": [
      "looking up Timothy H. Murphy (7401632487)...\n",
      "found 185 publications between 0 and now\n",
      "done\n",
      "\n",
      "looking up Annie Vogel Ciernia (55491054000)...\n",
      "found 28 publications between 0 and now\n",
      "done\n",
      "\n",
      "looking up Brian A. MacVicar (7006717711)...\n",
      "found 167 publications between 0 and now\n",
      "done\n",
      "\n",
      "looking up Fidel Vila-Rodriguez (24279161600)...\n",
      "found 161 publications between 0 and now\n",
      "done\n",
      "\n",
      "looking up Shernaz X. Bamji (7005627810)...\n",
      "found 44 publications between 0 and now\n",
      "done\n",
      "\n",
      "looking up Lara A. Boyd (7101895712)...\n",
      "found 217 publications between 0 and now\n",
      "done\n",
      "\n",
      "looking up Paul Pavlidis (7004159655)...\n",
      "found 158 publications between 0 and now\n",
      "done\n",
      "\n",
      "looking up Martin McKeown (7005375626)...\n",
      "found 260 publications between 0 and now\n",
      "done\n",
      "\n",
      "looking up A. Jon Stoessl (7004896118)...\n",
      "found 305 publications between 0 and now\n",
      "done\n",
      "\n",
      "looking up P. A. Cripton (6603629883)...\n",
      "found 179 publications between 0 and now\n",
      "done\n",
      "\n",
      "looking up Jason S. Snyder (28167863900)...\n",
      "found 37 publications between 0 and now\n",
      "done\n",
      "\n",
      "looking up Wolfram G. Tetzlaff (7006262846)...\n",
      "found 206 publications between 0 and now\n",
      "done\n",
      "\n",
      "looking up Anthony G. Phillips (7401658611)...\n",
      "found 307 publications between 0 and now\n",
      "done\n",
      "\n",
      "looking up Catharine A. Winstanley (7005018303)...\n",
      "found 74 publications between 0 and now\n",
      "done\n",
      "\n",
      "looking up YuTian Wang (8908521300)...\n",
      "found 192 publications between 0 and now\n",
      "done\n",
      "\n",
      "looking up Jeremy Keith Seamans (7003907622)...\n",
      "found 70 publications between 0 and now\n",
      "done\n",
      "\n",
      "looking up Terrance P. Snutch (35408131500)...\n",
      "found 208 publications between 0 and now\n",
      "done\n",
      "\n",
      "looking up Ian Mackenzie (16407421900)...\n",
      "found 282 publications between 0 and now\n",
      "done\n",
      "\n",
      "looking up Lynn A. Raymond (7102737545)...\n",
      "found 153 publications between 0 and now\n",
      "done\n",
      "\n",
      "looking up Kurt Haas (55554765000)...\n",
      "found 55 publications between 0 and now\n",
      "done\n",
      "\n",
      "looking up Mark S. Cembrowski (37036981000)...\n",
      "found 24 publications between 0 and now\n",
      "done\n",
      "\n",
      "looking up Fabio Rossi (7401756510)...\n",
      "found 174 publications between 0 and now\n",
      "done\n",
      "\n",
      "looking up Angela Jane I. Roskams (55889287500)...\n",
      "found 60 publications between 0 and now\n",
      "done\n",
      "\n",
      "looking up Catharine Rankin (7007032941)...\n",
      "found 111 publications between 0 and now\n",
      "done\n",
      "\n",
      "looking up Michael D. Gordon (7402800449)...\n",
      "found 29 publications between 0 and now\n",
      "done\n",
      "\n",
      "looking up Leonid Sigal (7103067039)...\n",
      "found 128 publications between 0 and now\n",
      "done\n",
      "\n",
      "looking up Z. Jane Wang (11241026700)...\n",
      "found 336 publications between 0 and now\n",
      "done\n",
      "\n",
      "looking up Peyman Servati (6701751588)...\n",
      "found 137 publications between 0 and now\n",
      "done\n",
      "\n",
      "looking up Liisa A. M. Galea (7004079043)...\n",
      "found 210 publications between 0 and now\n",
      "done\n",
      "\n",
      "looking up Sophia Frangou (7004549374)...\n",
      "found 313 publications between 0 and now\n",
      "done\n",
      "\n",
      "looking up Silke Appel-Cresswell (36237882900)...\n",
      "found 46 publications between 0 and now\n",
      "done\n",
      "\n",
      "looking up Helge Rhodin (55860139200)...\n",
      "found 52 publications between 0 and now\n",
      "done\n",
      "\n",
      "looking up Manu S. Madhav (35146488900)...\n",
      "found 13 publications between 0 and now\n",
      "done\n",
      "\n",
      "looking up Brian Fisher (56363838400)...\n",
      "found 96 publications between 0 and now\n",
      "done\n",
      "\n",
      "looking up Leigh Anne Swayne (7004454250)...\n",
      "found 53 publications between 0 and now\n",
      "done\n",
      "\n",
      "looking up Craig E. Brown (7408311558)...\n",
      "found 38 publications between 0 and now\n",
      "done\n",
      "\n",
      "looking up Adrienne L. Fairhall (6602928622)...\n",
      "found 69 publications between 0 and now\n",
      "done\n",
      "\n",
      "looking up Eric T. Shea-Brown (15065850600)...\n",
      "found 82 publications between 0 and now\n",
      "done\n",
      "\n",
      "looking up Emily Lauren Sylwestrak (26634611400)...\n",
      "found 10 publications between 0 and now\n",
      "done\n",
      "\n",
      "looking up Andy Y. Shih (9239638800)...\n",
      "found 73 publications between 0 and now\n",
      "done\n",
      "\n",
      "looking up Todd Stephen Woodward (7102848867)...\n",
      "found 184 publications between 0 and now\n",
      "done\n",
      "\n",
      "looking up Jeffrey M. LeDue (56371437500)...\n",
      "found 37 publications between 0 and now\n",
      "done\n",
      "\n",
      "looking up Ilker Hacihaliloglu (24467768400)...\n",
      "found 70 publications between 0 and now\n",
      "done\n",
      "\n",
      "looking up Anthony Randal McIntosh (35465675000)...\n",
      "found 297 publications between 0 and now\n",
      "done\n",
      "\n",
      "looking up Purang Abolmaesumi (6602170125)...\n",
      "found 358 publications between 0 and now\n",
      "done\n",
      "\n",
      "looking up Vesna Sossi (56276238300)...\n",
      "found 334 publications between 0 and now\n",
      "done\n",
      "\n"
     ]
    }
   ],
   "source": [
    "output_dict = {f\"{col_name}\":[] for col_name in output_cols}\n",
    "all_citations = [] #all citation per year information will be stored here\n",
    "pub_authors = {}\n",
    "orig_authors = {}\n",
    "\n",
    "for member in member_arr_filtered:\n",
    "    sleep(1)\n",
    "    \n",
    "    #create variables of interest\n",
    "    lastname = member[lastname_col_idx]\n",
    "    firstname = member[firstname_col_idx]\n",
    "    scopus_id = member[id_col_idx]\n",
    "    \n",
    "    author_name = f\"{firstname} {lastname}\"\n",
    "    coauthor_count = {}\n",
    "\n",
    "    print(f\"looking up {firstname} {lastname} ({scopus_id})...\")\n",
    "    ar = AuthorRetrieval(scopus_id)\n",
    "    # author_name = f\"{ar.given_name} {ar.surname}\"\n",
    "    documents = ar.get_documents()\n",
    "\n",
    "    #get documents that are older than PUBLICATION CUTOFF YEAR\n",
    "    adjusted_docs = [document for document in documents if int(document.coverDate.split(\"-\")[0]) >= PUBLICATION_CUTOFF_YEAR]\n",
    "    print(f\"found {len(adjusted_docs)} publications between {PUBLICATION_CUTOFF_YEAR} and now\")\n",
    "\n",
    "    if len(adjusted_docs) == 0:\n",
    "        print(\"no documents found in year range\")\n",
    "        continue\n",
    "    else:\n",
    "        coauthor_dict = {}\n",
    "        for document in documents:\n",
    "            #SMS no duplicates coauthor method\n",
    "            if (document.title not in pub_authors.keys()) or (author_name not in pub_authors[document.title]): \n",
    "                pub_authors.setdefault(document.title,[]).append(author_name)\n",
    "            \n",
    "            # #SMS coauthor method\n",
    "            # pub_authors.setdefault(document.title,[]).append(author_name)\n",
    "\n",
    "            coauthor_dict, orig_authors = get_document_coauthors(document, scopus_id, name_id_dict, coauthor_dict, pub_dict = orig_authors, author_name=author_name)\n",
    "        \n",
    "        # output_cols = [\"Name\", \"Scopus ID\", \"Document Count\", \"Cited by\", \"Coauthors\", \"Affiliation\"]\n",
    "        output_dict[output_cols[0]].append(author_name)\n",
    "        output_dict[output_cols[1]].append(scopus_id)\n",
    "        output_dict[output_cols[2]].append(ar.document_count)\n",
    "        output_dict[output_cols[3]].append(ar.citation_count)\n",
    "        output_dict[output_cols[4]].append(coauthor_dict)\n",
    "        output_dict[output_cols[5]].append(ar.affiliation_current[0].preferred_name)\n",
    "        \n",
    "        # get all citations data\n",
    "        # citations_data = get_all_citations(adjusted_docs)\n",
    "        # author_citations = [[citation[year][1] for year in range(YEARS_INCLUDED)] for citation in citations_data]\n",
    "        # all_citations = all_citations + author_citations #all citations keeps track of all the citations in the whole document\n",
    "        \n",
    "        # author_details = (lastname, firstname, mem_id)\n",
    "        # fill_article_rows(author_details, adjusted_docs, output_dict)\n",
    "        print(\"done\\n\")\n"
   ]
  },
  {
   "cell_type": "code",
   "execution_count": 104,
   "id": "062d588c",
   "metadata": {},
   "outputs": [
    {
     "name": "stdout",
     "output_type": "stream",
     "text": [
      "                                               Title  \\\n",
      "0  Chronic multiscale resolution of mouse brain n...   \n",
      "1  Water-Reaching Platform for Longitudinal Asses...   \n",
      "2  Multiscale imaging informs translational mouse...   \n",
      "3  Towards a Visualizable, De-identified Syntheti...   \n",
      "4  Altered cortical processing of sensory input i...   \n",
      "\n",
      "                           SMS Coauthors  \n",
      "0   [Timothy H. Murphy, Lynn A. Raymond]  \n",
      "1   [Timothy H. Murphy, Lynn A. Raymond]  \n",
      "2  [Timothy H. Murphy, Jeffrey M. LeDue]  \n",
      "3      [Timothy H. Murphy, Helge Rhodin]  \n",
      "4   [Timothy H. Murphy, Lynn A. Raymond]  \n"
     ]
    }
   ],
   "source": [
    "collabs_dict={}\n",
    "for key in pub_authors:\n",
    "    for author in pub_authors[key]:\n",
    "        for coauthor in pub_authors[key]:\n",
    "            if coauthor is not author:\n",
    "                if author not in collabs_dict.keys() or coauthor not in collabs_dict[author].keys():\n",
    "                    collabs_dict.setdefault(author,{})[coauthor]=1\n",
    "                else:\n",
    "                    collabs_dict[author][coauthor]+=1\n",
    "\n",
    "coauthored_pubs = [\n",
    "    title\n",
    "    for title, authors in pub_authors.items() \n",
    "    if len(authors) > 1]\n",
    "\n",
    "coauthored_authors = [\n",
    "    authors\n",
    "    for title, authors in pub_authors.items() \n",
    "    if len(authors) > 1]\n",
    "\n",
    "coauthored_df = pd.DataFrame({\"Title\": coauthored_pubs, \"SMS Coauthors\": coauthored_authors})\n",
    "\n",
    "print(coauthored_df.head())\n",
    "\n",
    "coauthored_df.to_csv(\"sv_SMS_pubs_nodupes.csv\",index=False)"
   ]
  },
  {
   "cell_type": "code",
   "execution_count": 105,
   "id": "80c20963",
   "metadata": {},
   "outputs": [
    {
     "name": "stdout",
     "output_type": "stream",
     "text": [
      "                                               Title  \\\n",
      "0  Chronic multiscale resolution of mouse brain n...   \n",
      "1  Water-Reaching Platform for Longitudinal Asses...   \n",
      "2  Multiscale imaging informs translational mouse...   \n",
      "3  Towards a Visualizable, De-identified Syntheti...   \n",
      "4  Altered cortical processing of sensory input i...   \n",
      "\n",
      "                        Direct Coauthors  \n",
      "0   [Lynn A. Raymond, Timothy H. Murphy]  \n",
      "1   [Lynn A. Raymond, Timothy H. Murphy]  \n",
      "2  [Jeffrey M. LeDue, Timothy H. Murphy]  \n",
      "3      [Helge Rhodin, Timothy H. Murphy]  \n",
      "4   [Lynn A. Raymond, Timothy H. Murphy]  \n"
     ]
    }
   ],
   "source": [
    "collabs_orig_dict={}\n",
    "for key in orig_authors:\n",
    "    for author in orig_authors[key]:\n",
    "        for coauthor in orig_authors[key]:\n",
    "            if coauthor is not author:\n",
    "                if author not in collabs_orig_dict.keys() or coauthor not in collabs_orig_dict[author].keys():\n",
    "                    collabs_orig_dict.setdefault(author,{})[coauthor]=1\n",
    "                else:\n",
    "                    collabs_orig_dict[author][coauthor]+=1\n",
    "\n",
    "coauthored_orig_pubs = [\n",
    "    title\n",
    "    for title, authors in orig_authors.items() \n",
    "    if len(authors) > 1]\n",
    "\n",
    "coauthored_orig_authors = [\n",
    "    authors\n",
    "    for title, authors in orig_authors.items() \n",
    "    if len(authors) > 1]\n",
    "\n",
    "coauthored_orig_df = pd.DataFrame({\"Title\": coauthored_orig_pubs, \"Direct Coauthors\": coauthored_orig_authors})\n",
    "\n",
    "print(coauthored_orig_df.head())\n",
    "\n",
    "coauthored_orig_df.to_csv(\"sv_orig_pubs.csv\",index=False)"
   ]
  },
  {
   "cell_type": "code",
   "execution_count": 106,
   "id": "0fdc40df",
   "metadata": {},
   "outputs": [
    {
     "name": "stdout",
     "output_type": "stream",
     "text": [
      "[]\n",
      "['Pannexin-1 opening in neuronal edema causes cell death but also leads to protection via increased microglia contacts']\n"
     ]
    }
   ],
   "source": [
    "print([title for title in coauthored_pubs if title not in coauthored_orig_pubs]) #SMS-original\n",
    "print([title for title in coauthored_orig_pubs if title not in coauthored_pubs]) #original-SMS\n",
    "# SMS is not capturing because..... Pannexin-1 opening in neuronal edema causes cell death but also leads to protection via increased microglia contacts \n",
    "# SMS captures very basic titles that may have multiple authors"
   ]
  },
  {
   "cell_type": "code",
   "execution_count": 81,
   "id": "999d8875",
   "metadata": {},
   "outputs": [
    {
     "name": "stdout",
     "output_type": "stream",
     "text": [
      "[{'Lynn A. Raymond': 17, 'Jeffrey M. LeDue': 25, 'Helge Rhodin': 5, 'Brian A. MacVicar': 2, 'YuTian Wang': 4, 'Wolfram G. Tetzlaff': 2, 'Craig E. Brown': 6, 'Andy Y. Shih': 9, 'Terrance P. Snutch': 1}, {}, {'Timothy H. Murphy': 2, 'Jeffrey M. LeDue': 10, 'Silke Appel-Cresswell': 1, 'Terrance P. Snutch': 5, 'Leigh Anne Swayne': 1, 'Shernaz X. Bamji': 1, 'YuTian Wang': 2, 'Anthony G. Phillips': 1}, {'Sophia Frangou': 5, 'Ian Mackenzie': 1, 'Jason S. Snyder': 2, 'Silke Appel-Cresswell': 1, 'Z. Jane Wang': 1}, {'Brian A. MacVicar': 1, 'YuTian Wang': 1, 'Kurt Haas': 3, 'Lynn A. Raymond': 2, 'Paul Pavlidis': 1, 'Catharine Rankin': 1, 'Terrance P. Snutch': 1, 'Anthony G. Phillips': 1, 'Ian Mackenzie': 1}, {'Liisa A. M. Galea': 1, 'Martin McKeown': 2, 'A. Jon Stoessl': 1, 'Silke Appel-Cresswell': 1, 'Vesna Sossi': 1, 'Todd Stephen Woodward': 2}, {'Shernaz X. Bamji': 1, 'Kurt Haas': 3, 'Catharine Rankin': 3, 'Jeffrey M. LeDue': 1}, {'Lara A. Boyd': 2, 'A. Jon Stoessl': 16, 'Silke Appel-Cresswell': 14, 'Vesna Sossi': 11, 'Z. Jane Wang': 85, 'Peyman Servati': 1}, {'Lara A. Boyd': 1, 'Martin McKeown': 16, 'Silke Appel-Cresswell': 14, 'Vesna Sossi': 73, 'Ian Mackenzie': 2, 'Anthony G. Phillips': 2, 'Terrance P. Snutch': 1}, {'Wolfram G. Tetzlaff': 6}, {'Fidel Vila-Rodriguez': 2}, {'Timothy H. Murphy': 2, 'P. A. Cripton': 6, 'Angela Jane I. Roskams': 9, 'Fabio Rossi': 1}, {'Brian A. MacVicar': 1, 'Shernaz X. Bamji': 1, 'A. Jon Stoessl': 2, 'Vesna Sossi': 2, 'Terrance P. Snutch': 3, 'Jeremy Keith Seamans': 15, 'YuTian Wang': 14, 'Z. Jane Wang': 1, 'Todd Stephen Woodward': 1}, {'Vesna Sossi': 1}, {'Timothy H. Murphy': 4, 'Jeffrey M. LeDue': 3, 'Brian A. MacVicar': 2, 'Shernaz X. Bamji': 1, 'Anthony G. Phillips': 14, 'Jeremy Keith Seamans': 1, 'Lynn A. Raymond': 2, 'Ian Mackenzie': 1, 'Catharine Rankin': 1}, {'Anthony G. Phillips': 15, 'YuTian Wang': 1, 'Todd Stephen Woodward': 1}, {'Timothy H. Murphy': 1, 'Brian A. MacVicar': 5, 'Jeffrey M. LeDue': 2, 'Shernaz X. Bamji': 1, 'A. Jon Stoessl': 1, 'Anthony G. Phillips': 3}, {'Fidel Vila-Rodriguez': 1, 'Shernaz X. Bamji': 1, 'Lynn A. Raymond': 2, 'A. Jon Stoessl': 2, 'Vesna Sossi': 2, 'YuTian Wang': 1}, {'Timothy H. Murphy': 17, 'Shernaz X. Bamji': 2, 'Ian Mackenzie': 2, 'YuTian Wang': 2, 'Jeffrey M. LeDue': 1}, {'Shernaz X. Bamji': 3, 'Paul Pavlidis': 3, 'Catharine Rankin': 2}, {}, {'Wolfram G. Tetzlaff': 1}, {'Wolfram G. Tetzlaff': 9}, {'Shernaz X. Bamji': 1, 'Paul Pavlidis': 3, 'Kurt Haas': 2, 'YuTian Wang': 1}, {}, {'Helge Rhodin': 1}, {'Fidel Vila-Rodriguez': 1, 'Martin McKeown': 85, 'Silke Appel-Cresswell': 2, 'Anthony G. Phillips': 1, 'Helge Rhodin': 2, 'Liisa A. M. Galea': 2, 'Brian Fisher': 8, 'Purang Abolmaesumi': 16, 'Peyman Servati': 1}, {'Martin McKeown': 1, 'Z. Jane Wang': 1}, {'Lara A. Boyd': 1, 'Z. Jane Wang': 2, 'Brian Fisher': 4, 'Purang Abolmaesumi': 8, 'Sophia Frangou': 1}, {'Fidel Vila-Rodriguez': 5, 'Liisa A. M. Galea': 1}, {'Brian A. MacVicar': 1, 'Fidel Vila-Rodriguez': 1, 'Lara A. Boyd': 1, 'Martin McKeown': 14, 'A. Jon Stoessl': 14, 'Vesna Sossi': 6, 'Z. Jane Wang': 2}, {'Timothy H. Murphy': 5, 'Jeffrey M. LeDue': 1, 'Leonid Sigal': 1, 'Z. Jane Wang': 2}, {}, {'Z. Jane Wang': 8, 'Liisa A. M. Galea': 4, 'Purang Abolmaesumi': 34}, {'Brian A. MacVicar': 1, 'Craig E. Brown': 1}, {'Timothy H. Murphy': 6, 'Leigh Anne Swayne': 1}, {'Eric T. Shea-Brown': 3}, {'Adrienne L. Fairhall': 3}, {}, {'Timothy H. Murphy': 9}, {'Lara A. Boyd': 2, 'Anthony G. Phillips': 1, 'Jeremy Keith Seamans': 1, 'Vesna Sossi': 1}, {'Timothy H. Murphy': 25, 'Helge Rhodin': 1, 'Brian A. MacVicar': 10, 'YuTian Wang': 3, 'Terrance P. Snutch': 2, 'Paul Pavlidis': 1, 'Lynn A. Raymond': 1}, {'Purang Abolmaesumi': 11}, {}, {'Z. Jane Wang': 16, 'Liisa A. M. Galea': 8, 'Brian Fisher': 34, 'Ilker Hacihaliloglu': 11}, {'Lara A. Boyd': 1, 'Martin McKeown': 11, 'A. Jon Stoessl': 73, 'Silke Appel-Cresswell': 6, 'Ian Mackenzie': 2, 'Anthony G. Phillips': 2, 'Catharine A. Winstanley': 1, 'Todd Stephen Woodward': 1}]\n"
     ]
    }
   ],
   "source": [
    "# Write to rows dataframe\n",
    "coauthors_new = [{}] * len(output_dict['Name'])\n",
    "\n",
    "for author, coauthors in collabs_dict.items():\n",
    "    try:\n",
    "        author_idx = output_dict['Name'].index(author)\n",
    "        coauthors_new[author_idx] = coauthors\n",
    "    except ValueError:\n",
    "        pass\n",
    "\n",
    "# for author, coauthors in coauthors_new.items():\n",
    "#     if coauthors == 0:\n",
    "#         coauthors_new[author].update({author: {}})\n",
    "\n",
    "print(coauthors_new)\n",
    "output_dict[\"SMS Coauthors\"] = coauthors_new"
   ]
  },
  {
   "cell_type": "markdown",
   "id": "4d70ca10",
   "metadata": {},
   "source": [
    "4. format the citations information to append to dictionary, then export as csv"
   ]
  },
  {
   "cell_type": "code",
   "execution_count": 82,
   "id": "a80002f7",
   "metadata": {},
   "outputs": [],
   "source": [
    "\n",
    "df = pd.DataFrame(output_dict)\n",
    "df.to_csv(OUTPUT_PATH_TO_CSV)"
   ]
  },
  {
   "cell_type": "code",
   "execution_count": null,
   "id": "62e6aefd-48a9-4d3d-8b7f-8d1c92e6efd1",
   "metadata": {},
   "outputs": [
    {
     "name": "stdout",
     "output_type": "stream",
     "text": [
      "title: 4195\n",
      "eid: 4195\n",
      "publication year: 4195\n",
      "authors: 4195\n",
      "last name: 4195\n",
      "first name: 4195\n",
      "member id: 4195\n"
     ]
    }
   ],
   "source": [
    "for key in output_dict:\n",
    "    print(f\"{key}: {len(output_dict[key])}\")\n",
    "    \n",
    "citations_array = np.array(all_citations)\n",
    "citations_array = citations_array.T\n"
   ]
  },
  {
   "cell_type": "code",
   "execution_count": null,
   "id": "23b1d552-f124-4116-a4a0-0f1400a2d7df",
   "metadata": {},
   "outputs": [
    {
     "name": "stdout",
     "output_type": "stream",
     "text": [
      "title: 4195\n",
      "eid: 4195\n",
      "publication year: 4195\n",
      "authors: 4195\n",
      "last name: 4195\n",
      "first name: 4195\n",
      "member id: 4195\n",
      "2018: 4195\n",
      "2019: 4195\n",
      "2020: 4195\n",
      "2021: 4195\n",
      "2022: 4195\n",
      "2023: 4195\n"
     ]
    }
   ],
   "source": [
    "\n",
    "# check that all the columns have the same length\n",
    "for key in output_dict:\n",
    "    print(f\"{key}: {len(output_dict[key])}\")\n",
    "\n",
    "# add citations of each year to the citations dictionary\n",
    "for year in range(YEARS_INCLUDED):\n",
    "    year_col = START_YEAR + year\n",
    "    output_dict[str(year_col)] = citations_array[year].tolist()\n",
    "\n",
    "df = pd.DataFrame(output_dict)\n",
    "df.to_csv(OUTPUT_PATH_TO_CSV)"
   ]
  },
  {
   "cell_type": "markdown",
   "id": "86415de8",
   "metadata": {},
   "source": [
    "4. remove duplicates"
   ]
  },
  {
   "cell_type": "code",
   "execution_count": 47,
   "id": "8fa119ef-7756-4dad-85a3-451be1f15888",
   "metadata": {},
   "outputs": [
    {
     "name": "stdout",
     "output_type": "stream",
     "text": [
      "initial number of documents: 4194\n",
      "all publications searched\n",
      "number of documents after duplicates are removed: 3361\n"
     ]
    }
   ],
   "source": [
    "member_arr_filled = []\n",
    "with open(OUTPUT_PATH_TO_CSV, \"r\") as f:\n",
    "    r = csv.reader(f)\n",
    "    for row in r:\n",
    "        if row[0] != \"\":\n",
    "            member_arr_filled.append(row)\n",
    "\n",
    "# skip header rows\n",
    "citations_header = member_arr_filled[0]\n",
    "member_arr_filled = member_arr_filled[1:]\n",
    "\n",
    "print(\"initial number of documents:\",len(member_arr_filled))\n",
    "\n",
    "# remove and store duplicates\n",
    "no_dupes_arr, eid = remove_duplicate_pubs(member_arr_filled)\n",
    "\n",
    "print(\"number of documents after duplicates are removed:\",len(no_dupes_arr))\n",
    "\n",
    "with open(OUTPUT_PATH_TO_CLEANED_CSV, 'w+', newline='') as file:\n",
    "    mywriter = csv.writer(file, delimiter=',')\n",
    "    mywriter.writerow(citations_header)\n",
    "    mywriter.writerows(no_dupes_arr)"
   ]
  },
  {
   "cell_type": "code",
   "execution_count": 36,
   "id": "9e834e87-6986-4734-9bd6-577d6ee1951f",
   "metadata": {},
   "outputs": [],
   "source": [
    "identifier = \"7401632487\"\n",
    "ar = AuthorRetrieval(identifier)"
   ]
  },
  {
   "cell_type": "code",
   "execution_count": 38,
   "id": "0c68261c-c371-4486-9df6-dee5e9bf5776",
   "metadata": {},
   "outputs": [
    {
     "name": "stdout",
     "output_type": "stream",
     "text": [
      "14731\n",
      "{'Citation Count': 14731}\n"
     ]
    }
   ],
   "source": [
    "print(ar.citation_count)\n",
    "\n",
    "author_dict = {}\n",
    "author_dict[\"Citation Count\"] =ar.citation_count\n",
    "print(author_dict)\n",
    "\n"
   ]
  },
  {
   "cell_type": "code",
   "execution_count": 50,
   "id": "a02a5949",
   "metadata": {},
   "outputs": [],
   "source": [
    "pubs = ar.get_documents()"
   ]
  },
  {
   "cell_type": "code",
   "execution_count": 53,
   "id": "92a71796",
   "metadata": {},
   "outputs": [
    {
     "name": "stdout",
     "output_type": "stream",
     "text": [
      "['57217703996', '57204943506', '57211750582', '57211956459', '7401632487']\n"
     ]
    }
   ],
   "source": [
    "print(pubs[0].author_ids.split(\";\"))"
   ]
  },
  {
   "cell_type": "code",
   "execution_count": 40,
   "id": "c315e4a7-14db-4abe-88df-e0bd6ecfcb2a",
   "metadata": {},
   "outputs": [],
   "source": [
    "documents = ar.get_coauthors()"
   ]
  },
  {
   "cell_type": "code",
   "execution_count": null,
   "id": "6222539f-f793-4ab2-afa6-757ec856a9b2",
   "metadata": {},
   "outputs": [],
   "source": []
  }
 ],
 "metadata": {
  "kernelspec": {
   "display_name": "Python 3 (ipykernel)",
   "language": "python",
   "name": "python3"
  },
  "language_info": {
   "codemirror_mode": {
    "name": "ipython",
    "version": 3
   },
   "file_extension": ".py",
   "mimetype": "text/x-python",
   "name": "python",
   "nbconvert_exporter": "python",
   "pygments_lexer": "ipython3",
   "version": "3.10.0"
  }
 },
 "nbformat": 4,
 "nbformat_minor": 5
}
