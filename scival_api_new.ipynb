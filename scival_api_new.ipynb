{
 "cells": [
  {
   "cell_type": "code",
   "execution_count": 21,
   "metadata": {},
   "outputs": [
    {
     "data": {
      "text/plain": [
       "True"
      ]
     },
     "execution_count": 21,
     "metadata": {},
     "output_type": "execute_result"
    }
   ],
   "source": [
    "import requests\n",
    "import json\n",
    "import csv\n",
    "import pandas as pd\n",
    "from dotenv import load_dotenv\n",
    "from time import sleep\n",
    "load_dotenv()"
   ]
  },
  {
   "cell_type": "code",
   "execution_count": 22,
   "metadata": {},
   "outputs": [],
   "source": [
    "\n",
    "PATH_TO_DMCBH_MEMBERS_CSV = \"Copy of DMCBH member IRP categories_Aug2023.csv\"\n",
    "API_KEY = os.getenv(\"API_KEY\")\n",
    "header = {\n",
    "    \"X-ELS-APIKey\": API_KEY,\n",
    "}\n",
    "api_url = \"http://api.elsevier.com/content/search/author?\""
   ]
  },
  {
   "cell_type": "code",
   "execution_count": 23,
   "metadata": {},
   "outputs": [],
   "source": [
    "def get_api_json(params: dict):\n",
    "    try:\n",
    "        response = requests.get(url=api_url, params=params, headers=header)\n",
    "        response.raise_for_status\n",
    "        data = json.loads(response.text)\n",
    "    except requests.exceptions.HTTPError as e:\n",
    "        print(\"HTTPS error: \", e)\n",
    "    except requests.exceptions.RetryError as e:\n",
    "        print(\"Max retries exceeded: \", e)\n",
    "    return data"
   ]
  },
  {
   "cell_type": "code",
   "execution_count": 24,
   "metadata": {},
   "outputs": [
    {
     "name": "stdout",
     "output_type": "stream",
     "text": [
      "129\n"
     ]
    }
   ],
   "source": [
    "member_arr = []\n",
    "with open(PATH_TO_DMCBH_MEMBERS_CSV, \"r\") as f:\n",
    "    r = csv.reader(f)\n",
    "    for row in r:\n",
    "        if row[0] != \"\":\n",
    "            member_arr.append(row)\n",
    "\n",
    "# skip header rows\n",
    "member_arr = member_arr[2:]\n",
    "print(len(member_arr))\n",
    "\n",
    "# columns of the DMCBH CSV file\n",
    "cols = ['Last Name','First Name','Member Type','Mental Health & Addictions','Brain Development & Neurodevelopmental Disorders','Learning Memory & Dementias','Sensory Motor Systems & Movement Disorders','Brain Injury & Repair','Google Scholar?','GS Link']\n",
    "\n",
    "output_cols = [\"Author\", \"Name variants\", \"Affiliation\", \"EIDs\", \"DOIs\", \"PMIDs\", \"Title\", \"ISSN/Volume/Issues/Pages\", \"Scopus Author ID\", \"ORCID\", \"Level 1\", \"Level 2\", \"Level 3\", \"Level 4\",\"Level 5\",\"Level 6\",\"Level 7\",\"Level 8\",\"Level 9\",\"Level 10\",]\n",
    "\n",
    "last_names = []\n",
    "first_names = []\n",
    "affils = []\n",
    "auth_ids = []\n",
    "orcids = []\n",
    "tags = []\n",
    "\n",
    "warnings = []\n",
    "subjects = []\n",
    "\n",
    "no_search_results = []\n",
    "\n",
    "affiliation_list = [\"The University of British Columbia\", \"Djavad Mowafaghian Centre for Brain Health\", \"BC Children's Hospital Research Institute\"]"
   ]
  },
  {
   "cell_type": "code",
   "execution_count": 25,
   "metadata": {},
   "outputs": [
    {
     "name": "stdout",
     "output_type": "stream",
     "text": [
      "no scival profile found for Doug Altshuler\n"
     ]
    }
   ],
   "source": [
    "for member in member_arr:\n",
    "    sleep(1)\n",
    "    lastname = member[0]\n",
    "    firstname = member[1]\n",
    "\n",
    "    query = f\"authlastname({lastname}) and authfirst({firstname})\"\n",
    "    params = {\n",
    "        \"query\":query\n",
    "    }\n",
    "\n",
    "    data = get_api_json(params)\n",
    "\n",
    "    warning = \"\"\n",
    "\n",
    "    num_authors_found = data[\"search-results\"]['opensearch:totalResults']\n",
    "    if num_authors_found == \"0\":\n",
    "        print(\"no scival profile found for \" + firstname + \" \" + lastname)\n",
    "        no_search_results.append(member)\n",
    "        continue\n",
    "\n",
    "    try:\n",
    "        affil_name = data[\"search-results\"][\"entry\"][0][\"affiliation-current\"][\"affiliation-name\"]\n",
    "        if affil_name not in affiliation_list:\n",
    "            warning = warning + \"not affiliated with UBC\"\n",
    "    except:\n",
    "        affil_name = \"\"\n",
    "\n",
    "    author_id = data[\"search-results\"][\"entry\"][0][\"dc:identifier\"].split(\":\")[1]\n",
    "    # affil_id = data[\"search-results\"][\"entry\"][0][\"affiliation-current\"][\"affiliation-id\"]\n",
    "\n",
    "    subject = \"\"\n",
    "    try:\n",
    "        for i in data[\"search-results\"][\"entry\"][0][\"subject-area\"]:\n",
    "            subject = i[\"@abbrev\"] + \", \" + subject\n",
    "    except:\n",
    "        pass\n",
    "\n",
    "    #find primary IRP\n",
    "    for i in range(3,8):\n",
    "        if member[i].strip() == \"Primary\":\n",
    "            tags.append(cols[i])\n",
    "\n",
    "    last_names.append(lastname)\n",
    "    first_names.append(firstname)\n",
    "    affils.append(affil_name)\n",
    "    auth_ids.append(author_id)\n",
    "    warnings.append(warning)\n",
    "    subjects.append(subject)\n",
    "    try:\n",
    "        orcid = data[\"search-results\"][\"entry\"][0][\"orcid\"]\n",
    "        orcids.append(orcid)\n",
    "    except:\n",
    "        orcids.append(\"\")\n",
    "\n",
    "    \n",
    "    "
   ]
  },
  {
   "cell_type": "code",
   "execution_count": 26,
   "metadata": {},
   "outputs": [
    {
     "name": "stdout",
     "output_type": "stream",
     "text": [
      "{'Last Name': ['Abd-Elrahman', 'Allan', 'Auld', 'Austin', 'Babul', 'Bamji', 'Barker', 'Barnes', 'Barr', 'Barton', 'Beasley', 'Boyd', 'Cashman', 'Cembrowski', 'Chakrabarty', 'Ciernia', 'Clark', 'Craig', 'Cresswell', 'Cripton', 'Cynader', \"D'Arcy\", 'Diamond', 'Doudet', 'Emberson', 'Field', 'Floresco', 'Foti', 'Frangou', 'Galea', 'Giaschi', 'Gibon', 'Goldowitz', 'Gordon', 'Grunau', 'Haas', 'Hacihaliloglu', 'Hariri', 'Hayden', 'Herdman', 'Hilton', 'Hsiung', 'Huan', 'Illes', 'Im', 'Jefferies', 'Keramatian', 'Kolind', 'Kozlowski', 'Kramer', 'Kraeutner', 'Krieger', 'Kumar', 'Lam', 'Lang', 'Laule', 'Leavitt', 'Leitch', 'Li', 'Liu-Ambrose', 'Mackenzie', 'MacVicar', 'Madhav', 'Matsubara', 'Matthews', 'McKeown', 'Michalak', 'Miller', 'Miller', 'Mizumoto', 'Molday', 'Moukhles', 'Moritz', 'Murphy', 'Nygaard', \"O'Connor\", 'Oger', 'Oruc', 'Palombo', 'Panenka', 'Pavlidis', 'Pelech', 'Phillips', 'Pouladi', 'Quandt', 'Ranger', 'Rankin', 'Rauscher', 'Raymond', 'Robertson', 'Robillard ', 'Rosin', 'Roskams', 'Schütz', 'Seamans', 'Sekhon', 'Silverberg', 'Snutch', 'Snyder', 'Soma', 'Song', 'Sossi', 'Spering', 'Stewart', 'Stoessl', 'Stowe', 'Subramaniam', 'Tam', 'Tetzlaff', 'Todd', 'Traboulsee', 'Tremlett', 'Vanderwal', 'van Donkelaar', 'Viau', 'Vigo', 'Vilarino-Guell', 'Vila-Rodriguez', 'Virji-Babul', 'Wang', 'Ward', 'Weber', 'Wellington ', 'Werker', 'West', 'Winstanley', 'Woodward', 'Yatham'], 'First Name': ['Khaled', 'Douglas', 'Vanessa', 'Jehannine', 'Shelina', 'Shernaz ', 'Phil', 'Steven', 'Alasdair ', 'Jason ', 'Clare', 'Lara', 'Neil', 'Mark', 'Trisha', 'Annie', 'Luke', 'Ann-Marie', 'Silke', 'Peter ', 'Max', 'Ryan ', 'Adele', 'Doris', 'Lauren', 'Thalia ', 'Stan ', 'Dean', 'Sophia', 'Liisa', 'Debbie ', 'Julien', 'Daniel ', 'Michael ', 'Ruth', 'Kurt', 'Ilker', 'Amani ', 'Sherri', 'Anthony', 'Brett', 'Robin', 'Tao', 'Judy ', 'Hee Yeon', 'Wilfred', 'Kamyar', 'Shannon', 'Piotr', 'John ', 'Sarah', 'Charles', 'Ujendra', 'Raymond', 'Donna', 'Cornelia', 'Blair', 'Duncan', 'David', 'Teresa', 'Ian', 'Brian', 'Manu', 'Joanne', 'Benjamin', 'Martin', 'Erin', 'Freda', 'Steven', 'Kota', 'Robert', 'Hakima', 'Orson', 'Tim', 'Haakon', 'Timothy', 'Joel', 'Ipek ', 'Daniela', 'William', 'Paul', 'Steven', 'Anthony', 'Mahmoud', 'Jacqueline', 'Manon', 'Catharine ', 'Alexander', 'Lynn', 'Heather', 'Julie', 'Jessica', 'Jane', 'Christian', 'Jeremy', 'Mypinder ', 'Noah', 'Terry', 'Jason ', 'Kiran', 'Weihong', 'Vesna', 'Miriam', 'Evelyn', 'Jon', 'Robert', 'Sriram', 'Roger', 'Wolfram ', 'Rebecca', 'Tony', 'Helen', 'Tamara', 'Paul', 'Victor', 'Daniel', 'Carles ', 'Fidel', 'Naznin', 'Yu Tian', 'Lawrence', 'Alexander', 'Cheryl', 'Janet ', 'Christopher', 'Catharine ', 'Todd', 'Lakshmi'], 'Affiliation': ['University of Ottawa', 'Corning Incorporated', 'The University of British Columbia', 'University of British Columbia, Faculty of Medicine', \"BC Children's Hospital Research Institute\", 'Djavad Mowafaghian Centre for Brain Health', 'Trinity College Dublin', 'David Geffen School of Medicine at UCLA', 'The University of British Columbia', 'Bethel University', 'The University of British Columbia', 'The University of British Columbia', 'Djavad Mowafaghian Centre for Brain Health', 'Djavad Mowafaghian Centre for Brain Health', 'University of British Columbia, Faculty of Medicine', 'Djavad Mowafaghian Centre for Brain Health', 'Djavad Mowafaghian Centre for Brain Health', 'Djavad Mowafaghian Centre for Brain Health', 'Djavad Mowafaghian Centre for Brain Health', 'The University of British Columbia', 'Djavad Mowafaghian Centre for Brain Health', 'HealthTech Connex Inc', 'University of British Columbia, Faculty of Medicine', 'The University of British Columbia', 'Princeton University', 'The University of British Columbia', 'Djavad Mowafaghian Centre for Brain Health', 'The University of British Columbia', 'University of British Columbia, Faculty of Medicine', 'University of Toronto', 'The University of British Columbia', '', \"BC Children's Hospital Research Institute\", 'HonorHealth', \"Children's and Women's Health Centre of British Columbia\", 'Djavad Mowafaghian Centre for Brain Health', 'The University of British Columbia', 'Stanford University School of Medicine', 'The University of British Columbia', 'University of British Columbia, Faculty of Medicine', 'Deutsches Zentrum für Neurodegenerative Erkrankungen e.V.', 'The University of British Columbia, Department of Medicine', 'The University of British Columbia', 'The University of British Columbia', 'The University of British Columbia', 'Vancouver General Hospital', 'University of British Columbia, Faculty of Medicine', 'The University of British Columbia', 'New York State Institute for Basic Research in Developmental Disabilities', 'Agriculture and Agri-Food Canada', 'University of British Columbia Okanagan', 'Simon Fraser University', 'The University of British Columbia', 'The University of British Columbia', 'Centre for Addiction and Mental Health', 'The University of British Columbia', \"BC Children's Hospital Research Institute\", 'The University of British Columbia', 'The University of British Columbia', 'Centre for Hip Health and Mobility', 'University of British Columbia, Faculty of Medicine', 'Djavad Mowafaghian Centre for Brain Health', 'The University of British Columbia', 'The University of British Columbia', 'USDA ARS Beltsville Agricultural Research Center', 'Djavad Mowafaghian Centre for Brain Health', 'University of British Columbia, Faculty of Medicine', 'Hospital for Sick Children University of Toronto', 'University of Utah, College Of Science', 'The University of British Columbia', 'The University of British Columbia', 'The University of British Columbia', 'The University of British Columbia', 'Jacobs School of Medicine and Biomedical Sciences', 'Djavad Mowafaghian Centre for Brain Health', 'City of Hope National Med Center', 'The University of British Columbia', 'University of British Columbia, Faculty of Medicine', 'The University of British Columbia', 'The University of British Columbia', 'Michael Smith Laboratories', 'University of British Columbia, Faculty of Medicine', 'University of British Columbia, Faculty of Medicine', 'University of British Columbia, Faculty of Medicine', 'University of British Columbia, Faculty of Medicine', \"BC Children's Hospital Research Institute\", 'Djavad Mowafaghian Centre for Brain Health', 'The University of British Columbia', 'Djavad Mowafaghian Centre for Brain Health', 'The University of Edinburgh', \"BC Children's Hospital Research Institute\", 'Cumming School of Medicine', 'University of Washington', 'The University of British Columbia', 'Djavad Mowafaghian Centre for Brain Health', 'The University of British Columbia', 'The University of British Columbia', 'Michael Smith Laboratories', 'The University of British Columbia', 'The University of British Columbia', 'The University of British Columbia', 'The University of British Columbia', 'The University of British Columbia', \"Children's and Women's Health Centre of British Columbia\", 'The University of British Columbia', 'Defence Research and Development Canada', 'The University of British Columbia, Department of Biochemistry and Molecular Biology', 'Djavad Mowafaghian Centre for Brain Health', 'The University of British Columbia', 'The University of Manchester', 'Vancouver General Hospital', 'Djavad Mowafaghian Centre for Brain Health', 'University of British Columbia, Faculty of Medicine', 'University of British Columbia Okanagan', 'The University of British Columbia', 'KU Leuven', 'The University of British Columbia, Department of Medical Genetics', 'The University of British Columbia', 'Djavad Mowafaghian Centre for Brain Health', 'Yanshan University', 'Djavad Mowafaghian Centre for Brain Health', 'Keck Medicine of USC', 'The University of British Columbia', 'The University of British Columbia', 'University of Georgia', 'University of Cambridge', 'University of British Columbia, Faculty of Medicine', 'University of British Columbia, Faculty of Medicine'], 'Scopus Author ID': ['36653563400', '57194194854', '7004622834', '7402093250', '6506673405', '7005627810', '7402080513', '7202713458', '35474239200', '13612305800', '7102979717', '7101895712', '16169124200', '37036981000', '56521302100', '55491054000', '56009858300', '7201507943', '36237882900', '6603629883', '35576627400', '7004268181', '7102727063', '7005866700', '23004179900', '8042510100', '6701799130', '7004625596', '7004549374', '7004079043', '6603734160', '57191035886', '7006144166', '7402801321', '55666685100', '55554765000', '24467768400', '55659996000', '7005268846', '6603313142', '55148461400', '7005203713', '55633182300', '7003845298', '26434708900', '7005219431', '14060234300', '13104405000', '57215729204', '7402417493', '56289658200', '7004476406', '7102636323', '21742966400', '7202377295', '6505982349', '7005869634', '26653630000', '7405320868', '6603112417', '16407421900', '7006717711', '35146488900', '7006759777', '7202894929', '7005375626', '7006410152', '7401771256', '7501604048', '15834999500', '7005847836', '6603648444', '6701581292', '7401632437', '26039391300', '7402142570', '16936616300', '23089215400', '35732198900', '55305981100', '7004159655', '19435899100', '7401658611', '6507466238', '8968134400', '21934612800', '7007032941', '23390344400', '7102737545', '7203066485', '55216196900', '55252403200', '55889287500', '7006895707', '7003907622', '6603557927', '18438336300', '35408131500', '28167863900', '7005934914', '7401655359', '56276238300', '57203220428', '54414801200', '7004896118', '13105964300', '7102872243', '7006808600', '7006262846', '7202843579', '6506375023', '6603148038', '24177629100', '56265931000', '6701641675', '8561255400', '55901182300', '24279161600', '6602934805', '10039970900', '7201849724', '55697379800', '7004200421', '7004687515', '7402187736', '7005018303', '7102848867', '35431694500'], 'ORCID': ['0000-0001-9724-1975', '', '0000-0003-3976-9186', '0000-0003-0338-7055', '0000-0002-0227-2574', '', '', '', '0000-0002-3407-1574', '', '0000-0001-5919-7838', '', '', '', '', '0000-0002-3406-3806', '0000-0003-1103-2422', '', '0000-0002-5986-1468', '', '', '', '0000-0002-1453-6434', '', '', '0000-0002-1176-0633', '0000-0002-5633-243X', '', '', '0000-0003-2874-9972', '0000-0001-6526-0047', '', '0000-0003-4756-4017', '', '0000-0002-5428-9212', '', '', '', '', '0000-0001-7501-1319', '', '0000-0002-8017-0856', '0000-0001-6295-2435', '', '0000-0001-9379-1347', '', '', '', '', '', '0000-0002-6552-6682', '', '', '0000-0001-7142-4669', '0000-0001-9373-1555', '', '', '0000-0002-8513-888X', '', '0000-0002-8297-5308', '', '0000-0003-4596-4623', '', '', '', '0000-0002-4048-0817', '', '', '', '', '', '', '0000-0002-6183-6499', '0000-0002-3496-2641', '', '0000-0001-5848-3592', '', '', '', '0000-0001-7143-6512', '0000-0002-0426-5028', '', '', '0000-0002-9030-0976', '', '0000-0001-8253-0686', '0000-0002-1781-0654', '', '', '', '0000-0001-5765-4927', '', '', '', '', '', '', '', '', '0000-0003-2169-8092', '0000-0001-9928-889X', '', '', '0000-0002-0994-6383', '0000-0002-9778-7246', '', '0000-0003-4231-4115', '0000-0002-4593-2587', '0000-0003-3462-1676', '0000-0003-4361-2501', '', '', '', '', '', '0000-0003-2291-245X', '0000-0002-5612-5940', '0000-0002-8273-8820', '0000-0002-8984-5848', '', '0000-0003-4431-5015', '', '', '', '', '', '0000-0001-8083-0079', ''], 'Tags': ['Learning Memory & Dementias', 'Brain Development & Neurodevelopmental Disorders', 'Brain Development & Neurodevelopmental Disorders', 'Mental Health & Addictions', 'Brain Injury & Repair', 'Brain Development & Neurodevelopmental Disorders', 'Learning Memory & Dementias', 'Mental Health & Addictions', 'Mental Health & Addictions', 'Sensory Motor Systems & Movement Disorders', 'Mental Health & Addictions', 'Brain Injury & Repair', 'Sensory Motor Systems & Movement Disorders', 'Learning Memory & Dementias', 'Mental Health & Addictions', 'Brain Development & Neurodevelopmental Disorders', 'Mental Health & Addictions', 'Brain Development & Neurodevelopmental Disorders', 'Sensory Motor Systems & Movement Disorders', 'Brain Injury & Repair', 'Learning Memory & Dementias', 'Brain Injury & Repair', 'Mental Health & Addictions', 'Sensory Motor Systems & Movement Disorders', 'Brain Development & Neurodevelopmental Disorders', 'Brain Injury & Repair', 'Mental Health & Addictions', 'Learning Memory & Dementias', 'Mental Health & Addictions', 'Learning Memory & Dementias', 'Sensory Motor Systems & Movement Disorders', 'Learning Memory & Dementias', 'Brain Development & Neurodevelopmental Disorders', 'Sensory Motor Systems & Movement Disorders', 'Brain Development & Neurodevelopmental Disorders', 'Brain Development & Neurodevelopmental Disorders', 'Brain Injury & Repair', 'Mental Health & Addictions', 'Learning Memory & Dementias', 'Sensory Motor Systems & Movement Disorders', 'Brain Injury & Repair', 'Learning Memory & Dementias', 'Brain Development & Neurodevelopmental Disorders', 'Brain Injury & Repair', 'Brain Development & Neurodevelopmental Disorders', 'Learning Memory & Dementias', 'Mental Health & Addictions', 'Sensory Motor Systems & Movement Disorders', 'Sensory Motor Systems & Movement Disorders', 'Sensory Motor Systems & Movement Disorders', 'Brain Injury & Repair', 'Sensory Motor Systems & Movement Disorders', 'Learning Memory & Dementias', 'Mental Health & Addictions', 'Mental Health & Addictions', 'Sensory Motor Systems & Movement Disorders', 'Sensory Motor Systems & Movement Disorders', 'Sensory Motor Systems & Movement Disorders', 'Sensory Motor Systems & Movement Disorders', 'Brain Injury & Repair', 'Learning Memory & Dementias', 'Brain Injury & Repair', 'Learning Memory & Dementias', 'Sensory Motor Systems & Movement Disorders', 'Sensory Motor Systems & Movement Disorders', 'Sensory Motor Systems & Movement Disorders', 'Mental Health & Addictions', 'Brain Development & Neurodevelopmental Disorders', 'Brain Injury & Repair', 'Sensory Motor Systems & Movement Disorders', 'Sensory Motor Systems & Movement Disorders', 'Brain Injury & Repair', 'Sensory Motor Systems & Movement Disorders', 'Brain Injury & Repair', 'Learning Memory & Dementias', 'Brain Development & Neurodevelopmental Disorders', 'Sensory Motor Systems & Movement Disorders', 'Sensory Motor Systems & Movement Disorders', 'Learning Memory & Dementias', 'Brain Injury & Repair', 'Brain Development & Neurodevelopmental Disorders', 'Learning Memory & Dementias', 'Mental Health & Addictions', 'Brain Development & Neurodevelopmental Disorders', 'Sensory Motor Systems & Movement Disorders', 'Brain Development & Neurodevelopmental Disorders', 'Learning Memory & Dementias', 'Brain Injury & Repair', 'Sensory Motor Systems & Movement Disorders', 'Mental Health & Addictions', 'Learning Memory & Dementias', 'Brain Development & Neurodevelopmental Disorders', 'Brain Development & Neurodevelopmental Disorders', 'Mental Health & Addictions', 'Mental Health & Addictions', 'Brain Injury & Repair', 'Brain Injury & Repair', 'Brain Injury & Repair', 'Learning Memory & Dementias', 'Brain Development & Neurodevelopmental Disorders', 'Learning Memory & Dementias', 'Sensory Motor Systems & Movement Disorders', 'Sensory Motor Systems & Movement Disorders', 'Mental Health & Addictions', 'Sensory Motor Systems & Movement Disorders', 'Mental Health & Addictions', 'Mental Health & Addictions', 'Sensory Motor Systems & Movement Disorders', 'Brain Injury & Repair', 'Mental Health & Addictions', 'Sensory Motor Systems & Movement Disorders', 'Sensory Motor Systems & Movement Disorders', 'Mental Health & Addictions', 'Brain Injury & Repair', 'Mental Health & Addictions', 'Mental Health & Addictions', 'Sensory Motor Systems & Movement Disorders', 'Mental Health & Addictions', 'Brain Injury & Repair', 'Brain Injury & Repair', 'Learning Memory & Dementias', 'Brain Development & Neurodevelopmental Disorders', 'Brain Injury & Repair', 'Brain Development & Neurodevelopmental Disorders', 'Brain Injury & Repair', 'Mental Health & Addictions', 'Mental Health & Addictions', 'Mental Health & Addictions'], 'Warnings': ['not affiliated with UBC', 'not affiliated with UBC', '', '', 'not affiliated with UBC', 'not affiliated with UBC', 'not affiliated with UBC', 'not affiliated with UBC', '', 'not affiliated with UBC', '', '', 'not affiliated with UBC', 'not affiliated with UBC', '', 'not affiliated with UBC', 'not affiliated with UBC', 'not affiliated with UBC', 'not affiliated with UBC', '', 'not affiliated with UBC', 'not affiliated with UBC', '', '', 'not affiliated with UBC', '', 'not affiliated with UBC', '', '', 'not affiliated with UBC', '', '', 'not affiliated with UBC', 'not affiliated with UBC', 'not affiliated with UBC', 'not affiliated with UBC', '', 'not affiliated with UBC', '', '', 'not affiliated with UBC', '', '', '', '', 'not affiliated with UBC', '', '', 'not affiliated with UBC', 'not affiliated with UBC', '', 'not affiliated with UBC', '', '', 'not affiliated with UBC', '', 'not affiliated with UBC', '', '', 'not affiliated with UBC', '', 'not affiliated with UBC', '', '', 'not affiliated with UBC', 'not affiliated with UBC', '', 'not affiliated with UBC', 'not affiliated with UBC', '', '', '', '', 'not affiliated with UBC', 'not affiliated with UBC', 'not affiliated with UBC', '', '', '', '', 'not affiliated with UBC', '', '', '', '', 'not affiliated with UBC', 'not affiliated with UBC', '', 'not affiliated with UBC', 'not affiliated with UBC', 'not affiliated with UBC', 'not affiliated with UBC', 'not affiliated with UBC', '', 'not affiliated with UBC', '', '', 'not affiliated with UBC', '', '', '', '', '', 'not affiliated with UBC', '', 'not affiliated with UBC', '', 'not affiliated with UBC', '', 'not affiliated with UBC', 'not affiliated with UBC', 'not affiliated with UBC', '', '', '', 'not affiliated with UBC', '', '', 'not affiliated with UBC', 'not affiliated with UBC', 'not affiliated with UBC', 'not affiliated with UBC', '', '', 'not affiliated with UBC', 'not affiliated with UBC', '', '']}\n"
     ]
    }
   ],
   "source": [
    "out_dict = {\n",
    "    \"Last Name\": last_names,\n",
    "    \"First Name\": first_names,\n",
    "    \"Affiliation\": affils,\n",
    "    \"Scopus Author ID\": auth_ids,\n",
    "    \"ORCID\": orcids,\n",
    "    \"Tags\": tags,\n",
    "    \"Research Areas\": subjects,\n",
    "    \"Warnings\": warnings,\n",
    "}\n",
    "print(no_search_results)"
   ]
  },
  {
   "cell_type": "code",
   "execution_count": 28,
   "metadata": {},
   "outputs": [],
   "source": [
    "df = pd.DataFrame.from_dict(out_dict)\n",
    "df.to_csv(\"DMCBH_scival_input.csv\")"
   ]
  },
  {
   "cell_type": "code",
   "execution_count": 9,
   "metadata": {},
   "outputs": [],
   "source": [
    "lastname = \"Auld\"\n",
    "firstname = \"Vanessa\"\n",
    "query = f\"authlastname({lastname}) and authfirst({firstname})\"\n",
    "params = {\n",
    "    \"query\":query\n",
    "}\n",
    "data = get_api_json(params)"
   ]
  },
  {
   "cell_type": "code",
   "execution_count": 10,
   "metadata": {},
   "outputs": [
    {
     "name": "stdout",
     "output_type": "stream",
     "text": [
      "{'search-results': {'opensearch:totalResults': '1', 'opensearch:startIndex': '0', 'opensearch:itemsPerPage': '1', 'opensearch:Query': {'@role': 'request', '@searchTerms': 'authlastname(Auld) and authfirst(Vanessa)', '@startPage': '0'}, 'link': [{'@_fa': 'true', '@ref': 'self', '@href': 'https://api.elsevier.com/content/search/author?start=0&count=25&query=authlastname%28Auld%29+and+authfirst%28Vanessa%29', '@type': 'application/json'}, {'@_fa': 'true', '@ref': 'first', '@href': 'https://api.elsevier.com/content/search/author?start=0&count=25&query=authlastname%28Auld%29+and+authfirst%28Vanessa%29', '@type': 'application/json'}], 'entry': [{'@_fa': 'true', 'link': [{'@_fa': 'true', '@ref': 'self', '@href': 'https://api.elsevier.com/content/author/author_id/7004622834'}, {'@_fa': 'true', '@ref': 'search', '@href': 'https://api.elsevier.com/content/search/author?query=au-id%287004622834%29'}, {'@_fa': 'true', '@ref': 'scopus-citedby', '@href': 'https://www.scopus.com/author/citedby.uri?partnerID=HzOxMe3b&citedAuthorId=7004622834&origin=inward'}, {'@_fa': 'true', '@ref': 'scopus-author', '@href': 'https://www.scopus.com/authid/detail.uri?partnerID=HzOxMe3b&authorId=7004622834&origin=inward'}], 'prism:url': 'https://api.elsevier.com/content/author/author_id/7004622834', 'dc:identifier': 'AUTHOR_ID:7004622834', 'eid': '9-s2.0-7004622834', 'orcid': '0000-0003-3976-9186', 'preferred-name': {'surname': 'Auld', 'given-name': 'Vanessa J.', 'initials': 'V.J.'}, 'name-variant': [{'@_fa': 'true', 'surname': 'Auld', 'given-name': 'V.', 'initials': 'V.'}, {'@_fa': 'true', 'surname': 'Auld', 'given-name': 'Vanessa', 'initials': 'V.'}, {'@_fa': 'true', 'surname': 'Jane Auld', 'given-name': 'Vanessa', 'initials': 'V.'}], 'document-count': '48', 'subject-area': [{'@abbrev': 'BIOC', '@frequency': '66', '$': 'Biochemistry, Genetics and Molecular Biology (all)'}, {'@abbrev': 'MEDI', '@frequency': '14', '$': 'Medicine (all)'}, {'@abbrev': 'NEUR', '@frequency': '14', '$': 'Neuroscience (all)'}], 'affiliation-current': {'affiliation-url': 'https://api.elsevier.com/content/affiliation/affiliation_id/60010365', 'affiliation-id': '60010365', 'affiliation-name': 'The University of British Columbia', 'affiliation-city': 'Vancouver', 'affiliation-country': 'Canada'}}]}}\n"
     ]
    }
   ],
   "source": [
    "print(data)"
   ]
  },
  {
   "cell_type": "code",
   "execution_count": 12,
   "metadata": {},
   "outputs": [
    {
     "name": "stdout",
     "output_type": "stream",
     "text": [
      "{'@_fa': 'true', 'link': [{'@_fa': 'true', '@ref': 'self', '@href': 'https://api.elsevier.com/content/author/author_id/7004622834'}, {'@_fa': 'true', '@ref': 'search', '@href': 'https://api.elsevier.com/content/search/author?query=au-id%287004622834%29'}, {'@_fa': 'true', '@ref': 'scopus-citedby', '@href': 'https://www.scopus.com/author/citedby.uri?partnerID=HzOxMe3b&citedAuthorId=7004622834&origin=inward'}, {'@_fa': 'true', '@ref': 'scopus-author', '@href': 'https://www.scopus.com/authid/detail.uri?partnerID=HzOxMe3b&authorId=7004622834&origin=inward'}], 'prism:url': 'https://api.elsevier.com/content/author/author_id/7004622834', 'dc:identifier': 'AUTHOR_ID:7004622834', 'eid': '9-s2.0-7004622834', 'orcid': '0000-0003-3976-9186', 'preferred-name': {'surname': 'Auld', 'given-name': 'Vanessa J.', 'initials': 'V.J.'}, 'name-variant': [{'@_fa': 'true', 'surname': 'Auld', 'given-name': 'V.', 'initials': 'V.'}, {'@_fa': 'true', 'surname': 'Auld', 'given-name': 'Vanessa', 'initials': 'V.'}, {'@_fa': 'true', 'surname': 'Jane Auld', 'given-name': 'Vanessa', 'initials': 'V.'}], 'document-count': '48', 'subject-area': [{'@abbrev': 'BIOC', '@frequency': '66', '$': 'Biochemistry, Genetics and Molecular Biology (all)'}, {'@abbrev': 'MEDI', '@frequency': '14', '$': 'Medicine (all)'}, {'@abbrev': 'NEUR', '@frequency': '14', '$': 'Neuroscience (all)'}], 'affiliation-current': {'affiliation-url': 'https://api.elsevier.com/content/affiliation/affiliation_id/60010365', 'affiliation-id': '60010365', 'affiliation-name': 'The University of British Columbia', 'affiliation-city': 'Vancouver', 'affiliation-country': 'Canada'}}\n",
      "7004622834\n",
      "{'affiliation-url': 'https://api.elsevier.com/content/affiliation/affiliation_id/60010365', 'affiliation-id': '60010365', 'affiliation-name': 'The University of British Columbia', 'affiliation-city': 'Vancouver', 'affiliation-country': 'Canada'}\n"
     ]
    }
   ],
   "source": [
    "print(data[\"search-results\"][\"entry\"][0])\n",
    "print(data[\"search-results\"][\"entry\"][0][\"dc:identifier\"].split(\":\")[1])\n",
    "print(data[\"search-results\"][\"entry\"][0][\"affiliation-current\"])\n",
    "print(data[\"search-results\"][\"entry\"][0][\"subject-area\"])\n",
    "\n"
   ]
  },
  {
   "cell_type": "code",
   "execution_count": 34,
   "metadata": {},
   "outputs": [
    {
     "name": "stdout",
     "output_type": "stream",
     "text": [
      "1\n"
     ]
    }
   ],
   "source": [
    "#UBC \"affiliation-id\":\"60010365\"\n",
    "\n",
    "num_authors_found = data[\"search-results\"][\"opensearch:totalResults\"]\n",
    "\n",
    "if num_authors_found == 0:\n",
    "    print(\"no author found\")\n",
    "if num_authors_found > 1:\n",
    "    print(\"more than one author found\")\n",
    "    #find author with matching affiliation id"
   ]
  },
  {
   "cell_type": "code",
   "execution_count": null,
   "metadata": {},
   "outputs": [],
   "source": [
    "#add name, institution, etc to csv. tagged in diff irp groups?\n"
   ]
  }
 ],
 "metadata": {
  "kernelspec": {
   "display_name": "sms",
   "language": "python",
   "name": "python3"
  },
  "language_info": {
   "codemirror_mode": {
    "name": "ipython",
    "version": 3
   },
   "file_extension": ".py",
   "mimetype": "text/x-python",
   "name": "python",
   "nbconvert_exporter": "python",
   "pygments_lexer": "ipython3",
   "version": "3.10.12"
  },
  "orig_nbformat": 4
 },
 "nbformat": 4,
 "nbformat_minor": 2
}
