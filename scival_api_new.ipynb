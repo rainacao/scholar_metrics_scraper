{
 "cells": [
  {
   "cell_type": "code",
   "execution_count": 1,
   "metadata": {},
   "outputs": [],
   "source": [
    "API_KEY = '11fa1d4e951478e40df536c0616abbbe'"
   ]
  },
  {
   "cell_type": "code",
   "execution_count": 3,
   "metadata": {},
   "outputs": [],
   "source": [
    "import requests\n",
    "import json\n",
    "# from dotenv import load_dotenv"
   ]
  },
  {
   "cell_type": "code",
   "execution_count": 16,
   "metadata": {},
   "outputs": [],
   "source": [
    "header = {\n",
    "    \"X-ELS-APIKey\": API_KEY,\n",
    "}\n",
    "\n",
    "query_dict = {\n",
    "    \"authlast\": None, \n",
    "    \"authfirst\": None, \n",
    "    \"affil\": None\n",
    "}\n",
    "\n",
    "\n",
    "\n",
    "lastname = \"Werker\"\n",
    "firstname = \"Janet\"\n",
    "query = f\"AUTHLASTNAME%28{lastname}%29%20AND%20AUTHFIRST%28{firstname}%29\"\n",
    "# query = f\"authlastname({lastname}) and authfirst({firstname})\"\n",
    "\n",
    "params = {\n",
    "    \"query\":query\n",
    "}\n",
    "\n",
    "api_url = \"http://api.elsevier.com/content/search/author?\""
   ]
  },
  {
   "cell_type": "code",
   "execution_count": 17,
   "metadata": {},
   "outputs": [],
   "source": [
    "response = requests.get(url=api_url, params=params, headers=header)"
   ]
  },
  {
   "cell_type": "code",
   "execution_count": 18,
   "metadata": {},
   "outputs": [
    {
     "name": "stdout",
     "output_type": "stream",
     "text": [
      "{\"service-error\":{\"status\":{\"statusCode\":\"INVALID_INPUT\",\"statusText\":\"Error translating query\"}}}\n"
     ]
    }
   ],
   "source": [
    "print(response.text)"
   ]
  }
 ],
 "metadata": {
  "kernelspec": {
   "display_name": "sms",
   "language": "python",
   "name": "python3"
  },
  "language_info": {
   "codemirror_mode": {
    "name": "ipython",
    "version": 3
   },
   "file_extension": ".py",
   "mimetype": "text/x-python",
   "name": "python",
   "nbconvert_exporter": "python",
   "pygments_lexer": "ipython3",
   "version": "3.6.9"
  },
  "orig_nbformat": 4
 },
 "nbformat": 4,
 "nbformat_minor": 2
}
