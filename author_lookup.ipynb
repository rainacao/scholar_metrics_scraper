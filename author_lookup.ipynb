{
 "cells": [
  {
   "cell_type": "code",
   "execution_count": 30,
   "metadata": {},
   "outputs": [
    {
     "name": "stdout",
     "output_type": "stream",
     "text": [
      "2e5922c95a0e4f1fb73cede25eca779a\n",
      "127f5bf5de20d338f686704a9a328b86\n"
     ]
    }
   ],
   "source": [
    "import os\n",
    "import requests\n",
    "import json\n",
    "import csv\n",
    "import pandas as pd\n",
    "from dotenv import load_dotenv\n",
    "from time import sleep\n",
    "load_dotenv()\n",
    "\n",
    "from pybliometrics.scopus.utils import config\n",
    "print(config['Authentication'] ['APIKey'])\n",
    "config['Authentication'] ['APIKey'] = \"127f5bf5de20d338f686704a9a328b86\"\n",
    "print(config['Authentication'] ['APIKey'])"
   ]
  },
  {
   "cell_type": "code",
   "execution_count": 31,
   "metadata": {},
   "outputs": [],
   "source": [
    "from pybliometrics.scopus import CitationOverview, AuthorRetrieval, AuthorSearch"
   ]
  },
  {
   "cell_type": "code",
   "execution_count": 46,
   "metadata": {},
   "outputs": [],
   "source": [
    "PATH_TO_INPUT_CSV = \"authorlist_names_only.csv\"\n",
    "OUTPUT_FILEPATH = \"ss_scival_authorlist.csv\"\n",
    "\n",
    "# https://dev.elsevier.com/sc_author_search_tips.html for list of subjects\n",
    "subjects_list = [\"NEUR\", \"BIOC\", \"MEDI\", \"PSYC\", \"HEAL\", \"IMMU\", \"NURS\", \"PHAR\"]\n",
    "affiliation_list = ['University of British Columbia', 'UBC', 'Djavad Mowafaghian', 'Simon Fraser University', 'University of Victoria', 'University of Washington']\n",
    "city_list = [\"Vancouver\", \"Victoria\", \"Seattle\"]\n",
    "# affil_id_list = ['60023077', '60010365', '60012423'] #[UBC faculty of medicine, UBC, UBC hospital]\n",
    "\n",
    "affil_search_string = \"affil(UBC or University of British Columbia or Djavad Mowafaghian or Simon Fraser University or University of Victoria or University of Washington') and subjarea(NEUR or BIOC or MEDI or PSYC or HEAL or IMMU or NURS or PHAR)\"\n",
    "cols_of_interest = [\"Last Name\", \"First Name\", \"Affiliation\", \"Author ID\", \"ORCID\", \"Research Areas\", \"Warning\"]"
   ]
  },
  {
   "cell_type": "code",
   "execution_count": 47,
   "metadata": {},
   "outputs": [],
   "source": [
    "def is_matching_subjects(author) -> bool:\n",
    "    try:\n",
    "        return any([topic in author.areas for topic in subjects_list])\n",
    "    except:\n",
    "        print(\"no subjects on profile\")\n",
    "        return False"
   ]
  },
  {
   "cell_type": "code",
   "execution_count": 48,
   "metadata": {},
   "outputs": [],
   "source": [
    "def is_matching_affils(author) -> bool:\n",
    "    try:\n",
    "        # return (any([affil in author.affiliation for affil in affiliation_list]) \n",
    "        #         and any([city in author.city for city in city_list]))\n",
    "        return (any([affil in author.affiliation for affil in affiliation_list]) \n",
    "                or any([city in author.city for city in city_list]))\n",
    "    except:\n",
    "        print(\"no affiliation on profile\")\n",
    "        return False"
   ]
  },
  {
   "cell_type": "code",
   "execution_count": 64,
   "metadata": {},
   "outputs": [],
   "source": [
    "def is_target_profile(author) -> bool:\n",
    "    '''criteria for whether or not profile matches the target requirements'''\n",
    "    print(\"subject match:\",is_matching_subjects(author))\n",
    "    print(\"affiliation match:\",is_matching_affils(author))\n",
    "    return (is_matching_subjects(author) or is_matching_affils(author))\n",
    "    # return (is_matching_subjects(author) and is_matching_affils(author))\n",
    "\n",
    "    # subject_check = False\n",
    "    # affiliation_check = False\n",
    "    # city_check = False\n",
    "    # country_check = False\n",
    "\n",
    "    # try:\n",
    "    #     subject_check = any([topic in author.areas for topic in subjects_list])\n",
    "    # except:\n",
    "    #     print(\"no subject with associated profile\")\n",
    "\n",
    "    # try:\n",
    "    #     affiliation_check = any([affil in affiliation_list for affil in author.affiliation])\n",
    "    #     city_check = any([city in city_list for city in author.city]) \n",
    "    #     country_check = any([country in affiliation_list for country in author.country])\n",
    "    # except:\n",
    "    #     print(\"no affiliation with associated profile\")\n",
    "\n",
    "    # # if subject and affiliations match\n",
    "    # if subject_check and affiliation_check:\n",
    "    #     return True\n",
    "    # elif affiliation_check:\n",
    "    #     return True\n",
    "    # elif (city_check or country_check) and subject_check:\n",
    "    #     return True\n",
    "    # else:\n",
    "    #     return False"
   ]
  },
  {
   "cell_type": "code",
   "execution_count": 65,
   "metadata": {},
   "outputs": [],
   "source": [
    "def add_author_row(author:tuple, is_target, out_dict, warning=\"\", affil_override=\"\", subj_override=\"\"):\n",
    "    '''\n",
    "    fills in author information to the output dictionary.\n",
    "    if is_target is True, meaning the author matches criteria, author variable should be a pybliometrics Author tuple. \n",
    "    if is_target is False, meaning author is not found or does not match criteria, author variable should be a tuple of\n",
    "    (\"author last name\", \"author first name\")\n",
    "    '''\n",
    "    match is_target:\n",
    "        case True:\n",
    "            #add author information to dictionary\n",
    "            lastname = author.surname\n",
    "            firstname = author.givenname\n",
    "            print(\"adding \" + firstname + \" \" + lastname + \"...\\n\")\n",
    "\n",
    "            affil_name = author.affiliation\n",
    "            author_id = author.eid.split(\"-\")[-1]\n",
    "            orcid = \"\"\n",
    "            try:\n",
    "                orcid = author.orcid\n",
    "            except:\n",
    "                pass\n",
    "            subject = author.areas\n",
    "\n",
    "            out_dict[cols_of_interest[0]].append(lastname) #\"Last Name\"\n",
    "            out_dict[cols_of_interest[1]].append(firstname) #\"First Name\"\n",
    "            out_dict[cols_of_interest[2]].append(affil_name) #\"Affiliation\"\n",
    "            out_dict[cols_of_interest[3]].append(author_id) #\"Author ID\"\n",
    "            out_dict[cols_of_interest[4]].append(orcid) #\"ORCID\"\n",
    "            out_dict[cols_of_interest[5]].append(subject) #\"Research Areas\"\n",
    "            out_dict[cols_of_interest[6]].append(\"\") #\"Warning\"\n",
    "        case False:\n",
    "            #add blank rows with warning or affiliation/research area overrides\n",
    "            lastname = author[0]\n",
    "            firstname = author[1]\n",
    "            print(\"no scival profile found\\n\")\n",
    "            out_dict[cols_of_interest[0]].append(lastname) #\"Last Name\"\n",
    "            out_dict[cols_of_interest[1]].append(firstname) #\"First Name\"\n",
    "            out_dict[cols_of_interest[2]].append(affil_override) #\"Affiliation\"\n",
    "            out_dict[cols_of_interest[3]].append(\"\") #\"Author ID\"\n",
    "            out_dict[cols_of_interest[4]].append(\"\") #\"ORCID\"\n",
    "            out_dict[cols_of_interest[5]].append(subj_override) #\"Research Areas\"\n",
    "            out_dict[cols_of_interest[6]].append(warning) #\"Warning\"\n",
    "            "
   ]
  },
  {
   "cell_type": "code",
   "execution_count": 66,
   "metadata": {},
   "outputs": [],
   "source": [
    "def compare_all_profiles(authors):\n",
    "    for i in range(len(authors)):\n",
    "        print(\"looking at profile \" + str(i))\n",
    "        if is_target_profile(authors[i]):\n",
    "            return authors[i]\n",
    "    return None"
   ]
  },
  {
   "cell_type": "code",
   "execution_count": 67,
   "metadata": {},
   "outputs": [
    {
     "name": "stdout",
     "output_type": "stream",
     "text": [
      "40\n"
     ]
    }
   ],
   "source": [
    "#read member csv file accordingly\n",
    "member_arr = []\n",
    "with open(PATH_TO_INPUT_CSV, \"r\") as f:\n",
    "    r = csv.reader(f)\n",
    "    for row in r:\n",
    "        if row[0] != \"\":\n",
    "            member_arr.append(row)\n",
    "\n",
    "# skip header rows\n",
    "# member_arr = member_arr[1:]\n",
    "print(len(member_arr))"
   ]
  },
  {
   "cell_type": "code",
   "execution_count": 70,
   "metadata": {},
   "outputs": [
    {
     "name": "stdout",
     "output_type": "stream",
     "text": [
      "searching for author Tim H. Murphy\n",
      "looking at profile 0\n",
      "subject match: True\n",
      "affiliation match: True\n",
      "adding Timothy H. Murphy...\n",
      "\n",
      "searching for author Annie Ciernia\n",
      "looking at profile 0\n",
      "subject match: True\n",
      "affiliation match: True\n",
      "adding Annie Vogel-Ciernia...\n",
      "\n",
      "searching for author Brian MacVicar\n",
      "subject match: True\n",
      "affiliation match: True\n",
      "adding Brian Archibald MacVicar...\n",
      "\n",
      "searching for author Fidel Vila-Rodriguez\n",
      "subject match: True\n",
      "affiliation match: True\n",
      "adding Fidel Vila-Rodriguez...\n",
      "\n",
      "searching for author Shernaz Bamji\n",
      "subject match: True\n",
      "affiliation match: True\n",
      "adding Shernaz X. Bamji...\n",
      "\n",
      "searching for author Lara Boyd\n",
      "looking at profile 0\n",
      "subject match: True\n",
      "affiliation match: True\n",
      "adding Lara A. Boyd...\n",
      "\n",
      "searching for author Paul Pavlidis\n",
      "looking at profile 0\n",
      "subject match: True\n",
      "affiliation match: True\n",
      "adding Paul Pavlidis...\n",
      "\n",
      "searching for author Martin McKeown\n",
      "subject match: True\n",
      "affiliation match: True\n",
      "adding Martin J. McKeown...\n",
      "\n",
      "searching for author A Jon Stoessl\n",
      "subject match: True\n",
      "affiliation match: True\n",
      "adding A. Jon Stoessl...\n",
      "\n",
      "searching for author Peter Cripton\n",
      "subject match: True\n",
      "affiliation match: True\n",
      "adding P. A. Cripton...\n",
      "\n",
      "searching for author Jason Snyder\n",
      "looking at profile 0\n",
      "subject match: True\n",
      "affiliation match: True\n",
      "adding Jason S. Snyder...\n",
      "\n",
      "searching for author Wolfram Tetzlaff\n",
      "subject match: True\n",
      "affiliation match: True\n",
      "adding Wolfram G. Tetzlaff...\n",
      "\n",
      "searching for author Anthony Phillips\n",
      "looking at profile 0\n",
      "subject match: True\n",
      "affiliation match: True\n",
      "adding Anthony G. Phillips...\n",
      "\n",
      "searching for author Catharine Winstanley\n",
      "looking at profile 0\n",
      "subject match: True\n",
      "affiliation match: False\n",
      "adding Catharine A. Winstanley...\n",
      "\n",
      "searching for author Yu Tian Wang\n",
      "looking at profile 0\n",
      "subject match: False\n",
      "affiliation match: False\n",
      "looking at profile 1\n",
      "subject match: True\n",
      "affiliation match: False\n",
      "adding Yu Tian Wang...\n",
      "\n"
     ]
    },
    {
     "ename": "KeyboardInterrupt",
     "evalue": "",
     "output_type": "error",
     "traceback": [
      "\u001b[1;31m---------------------------------------------------------------------------\u001b[0m",
      "\u001b[1;31mKeyboardInterrupt\u001b[0m                         Traceback (most recent call last)",
      "Cell \u001b[1;32mIn[70], line 7\u001b[0m\n\u001b[0;32m      5\u001b[0m \u001b[39mfor\u001b[39;00m member \u001b[39min\u001b[39;00m member_arr:\n\u001b[0;32m      6\u001b[0m     start \u001b[39m=\u001b[39m \u001b[39m0\u001b[39m\n\u001b[1;32m----> 7\u001b[0m     sleep(\u001b[39m1\u001b[39;49m) \u001b[39m#pause for one second to prevent API warning\u001b[39;00m\n\u001b[0;32m      9\u001b[0m     \u001b[39m#search for author\u001b[39;00m\n\u001b[0;32m     10\u001b[0m     lastname \u001b[39m=\u001b[39m member[\u001b[39m0\u001b[39m]\u001b[39m.\u001b[39mrsplit(\u001b[39m\"\u001b[39m\u001b[39m \u001b[39m\u001b[39m\"\u001b[39m,\u001b[39m1\u001b[39m)[\u001b[39m1\u001b[39m]\n",
      "\u001b[1;31mKeyboardInterrupt\u001b[0m: "
     ]
    }
   ],
   "source": [
    "# if changing columns, make sure to change code in add_author_row() as well!\n",
    "output_dict = {f\"{key}\":[] for key in cols_of_interest}\n",
    "\n",
    "#go through all members\n",
    "for member in member_arr:\n",
    "    start = 0\n",
    "    sleep(1) #pause for one second to prevent API warning\n",
    "\n",
    "    #search for author\n",
    "    lastname = member[0].rsplit(\" \",1)[1]\n",
    "    firstname = member[0].rsplit(\" \",1)[0]\n",
    "    # lastname = member[0].strip()\n",
    "    # firstname = member[1].strip()\n",
    "    print(f\"searching for author {firstname} {lastname}\")\n",
    "\n",
    "    # query = f\"authlastname({lastname}) and authfirst({firstname}) and {affil_search_string}\"\n",
    "    query = f\"authlastname({lastname}) and authfirst({firstname})\"\n",
    "    s = AuthorSearch(query)\n",
    "    authors = s.authors\n",
    "    \n",
    "    num_authors_found = s.get_results_size()\n",
    "\n",
    "    match num_authors_found:\n",
    "        case 0:\n",
    "            #if there are no profiles, add blank row\n",
    "            add_author_row((lastname, firstname), False, output_dict, warning=f\"no profiles found\")\n",
    "            # add_author_row((lastname, firstname), False, output_dict, warning=f\"no profiles found with query ({affil_search_string})\")\n",
    "        case 1:\n",
    "            #if there is a profile, save if subjects and affiliations match\n",
    "            if is_target_profile(authors[0]):\n",
    "                add_author_row(authors[0], True, output_dict)\n",
    "            else:\n",
    "                add_author_row((authors[0].surname, authors[0].givenname), \n",
    "                               False, output_dict, warning=f\"!!! profile for {firstname} {lastname} does not pass addition condition\",\n",
    "                               affil_override=authors[0].affiliation,\n",
    "                               subj_override=authors[0].areas)\n",
    "        case _:\n",
    "            #if there are multiple profile, take a look through each\n",
    "            best_match_author = compare_all_profiles(authors)\n",
    "            if best_match_author == None:\n",
    "                add_author_row((authors[0].surname, authors[0].givenname), \n",
    "                               False, output_dict, warning=f\"!!! FIRST profile for {firstname} {lastname} does not pass addition condition\",\n",
    "                               affil_override=authors[0].affiliation,\n",
    "                               subj_override=authors[0].areas)\n",
    "                print(\"no match found among profiles\\n\")\n",
    "            else:\n",
    "                add_author_row(best_match_author, True, output_dict)"
   ]
  },
  {
   "cell_type": "code",
   "execution_count": 69,
   "metadata": {},
   "outputs": [],
   "source": [
    "# save file\n",
    "df = pd.DataFrame.from_dict(output_dict)\n",
    "df.to_csv(\"scival_ids_authorlist_adjusted.csv\")\n",
    "# df.to_csv(OUTPUT_FILEPATH)"
   ]
  },
  {
   "cell_type": "code",
   "execution_count": 26,
   "metadata": {},
   "outputs": [],
   "source": [
    "lastname = \"Woodward\" \n",
    "firstname = \"Todd\"\n",
    "query = f\"authlastname({lastname}) and authfirst({firstname})\"\n",
    "s = AuthorSearch(query)\n",
    "authors = s.authors"
   ]
  },
  {
   "cell_type": "code",
   "execution_count": 27,
   "metadata": {},
   "outputs": [
    {
     "name": "stdout",
     "output_type": "stream",
     "text": [
      "[Author(eid='9-s2.0-7102848867', orcid='0000-0001-8083-0079', surname='Woodward', initials='T.S.', givenname='Todd Stephen', affiliation='The University of British Columbia', documents=185, affiliation_id='60010365', city='Vancouver', country='Canada', areas='MEDI (203); NEUR (133); PSYC (126)')]\n"
     ]
    }
   ],
   "source": [
    "print(authors)"
   ]
  },
  {
   "cell_type": "code",
   "execution_count": 72,
   "metadata": {},
   "outputs": [
    {
     "name": "stdout",
     "output_type": "stream",
     "text": [
      "[Author(eid='9-s2.0-26634611400', orcid=None, surname='Sylwestrak', initials='E.L.', givenname='Emily Lauren', affiliation='University of Oregon', documents=10, affiliation_id='60012317', city='Eugene', country='United States', areas='NEUR (5); MULT (3); MEDI (3)')]\n"
     ]
    }
   ],
   "source": [
    "lastname = \"sylwestrak\" \n",
    "firstname = \"emily\"\n",
    "query = f\"authlastname({lastname}) and authfirst({firstname})\"\n",
    "s = AuthorSearch(query)\n",
    "authors = s.authors\n",
    "print(authors)"
   ]
  }
 ],
 "metadata": {
  "kernelspec": {
   "display_name": "authorlookup",
   "language": "python",
   "name": "python3"
  },
  "language_info": {
   "codemirror_mode": {
    "name": "ipython",
    "version": 3
   },
   "file_extension": ".py",
   "mimetype": "text/x-python",
   "name": "python",
   "nbconvert_exporter": "python",
   "pygments_lexer": "ipython3",
   "version": "3.10.12"
  },
  "orig_nbformat": 4
 },
 "nbformat": 4,
 "nbformat_minor": 2
}
