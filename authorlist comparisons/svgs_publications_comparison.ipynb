{
 "cells": [
  {
   "cell_type": "code",
   "execution_count": 3,
   "id": "1dbb4105-b905-4425-9314-093ead56af07",
   "metadata": {},
   "outputs": [
    {
     "name": "stdout",
     "output_type": "stream",
     "text": [
      "127f5bf5de20d338f686704a9a328b86\n"
     ]
    }
   ],
   "source": [
    "import os\n",
    "import requests\n",
    "import json\n",
    "import csv\n",
    "import pandas as pd\n",
    "from time import sleep\n",
    "import numpy as np\n",
    "from pybliometrics.scopus import CitationOverview, AuthorRetrieval, AbstractRetrieval\n",
    "from pybliometrics.scopus.utils import config\n",
    "config['Authentication'] ['APIKey'] = \"127f5bf5de20d338f686704a9a328b86\"\n",
    "print(config['Authentication'] ['APIKey'])\n",
    "from scholarly import scholarly, ProxyGenerator\n",
    "import re"
   ]
  },
  {
   "cell_type": "code",
   "execution_count": 4,
   "id": "6a21d114",
   "metadata": {},
   "outputs": [],
   "source": [
    "sv_authids = pd.read_csv(\n",
    "    \"scival_outputs/scival_authorlist_publications_official.csv\"\n",
    "    ).loc[\n",
    "        :,\"Scopus ID\"\n",
    "        ].tolist()\n",
    "gs_authids = pd.read_csv(\n",
    "    \"gs_outputs/gs_authorlist_publications.csv\"\n",
    "    ).loc[\n",
    "        :,\"Scholar ID\"\n",
    "        ].tolist()"
   ]
  },
  {
   "cell_type": "code",
   "execution_count": 5,
   "id": "1f6bade5",
   "metadata": {},
   "outputs": [
    {
     "name": "stdout",
     "output_type": "stream",
     "text": [
      "[7401632487, 55491054000, 7006717711, 24279161600, 7005627810, 7101895712, 7004159655, 7005375626, 7004896118, 6603629883, 28167863900, 7006262846, 7401658611, 57207534482, 8908521300, 7102848867, 7003907622, 35408131500, 16407421900, 7102737545, 55554765000, 37036981000, 7401756510, 55889287500, 7007032941, 57210526278, 7103067039, 11241026700, 6701751588, 7004079043, 7004549374, 36237882900, 55860139200, 35146488900, 56363838400, 7004454250, 7408311558, 6602928622, 15065850600, 26634611400, 9239638800]\n",
      "['qJjM8hkAAAAJ', 'XAGfOIIAAAAJ', 'Sx3420cAAAAJ', 'VynxFpEAAAAJ', 'C832lNEAAAAJ', 'yutn3mwAAAAJ', 'ataejQQAAAAJ', 'cBAT2tQAAAAJ', 'KnhWIqwAAAAJ', 'hm6fJTkAAAAJ', 'B6Fe4-4AAAAJ', 'HgUvr-IAAAAJ', 'cHBZKa4AAAAJ', '62UFkZcAAAAJ', 'oUJOq0EAAAAJ', '72W33RkAAAAJ', 'cDn0toMAAAAJ', 'mTkQFQ8AAAAJ', 'Hx14DYYAAAAJ', 'VyLG_CgAAAAJ', 'zLPRoXUAAAAJ', 'f_ILrbMAAAAJ', 'K1VQtgwAAAAJ', 'nzIRBZ0AAAAJ', 'KM6fM-MAAAAJ', 'WVStjbgAAAAJ', 'P2mG6rcAAAAJ', 'W75uTm8AAAAJ', 'bl8U3JoAAAAJ', 'Q--hI3oAAAAJ', 'iRcTmwkAAAAJ', 'OrRZGCQAAAAJ', '2maWWboAAAAJ', 'OzV0TFoAAAAJ', '1NGZwzoAAAAJ', '6N7x3_wAAAAJ', 'JpTDgvYAAAAJ', 'Qd2_0VkAAAAJ', 'GyvbrjcAAAAJ', 'gKtP4d4AAAAJ', 'NcqRyesAAAAJ']\n"
     ]
    }
   ],
   "source": [
    "print(sv_authids)\n",
    "print(gs_authids)"
   ]
  },
  {
   "cell_type": "code",
   "execution_count": 6,
   "id": "7b83c193-1913-4017-933d-50e0fce1b917",
   "metadata": {},
   "outputs": [],
   "source": [
    "# sv_identifier = \"7401632487\" #tim murphy\n",
    "# sv_identifier = \"7004159655\" #paul pavlidis\n",
    "# sv_identifier = \"56371437500\" #jeff ledue\n",
    "sv_identifier = \"56363838400\" #brian fisher\n",
    "\n",
    "ar = AuthorRetrieval(sv_identifier)\n",
    "pubs = ar.get_documents()"
   ]
  },
  {
   "cell_type": "code",
   "execution_count": 7,
   "id": "eccd178a",
   "metadata": {},
   "outputs": [],
   "source": [
    "sv_titles = []\n",
    "for pub in pubs:\n",
    "    pub_dict = {\n",
    "        \"title\":pub.title,\n",
    "        \"authors_name\":pub.author_names,\n",
    "        \"authors_id\":pub.author_ids,\n",
    "        \"citations\":pub.citedby_count,\n",
    "    }\n",
    "    try:\n",
    "        pub_dict[\"pub_type\"] = pub.aggregationType\n",
    "    except KeyError:\n",
    "        pub_dict[\"pub_type\"] = \"\"\n",
    "    sv_titles.append(pub_dict)"
   ]
  },
  {
   "cell_type": "code",
   "execution_count": 8,
   "id": "94123123",
   "metadata": {},
   "outputs": [
    {
     "name": "stdout",
     "output_type": "stream",
     "text": [
      "{'title': 'The Flow of Trust: A Visualization Framework to Externalize, Explore, and Explain Trust in ML Applications', 'authors_name': 'van den Elzen, Stef;Andrienko, Gennady;Andrienko, Natalia;Fisher, Brian D.;Martins, Rafael M.;Peltonen, Jaakko;Telea, Alexandru C.;Verleysen, Michel', 'authors_id': '37017508300;6603717488;57194690968;56363838400;7202166110;7101970478;24073902000;7003876274', 'citations': 0, 'pub_type': 'Journal'}\n"
     ]
    }
   ],
   "source": [
    "print(sv_titles[0])"
   ]
  },
  {
   "cell_type": "code",
   "execution_count": 14,
   "id": "2221b732-22c8-405b-97a7-c5f537e653f0",
   "metadata": {},
   "outputs": [
    {
     "ename": "KeyboardInterrupt",
     "evalue": "",
     "output_type": "error",
     "traceback": [
      "\u001b[1;31m---------------------------------------------------------------------------\u001b[0m",
      "\u001b[1;31mKeyboardInterrupt\u001b[0m                         Traceback (most recent call last)",
      "Cell \u001b[1;32mIn[14], line 7\u001b[0m\n\u001b[0;32m      5\u001b[0m success \u001b[39m=\u001b[39m pg\u001b[39m.\u001b[39mFreeProxies()\n\u001b[0;32m      6\u001b[0m scholarly\u001b[39m.\u001b[39muse_proxy(pg)\n\u001b[1;32m----> 7\u001b[0m author \u001b[39m=\u001b[39m scholarly\u001b[39m.\u001b[39;49msearch_author_id(athr)\n\u001b[0;32m      8\u001b[0m data_dict \u001b[39m=\u001b[39m scholarly\u001b[39m.\u001b[39mfill(author, sections\u001b[39m=\u001b[39m[\u001b[39m'\u001b[39m\u001b[39mbasics\u001b[39m\u001b[39m'\u001b[39m, \u001b[39m'\u001b[39m\u001b[39mindices\u001b[39m\u001b[39m'\u001b[39m, \u001b[39m'\u001b[39m\u001b[39mpublications\u001b[39m\u001b[39m'\u001b[39m, \u001b[39m'\u001b[39m\u001b[39mcounts\u001b[39m\u001b[39m'\u001b[39m])\n",
      "File \u001b[1;32mc:\\Users\\caoyut\\.conda\\envs\\sms\\lib\\site-packages\\scholarly\\_scholarly.py:349\u001b[0m, in \u001b[0;36m_Scholarly.search_author_id\u001b[1;34m(self, id, filled, sortby, publication_limit)\u001b[0m\n\u001b[0;32m    322\u001b[0m \u001b[39mdef\u001b[39;00m \u001b[39msearch_author_id\u001b[39m(\u001b[39mself\u001b[39m, \u001b[39mid\u001b[39m: \u001b[39mstr\u001b[39m, filled: \u001b[39mbool\u001b[39m \u001b[39m=\u001b[39m \u001b[39mFalse\u001b[39;00m, sortby: \u001b[39mstr\u001b[39m \u001b[39m=\u001b[39m \u001b[39m\"\u001b[39m\u001b[39mcitedby\u001b[39m\u001b[39m\"\u001b[39m, publication_limit: \u001b[39mint\u001b[39m \u001b[39m=\u001b[39m \u001b[39m0\u001b[39m)\u001b[39m-\u001b[39m\u001b[39m>\u001b[39mAuthor:\n\u001b[0;32m    323\u001b[0m \u001b[39m    \u001b[39m\u001b[39m\"\"\"Search by author id and return a single Author object\u001b[39;00m\n\u001b[0;32m    324\u001b[0m \u001b[39m    :param sortby: select the order of the citations in the author page. Either by 'citedby' or 'year'. Defaults to 'citedby'.\u001b[39;00m\n\u001b[0;32m    325\u001b[0m \u001b[39m    :type sortby: string\u001b[39;00m\n\u001b[1;32m   (...)\u001b[0m\n\u001b[0;32m    347\u001b[0m \u001b[39m             'url_picture': 'https://scholar.googleusercontent.com/citations?view_op=view_photo&user=EmD_lTEAAAAJ&citpid=3'}\u001b[39;00m\n\u001b[0;32m    348\u001b[0m \u001b[39m    \"\"\"\u001b[39;00m\n\u001b[1;32m--> 349\u001b[0m     \u001b[39mreturn\u001b[39;00m \u001b[39mself\u001b[39;49m\u001b[39m.\u001b[39;49m__nav\u001b[39m.\u001b[39;49msearch_author_id(\u001b[39mid\u001b[39;49m, filled, sortby, publication_limit)\n",
      "File \u001b[1;32mc:\\Users\\caoyut\\.conda\\envs\\sms\\lib\\site-packages\\scholarly\\_navigator.py:316\u001b[0m, in \u001b[0;36mNavigator.search_author_id\u001b[1;34m(self, id, filled, sortby, publication_limit)\u001b[0m\n\u001b[0;32m    314\u001b[0m     res \u001b[39m=\u001b[39m author_parser\u001b[39m.\u001b[39mfill(res, sortby\u001b[39m=\u001b[39msortby, publication_limit\u001b[39m=\u001b[39mpublication_limit)\n\u001b[0;32m    315\u001b[0m \u001b[39melse\u001b[39;00m:\n\u001b[1;32m--> 316\u001b[0m     res \u001b[39m=\u001b[39m author_parser\u001b[39m.\u001b[39;49mfill(res, sections\u001b[39m=\u001b[39;49m[\u001b[39m'\u001b[39;49m\u001b[39mbasics\u001b[39;49m\u001b[39m'\u001b[39;49m], sortby\u001b[39m=\u001b[39;49msortby, publication_limit\u001b[39m=\u001b[39;49mpublication_limit)\n\u001b[0;32m    317\u001b[0m \u001b[39mreturn\u001b[39;00m res\n",
      "File \u001b[1;32mc:\\Users\\caoyut\\.conda\\envs\\sms\\lib\\site-packages\\scholarly\\author_parser.py:441\u001b[0m, in \u001b[0;36mAuthorParser.fill\u001b[1;34m(self, author, sections, sortby, publication_limit)\u001b[0m\n\u001b[0;32m    439\u001b[0m url_citations \u001b[39m+\u001b[39m\u001b[39m=\u001b[39m sortby_str\n\u001b[0;32m    440\u001b[0m url \u001b[39m=\u001b[39m \u001b[39m'\u001b[39m\u001b[39m{0}\u001b[39;00m\u001b[39m&pagesize=\u001b[39m\u001b[39m{1}\u001b[39;00m\u001b[39m'\u001b[39m\u001b[39m.\u001b[39mformat(url_citations, _PAGESIZE)\n\u001b[1;32m--> 441\u001b[0m soup \u001b[39m=\u001b[39m \u001b[39mself\u001b[39;49m\u001b[39m.\u001b[39;49mnav\u001b[39m.\u001b[39;49m_get_soup(url)\n\u001b[0;32m    443\u001b[0m \u001b[39m# Update scholar_id\u001b[39;00m\n\u001b[0;32m    444\u001b[0m scholar_id \u001b[39m=\u001b[39m re\u001b[39m.\u001b[39mfindall(_CITATIONAUTHRE, soup\u001b[39m.\u001b[39mfind(\u001b[39m\"\u001b[39m\u001b[39mlink\u001b[39m\u001b[39m\"\u001b[39m, rel\u001b[39m=\u001b[39m\u001b[39m\"\u001b[39m\u001b[39mcanonical\u001b[39m\u001b[39m\"\u001b[39m)\u001b[39m.\u001b[39mget(\u001b[39m'\u001b[39m\u001b[39mhref\u001b[39m\u001b[39m'\u001b[39m, \u001b[39m\"\u001b[39m\u001b[39m\"\u001b[39m))[\u001b[39m0\u001b[39m]\n",
      "File \u001b[1;32mc:\\Users\\caoyut\\.conda\\envs\\sms\\lib\\site-packages\\scholarly\\_navigator.py:239\u001b[0m, in \u001b[0;36mNavigator._get_soup\u001b[1;34m(self, url)\u001b[0m\n\u001b[0;32m    237\u001b[0m \u001b[39mdef\u001b[39;00m \u001b[39m_get_soup\u001b[39m(\u001b[39mself\u001b[39m, url: \u001b[39mstr\u001b[39m) \u001b[39m-\u001b[39m\u001b[39m>\u001b[39m BeautifulSoup:\n\u001b[0;32m    238\u001b[0m \u001b[39m    \u001b[39m\u001b[39m\"\"\"Return the BeautifulSoup for a page on scholar.google.com\"\"\"\u001b[39;00m\n\u001b[1;32m--> 239\u001b[0m     html \u001b[39m=\u001b[39m \u001b[39mself\u001b[39;49m\u001b[39m.\u001b[39;49m_get_page(\u001b[39m'\u001b[39;49m\u001b[39mhttps://scholar.google.com\u001b[39;49m\u001b[39m{0}\u001b[39;49;00m\u001b[39m'\u001b[39;49m\u001b[39m.\u001b[39;49mformat(url))\n\u001b[0;32m    240\u001b[0m     html \u001b[39m=\u001b[39m html\u001b[39m.\u001b[39mreplace(\u001b[39mu\u001b[39m\u001b[39m'\u001b[39m\u001b[39m\\xa0\u001b[39;00m\u001b[39m'\u001b[39m, \u001b[39mu\u001b[39m\u001b[39m'\u001b[39m\u001b[39m \u001b[39m\u001b[39m'\u001b[39m)\n\u001b[0;32m    241\u001b[0m     res \u001b[39m=\u001b[39m BeautifulSoup(html, \u001b[39m'\u001b[39m\u001b[39mhtml.parser\u001b[39m\u001b[39m'\u001b[39m)\n",
      "File \u001b[1;32mc:\\Users\\caoyut\\.conda\\envs\\sms\\lib\\site-packages\\scholarly\\_navigator.py:114\u001b[0m, in \u001b[0;36mNavigator._get_page\u001b[1;34m(self, pagerequest, premium)\u001b[0m\n\u001b[0;32m    112\u001b[0m w \u001b[39m=\u001b[39m random\u001b[39m.\u001b[39muniform(\u001b[39m1\u001b[39m,\u001b[39m2\u001b[39m)\n\u001b[0;32m    113\u001b[0m time\u001b[39m.\u001b[39msleep(w)\n\u001b[1;32m--> 114\u001b[0m resp \u001b[39m=\u001b[39m session\u001b[39m.\u001b[39;49mget(pagerequest, timeout\u001b[39m=\u001b[39;49mtimeout)\n\u001b[0;32m    115\u001b[0m \u001b[39mif\u001b[39;00m premium \u001b[39mis\u001b[39;00m \u001b[39mFalse\u001b[39;00m:  \u001b[39m# premium methods may contain sensitive information\u001b[39;00m\n\u001b[0;32m    116\u001b[0m     \u001b[39mself\u001b[39m\u001b[39m.\u001b[39mlogger\u001b[39m.\u001b[39mdebug(\u001b[39m\"\u001b[39m\u001b[39mSession proxy config is \u001b[39m\u001b[39m{}\u001b[39;00m\u001b[39m\"\u001b[39m\u001b[39m.\u001b[39mformat(pm\u001b[39m.\u001b[39m_proxies))\n",
      "File \u001b[1;32mc:\\Users\\caoyut\\.conda\\envs\\sms\\lib\\site-packages\\httpx\\_client.py:1041\u001b[0m, in \u001b[0;36mClient.get\u001b[1;34m(self, url, params, headers, cookies, auth, follow_redirects, timeout, extensions)\u001b[0m\n\u001b[0;32m   1024\u001b[0m \u001b[39mdef\u001b[39;00m \u001b[39mget\u001b[39m(\n\u001b[0;32m   1025\u001b[0m     \u001b[39mself\u001b[39m,\n\u001b[0;32m   1026\u001b[0m     url: URLTypes,\n\u001b[1;32m   (...)\u001b[0m\n\u001b[0;32m   1034\u001b[0m     extensions: typing\u001b[39m.\u001b[39mOptional[RequestExtensions] \u001b[39m=\u001b[39m \u001b[39mNone\u001b[39;00m,\n\u001b[0;32m   1035\u001b[0m ) \u001b[39m-\u001b[39m\u001b[39m>\u001b[39m Response:\n\u001b[0;32m   1036\u001b[0m \u001b[39m    \u001b[39m\u001b[39m\"\"\"\u001b[39;00m\n\u001b[0;32m   1037\u001b[0m \u001b[39m    Send a `GET` request.\u001b[39;00m\n\u001b[0;32m   1038\u001b[0m \n\u001b[0;32m   1039\u001b[0m \u001b[39m    **Parameters**: See `httpx.request`.\u001b[39;00m\n\u001b[0;32m   1040\u001b[0m \u001b[39m    \"\"\"\u001b[39;00m\n\u001b[1;32m-> 1041\u001b[0m     \u001b[39mreturn\u001b[39;00m \u001b[39mself\u001b[39;49m\u001b[39m.\u001b[39;49mrequest(\n\u001b[0;32m   1042\u001b[0m         \u001b[39m\"\u001b[39;49m\u001b[39mGET\u001b[39;49m\u001b[39m\"\u001b[39;49m,\n\u001b[0;32m   1043\u001b[0m         url,\n\u001b[0;32m   1044\u001b[0m         params\u001b[39m=\u001b[39;49mparams,\n\u001b[0;32m   1045\u001b[0m         headers\u001b[39m=\u001b[39;49mheaders,\n\u001b[0;32m   1046\u001b[0m         cookies\u001b[39m=\u001b[39;49mcookies,\n\u001b[0;32m   1047\u001b[0m         auth\u001b[39m=\u001b[39;49mauth,\n\u001b[0;32m   1048\u001b[0m         follow_redirects\u001b[39m=\u001b[39;49mfollow_redirects,\n\u001b[0;32m   1049\u001b[0m         timeout\u001b[39m=\u001b[39;49mtimeout,\n\u001b[0;32m   1050\u001b[0m         extensions\u001b[39m=\u001b[39;49mextensions,\n\u001b[0;32m   1051\u001b[0m     )\n",
      "File \u001b[1;32mc:\\Users\\caoyut\\.conda\\envs\\sms\\lib\\site-packages\\httpx\\_client.py:814\u001b[0m, in \u001b[0;36mClient.request\u001b[1;34m(self, method, url, content, data, files, json, params, headers, cookies, auth, follow_redirects, timeout, extensions)\u001b[0m\n\u001b[0;32m    799\u001b[0m     warnings\u001b[39m.\u001b[39mwarn(message, \u001b[39mDeprecationWarning\u001b[39;00m)\n\u001b[0;32m    801\u001b[0m request \u001b[39m=\u001b[39m \u001b[39mself\u001b[39m\u001b[39m.\u001b[39mbuild_request(\n\u001b[0;32m    802\u001b[0m     method\u001b[39m=\u001b[39mmethod,\n\u001b[0;32m    803\u001b[0m     url\u001b[39m=\u001b[39murl,\n\u001b[1;32m   (...)\u001b[0m\n\u001b[0;32m    812\u001b[0m     extensions\u001b[39m=\u001b[39mextensions,\n\u001b[0;32m    813\u001b[0m )\n\u001b[1;32m--> 814\u001b[0m \u001b[39mreturn\u001b[39;00m \u001b[39mself\u001b[39;49m\u001b[39m.\u001b[39;49msend(request, auth\u001b[39m=\u001b[39;49mauth, follow_redirects\u001b[39m=\u001b[39;49mfollow_redirects)\n",
      "File \u001b[1;32mc:\\Users\\caoyut\\.conda\\envs\\sms\\lib\\site-packages\\httpx\\_client.py:901\u001b[0m, in \u001b[0;36mClient.send\u001b[1;34m(self, request, stream, auth, follow_redirects)\u001b[0m\n\u001b[0;32m    893\u001b[0m follow_redirects \u001b[39m=\u001b[39m (\n\u001b[0;32m    894\u001b[0m     \u001b[39mself\u001b[39m\u001b[39m.\u001b[39mfollow_redirects\n\u001b[0;32m    895\u001b[0m     \u001b[39mif\u001b[39;00m \u001b[39misinstance\u001b[39m(follow_redirects, UseClientDefault)\n\u001b[0;32m    896\u001b[0m     \u001b[39melse\u001b[39;00m follow_redirects\n\u001b[0;32m    897\u001b[0m )\n\u001b[0;32m    899\u001b[0m auth \u001b[39m=\u001b[39m \u001b[39mself\u001b[39m\u001b[39m.\u001b[39m_build_request_auth(request, auth)\n\u001b[1;32m--> 901\u001b[0m response \u001b[39m=\u001b[39m \u001b[39mself\u001b[39;49m\u001b[39m.\u001b[39;49m_send_handling_auth(\n\u001b[0;32m    902\u001b[0m     request,\n\u001b[0;32m    903\u001b[0m     auth\u001b[39m=\u001b[39;49mauth,\n\u001b[0;32m    904\u001b[0m     follow_redirects\u001b[39m=\u001b[39;49mfollow_redirects,\n\u001b[0;32m    905\u001b[0m     history\u001b[39m=\u001b[39;49m[],\n\u001b[0;32m    906\u001b[0m )\n\u001b[0;32m    907\u001b[0m \u001b[39mtry\u001b[39;00m:\n\u001b[0;32m    908\u001b[0m     \u001b[39mif\u001b[39;00m \u001b[39mnot\u001b[39;00m stream:\n",
      "File \u001b[1;32mc:\\Users\\caoyut\\.conda\\envs\\sms\\lib\\site-packages\\httpx\\_client.py:929\u001b[0m, in \u001b[0;36mClient._send_handling_auth\u001b[1;34m(self, request, auth, follow_redirects, history)\u001b[0m\n\u001b[0;32m    926\u001b[0m request \u001b[39m=\u001b[39m \u001b[39mnext\u001b[39m(auth_flow)\n\u001b[0;32m    928\u001b[0m \u001b[39mwhile\u001b[39;00m \u001b[39mTrue\u001b[39;00m:\n\u001b[1;32m--> 929\u001b[0m     response \u001b[39m=\u001b[39m \u001b[39mself\u001b[39;49m\u001b[39m.\u001b[39;49m_send_handling_redirects(\n\u001b[0;32m    930\u001b[0m         request,\n\u001b[0;32m    931\u001b[0m         follow_redirects\u001b[39m=\u001b[39;49mfollow_redirects,\n\u001b[0;32m    932\u001b[0m         history\u001b[39m=\u001b[39;49mhistory,\n\u001b[0;32m    933\u001b[0m     )\n\u001b[0;32m    934\u001b[0m     \u001b[39mtry\u001b[39;00m:\n\u001b[0;32m    935\u001b[0m         \u001b[39mtry\u001b[39;00m:\n",
      "File \u001b[1;32mc:\\Users\\caoyut\\.conda\\envs\\sms\\lib\\site-packages\\httpx\\_client.py:966\u001b[0m, in \u001b[0;36mClient._send_handling_redirects\u001b[1;34m(self, request, follow_redirects, history)\u001b[0m\n\u001b[0;32m    963\u001b[0m \u001b[39mfor\u001b[39;00m hook \u001b[39min\u001b[39;00m \u001b[39mself\u001b[39m\u001b[39m.\u001b[39m_event_hooks[\u001b[39m\"\u001b[39m\u001b[39mrequest\u001b[39m\u001b[39m\"\u001b[39m]:\n\u001b[0;32m    964\u001b[0m     hook(request)\n\u001b[1;32m--> 966\u001b[0m response \u001b[39m=\u001b[39m \u001b[39mself\u001b[39;49m\u001b[39m.\u001b[39;49m_send_single_request(request)\n\u001b[0;32m    967\u001b[0m \u001b[39mtry\u001b[39;00m:\n\u001b[0;32m    968\u001b[0m     \u001b[39mfor\u001b[39;00m hook \u001b[39min\u001b[39;00m \u001b[39mself\u001b[39m\u001b[39m.\u001b[39m_event_hooks[\u001b[39m\"\u001b[39m\u001b[39mresponse\u001b[39m\u001b[39m\"\u001b[39m]:\n",
      "File \u001b[1;32mc:\\Users\\caoyut\\.conda\\envs\\sms\\lib\\site-packages\\httpx\\_client.py:1002\u001b[0m, in \u001b[0;36mClient._send_single_request\u001b[1;34m(self, request)\u001b[0m\n\u001b[0;32m    997\u001b[0m     \u001b[39mraise\u001b[39;00m \u001b[39mRuntimeError\u001b[39;00m(\n\u001b[0;32m    998\u001b[0m         \u001b[39m\"\u001b[39m\u001b[39mAttempted to send an async request with a sync Client instance.\u001b[39m\u001b[39m\"\u001b[39m\n\u001b[0;32m    999\u001b[0m     )\n\u001b[0;32m   1001\u001b[0m \u001b[39mwith\u001b[39;00m request_context(request\u001b[39m=\u001b[39mrequest):\n\u001b[1;32m-> 1002\u001b[0m     response \u001b[39m=\u001b[39m transport\u001b[39m.\u001b[39;49mhandle_request(request)\n\u001b[0;32m   1004\u001b[0m \u001b[39massert\u001b[39;00m \u001b[39misinstance\u001b[39m(response\u001b[39m.\u001b[39mstream, SyncByteStream)\n\u001b[0;32m   1006\u001b[0m response\u001b[39m.\u001b[39mrequest \u001b[39m=\u001b[39m request\n",
      "File \u001b[1;32mc:\\Users\\caoyut\\.conda\\envs\\sms\\lib\\site-packages\\httpx\\_transports\\default.py:228\u001b[0m, in \u001b[0;36mHTTPTransport.handle_request\u001b[1;34m(self, request)\u001b[0m\n\u001b[0;32m    215\u001b[0m req \u001b[39m=\u001b[39m httpcore\u001b[39m.\u001b[39mRequest(\n\u001b[0;32m    216\u001b[0m     method\u001b[39m=\u001b[39mrequest\u001b[39m.\u001b[39mmethod,\n\u001b[0;32m    217\u001b[0m     url\u001b[39m=\u001b[39mhttpcore\u001b[39m.\u001b[39mURL(\n\u001b[1;32m   (...)\u001b[0m\n\u001b[0;32m    225\u001b[0m     extensions\u001b[39m=\u001b[39mrequest\u001b[39m.\u001b[39mextensions,\n\u001b[0;32m    226\u001b[0m )\n\u001b[0;32m    227\u001b[0m \u001b[39mwith\u001b[39;00m map_httpcore_exceptions():\n\u001b[1;32m--> 228\u001b[0m     resp \u001b[39m=\u001b[39m \u001b[39mself\u001b[39;49m\u001b[39m.\u001b[39;49m_pool\u001b[39m.\u001b[39;49mhandle_request(req)\n\u001b[0;32m    230\u001b[0m \u001b[39massert\u001b[39;00m \u001b[39misinstance\u001b[39m(resp\u001b[39m.\u001b[39mstream, typing\u001b[39m.\u001b[39mIterable)\n\u001b[0;32m    232\u001b[0m \u001b[39mreturn\u001b[39;00m Response(\n\u001b[0;32m    233\u001b[0m     status_code\u001b[39m=\u001b[39mresp\u001b[39m.\u001b[39mstatus,\n\u001b[0;32m    234\u001b[0m     headers\u001b[39m=\u001b[39mresp\u001b[39m.\u001b[39mheaders,\n\u001b[0;32m    235\u001b[0m     stream\u001b[39m=\u001b[39mResponseStream(resp\u001b[39m.\u001b[39mstream),\n\u001b[0;32m    236\u001b[0m     extensions\u001b[39m=\u001b[39mresp\u001b[39m.\u001b[39mextensions,\n\u001b[0;32m    237\u001b[0m )\n",
      "File \u001b[1;32mc:\\Users\\caoyut\\.conda\\envs\\sms\\lib\\site-packages\\httpcore\\_sync\\connection_pool.py:262\u001b[0m, in \u001b[0;36mConnectionPool.handle_request\u001b[1;34m(self, request)\u001b[0m\n\u001b[0;32m    260\u001b[0m     \u001b[39mwith\u001b[39;00m ShieldCancellation():\n\u001b[0;32m    261\u001b[0m         \u001b[39mself\u001b[39m\u001b[39m.\u001b[39mresponse_closed(status)\n\u001b[1;32m--> 262\u001b[0m     \u001b[39mraise\u001b[39;00m exc\n\u001b[0;32m    263\u001b[0m \u001b[39melse\u001b[39;00m:\n\u001b[0;32m    264\u001b[0m     \u001b[39mbreak\u001b[39;00m\n",
      "File \u001b[1;32mc:\\Users\\caoyut\\.conda\\envs\\sms\\lib\\site-packages\\httpcore\\_sync\\connection_pool.py:245\u001b[0m, in \u001b[0;36mConnectionPool.handle_request\u001b[1;34m(self, request)\u001b[0m\n\u001b[0;32m    242\u001b[0m         \u001b[39mraise\u001b[39;00m exc\n\u001b[0;32m    244\u001b[0m \u001b[39mtry\u001b[39;00m:\n\u001b[1;32m--> 245\u001b[0m     response \u001b[39m=\u001b[39m connection\u001b[39m.\u001b[39;49mhandle_request(request)\n\u001b[0;32m    246\u001b[0m \u001b[39mexcept\u001b[39;00m ConnectionNotAvailable:\n\u001b[0;32m    247\u001b[0m     \u001b[39m# The ConnectionNotAvailable exception is a special case, that\u001b[39;00m\n\u001b[0;32m    248\u001b[0m     \u001b[39m# indicates we need to retry the request on a new connection.\u001b[39;00m\n\u001b[1;32m   (...)\u001b[0m\n\u001b[0;32m    252\u001b[0m     \u001b[39m# might end up as an HTTP/2 connection, but which actually ends\u001b[39;00m\n\u001b[0;32m    253\u001b[0m     \u001b[39m# up as HTTP/1.1.\u001b[39;00m\n\u001b[0;32m    254\u001b[0m     \u001b[39mwith\u001b[39;00m \u001b[39mself\u001b[39m\u001b[39m.\u001b[39m_pool_lock:\n\u001b[0;32m    255\u001b[0m         \u001b[39m# Maintain our position in the request queue, but reset the\u001b[39;00m\n\u001b[0;32m    256\u001b[0m         \u001b[39m# status so that the request becomes queued again.\u001b[39;00m\n",
      "File \u001b[1;32mc:\\Users\\caoyut\\.conda\\envs\\sms\\lib\\site-packages\\httpcore\\_sync\\http_proxy.py:289\u001b[0m, in \u001b[0;36mTunnelHTTPConnection.handle_request\u001b[1;34m(self, request)\u001b[0m\n\u001b[0;32m    280\u001b[0m connect_headers \u001b[39m=\u001b[39m merge_headers(\n\u001b[0;32m    281\u001b[0m     [(\u001b[39mb\u001b[39m\u001b[39m\"\u001b[39m\u001b[39mHost\u001b[39m\u001b[39m\"\u001b[39m, target), (\u001b[39mb\u001b[39m\u001b[39m\"\u001b[39m\u001b[39mAccept\u001b[39m\u001b[39m\"\u001b[39m, \u001b[39mb\u001b[39m\u001b[39m\"\u001b[39m\u001b[39m*/*\u001b[39m\u001b[39m\"\u001b[39m)], \u001b[39mself\u001b[39m\u001b[39m.\u001b[39m_proxy_headers\n\u001b[0;32m    282\u001b[0m )\n\u001b[0;32m    283\u001b[0m connect_request \u001b[39m=\u001b[39m Request(\n\u001b[0;32m    284\u001b[0m     method\u001b[39m=\u001b[39m\u001b[39mb\u001b[39m\u001b[39m\"\u001b[39m\u001b[39mCONNECT\u001b[39m\u001b[39m\"\u001b[39m,\n\u001b[0;32m    285\u001b[0m     url\u001b[39m=\u001b[39mconnect_url,\n\u001b[0;32m    286\u001b[0m     headers\u001b[39m=\u001b[39mconnect_headers,\n\u001b[0;32m    287\u001b[0m     extensions\u001b[39m=\u001b[39mrequest\u001b[39m.\u001b[39mextensions,\n\u001b[0;32m    288\u001b[0m )\n\u001b[1;32m--> 289\u001b[0m connect_response \u001b[39m=\u001b[39m \u001b[39mself\u001b[39;49m\u001b[39m.\u001b[39;49m_connection\u001b[39m.\u001b[39;49mhandle_request(\n\u001b[0;32m    290\u001b[0m     connect_request\n\u001b[0;32m    291\u001b[0m )\n\u001b[0;32m    293\u001b[0m \u001b[39mif\u001b[39;00m connect_response\u001b[39m.\u001b[39mstatus \u001b[39m<\u001b[39m \u001b[39m200\u001b[39m \u001b[39mor\u001b[39;00m connect_response\u001b[39m.\u001b[39mstatus \u001b[39m>\u001b[39m \u001b[39m299\u001b[39m:\n\u001b[0;32m    294\u001b[0m     reason_bytes \u001b[39m=\u001b[39m connect_response\u001b[39m.\u001b[39mextensions\u001b[39m.\u001b[39mget(\u001b[39m\"\u001b[39m\u001b[39mreason_phrase\u001b[39m\u001b[39m\"\u001b[39m, \u001b[39mb\u001b[39m\u001b[39m\"\u001b[39m\u001b[39m\"\u001b[39m)\n",
      "File \u001b[1;32mc:\\Users\\caoyut\\.conda\\envs\\sms\\lib\\site-packages\\httpcore\\_sync\\connection.py:76\u001b[0m, in \u001b[0;36mHTTPConnection.handle_request\u001b[1;34m(self, request)\u001b[0m\n\u001b[0;32m     74\u001b[0m \u001b[39mif\u001b[39;00m \u001b[39mself\u001b[39m\u001b[39m.\u001b[39m_connection \u001b[39mis\u001b[39;00m \u001b[39mNone\u001b[39;00m:\n\u001b[0;32m     75\u001b[0m     \u001b[39mtry\u001b[39;00m:\n\u001b[1;32m---> 76\u001b[0m         stream \u001b[39m=\u001b[39m \u001b[39mself\u001b[39;49m\u001b[39m.\u001b[39;49m_connect(request)\n\u001b[0;32m     78\u001b[0m         ssl_object \u001b[39m=\u001b[39m stream\u001b[39m.\u001b[39mget_extra_info(\u001b[39m\"\u001b[39m\u001b[39mssl_object\u001b[39m\u001b[39m\"\u001b[39m)\n\u001b[0;32m     79\u001b[0m         http2_negotiated \u001b[39m=\u001b[39m (\n\u001b[0;32m     80\u001b[0m             ssl_object \u001b[39mis\u001b[39;00m \u001b[39mnot\u001b[39;00m \u001b[39mNone\u001b[39;00m\n\u001b[0;32m     81\u001b[0m             \u001b[39mand\u001b[39;00m ssl_object\u001b[39m.\u001b[39mselected_alpn_protocol() \u001b[39m==\u001b[39m \u001b[39m\"\u001b[39m\u001b[39mh2\u001b[39m\u001b[39m\"\u001b[39m\n\u001b[0;32m     82\u001b[0m         )\n",
      "File \u001b[1;32mc:\\Users\\caoyut\\.conda\\envs\\sms\\lib\\site-packages\\httpcore\\_sync\\connection.py:124\u001b[0m, in \u001b[0;36mHTTPConnection._connect\u001b[1;34m(self, request)\u001b[0m\n\u001b[0;32m    116\u001b[0m     kwargs \u001b[39m=\u001b[39m {\n\u001b[0;32m    117\u001b[0m         \u001b[39m\"\u001b[39m\u001b[39mhost\u001b[39m\u001b[39m\"\u001b[39m: \u001b[39mself\u001b[39m\u001b[39m.\u001b[39m_origin\u001b[39m.\u001b[39mhost\u001b[39m.\u001b[39mdecode(\u001b[39m\"\u001b[39m\u001b[39mascii\u001b[39m\u001b[39m\"\u001b[39m),\n\u001b[0;32m    118\u001b[0m         \u001b[39m\"\u001b[39m\u001b[39mport\u001b[39m\u001b[39m\"\u001b[39m: \u001b[39mself\u001b[39m\u001b[39m.\u001b[39m_origin\u001b[39m.\u001b[39mport,\n\u001b[1;32m   (...)\u001b[0m\n\u001b[0;32m    121\u001b[0m         \u001b[39m\"\u001b[39m\u001b[39msocket_options\u001b[39m\u001b[39m\"\u001b[39m: \u001b[39mself\u001b[39m\u001b[39m.\u001b[39m_socket_options,\n\u001b[0;32m    122\u001b[0m     }\n\u001b[0;32m    123\u001b[0m     \u001b[39mwith\u001b[39;00m Trace(\u001b[39m\"\u001b[39m\u001b[39mconnect_tcp\u001b[39m\u001b[39m\"\u001b[39m, logger, request, kwargs) \u001b[39mas\u001b[39;00m trace:\n\u001b[1;32m--> 124\u001b[0m         stream \u001b[39m=\u001b[39m \u001b[39mself\u001b[39m\u001b[39m.\u001b[39m_network_backend\u001b[39m.\u001b[39mconnect_tcp(\u001b[39m*\u001b[39m\u001b[39m*\u001b[39mkwargs)\n\u001b[0;32m    125\u001b[0m         trace\u001b[39m.\u001b[39mreturn_value \u001b[39m=\u001b[39m stream\n\u001b[0;32m    126\u001b[0m \u001b[39melse\u001b[39;00m:\n",
      "File \u001b[1;32mc:\\Users\\caoyut\\.conda\\envs\\sms\\lib\\site-packages\\httpcore\\_backends\\sync.py:212\u001b[0m, in \u001b[0;36mSyncBackend.connect_tcp\u001b[1;34m(self, host, port, timeout, local_address, socket_options)\u001b[0m\n\u001b[0;32m    206\u001b[0m exc_map: ExceptionMapping \u001b[39m=\u001b[39m {\n\u001b[0;32m    207\u001b[0m     socket\u001b[39m.\u001b[39mtimeout: ConnectTimeout,\n\u001b[0;32m    208\u001b[0m     \u001b[39mOSError\u001b[39;00m: ConnectError,\n\u001b[0;32m    209\u001b[0m }\n\u001b[0;32m    211\u001b[0m \u001b[39mwith\u001b[39;00m map_exceptions(exc_map):\n\u001b[1;32m--> 212\u001b[0m     sock \u001b[39m=\u001b[39m socket\u001b[39m.\u001b[39;49mcreate_connection(\n\u001b[0;32m    213\u001b[0m         address,\n\u001b[0;32m    214\u001b[0m         timeout,\n\u001b[0;32m    215\u001b[0m         source_address\u001b[39m=\u001b[39;49msource_address,\n\u001b[0;32m    216\u001b[0m     )\n\u001b[0;32m    217\u001b[0m     \u001b[39mfor\u001b[39;00m option \u001b[39min\u001b[39;00m socket_options:\n\u001b[0;32m    218\u001b[0m         sock\u001b[39m.\u001b[39msetsockopt(\u001b[39m*\u001b[39moption)  \u001b[39m# pragma: no cover\u001b[39;00m\n",
      "File \u001b[1;32mc:\\Users\\caoyut\\.conda\\envs\\sms\\lib\\socket.py:833\u001b[0m, in \u001b[0;36mcreate_connection\u001b[1;34m(address, timeout, source_address)\u001b[0m\n\u001b[0;32m    831\u001b[0m \u001b[39mif\u001b[39;00m source_address:\n\u001b[0;32m    832\u001b[0m     sock\u001b[39m.\u001b[39mbind(source_address)\n\u001b[1;32m--> 833\u001b[0m sock\u001b[39m.\u001b[39;49mconnect(sa)\n\u001b[0;32m    834\u001b[0m \u001b[39m# Break explicitly a reference cycle\u001b[39;00m\n\u001b[0;32m    835\u001b[0m err \u001b[39m=\u001b[39m \u001b[39mNone\u001b[39;00m\n",
      "\u001b[1;31mKeyboardInterrupt\u001b[0m: "
     ]
    }
   ],
   "source": [
    "\n",
    "# athr = \"qJjM8hkAAAAJ\" #Tim Murphy\n",
    "# athr = \"ataejQQAAAAJ\" #Paul Pavlidis\n",
    "athr = \"1NGZwzoAAAAJ\" #brian fisher\n",
    "pg = ProxyGenerator()\n",
    "success = pg.FreeProxies()\n",
    "scholarly.use_proxy(pg)\n",
    "author = scholarly.search_author_id(athr)\n",
    "data_dict = scholarly.fill(author, sections=['basics', 'indices', 'publications', 'counts'])"
   ]
  },
  {
   "cell_type": "code",
   "execution_count": 10,
   "id": "ff810ca5",
   "metadata": {},
   "outputs": [],
   "source": [
    "gs_titles = []\n",
    "for pub in data_dict['publications']:\n",
    "    pub_dict = {\n",
    "        \"title\":pub[\"bib\"][\"title\"]\n",
    "    }\n",
    "    try:\n",
    "        pub_dict[\"authors_name\"] = pub[\"bib\"][\"author\"]\n",
    "    except KeyError:\n",
    "        pub_dict[\"authors_name\"] = \"\"\n",
    "\n",
    "    try:\n",
    "        pub_dict[\"authors_id\"] = pub[\"author_id\"]\n",
    "    except KeyError:\n",
    "        pub_dict[\"authors_id\"] = \"\"\n",
    "    \n",
    "    try:\n",
    "        pub_dict[\"citations\"] = pub['num_citations']\n",
    "    except KeyError:\n",
    "        pub_dict[\"citations\"] = \"\"\n",
    "\n",
    "    try:\n",
    "        pub_dict[\"pub_type\"] = pub['bib']['pub_type']\n",
    "    except KeyError:\n",
    "        pub_dict[\"pub_type\"] = \"\"\n",
    "\n",
    "    gs_titles.append(pub_dict)"
   ]
  },
  {
   "cell_type": "code",
   "execution_count": 13,
   "id": "154597db",
   "metadata": {},
   "outputs": [
    {
     "ename": "KeyboardInterrupt",
     "evalue": "",
     "output_type": "error",
     "traceback": [
      "\u001b[1;31m---------------------------------------------------------------------------\u001b[0m",
      "\u001b[1;31mKeyboardInterrupt\u001b[0m                         Traceback (most recent call last)",
      "Cell \u001b[1;32mIn[13], line 4\u001b[0m\n\u001b[0;32m      1\u001b[0m gs_filled_titles \u001b[39m=\u001b[39m []\n\u001b[0;32m      3\u001b[0m \u001b[39mfor\u001b[39;00m i \u001b[39min\u001b[39;00m \u001b[39mrange\u001b[39m(\u001b[39mlen\u001b[39m(data_dict[\u001b[39m'\u001b[39m\u001b[39mpublications\u001b[39m\u001b[39m'\u001b[39m])):\n\u001b[1;32m----> 4\u001b[0m     pub \u001b[39m=\u001b[39m scholarly\u001b[39m.\u001b[39;49mfill(data_dict[\u001b[39m'\u001b[39;49m\u001b[39mpublications\u001b[39;49m\u001b[39m'\u001b[39;49m][i])\n\u001b[0;32m      5\u001b[0m     pub_dict \u001b[39m=\u001b[39m {\n\u001b[0;32m      6\u001b[0m         \u001b[39m\"\u001b[39m\u001b[39mtitle\u001b[39m\u001b[39m\"\u001b[39m:pub[\u001b[39m\"\u001b[39m\u001b[39mbib\u001b[39m\u001b[39m\"\u001b[39m][\u001b[39m\"\u001b[39m\u001b[39mtitle\u001b[39m\u001b[39m\"\u001b[39m]\n\u001b[0;32m      7\u001b[0m     }\n\u001b[0;32m      8\u001b[0m     \u001b[39mtry\u001b[39;00m:\n",
      "File \u001b[1;32mc:\\Users\\caoyut\\.conda\\envs\\sms\\lib\\site-packages\\scholarly\\_scholarly.py:238\u001b[0m, in \u001b[0;36m_Scholarly.fill\u001b[1;34m(self, object, sections, sortby, publication_limit)\u001b[0m\n\u001b[0;32m    236\u001b[0m \u001b[39melif\u001b[39;00m \u001b[39mobject\u001b[39m[\u001b[39m'\u001b[39m\u001b[39mcontainer_type\u001b[39m\u001b[39m'\u001b[39m] \u001b[39m==\u001b[39m \u001b[39m\"\u001b[39m\u001b[39mPublication\u001b[39m\u001b[39m\"\u001b[39m:\n\u001b[0;32m    237\u001b[0m     publication_parser \u001b[39m=\u001b[39m PublicationParser(\u001b[39mself\u001b[39m\u001b[39m.\u001b[39m__nav)\n\u001b[1;32m--> 238\u001b[0m     \u001b[39mobject\u001b[39m \u001b[39m=\u001b[39m publication_parser\u001b[39m.\u001b[39;49mfill(\u001b[39mobject\u001b[39;49m)\n\u001b[0;32m    239\u001b[0m \u001b[39mreturn\u001b[39;00m \u001b[39mobject\u001b[39m\n",
      "File \u001b[1;32mc:\\Users\\caoyut\\.conda\\envs\\sms\\lib\\site-packages\\scholarly\\publication_parser.py:278\u001b[0m, in \u001b[0;36mPublicationParser.fill\u001b[1;34m(self, publication)\u001b[0m\n\u001b[0;32m    276\u001b[0m \u001b[39mif\u001b[39;00m publication[\u001b[39m'\u001b[39m\u001b[39msource\u001b[39m\u001b[39m'\u001b[39m] \u001b[39m==\u001b[39m PublicationSource\u001b[39m.\u001b[39mAUTHOR_PUBLICATION_ENTRY:\n\u001b[0;32m    277\u001b[0m     url \u001b[39m=\u001b[39m _CITATIONPUB\u001b[39m.\u001b[39mformat(publication[\u001b[39m'\u001b[39m\u001b[39mauthor_pub_id\u001b[39m\u001b[39m'\u001b[39m])\n\u001b[1;32m--> 278\u001b[0m     soup \u001b[39m=\u001b[39m \u001b[39mself\u001b[39;49m\u001b[39m.\u001b[39;49mnav\u001b[39m.\u001b[39;49m_get_soup(url)\n\u001b[0;32m    279\u001b[0m     publication[\u001b[39m'\u001b[39m\u001b[39mbib\u001b[39m\u001b[39m'\u001b[39m][\u001b[39m'\u001b[39m\u001b[39mtitle\u001b[39m\u001b[39m'\u001b[39m] \u001b[39m=\u001b[39m soup\u001b[39m.\u001b[39mfind(\u001b[39m'\u001b[39m\u001b[39mdiv\u001b[39m\u001b[39m'\u001b[39m, \u001b[39mid\u001b[39m\u001b[39m=\u001b[39m\u001b[39m'\u001b[39m\u001b[39mgsc_oci_title\u001b[39m\u001b[39m'\u001b[39m)\u001b[39m.\u001b[39mtext\n\u001b[0;32m    280\u001b[0m     \u001b[39mif\u001b[39;00m publication[\u001b[39m'\u001b[39m\u001b[39mbib\u001b[39m\u001b[39m'\u001b[39m][\u001b[39m'\u001b[39m\u001b[39mtitle\u001b[39m\u001b[39m'\u001b[39m][\u001b[39m-\u001b[39m\u001b[39m1\u001b[39m] \u001b[39m==\u001b[39m \u001b[39m'\u001b[39m\u001b[39m\\u2026\u001b[39;00m\u001b[39m'\u001b[39m:\n",
      "File \u001b[1;32mc:\\Users\\caoyut\\.conda\\envs\\sms\\lib\\site-packages\\scholarly\\_navigator.py:239\u001b[0m, in \u001b[0;36mNavigator._get_soup\u001b[1;34m(self, url)\u001b[0m\n\u001b[0;32m    237\u001b[0m \u001b[39mdef\u001b[39;00m \u001b[39m_get_soup\u001b[39m(\u001b[39mself\u001b[39m, url: \u001b[39mstr\u001b[39m) \u001b[39m-\u001b[39m\u001b[39m>\u001b[39m BeautifulSoup:\n\u001b[0;32m    238\u001b[0m \u001b[39m    \u001b[39m\u001b[39m\"\"\"Return the BeautifulSoup for a page on scholar.google.com\"\"\"\u001b[39;00m\n\u001b[1;32m--> 239\u001b[0m     html \u001b[39m=\u001b[39m \u001b[39mself\u001b[39;49m\u001b[39m.\u001b[39;49m_get_page(\u001b[39m'\u001b[39;49m\u001b[39mhttps://scholar.google.com\u001b[39;49m\u001b[39m{0}\u001b[39;49;00m\u001b[39m'\u001b[39;49m\u001b[39m.\u001b[39;49mformat(url))\n\u001b[0;32m    240\u001b[0m     html \u001b[39m=\u001b[39m html\u001b[39m.\u001b[39mreplace(\u001b[39mu\u001b[39m\u001b[39m'\u001b[39m\u001b[39m\\xa0\u001b[39;00m\u001b[39m'\u001b[39m, \u001b[39mu\u001b[39m\u001b[39m'\u001b[39m\u001b[39m \u001b[39m\u001b[39m'\u001b[39m)\n\u001b[0;32m    241\u001b[0m     res \u001b[39m=\u001b[39m BeautifulSoup(html, \u001b[39m'\u001b[39m\u001b[39mhtml.parser\u001b[39m\u001b[39m'\u001b[39m)\n",
      "File \u001b[1;32mc:\\Users\\caoyut\\.conda\\envs\\sms\\lib\\site-packages\\scholarly\\_navigator.py:113\u001b[0m, in \u001b[0;36mNavigator._get_page\u001b[1;34m(self, pagerequest, premium)\u001b[0m\n\u001b[0;32m    111\u001b[0m \u001b[39mtry\u001b[39;00m:\n\u001b[0;32m    112\u001b[0m     w \u001b[39m=\u001b[39m random\u001b[39m.\u001b[39muniform(\u001b[39m1\u001b[39m,\u001b[39m2\u001b[39m)\n\u001b[1;32m--> 113\u001b[0m     time\u001b[39m.\u001b[39;49msleep(w)\n\u001b[0;32m    114\u001b[0m     resp \u001b[39m=\u001b[39m session\u001b[39m.\u001b[39mget(pagerequest, timeout\u001b[39m=\u001b[39mtimeout)\n\u001b[0;32m    115\u001b[0m     \u001b[39mif\u001b[39;00m premium \u001b[39mis\u001b[39;00m \u001b[39mFalse\u001b[39;00m:  \u001b[39m# premium methods may contain sensitive information\u001b[39;00m\n",
      "\u001b[1;31mKeyboardInterrupt\u001b[0m: "
     ]
    }
   ],
   "source": [
    "# attempt to get coauthor data\n",
    "# gs_filled_titles = []\n",
    "\n",
    "# for i in range(len(data_dict['publications'])):\n",
    "#     pub = scholarly.fill(data_dict['publications'][i])\n",
    "#     pub_dict = {\n",
    "#         \"title\":pub[\"bib\"][\"title\"]\n",
    "#     }\n",
    "#     try:\n",
    "#         pub_dict[\"authors_name\"] = pub[\"bib\"][\"author\"]\n",
    "#     except KeyError:\n",
    "#         pub_dict[\"authors_name\"] = \"\"\n",
    "\n",
    "#     try:\n",
    "#         pub_dict[\"authors_id\"] = pub[\"author_id\"]\n",
    "#     except KeyError:\n",
    "#         pub_dict[\"authors_id\"] = \"\"\n",
    "    \n",
    "#     try:\n",
    "#         pub_dict[\"citations\"] = pub['num_citations']\n",
    "#     except KeyError:\n",
    "#         pub_dict[\"citations\"] = \"\"\n",
    "\n",
    "#     try:\n",
    "#         pub_dict[\"pub_type\"] = pub['bib']['pub_type']\n",
    "#     except KeyError:\n",
    "#         pub_dict[\"pub_type\"] = \"\"\n",
    "\n",
    "#     gs_filled_titles.append(pub_dict)"
   ]
  },
  {
   "cell_type": "code",
   "execution_count": 15,
   "id": "10de4069",
   "metadata": {},
   "outputs": [
    {
     "name": "stdout",
     "output_type": "stream",
     "text": [
      "187\n"
     ]
    }
   ],
   "source": [
    "print(len(gs_titles))"
   ]
  },
  {
   "cell_type": "code",
   "execution_count": 145,
   "id": "d9efe7e4",
   "metadata": {},
   "outputs": [
    {
     "name": "stdout",
     "output_type": "stream",
     "text": [
      "{'container_type': 'Publication', 'source': <PublicationSource.AUTHOR_PUBLICATION_ENTRY: 'AUTHOR_PUBLICATION_ENTRY'>, 'bib': {'title': 'Molecular and functional heterogeneity of hyperpolarization-activated pacemaker channels in the mouse CNS', 'pub_year': 2000, 'citation': 'Journal of Neuroscience 20 (14), 5264-5275, 2000', 'author': 'Bina Santoro and Shan Chen and Anita Lüthi and Paul Pavlidis and Gleb P Shumyatsky and Gareth R Tibbs and Steven A Siegelbaum', 'journal': 'Journal of Neuroscience', 'volume': '20', 'number': '14', 'pages': '5264-5275', 'publisher': 'Society for Neuroscience', 'abstract': 'The hyperpolarization-activated cation current (termedIh,Iq, orIf) was recently shown to be encoded by a new family of genes, named HCN forhyperpolarization-activated cyclicnucleotide-sensitive cationnonselective. When expressed in heterologous cells, each HCN isoform generates channels with distinct activation kinetics, mirroring the range of biophysical properties of nativeIh currents recorded in different classes of neurons. To determine whether the functional diversity ofIh currents is attributable to different patterns of HCN gene expression, we determined the mRNA distribution across different regions of the mouse CNS of the three mouse HCN genes that are prominently expressed there (mHCN1, 2 and 4). We observe distinct patterns of distribution for each of the three genes. Whereas mHCN2 shows a widespread expression throughout the CNS, the expression of mHCN1 and mHCN4 is more limited, and …'}, 'filled': True, 'author_pub_id': 'ataejQQAAAAJ:u5HHmVD_uO8C', 'num_citations': 696, 'citedby_url': '/scholar?hl=en&cites=11688790525697323485', 'cites_id': ['11688790525697323485'], 'pub_url': 'https://www.jneurosci.org/content/20/14/5264.short', 'url_related_articles': '/scholar?oi=bibs&hl=en&q=related:3fEjog3tNqIJ:scholar.google.com/', 'cites_per_year': {2001: 27, 2002: 33, 2003: 44, 2004: 26, 2005: 32, 2006: 43, 2007: 43, 2008: 30, 2009: 34, 2010: 33, 2011: 31, 2012: 41, 2013: 37, 2014: 26, 2015: 41, 2016: 23, 2017: 12, 2018: 26, 2019: 24, 2020: 25, 2021: 19, 2022: 26, 2023: 13}}\n"
     ]
    }
   ],
   "source": [
    "print(data_dict['publications'][1])"
   ]
  },
  {
   "cell_type": "code",
   "execution_count": null,
   "id": "c6da6bad",
   "metadata": {},
   "outputs": [],
   "source": [
    "#make a dict with coauthor name information and coauthor IDs\n",
    "#filter down to documents that are looked at-- ones where co-author is among those in the list"
   ]
  },
  {
   "cell_type": "code",
   "execution_count": 93,
   "id": "44251e18",
   "metadata": {},
   "outputs": [],
   "source": [
    "# filled_pubs = []\n",
    "# pub_types = []\n",
    "# authors = []\n",
    "# for i in range(len(data_dict['publications'])):\n",
    "#     filled_pub = scholarly.fill(data_dict['publications'][i])\n",
    "#     filled_pubs.append(filled_pub)\n",
    "#     authors.append(filled_pub[\"bib\"][\"author\"])\n",
    "#     try:\n",
    "#         pub_types.append(filled_pub['bib']['pub_type'])\n",
    "#     except KeyError:\n",
    "#         filled_pubs.append(\"\")\n"
   ]
  },
  {
   "cell_type": "code",
   "execution_count": 99,
   "id": "847eec4e",
   "metadata": {},
   "outputs": [
    {
     "name": "stdout",
     "output_type": "stream",
     "text": [
      "{'container_type': 'Publication', 'source': <PublicationSource.AUTHOR_PUBLICATION_ENTRY: 'AUTHOR_PUBLICATION_ENTRY'>, 'bib': {'title': 'Molecular and functional heterogeneity of hyperpolarization-activated pacemaker channels in the mouse CNS', 'pub_year': 2000, 'citation': 'Journal of Neuroscience 20 (14), 5264-5275, 2000', 'author': 'Bina Santoro and Shan Chen and Anita Lüthi and Paul Pavlidis and Gleb P Shumyatsky and Gareth R Tibbs and Steven A Siegelbaum', 'journal': 'Journal of Neuroscience', 'volume': '20', 'number': '14', 'pages': '5264-5275', 'publisher': 'Society for Neuroscience', 'abstract': 'The hyperpolarization-activated cation current (termedIh,Iq, orIf) was recently shown to be encoded by a new family of genes, named HCN forhyperpolarization-activated cyclicnucleotide-sensitive cationnonselective. When expressed in heterologous cells, each HCN isoform generates channels with distinct activation kinetics, mirroring the range of biophysical properties of nativeIh currents recorded in different classes of neurons. To determine whether the functional diversity ofIh currents is attributable to different patterns of HCN gene expression, we determined the mRNA distribution across different regions of the mouse CNS of the three mouse HCN genes that are prominently expressed there (mHCN1, 2 and 4). We observe distinct patterns of distribution for each of the three genes. Whereas mHCN2 shows a widespread expression throughout the CNS, the expression of mHCN1 and mHCN4 is more limited, and …'}, 'filled': True, 'author_pub_id': 'ataejQQAAAAJ:u5HHmVD_uO8C', 'num_citations': 695, 'citedby_url': '/scholar?hl=en&cites=11688790525697323485', 'cites_id': ['11688790525697323485'], 'pub_url': 'https://www.jneurosci.org/content/20/14/5264.short', 'url_related_articles': '/scholar?oi=bibs&hl=en&q=related:3fEjog3tNqIJ:scholar.google.com/', 'cites_per_year': {2001: 27, 2002: 33, 2003: 44, 2004: 26, 2005: 32, 2006: 43, 2007: 43, 2008: 30, 2009: 34, 2010: 33, 2011: 31, 2012: 41, 2013: 37, 2014: 26, 2015: 41, 2016: 23, 2017: 12, 2018: 26, 2019: 24, 2020: 25, 2021: 19, 2022: 26, 2023: 12}}\n"
     ]
    }
   ],
   "source": [
    "# print(filled_pubs[2])"
   ]
  },
  {
   "cell_type": "code",
   "execution_count": 16,
   "id": "3c355618-2b06-4d45-9910-60b11bb8b26f",
   "metadata": {},
   "outputs": [
    {
     "name": "stdout",
     "output_type": "stream",
     "text": [
      "scival publications: 96\n",
      "gs publications: 187\n"
     ]
    }
   ],
   "source": [
    "print(\"scival publications:\", len(sv_titles))\n",
    "print(\"gs publications:\", len(gs_titles))"
   ]
  },
  {
   "cell_type": "code",
   "execution_count": 17,
   "id": "8474414e",
   "metadata": {},
   "outputs": [],
   "source": [
    "sv_titles_lowered = []\n",
    "for d in sv_titles:\n",
    "    d.update((k, v.replace(\"<sup>\",\"\").replace(\"</sup>\",\"\").replace(\"<inf>\",\"\").replace(\"</inf>\",\"\")) for k, v in d.items() if k == \"title\")\n",
    "    d.update((k, \" \".join(\n",
    "                [\n",
    "                    word.strip() \n",
    "                    for word in re.sub(r'[^\\w]', ' ', v.lower()).split(\" \") \n",
    "                    if word != \"\"]\n",
    "                    )\n",
    "                    ) for k, v in d.items() if k == \"title\")\n",
    "    sv_titles_lowered.append(d[\"title\"])"
   ]
  },
  {
   "cell_type": "code",
   "execution_count": 18,
   "id": "3375d1c9",
   "metadata": {},
   "outputs": [],
   "source": [
    "gs_titles_lowered = []\n",
    "for d in gs_titles:\n",
    "    d.update((k, \" \".join(\n",
    "                [\n",
    "                    word.strip() \n",
    "                    for word in re.sub(r'[^\\w]', ' ', v.lower()).split(\" \") \n",
    "                    if word != \"\"]\n",
    "                    )\n",
    "                    ) for k, v in d.items() if k == \"title\")\n",
    "    gs_titles_lowered.append(d[\"title\"])"
   ]
  },
  {
   "cell_type": "code",
   "execution_count": 19,
   "id": "616c499c",
   "metadata": {},
   "outputs": [
    {
     "name": "stdout",
     "output_type": "stream",
     "text": [
      "{'title': 'ipca an interactive system for pca based visual analytics', 'authors_name': '', 'authors_id': '', 'citations': 275, 'pub_type': ''}\n"
     ]
    }
   ],
   "source": [
    "print(gs_titles[1])"
   ]
  },
  {
   "cell_type": "code",
   "execution_count": 20,
   "id": "66b92f2f",
   "metadata": {},
   "outputs": [
    {
     "name": "stdout",
     "output_type": "stream",
     "text": [
      "['interactive visual analytics and visualization for decision making minitrack', 'preface', 'interactive visual analytics and visualization for decision making making sense of a growing digital world', 'lecture notes in computer science preface', 'lecture notes in computer science including subseries lecture notes in artificial intelligence and lecture notes in bioinformatics preface']\n",
      "['experimental investigation of linguistic and parametric descriptions of human motion for animation', 'individual differences and translational science in the design of human centered visualizations', 'an interaction approach to enhance situational awareness and the production of anticipatory actions in emergency operation centers', 'peer presence and real time assessment a symbiotic relationship', 'introduction to the minitrack on interactive visual analytics and visualization for decision making', 'vis conference committee', 'vast steering committee', 'vast international program committee']\n"
     ]
    }
   ],
   "source": [
    "#find coauthors for comparison between gs and scival(?) since coauthors would be most important factor\n",
    "\n",
    "#filter for coauthors of interest\n",
    "\n",
    "#find sv/gs overlap in titles\n",
    "\n",
    "from collections import Counter\n",
    "sv_duplicates = [k for k,v in Counter(sv_titles_lowered).items() if v>1]\n",
    "gs_duplicates = [k for k,v in Counter(gs_titles_lowered).items() if v>1]\n",
    "\n",
    "print(sv_duplicates)\n",
    "print(gs_duplicates)"
   ]
  },
  {
   "cell_type": "code",
   "execution_count": 31,
   "id": "7281b2c5",
   "metadata": {},
   "outputs": [
    {
     "name": "stdout",
     "output_type": "stream",
     "text": [
      "scival duplicates: {'interactive visual analytics and visualization for decision making minitrack': [5, 10], 'preface': [8, 17, 19, 26], 'interactive visual analytics and visualization for decision making making sense of a growing digital world': [12, 16], 'lecture notes in computer science preface': [66, 77], 'lecture notes in computer science including subseries lecture notes in artificial intelligence and lecture notes in bioinformatics preface': [71, 72]}\n",
      "num of scival duplicates: 5\n",
      "total scival duplicates: 12\n",
      "\n",
      "google scholar duplicates: {'experimental investigation of linguistic and parametric descriptions of human motion for animation': [65, 178], 'individual differences and translational science in the design of human centered visualizations': [71, 121], 'an interaction approach to enhance situational awareness and the production of anticipatory actions in emergency operation centers': [98, 122], 'peer presence and real time assessment a symbiotic relationship': [104, 105], 'introduction to the minitrack on interactive visual analytics and visualization for decision making': [109, 110], 'vis conference committee': [147, 159, 161, 162, 164, 169], 'vast steering committee': [149, 170, 173], 'vast international program committee': [165, 172]}\n",
      "num of gs duplicates: 8\n"
     ]
    }
   ],
   "source": [
    "from collections import defaultdict\n",
    "\n",
    "sv_D = defaultdict(list)\n",
    "for i,item in enumerate(sv_titles_lowered):\n",
    "    sv_D[item].append(i)\n",
    "sv_D = {k:v for k,v in sv_D.items() if len(v)>1}\n",
    "print(\"scival duplicates:\",sv_D)\n",
    "print(\"num of scival duplicates:\",len(sv_D))\n",
    "print(\"total scival duplicates:\",sum(np.array([len(v) for k,v in sv_D.items()])))\n",
    "print()\n",
    "\n",
    "gs_D = defaultdict(list)\n",
    "for i,item in enumerate(gs_titles_lowered):\n",
    "    gs_D[item].append(i)\n",
    "gs_D = {k:v for k,v in gs_D.items() if len(v)>1}\n",
    "print(\"google scholar duplicates:\",gs_D)\n",
    "print(\"num of gs duplicates:\",len(gs_D))"
   ]
  },
  {
   "cell_type": "code",
   "execution_count": 22,
   "id": "14fec28a-ba61-4252-a788-f53838e79dc3",
   "metadata": {
    "scrolled": true
   },
   "outputs": [
    {
     "name": "stdout",
     "output_type": "stream",
     "text": [
      "72\n"
     ]
    }
   ],
   "source": [
    "matching_titles = list(set(gs_titles_lowered).intersection(sv_titles_lowered))\n",
    "# print(matching_titles)\n",
    "print(len(matching_titles))"
   ]
  },
  {
   "cell_type": "code",
   "execution_count": 23,
   "id": "12e132cb-6217-419e-afb1-dc53543eec06",
   "metadata": {
    "scrolled": true
   },
   "outputs": [
    {
     "name": "stdout",
     "output_type": "stream",
     "text": [
      "17\n"
     ]
    }
   ],
   "source": [
    "scival_only_titles = list(set(sv_titles_lowered) - set(gs_titles_lowered))\n",
    "print(len(scival_only_titles))\n",
    "# print(scival_only_titles)"
   ]
  },
  {
   "cell_type": "code",
   "execution_count": 24,
   "id": "a132689e-5ddd-43ac-a427-00e702987322",
   "metadata": {
    "scrolled": true
   },
   "outputs": [
    {
     "name": "stdout",
     "output_type": "stream",
     "text": [
      "102\n"
     ]
    }
   ],
   "source": [
    "gs_only_titles = list(set(gs_titles_lowered) - set(sv_titles_lowered))\n",
    "print(len(gs_only_titles))\n",
    "# print(gs_only_titles)"
   ]
  },
  {
   "cell_type": "code",
   "execution_count": 25,
   "id": "1d2eee66-5cfd-4c19-89de-a13c1e347faa",
   "metadata": {},
   "outputs": [],
   "source": [
    "out_df = pd.DataFrame(\n",
    "    {\n",
    "        \"gs publications\":gs_titles,\n",
    "        \"scival publications\":sv_titles + [\"\"]*(len(gs_titles_lowered)-len(sv_titles)),\n",
    "        \"GS ONLY publications\":gs_only_titles+ [\"\"]*(len(gs_titles_lowered)-len(gs_only_titles)),\n",
    "        \"SCIVAL ONLY publications\": scival_only_titles+ [\"\"]*(len(gs_titles_lowered)-len(scival_only_titles)),\n",
    "        \"shared publications\":matching_titles+ [\"\"]*(len(gs_titles_lowered)-len(matching_titles)),\n",
    "    })"
   ]
  },
  {
   "cell_type": "code",
   "execution_count": 75,
   "id": "36322da4-d835-4433-b96f-51e9594d3164",
   "metadata": {},
   "outputs": [],
   "source": [
    "out_df.to_csv(f\"{ar.surname}_{ar.given_name}_publication_compare.csv\")"
   ]
  },
  {
   "cell_type": "code",
   "execution_count": 77,
   "id": "85e78f75-d080-49c5-ba43-cb60e7ae3b23",
   "metadata": {},
   "outputs": [],
   "source": [
    "comp_df = pd.read_csv(\"6_publication_compare_standardspaces.csv\")\n",
    "gs_comp_list = comp_df[\"GS ONLY publications\"].dropna().tolist()"
   ]
  },
  {
   "cell_type": "code",
   "execution_count": 78,
   "id": "e7de904f",
   "metadata": {},
   "outputs": [
    {
     "name": "stdout",
     "output_type": "stream",
     "text": [
      "['analysis of gene networks in schizophrenia and the challenge of multifunctionality', 'a critical assessment of single cell transcriptomes sampled following patch clamp electrophysiology', 'ps73 changes in neuronal densities underlying transcriptional alterations in psychiatric patients', 'cutting edge stat6 serves as a positive and', 'analysis of gene expression profiles in schizophrenia using a large combined cohort', 'coexpression based gene discovery in the post synaptic proteome', 'basal and apical synapses of ca1 pyramidal cells employ different', 'drosophila mutations affecting electrical excitability', 'coexpression analysis of human genes across many microarray data sets', 'corrigendum to cortical functional connectivity decodes subconscious task irrelevant threat related emotion processing neuroimage 61 4 2012 1355 1363', 'nar molecular biology database collection entry number 1476', 'crosslaboratory comparison of human postmortem brain expression profiling data', 'data from assessing identity redundancy and confounds in gene ontology annotations over time', 'large scale network and machine learning analyses reveal functional connectivity between temporal pole and hippocampus is reduced in social anxiety disorder and increases', 'database editorial board 2010', 'supplemental data zac1 regulates an imprinted gene network critically involved in the control of embryonic growth', 'isdn2014_0418 dna methylation changes in fetal alcohol spectrum disorder', 'gene ontology matrices with descriptions ids etc from guilt by association is the exception rather than the rule in gene networks gillis j and pavlidis p 2012 plos', 'whose sample is it anyway widespread misannotation of samples in transcriptomics studies', 'changes in neuronal densities underlying transcriptional alterations in psychiatric patients', 'differential gene expression in schizophrenia and bipolar disorder in the corpus callosum', 'transcriptomic responses to high water temperature in two species of p acific salmon', 'large scale analysis of brain wide electrophysiological diversity reveals novel characterization of mammalian neuron types', 'supplementary information for', 'gist support vector machine and kernel principal components analysis software toolkit', 'programming of neural gene expression response to adjuvant induced arthritis by prenatal diet in a rat model of prenatal alcohol exposure', 'systematic phenomics analysis of asd associated genes reveals shared functions and parallel networks underlying reversible impairments in habituation learning', 'gene expression in lens epithelial cell lines conditioned to survive h2o2 or tbhp', 'application and evaluation of automated methods to extract brain connectivity statements from free text', 'the impact of multifunctional genes on', 'identification of three distinct blood mononuclear cell gene expression signatures reveals heterogeneity of recent onset polyarticular juvenile idiopathic arthritis', 'availability this version is available at http porto polito it 2649752 since september 2016', 'follow up progress and challenges in the', 'gp 5 10 mapk signaling pathway is commonly activated in hearts of mouse models of autosomal dominant and x linked emery dreifuss muscular dystrophy', 'interpreting cell type specific changes in bulk tissue transcriptomics data', 'a primate specific and brain enriched mirna is involved in depression and regulates the expression of grm4', 'cross validation calculation from guilt by association is the exception rather than the rule in gene networks gillis j and pavlidis p 2012 plos computational biology 8 3', 'use case the postsynaptic proteome from assessing identity redundancy and confounds in gene ontology annotations over time', 'p091 neurocarta online platform for integration and sharing of phenotypic and genomics information', 'gene expression in juvenile arthritis and spondyloarthropathy pro angiogenic elr chemokine genes relate to course of arthritis', 'supplemental data histone deacetylase inhibition elicits an evolutionarily conserved self renewal program in embryonic stem cells', 'physiological behavioral and molecular analysis of bang sensitive paralytic mutants of drosophila melanogaster', 'neurocarta aggregating and sharing disease gene relations for the interpretation of genomics studies', 'paul pavlidis and william stafford noble columbia genome center and department of computer science columbia university corresponding author', 'sharing expression profiling data with gemma', 'cognitive domains function complementation by ntng gene paralogs', 'figure data from the role of indirect connections in gene networks in predicting function gillis j and pavlidis p 2011 bioinformatics 27 13 pp 1860 1866', 'network data from the role of indirect connections in gene networks in predicting function gillis j and pavlidis p 2011 bioinformatics 27 13 pp 1860 1866', 'data and design files for 6 public datasets used in genome wide expression profiling of schizophrenia using a large combined cohort mistry m and gillis j and pavlidis p', 'promoter re ion ased classification of enes', 'assessing the utility of pharmacogenetic testing in a cohort with treatment resistant schizophrenia or schizoaffective disorder', 'gist support vector machine 1 0', 'classification of clear cell sarcoma as melanoma of soft parts by genomic profiling', 'molecular differences between chronic and aggressive periodontitis', 'combining microarray expression data and phylogenetic profiles to learn gene functional categories using support vector machines', 'general obstetrics and gynecology fetus placenta newborn a high throughput study of gene expression in preterm labor with a subtractive microarray approach the subtractive dna', 'variant selection gene exploration', 'cataloging the potential functional diversity of cacna1e splice variants using long read sequencing', 'methodology for analyzing temporal patterns of differential coexpression using meta analysis', 'neurocarta online plaiorm for integration and sharing of phenotypic and genomics information', 'can machine learning aid in identifying disease genes the case of autism spectrum disorder', 'gene coexpression analysis in the frontal cortex of bipolar patients and controls', 'classification of genes using probabilistic models of microarray expression profiles', 'single cell genomic strategies to understand psychopathological processes in suicide and associated psychopathology', 'gene lists from the role of indirect connections in gene networks in predicting function gillis j and pavlidis p 2011 bioinformatics 27 13 pp 1860 1866', 'cross scale mapping of gene expression to neuroimaging datasets via semantic decomposition', 'gist', 'varicarta a comprehensive database of harmonized genomic variants found in asd sequencing studies', 'live demos in incf booth 4112 atsfn in san diego', 'toll like receptor 4 tlr4 dependent gene expression in a murine model of bacterially induced preterm labor', 'whose sample is it anyway widespread misannotation of samples in transcriptomics studies version 1 referees awaiting', 'gene lists from gillis j and pavlidis p 2012 plos computational biology 8 3', 'a6 08 transcriptome profiling by next generation sequencing of hematopoietic progenitors in murine systemic lupus erythematosus sle', 'gene ontology matrices from the role of indirect connections in gene networks in predicting function gillis j and pavlidis p 2011 bioinformatics 27 13 pp 1860 1866', 'effect of electroconvulsive shock and magnetic seizure on gene expression profiles in the prefrontal cortex of the rhesus monkey', 'samples in transcriptomics studies version 1 referees 2', 'application of large scale text mining and curation for extracting neuronal electrophysiology data', 'whose sample is it anyway widespread misannotation of samples in transcriptomics studies version 2 peer review', 'decoding unattended fearful faces with whole brain correlations an approach to identify condition', 'supplementary santiago potashkin 2015 reanalysis', 'cellular and molecular properties of neurons modeling sources of interlaboratory variability in electrophysiological properties of mammalian neurons', 'michael smith laboratories university of british columbia vancouver bc canada department of psychiatry university of british columbia vancouver bc canada corresponding', 'ôø å òù ö ôø', 'systematic phenomics analysis of asd associated genes reveals shared functions and', 'experiment level curation identifies high confidence transcriptional regulatory interactions in neurodevelopment', 'single cell genomic strategies to understand psychopathological processes in depression and suicide', 'exceptional edges matrices from guilt by association is the exception rather than the rule in gene networks gillis j and pavlidis p 2012 plos computational biology 8 3', 'multi model functionalization of 106 pten missense mutations identifies multiple molecular mechanisms underlying protein dysfunction', 'tu71 significant incidence of rare chromosomal and genomic sequence variants in highly treatment resistant schizophrenia and schizoaffective disorder', '11 changes in cellular abundance underlying transcriptional alterations in psychiatric patients']\n"
     ]
    }
   ],
   "source": []
  },
  {
   "cell_type": "code",
   "execution_count": null,
   "id": "77d7d875",
   "metadata": {},
   "outputs": [],
   "source": [
    "'''gs_titles = [] #list of title strings\n",
    "data_dict = scholarly.fill(author, sections=['basics', 'indices', 'publications', 'counts'])\n",
    "\n",
    "for i in range(len(data_dict['publications'])):\n",
    "\n",
    "    filled_pub = scholarly.fill(data_dict['publications'][i])\n",
    "    \n",
    "    pub_dict = {\n",
    "        \"title\":filled_pub[\"bib\"][\"title\"],\n",
    "        \"authors_name\":filled_pub[\"bib\"][\"author\"],\n",
    "        \"authors_id\":filled_pub[\"author_id\"],\n",
    "        \"citations\":filled_pub['num_citations'],\n",
    "    }\n",
    "    try:\n",
    "        pub_dict[\"pub_type\"] = filled_pub['bib']['pub_type']\n",
    "    except KeyError:\n",
    "        pub_dict[\"pub_type\"] = \"\"\n",
    "\n",
    "    gs_titles.append(pub_dict)'''\n",
    "\n",
    "\n",
    "'''\n",
    "#clean list of title names\n",
    "scival_titles_lowered = [pub[\"title\"].replace(\"<sup>\",\"\").replace(\"</sup>\",\"\").replace(\"<inf>\",\"\").replace(\"</inf>\",\"\") for pub in sv_titles]\n",
    "\n",
    "scival_titles_lowered = [\n",
    "    \" \".join(\n",
    "        [\n",
    "            word.strip() \n",
    "            for word in re.sub(r'[^\\w]', ' ', title.lower()).split(\" \") \n",
    "            if word != \"\"])\n",
    "    for title in sv_titles\n",
    "    ]\n",
    "# gs_titles_lowered = [re.sub(r'[^\\w]', ' ', title.lower()).strip() for title in gs_titles]\n",
    "gs_titles_lowered = [\n",
    "    \" \".join(\n",
    "        [\n",
    "            word.strip() \n",
    "            for word in re.sub(r'[^\\w]', ' ', title.lower()).split(\" \") \n",
    "            if word != \"\"])\n",
    "    for title in gs_titles\n",
    "    ]\n",
    "'''\n"
   ]
  }
 ],
 "metadata": {
  "kernelspec": {
   "display_name": "Python 3 (ipykernel)",
   "language": "python",
   "name": "python3"
  },
  "language_info": {
   "codemirror_mode": {
    "name": "ipython",
    "version": 3
   },
   "file_extension": ".py",
   "mimetype": "text/x-python",
   "name": "python",
   "nbconvert_exporter": "python",
   "pygments_lexer": "ipython3",
   "version": "3.10.12"
  }
 },
 "nbformat": 4,
 "nbformat_minor": 5
}
