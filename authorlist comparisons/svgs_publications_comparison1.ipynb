{
 "cells": [
  {
   "cell_type": "code",
   "execution_count": 1,
   "id": "1dbb4105-b905-4425-9314-093ead56af07",
   "metadata": {},
   "outputs": [],
   "source": [
    "import os\n",
    "import requests\n",
    "import json\n",
    "import csv\n",
    "import pandas as pd\n",
    "import numpy as np\n",
    "import re\n",
    "from collections import defaultdict"
   ]
  },
  {
   "cell_type": "code",
   "execution_count": 17,
   "id": "6a21d114",
   "metadata": {},
   "outputs": [],
   "source": [
    "sv_pubs = pd.read_csv(\"sv_shared_pubs.csv\").set_index(\"Title\").T.to_dict(\"list\")\n",
    "gs_pubs = pd.read_csv(\"../shared_pubs.csv\").set_index(\"Title\").T.to_dict(\"list\")"
   ]
  },
  {
   "cell_type": "code",
   "execution_count": 18,
   "id": "bd2dec60",
   "metadata": {},
   "outputs": [
    {
     "name": "stdout",
     "output_type": "stream",
     "text": [
      "{'Chronic multiscale resolution of mouse brain networks using combined mesoscale cortical imaging and subcortical fiber photometry': [\"['Timothy H. Murphy', 'Lynn A. Raymond']\"], 'Water-Reaching Platform for Longitudinal Assessment of Cortical Activity and Fine Motor Coordination Defects in a Huntington Disease Mouse Model': [\"['Timothy H. Murphy', 'Lynn A. Raymond']\"], 'Multiscale imaging informs translational mouse modeling of neurological disease': [\"['Timothy H. Murphy', 'Jeffrey M. LeDue']\"], 'Towards a Visualizable, De-identified Synthetic Biomarker of Human Movement Disorders': [\"['Timothy H. Murphy', 'Helge Rhodin']\"], 'Altered cortical processing of sensory input in Huntington disease mouse models': [\"['Timothy H. Murphy', 'Lynn A. Raymond']\"], 'A three-dimensional virtual mouse generates synthetic training data for behavioral analysis': [\"['Timothy H. Murphy', 'Helge Rhodin', 'Jeffrey M. LeDue']\"], 'Gamma frequency activation of inhibitory neurons in the acute phase after stroke attenuates vascular and behavioral dysfunction': [\"['Timothy H. Murphy', 'Brian A. MacVicar', 'Jeffrey M. LeDue']\"], 'PiDose: an open-source system for accurate and automated oral drug administration to group-housed mice': [\"['Timothy H. Murphy', 'Lynn A. Raymond']\"], 'Stress impacts sensory variability through cortical sensory activity motifs': [\"['Timothy H. Murphy', 'Jeffrey M. LeDue']\"], 'Automated task training and longitudinal monitoring of mouse mesoscale cortical circuits using home cages': [\"['Timothy H. Murphy', 'Jeffrey M. LeDue']\"], 'Peripheral Nerve Ligation Elicits Widespread Alterations in Cortical Sensory Evoked and Spontaneous Activity': [\"['Timothy H. Murphy', 'Jeffrey M. LeDue']\"], 'Longitudinal monitoring of mesoscopic cortical activity in a mouse model of microinfarcts reveals dissociations with behavioral and motor function': [\"['Timothy H. Murphy', 'Jeffrey M. LeDue']\"], 'Individualized tracking of self-directed motor learning in group-housed mice performing a skilled lever positioning task in the home cage': [\"['Timothy H. Murphy', 'Jeffrey M. LeDue']\"], 'An automated home-cage system to assess learning and performance of a skilled motor task in a mouse model of huntington’s disease': [\"['Timothy H. Murphy', 'Lynn A. Raymond']\"], 'Cortical functional hyperconnectivity in a mouse model of depression and selective network effects of ketamine': [\"['Timothy H. Murphy', 'Jeffrey M. LeDue']\"], 'Targeted ischemic stroke induction and mesoscopic imaging assessment of blood flow and ischemic depolarization in awake mice': [\"['Timothy H. Murphy', 'Jeffrey M. LeDue']\"], 'Mesoscale brain explorer, a flexible python-based image analysis and visualization tool': [\"['Timothy H. Murphy', 'Jeffrey M. LeDue']\"], 'Mapping cortical mesoscopic networks of single spiking cortical or sub-cortical neurons': [\"['Timothy H. Murphy', 'Jeffrey M. LeDue']\"], 'Cost effective raspberry pi-based radio frequency identification tagging of mice suitable for automated in vivo imaging': [\"['Timothy H. Murphy', 'Jeffrey M. LeDue']\"], 'Mapping synaptic glutamate transporter dysfunction in vivo to regions surrounding Aβ plaques by iGluSnFR two-photon imaging': [\"['Timothy H. Murphy', 'Brian A. MacVicar', 'Jeffrey M. LeDue']\"], 'Altered Cortical Dynamics and Cognitive Function upon Haploinsufficiency of the Autism-Linked Excitatory Synaptic Suppressor MDGA2': [\"['Timothy H. Murphy', 'YuTian Wang', 'Jeffrey M. LeDue']\"], 'High-throughput automated home-cage mesoscopic functional imaging of mouse cortex': [\"['Timothy H. Murphy', 'Jeffrey M. LeDue']\"], 'Real-time imaging of glutamate clearance reveals normal striatal uptake in Huntington disease mouse models': [\"['Timothy H. Murphy', 'Lynn A. Raymond']\"], 'Re-establishment of cortical motor output maps and spontaneous functional recovery via spared dorsolaterally projecting corticospinal neurons after dorsal column spinal cord injury in adult mice': [\"['Timothy H. Murphy', 'Wolfram G. Tetzlaff']\"], 'Optogenetic stimulation of GABA neurons can decrease local neuronal activity while increasing cortical blood flow': [\"['Timothy H. Murphy', 'Jeffrey M. LeDue']\"], 'Network analysis of mesoscale optical recordings to assess regional, functional connectivity': [\"['Timothy H. Murphy', 'Jeffrey M. LeDue']\"], 'Mesoscale infraslow spontaneous membrane potential fluctuations recapitulate high-frequency activity cortical motifs': [\"['Timothy H. Murphy', 'YuTian Wang', 'Jeffrey M. LeDue']\"], 'Cortical activity motifs that correspond to sensory modalities are organized within larger superclusters': [\"['Timothy H. Murphy', 'Jeffrey M. LeDue']\"], 'Optogenetic mapping after stroke reveals network-wide scaling of functional connections and heterogeneous recovery of the peri-infarct': [\"['Timothy H. Murphy', 'Jeffrey M. LeDue']\"], 'Ministrokes in channelrhodopsin-2 transgenic mice reveal widespread deficits in motor output despite maintenance of cortical neuronal excitability': [\"['Timothy H. Murphy', 'Wolfram G. Tetzlaff']\"], 'Spontaneous cortical activity alternates between motifs defined by regional axonal projections': [\"['Timothy H. Murphy', 'YuTian Wang', 'Jeffrey M. LeDue']\"], 'Improved methods for chronic light-based motor mapping in mice: Automated movement tracking with accelerometers, and chronic EEG recording in a bilateral thin-skull preparation': [\"['Timothy H. Murphy', 'Jeffrey M. LeDue']\"], 'Optogenetic approaches for functional mouse brain mapping': [\"['Timothy H. Murphy', 'Jeffrey M. LeDue']\"], 'In vivo large-scale cortical mapping using channelrhodopsin-2 stimulation in transgenic mice reveals asymmetric and reciprocal relationships between cortical areas': [\"['Timothy H. Murphy', 'Jeffrey M. LeDue']\"], 'Postsynaptic TrkC and presynaptic PTPσ function as a bidirectional excitatory synaptic organizing complex': [\"['Timothy H. Murphy', 'YuTian Wang']\"], 'Longitudinal in vivo imaging reveals balanced and branch-specific remodeling of mature cortical pyramidal dendritic arbors after stroke': [\"['Timothy H. Murphy', 'Craig E. Brown']\"], \"Early Increase in Extrasynaptic NMDA Receptor Signaling and Expression Contributes to Phenotype Onset in Huntington's Disease Mice (DOI:10.1016/j.neuron.2010.01.008)\": [\"['Timothy H. Murphy', 'Lynn A. Raymond']\"], \"Early Increase in Extrasynaptic NMDA Receptor Signaling and Expression Contributes to Phenotype Onset in Huntington's Disease Mice\": [\"['Timothy H. Murphy', 'Lynn A. Raymond']\"], 'In vivo voltage-sensitive dye imaging in adult mice reveals that somatosensory maps lost to stroke are replaced over weeks by new structural and functional circuits with prolonged modes of activation within both the peri-infarct zone and distant sites': [\"['Timothy H. Murphy', 'Craig E. Brown']\"], \"Livin' on the edge: Imaging dendritic spine turnover in the peri-infarct zone during ischemic stroke and recovery\": [\"['Timothy H. Murphy', 'Craig E. Brown']\"], 'Rapid morphologic plasticity of peri-infarct dendritic spines after focal ischemic stroke': [\"['Timothy H. Murphy', 'Craig E. Brown']\"], 'Differential regulation of cell proliferation in neurogenic zones in mice lacking cystine transport by xCT': [\"['Timothy H. Murphy', 'Craig E. Brown']\"], 'Extensive turnover of dendritic spines and vascular remodeling in cortical tissues recovering from stroke': [\"['Timothy H. Murphy', 'Craig E. Brown']\"], 'Dopamine activates Nrf2-regulated neuroprotective pathways in astrocytes and meningeal cells': [\"['Timothy H. Murphy', 'Andy Y. Shih']\"], 'Nrf2 gene deletion fails to alter psychostimulant-induced behavior or neurotoxicity': [\"['Timothy H. Murphy', 'Andy Y. Shih']\"], 'Cystine/glutamate exchange modulates glutathione supply for neuroprotection from oxidative stress and cell proliferation': [\"['Timothy H. Murphy', 'Andy Y. Shih']\"], 'Two-photon imaging of glutathione levels in intact brain indicates enhanced redox buffering in developing neurons and cells at the cerebrospinal fluid and blood-brain interface': [\"['Timothy H. Murphy', 'Andy Y. Shih']\"], 'A small-molecule-inducible Nrf2-mediated antioxidant response provides effective prophylaxis against cerebral ischemia in vivo': [\"['Timothy H. Murphy', 'Andy Y. Shih']\"], 'Induction of the Nrf2-driven antioxidant response confers neuroprotection during mitochondrial stress in vivo': [\"['Timothy H. Murphy', 'Andy Y. Shih']\"], 'Enhanced striatal NR2B-containing N-methyl-D-aspartate receptor-mediated synaptic currents in a mouse model of Huntington disease': [\"['Timothy H. Murphy', 'Lynn A. Raymond']\"], 'Competition between Phasic and Asynchronous Release for Recovered Synaptic Vesicles at Developing Hippocampal Autaptic Synapses': [\"['Timothy H. Murphy', 'Lynn A. Raymond']\"], 'Site within N-Methyl-D-aspartate Receptor Pore Modulates Channel Gating': [\"['Timothy H. Murphy', 'Lynn A. Raymond']\"], 'Developmental Decrease in NMDA Receptor Desensitization Associated with Shift to Synapse and Interaction with Postsynaptic Density-95': [\"['Timothy H. Murphy', 'Lynn A. Raymond']\"], 'NF-E2-related factor-2 mediates neuroprotection against mitochondrial complex I inhibitors and increased concentrations of intracellular calcium in primary cortical neurons': [\"['Timothy H. Murphy', 'Andy Y. Shih']\"], 'Coordinate regulation of glutathione biosynthesis and release by Nrf2-expressing glia potently protects neurons from oxidative stress': [\"['Timothy H. Murphy', 'Andy Y. Shih']\"], 'Role of NR2B-type NMDA receptors in selective neurodegeneration in Huntington disease': [\"['Timothy H. Murphy', 'Lynn A. Raymond']\"], 'Differential regulation of synaptic and extrasynaptic NMDA receptors': [\"['Timothy H. Murphy', 'Lynn A. Raymond']\"], 'A calcium-dependent feedback mechanism participates in shaping single NMDA miniature EPSCs': [\"['Timothy H. Murphy', 'Lynn A. Raymond']\"], 'Changes in agonist concentration dependence that are a function of duration of exposure suggest N-methyl-D-aspartate receptor nonsaturation during synaptic stimulation': [\"['Timothy H. Murphy', 'Lynn A. Raymond']\"], 'xCT cystine transporter expression in HEK293 cells: Pharmacology and localization': [\"['Timothy H. Murphy', 'Andy Y. Shih']\"], 'Competitive inhibition of NMDA receptor-mediated currents by extracellular calcium chelators': [\"['Timothy H. Murphy', 'Lynn A. Raymond']\"], 'P/Q-type calcium channels mediate the activity-dependent feedback of syntaxin-1A': [\"['Timothy H. Murphy', 'Terrance P. Snutch']\"], 'KCC2 drives chloride microdomain formation in dendritic blebbing': [\"['Brian A. MacVicar', 'Jeffrey M. LeDue']\"], \"The Oral and Fecal Microbiota in a Canadian Cohort of Alzheimer's Disease\": [\"['Brian A. MacVicar', 'Silke Appel-Cresswell']\"], 'Hyperexcitable superior colliculus and fatal brainstem spreading depolarization in a model of Sudden Unexpected Death in Epilepsy': [\"['Brian A. MacVicar', 'Terrance P. Snutch']\"], 'PANX1 in inflammation heats up: New mechanistic insights with implications for injury and infection': [\"['Brian A. MacVicar', 'Leigh Anne Swayne']\"], 'Green fluorescent protein emission obscures metabolic fluorescent lifetime imaging of NAD(P)H': [\"['Brian A. MacVicar', 'Jeffrey M. LeDue']\"], '3dmorph automatic analysis of microglial morphology in three dimensions from ex vivo and in vivo imaging': [\"['Brian A. MacVicar', 'Jeffrey M. LeDue']\"], 'Ca<inf>V</inf>3.2 drives sustained burst-firing, which is critical for absence seizure propagation in reticular thalamic neurons': [\"['Brian A. MacVicar', 'Terrance P. Snutch', 'Jeffrey M. LeDue']\"], 'A critical role for astrocytes in hypercapnic vasodilation in brain': [\"['Brian A. MacVicar', 'Jeffrey M. LeDue']\"], 'In vivo imaging reveals that pregabalin inhibits cortical spreading depression and propagation to subcortical brain structures': [\"['Brian A. MacVicar', 'Terrance P. Snutch', 'Jeffrey M. LeDue']\"], 'Ca<sup>2+</sup> transients in astrocyte fine processes occur via Ca<sup>2+</sup> influx in the adult mouse hippocampus': [\"['Brian A. MacVicar', 'Jeffrey M. LeDue']\"], 'The cellular mechanisms of neuronal swelling underlying cytotoxic edema': [\"['Brian A. MacVicar', 'Terrance P. Snutch']\"], 'Activation of neuronal NMDA receptors triggers transient ATP-mediated microglial process outgrowth': [\"['Brian A. MacVicar', 'Jeffrey M. LeDue']\"], 'Cognitive flexibility and long-term depression (LTD) are impaired following β-catenin stabilization in vivo': [\"['Brian A. MacVicar', 'Shernaz X. Bamji', 'YuTian Wang']\"], 'Progranulin promotes activation of microglia/macrophage after pilocarpine-induced status epilepticus': [\"['Brian A. MacVicar', 'YuTian Wang']\"], 'Prevention of LPS-Induced Microglia Activation, Cytokine Production and Sickness Behavior with TLR4 Receptor Interfering Peptides': [\"['Brian A. MacVicar', 'Anthony G. Phillips']\"], 'Contribution of calcium-dependent facilitation to synaptic plasticity revealed by migraine mutations in the P/Q-type calcium channel': [\"['Brian A. MacVicar', 'Terrance P. Snutch']\"], 'Effects of intermittent theta-burst transcranial magnetic stimulation on cognition and hippocampal volumes in bipolar depression': [\"['Fidel Vila-Rodriguez', 'Sophia Frangou']\"], 'Psychotic symptoms in frontotemporal dementia with TDP-43 tend to be associated with type B pathology': [\"['Fidel Vila-Rodriguez', 'Ian Mackenzie']\"], 'Intermittent theta burst transcranial magnetic stimulation induces hippocampal mossy fibre plasticity in male but not female mice': [\"['Fidel Vila-Rodriguez', 'Jason S. Snyder']\"], 'Predictive Value of Acute Neuroplastic Response to rTMS in Treatment Outcome in Depression: A Concurrent TMS-fMRI Trial': [\"['Fidel Vila-Rodriguez', 'Sophia Frangou']\"], 'Individualized functional targeting for rTMS: A powerful idea whose time has come?': [\"['Fidel Vila-Rodriguez', 'Sophia Frangou']\"], 'Electroconvulsive shock, but not transcranial magnetic stimulation, transiently elevates cell proliferation in the adult mouse hippocampus': [\"['Fidel Vila-Rodriguez', 'Jason S. Snyder']\"], 'Sex effects on cortical morphological networks in healthy young adults': [\"['Fidel Vila-Rodriguez', 'Sophia Frangou']\"], 'Psychiatric, motor, and autonomic effects of bifrontal ect in depressed parkinson’s disease patients': [\"['Fidel Vila-Rodriguez', 'Silke Appel-Cresswell']\"], 'SS-Detect: Development and Validation of a New Strategy for Source-Based Morphometry in Multiscanner Studies': [\"['Fidel Vila-Rodriguez', 'Sophia Frangou']\"], 'Parcellation of the human hippocampus based on gray matter volume covariance: Replicable results on healthy young adults': [\"['Fidel Vila-Rodriguez', 'Z. Jane Wang']\"], 'CellPalmSeq: A curated RNAseq database of palmitoylating and de-palmitoylating enzyme expression in human cell types and laboratory cell lines': [\"['Shernaz X. Bamji', 'Kurt Haas']\"], 'Exploring the expression patterns of palmitoylating and de-palmitoylating enzymes in the mouse brain using the curated RNA-seq database BrainPalmSeq': [\"['Shernaz X. Bamji', 'Kurt Haas']\"], 'Regulation of hippocampal excitatory synapses by the Zdhhc5 palmitoyl acyltransferase': [\"['Shernaz X. Bamji', 'Lynn A. Raymond']\"], 'Multi-model functionalization of disease-associated PTEN missense mutations identifies multiple molecular mechanisms underlying protein dysfunction': [\"['Shernaz X. Bamji', 'Paul Pavlidis', 'Kurt Haas', 'Catharine Rankin']\"], 'The X-Linked Intellectual Disability Gene Zdhhc9 Is Essential for Dendrite Outgrowth and Inhibitory Synapse Formation': [\"['Shernaz X. Bamji', 'Terrance P. Snutch']\"], 'Cadherins mediate cocaine-induced synaptic plasticity and behavioral conditioning': [\"['Shernaz X. Bamji', 'Anthony G. Phillips']\"], 'Progranulin deficiency decreases gross neural connectivity but enhances transmission at individual synapses': [\"['Shernaz X. Bamji', 'Ian Mackenzie', 'Lynn A. Raymond']\"], 'Reshaping the path of mild cognitive impairment by refining exercise prescription: a study protocol of a randomized controlled trial to understand the “what,” “for whom,” and “how” of exercise to promote cognitive function': [\"['Lara A. Boyd', 'Liisa A. M. Galea']\"], \"Exercise increases caudate dopamine release and ventral striatal activation in Parkinson's disease\": [\"['Lara A. Boyd', 'Martin McKeown', 'A. Jon Stoessl', 'Silke Appel-Cresswell', 'Vesna Sossi']\"], 'White matter biomarkers associated with motor change in individuals with stroke: A continuous theta burst stimulation study': [\"['Lara A. Boyd', 'Todd Stephen Woodward']\"], 'Compensatory motor network connectivity is associated with motor sequence learning after subcortical stroke': [\"['Lara A. Boyd', 'Todd Stephen Woodward']\"], 'Greater Activation of Secondary Motor Areas Is Related to Less Arm Use After Stroke': [\"['Lara A. Boyd', 'Martin McKeown']\"], 'Open science in play and in tension with patent protections': [\"['Paul Pavlidis', 'Jeffrey M. LeDue']\"], 'Multi-parametric analysis of 57 SYNGAP1 variants reveal impacts on GTPase signaling, localization, and protein stability': [\"['Paul Pavlidis', 'Kurt Haas']\"], 'The Canadian Rare Diseases Models and Mechanisms (RDMM) Network: Connecting Understudied Genes to Model Organisms': [\"['Paul Pavlidis', 'Catharine Rankin']\"], 'Systematic phenomics analysis of autism-associated genes reveals parallel networks underlying reversible impairments in habituation': [\"['Paul Pavlidis', 'Kurt Haas', 'Catharine Rankin']\"], \"Automatic labeling of Parkinson's Disease gait videos with weak supervision\": [\"['Martin McKeown', 'Z. Jane Wang']\"], 'PA-Tran: Learning to Estimate 3D Hand Pose with Partial Annotation': [\"['Martin McKeown', 'Z. Jane Wang']\"], 'Contrastive-enhanced Domain Generalization with Federated Learning': [\"['Martin McKeown', 'Z. Jane Wang']\"], 'Atlas-guided parcellation: Individualized functionally-homogenous parcellation in cerebral cortex': [\"['Martin McKeown', 'Z. Jane Wang']\"], 'Toward Open-World Electroencephalogram Decoding Via Deep Learning: A comprehensive survey': [\"['Martin McKeown', 'Z. Jane Wang']\"], \"Spatiotemporal patterns of putaminal dopamine processing in Parkinson's disease: A multi-tracer positron emission tomography study\": [\"['Martin McKeown', 'Vesna Sossi']\"], 'Galvanic Vestibular Stimulation: Data Analysis and Applications in Neurorehabilitation': [\"['Martin McKeown', 'Z. Jane Wang']\"], \"Serotonergic System Impacts Levodopa Response in Early Parkinson's and Future Risk of Dyskinesia\": [\"['Martin McKeown', 'A. Jon Stoessl', 'Vesna Sossi']\"], \"Galvanic Vestibular Stimulation Improves Subnetwork Interactions in Parkinson's Disease\": [\"['Martin McKeown', 'Z. Jane Wang']\"], \"Structural Network Analysis Using Diffusion MRI Tractography in Parkinson's Disease and Correlations With Motor Impairment\": [\"['Martin McKeown', 'Silke Appel-Cresswell']\"], 'Novel Regional Activity Representation with Constrained Canonical Correlation Analysis for Brain Connectivity Network Estimation': [\"['Martin McKeown', 'Z. Jane Wang']\"], 'Both Stationary and Dynamic Functional Interhemispheric Connectivity Are Strongly Associated With Performance on Cognitive Tests in Multiple Sclerosis': [\"['Martin McKeown', 'Z. Jane Wang']\"], 'Parkinson’s Disease Detection from fMRI-Derived Brainstem Regional Functional Connectivity Networks': [\"['Martin McKeown', 'Z. Jane Wang']\"], \"Novel data-driven, equation-free method captures spatio-temporal patterns of neurodegeneration in Parkinson's disease: Application of dynamic mode decomposition to PET\": [\"['Martin McKeown', 'A. Jon Stoessl', 'Vesna Sossi']\"], \"Dopamine replacement remediates risk aversion in Parkinson's disease in a value-independent manner\": [\"['Martin McKeown', 'A. Jon Stoessl', 'Silke Appel-Cresswell']\"], 'Removal of Muscle Artifacts from the EEG: A Review and Recommendations': [\"['Martin McKeown', 'Z. Jane Wang']\"], \"Dynamic Graph Theoretical Analysis of Functional Connectivity in Parkinson's Disease: The Importance of Fiedler Value\": [\"['Martin McKeown', 'Z. Jane Wang']\"], 'Parcellation of functional sub-regions from fMRI: A graph clustering based approach': [\"['Martin McKeown', 'Z. Jane Wang']\"], 'Abnormal phase coupling in Parkinson’s disease and normalization effects of subthreshold vestibular stimulation': [\"['Martin McKeown', 'Z. Jane Wang']\"], \"Altered EEG alpha and theta oscillations characterize apathy in Parkinson's disease during incentivized movement\": [\"['Martin McKeown', 'Silke Appel-Cresswell']\"], \"Joint pattern analysis applied to PET DAT and VMAT2 imaging reveals new insights into Parkinson's disease induced presynaptic alterations\": [\"['Martin McKeown', 'A. Jon Stoessl', 'Vesna Sossi']\"], 'Removal of High-Voltage Brain Stimulation Artifacts from Simultaneous EEG Recordings': [\"['Martin McKeown', 'Z. Jane Wang']\"], \"Habitual exercisers versus sedentary subjects with Parkinson's Disease: Multimodal PET and fMRI study\": [\"['Martin McKeown', 'A. Jon Stoessl', 'Silke Appel-Cresswell', 'Vesna Sossi']\"], \"The effect of LRRK2 mutations on the cholinergic system in manifest and premanifest stages of Parkinson's disease: a cross-sectional PET study\": [\"['Martin McKeown', 'A. Jon Stoessl', 'Vesna Sossi']\"], 'Assessing functional connectivity of brainstem nuclei in fMRI data': [\"['Martin McKeown', 'Z. Jane Wang']\"], 'Connectivity-based parcellation of functional sub-regions from brain fMRI signals': [\"['Martin McKeown', 'Z. Jane Wang']\"], \"Galvanic Vestibular Stimulation (GVS) Augments Deficient Pedunculopontine Nucleus (PPN) Connectivity in Mild Parkinson's Disease: fMRI Effects of Different Stimuli\": [\"['Martin McKeown', 'Z. Jane Wang']\"], 'The Use of Multivariate EMD and CCA for Denoising Muscle Artifacts from Few-Channel EEG Recordings': [\"['Martin McKeown', 'Z. Jane Wang']\"], \"Decreased subregional specificity of the putamen in Parkinson's Disease revealed by dynamic connectivity-derived parcellation\": [\"['Martin McKeown', 'Z. Jane Wang']\"], \"Investigation of serotonergic Parkinson's disease-related covariance pattern using [<sup>11</sup>C]-DASB/PET\": [\"['Martin McKeown', 'A. Jon Stoessl', 'Vesna Sossi']\"], '3D CNN Based Automatic Diagnosis of Attention Deficit Hyperactivity Disorder Using Functional and Structural MRI': [\"['Martin McKeown', 'Z. Jane Wang']\"], \"Gender differences in Parkinson's disease depression\": [\"['Martin McKeown', 'A. Jon Stoessl', 'Silke Appel-Cresswell']\"], 'Joint time invariant and time dependent brain connectivity network estimation': [\"['Martin McKeown', 'Z. Jane Wang']\"], 'False discovery rate controller for functional brain parcellation': [\"['Martin McKeown', 'Z. Jane Wang']\"], 'Feature selection to simplify BDI for efficient depression identification': [\"['Martin McKeown', 'Z. Jane Wang', 'Silke Appel-Cresswell']\"], 'A Combined Static and Dynamic Model for Resting-State Brain Connectivity Networks': [\"['Martin McKeown', 'Z. Jane Wang']\"], 'DCTN1 p.K56R in progressive supranuclear palsy': [\"['Martin McKeown', 'A. Jon Stoessl', 'Silke Appel-Cresswell']\"], 'Joint Blind Source Separation for Neurophysiological Data Analysis: Multiset and multimodal methods': [\"['Martin McKeown', 'Z. Jane Wang']\"], 'Connectivity-based parcellation of functional SubROIs in putamen using a sparse spatially regularized regression model': [\"['Martin McKeown', 'Z. Jane Wang']\"], 'Removing Muscle Artifacts from EEG Data: Multichannel or Single-Channel Techniques?': [\"['Martin McKeown', 'Z. Jane Wang']\"], 'Movement disorders': [\"['Martin McKeown', 'A. Jon Stoessl']\"], 'Connectivity-based parcellation of putamen using resting state fMRI data': [\"['Martin McKeown', 'Z. Jane Wang']\"], 'DNAJC13 genetic variants in parkinsonism': [\"['Martin McKeown', 'A. Jon Stoessl', 'Silke Appel-Cresswell']\"], 'A sticky weighted regression model for time-varying resting-state brain connectivity estimation': [\"['Martin McKeown', 'Z. Jane Wang']\"], 'Brain connectivity assessed with functional MRI': [\"['Martin McKeown', 'Z. Jane Wang']\"], \"Morphological alterations in the caudate, putamen, pallidum, and thalamus in Parkinson's disease\": [\"['Martin McKeown', 'Silke Appel-Cresswell']\"], 'A heart beat rate detection framework using multiple nanofiber sensor signals': [\"['Martin McKeown', 'Peyman Servati']\"], 'A genetically informed, group fMRI connectivity modeling approach: Application to schizophrenia': [\"['Martin McKeown', 'Z. Jane Wang', 'Silke Appel-Cresswell']\"], 'Time varying brain connectivity modeling using FMRI signals': [\"['Martin McKeown', 'Z. Jane Wang']\"], \"A three-step multimodal analysis framework for modeling corticomuscular activity with application to parkinson's disease\": [\"['Martin McKeown', 'Z. Jane Wang']\"], 'An EEMD-IVA framework for concurrent multidimensional EEG and unidimensional kinematic data analysis': [\"['Martin McKeown', 'Z. Jane Wang']\"], \"Decisions under risk in Parkinson's disease: Preserved evaluation of probability and magnitude\": [\"['Martin McKeown', 'A. Jon Stoessl', 'Silke Appel-Cresswell']\"], \"Parkinson's disease rigidity: Relation to brain connectivity and motor performance\": [\"['Martin McKeown', 'Z. Jane Wang']\"], 'Guest editorial for special section on multimodal biomedical imaging: Algorithms and applications': [\"['Martin McKeown', 'Z. Jane Wang']\"], 'Noisy Galvanic Vestibular Stimulation Modulates the Amplitude of EEG Synchrony Patterns': [\"['Martin McKeown', 'Z. Jane Wang']\"], 'An IC-PLS framework for group corticomuscular coupling analysis': [\"['Martin McKeown', 'Z. Jane Wang']\"], \"Novel spatial analysis method for PET images using 3D moment invariants: Applications to Parkinson's disease\": [\"['Martin McKeown', 'A. Jon Stoessl', 'Silke Appel-Cresswell', 'Vesna Sossi']\"], \"A tridirectional method for corticomuscular coupling analysis in Parkinson's disease\": [\"['Martin McKeown', 'Z. Jane Wang']\"], \"A multiblock PLS model of cortico-cortical and corticomuscular interactions in Parkinson's disease\": [\"['Martin McKeown', 'Z. Jane Wang']\"], 'Large covariance matrix estimation: Bridging shrinkage and tapering approaches': [\"['Martin McKeown', 'Z. Jane Wang']\"], 'Shrinkage-to-tapering estimation of large covariance matrices': [\"['Martin McKeown', 'Z. Jane Wang']\"], 'An FDR-controlled, exploratory group modeling for assessing brain connectivity': [\"['Martin McKeown', 'Z. Jane Wang']\"], 'A computationally efficient, exploratory approach to brain connectivity incorporating false discovery rate control, a priori knowledge, and group inference': [\"['Martin McKeown', 'Z. Jane Wang']\"], 'A generalized multivariate autoregressive (GmAR)-based approach for EEG source connectivity analysis': [\"['Martin McKeown', 'Z. Jane Wang']\"], \"Advances in imaging in Parkinson's disease\": [\"['Martin McKeown', 'A. Jon Stoessl', 'Vesna Sossi']\"], 'A Bayesian Lasso via reversible-jump MCMC': [\"['Martin McKeown', 'Z. Jane Wang']\"], \"Altered directional connectivity in Parkinson's disease during performance of a visually guided task\": [\"['Martin McKeown', 'Z. Jane Wang']\"], 'SU‐E‐I‐178: Spatial Analysis of PET Images Using 3D Moment Invariants (3DMI)': [\"['Martin McKeown', 'Vesna Sossi']\"], 'Multiblock PLS model for group corticomuscular activity analysis in Parkinson disease': [\"['Martin McKeown', 'Z. Jane Wang']\"], 'FMRI group studies of brain connectivity via a group robust LASSO': [\"['Martin McKeown', 'Z. Jane Wang']\"], 'Asymptotic analysis of robust LASSOs in the presence of noise with large variance': [\"['Martin McKeown', 'Z. Jane Wang']\"], \"Imaging of compensatory mechanisms in Parkinson's disease\": [\"['Martin McKeown', 'Silke Appel-Cresswell']\"], \"θ, β But not α-band EEG connectivity has implications for dual task performance in Parkinson's disease\": [\"['Martin McKeown', 'Z. Jane Wang']\"], \"Joint amplitude and connectivity compensatory mechanisms in Parkinson's disease\": [\"['Martin McKeown', 'Z. Jane Wang']\"], 'Asymptotic analysis of the Huberized LASSO estimator': [\"['Martin McKeown', 'Z. Jane Wang']\"], 'Incorporating error-rate-controlled prior in modelling brain functional connectivity': [\"['Martin McKeown', 'Z. Jane Wang']\"], 'A novel segmentation, mutual information network framework for EEG analysis of motor tasks': [\"['Martin McKeown', 'Z. Jane Wang']\"], \"Partial directed coherence-based information flow in Parkinson's disease patients performing a visually-guided motor task\": [\"['Martin McKeown', 'Z. Jane Wang']\"], \"EEG source extraction by autoregressive source separation reveals abnormal synchronization in Parkinson's disease\": [\"['Martin McKeown', 'Z. Jane Wang']\"], 'Sparse multivariate autoregressive (MAR)-based partial directed coherence (PDC) for electroencephalogram (EEG) analysis': [\"['Martin McKeown', 'Z. Jane Wang']\"], 'A windowed eigenspectrum method for multivariate sEMG classification during reaching movements': [\"['Martin McKeown', 'Z. Jane Wang']\"], 'Introduction to the issue on fMRI analysis for human brain mapping': [\"['Martin McKeown', 'Z. Jane Wang']\"], \"Probabilistic Boolean network analysis of brain connectivity in Parkinson's disease\": [\"['Martin McKeown', 'Z. Jane Wang']\"], 'Controlling the false discovery rate in modeling brain functional connectivity': [\"['Martin McKeown', 'Z. Jane Wang']\"], 'Probabilistic Boolean Network for inferring brain connectivity using fMRI data': [\"['Martin McKeown', 'Z. Jane Wang']\"], \"Mutual information based relevance network analysis: A Parkinson's disease study\": [\"['Martin McKeown', 'Z. Jane Wang']\"], 'A hidden Markov, multivariate autoregressive (HMM-mAR) network framework for analysis of surface EMG (sEMG) data': [\"['Martin McKeown', 'Z. Jane Wang']\"], 'Dynamic Bayesian network modeling of fMRI: A comparison of group-analysis methods': [\"['Martin McKeown', 'Z. Jane Wang']\"], 'Learning brain connectivity with the false-discovery-rate-controlled PC-algorithm': [\"['Martin McKeown', 'Z. Jane Wang']\"], 'Study of stroke condition and hand dominance using a hidden Markov, multivariate autoregressive (HMM-mAR) network framework': [\"['Martin McKeown', 'Z. Jane Wang']\"], 'Invited Article: Functional imaging in Parkinson disease': [\"['Martin McKeown', 'A. Jon Stoessl']\"], 'Bayesian network modeling for discovering \"dependent synergies\" among muscles in reaching movements': [\"['Martin McKeown', 'Z. Jane Wang']\"], 'Hidden Markov multivariate autoregressive (HMM-mAR) modeling framework for surface electromyography (sEMG) data': [\"['Martin McKeown', 'Z. Jane Wang']\"], \"Spectral clustering of fMRI data within regions of interest: clarification of L-dopa effects in parkinson's disease\": [\"['Martin McKeown', 'Z. Jane Wang']\"], 'A framework for group analysis of fMRI data using dynamic Bayesian networks': [\"['Martin McKeown', 'Z. Jane Wang']\"], 'Local Linear Discriminant Analysis (LLDA) for group and region of interest (ROI)-based fMRI analysis': [\"['Martin McKeown', 'Z. Jane Wang']\"], 'A multi-subject, dynamic Bayesian networks (DBNS) framework for brain effective connectivity': [\"['Martin McKeown', 'Z. Jane Wang']\"], 'Local linear discriminant analysis (LLDA) for inference of multisubject FMRI data': [\"['Martin McKeown', 'Z. Jane Wang']\"], 'Relevance network modeling for muscle association pattern in reaching movements': [\"['Martin McKeown', 'Z. Jane Wang']\"], 'Bayesian network modeling for discovering \"directed synergies\" among muscles in reaching movements': [\"['Martin McKeown', 'Z. Jane Wang']\"], 'A time-varying eigenspectrum / SVM method for sEMG classification of reaching movements in healthy and stroke subjects': [\"['Martin McKeown', 'Z. Jane Wang']\"], \"Dynamic Bayesian Networks (DBNS) demonstrate impaired brain connectivity during performance of simultaneous movements in Parkinson's disease\": [\"['Martin McKeown', 'Z. Jane Wang']\"], 'Increasing the effect size in event-related fMRI studies': [\"['Martin McKeown', 'Z. Jane Wang']\"], 'ICA denoising for event-related fMRI studies': [\"['Martin McKeown', 'Z. Jane Wang']\"], \"Randomized trial of intermittent intraputamenal glial cell line-derived neurotrophic factor in Parkinson's disease\": [\"['A. Jon Stoessl', 'Vesna Sossi']\"], \"Extended Treatment with Glial Cell Line-Derived Neurotrophic Factor in Parkinson's Disease\": [\"['A. Jon Stoessl', 'Vesna Sossi']\"], 'Data-driven, voxel-based analysis of brain PET images: Application of PCA and LASSO methods to visualize and quantify patterns of neurodegeneration': [\"['A. Jon Stoessl', 'Vesna Sossi']\"], 'PBB3 binding in a patient with corticobasal syndrome': [\"['A. Jon Stoessl', 'Vesna Sossi']\"], 'DNAJC12 and dopa-responsive nonprogressive parkinsonism': [\"['A. Jon Stoessl', 'Vesna Sossi']\"], \"Homozygous alpha-synuclein p.A53V in familial Parkinson's disease\": [\"['A. Jon Stoessl', 'Vesna Sossi']\"], 'PBB3 imaging in Parkinsonian disorders: Evidence for binding to tau and other proteins': [\"['A. Jon Stoessl', 'Vesna Sossi']\"], 'Serotonin and dopamine transporter PET changes in the premotor phase of LRRK2 parkinsonism: cross-sectional studies': [\"['A. Jon Stoessl', 'Vesna Sossi']\"], 'Robust graft survival and normalized dopaminergic innervation do not obligate recovery in a Parkinson disease patient': [\"['A. Jon Stoessl', 'Vesna Sossi']\"], 'Reply to letter to the editor: Is there anything more to learn from SWEDD?': [\"['A. Jon Stoessl', 'Vesna Sossi']\"], 'A scan without evidence is not evidence of absence: Scans without evidence of dopaminergic deficit in a symptomatic leucine-rich repeat kinase 2 mutation carrier': [\"['A. Jon Stoessl', 'Vesna Sossi']\"], \"Phosphorylated α-synuclein in Parkinson's disease: correlation depends on disease severity\": [\"['A. Jon Stoessl', 'Vesna Sossi']\"], 'Clinical, positron emission tomography, and pathological studies of DNAJC13 p.N855S Parkinsonism': [\"['A. Jon Stoessl', 'Silke Appel-Cresswell', 'Vesna Sossi']\"], 'A familial form of parkinsonism, dementia, and motor neuron disease: A longitudinal study': [\"['A. Jon Stoessl', 'Vesna Sossi']\"], 'DNAJC13 mutations in Parkinson disease': [\"['A. Jon Stoessl', 'Silke Appel-Cresswell']\"], 'Behavioral deficits and striatal DA signaling in LRRK2 p.G2019S transgenic rats: a multimodal investigation including PET neuroimaging': [\"['A. Jon Stoessl', 'Vesna Sossi']\"], 'In vivo dopaminergic and serotonergic dysfunction in DCTN1 gene mutation carriers': [\"['A. Jon Stoessl', 'Silke Appel-Cresswell', 'Vesna Sossi']\"], \"The Nature of Progression in Parkinson's Disease: An Application of Non-Linear, Multivariate, Longitudinal Random Effects Modelling\": [\"['A. Jon Stoessl', 'Vesna Sossi']\"], 'Anterior brain glucose hypometabolism predates dementia in progranulin mutation carriers': [\"['A. Jon Stoessl', 'Ian Mackenzie', 'Vesna Sossi']\"], \"Alpha-synuclein p.H50Q, a novel pathogenic mutation for Parkinson's disease\": [\"['A. Jon Stoessl', 'Silke Appel-Cresswell']\"], 'Insights into LRRK2-Mutation Related PD from PET Imaging Studies': [\"['A. Jon Stoessl', 'Vesna Sossi']\"], 'Measurements of Dopaminergic Function in the Rat Brain Using [<sup>18</sup>F]FDOPA PET and Microdialysis': [\"['A. Jon Stoessl', 'Vesna Sossi']\"], 'Measuring dopaminergic function in the 6-OHDA-lesioned rat: A comparison of PET and microdialysis': [\"['A. Jon Stoessl', 'Vesna Sossi']\"], 'In-vivo measurement of LDOPA uptake, dopamine reserve and turnover in the rat brain using [<sup>18</sup>F]FDOPA PET': [\"['A. Jon Stoessl', 'Vesna Sossi']\"], \"Ethical Issues In The Management Of Parkinson'S Disease\": [\"['A. Jon Stoessl', 'Silke Appel-Cresswell']\"], 'Imaging striatal dopaminergic function in Phospholipase A2 Group VI-related parkinsonism': [\"['A. Jon Stoessl', 'Vesna Sossi']\"], 'Cerebrospinal fluid amyloid β and tau in LRRK2 mutation carriers': [\"['A. Jon Stoessl', 'Vesna Sossi']\"], 'Positron emission tomography in Parkinson’s disease': [\"['A. Jon Stoessl', 'Silke Appel-Cresswell']\"], 'DJ-1 and αSYN in LRRK2 CSF do not correlate with striatal dopaminergic function': [\"['A. Jon Stoessl', 'Vesna Sossi']\"], \"Age-specific progression of nigrostriatal dysfunction in Parkinson's disease\": [\"['A. Jon Stoessl', 'Vesna Sossi']\"], \"Longitudinal evolution of compensatory changes in striatal dopamine processing in Parkinson's disease\": [\"['A. Jon Stoessl', 'Vesna Sossi']\"], 'Liquid xenon detectors for positron emission tomography': [\"['A. Jon Stoessl', 'Vesna Sossi']\"], 'Dopamine turnover increases in asymptomatic LRRK2 mutations carriers': [\"['A. Jon Stoessl', 'Vesna Sossi']\"], 'Effects of expectation on placebo-induced dopamine release in Parkinson disease': [\"['A. Jon Stoessl', 'Anthony G. Phillips', 'Vesna Sossi']\"], 'Effect of electroconvulsive therapy on brain 5-HT<inf>2</inf> receptors in major depression': [\"['A. Jon Stoessl', 'Vesna Sossi']\"], 'Dopamine transporter PET in normal aging: Dopamine transporter decline and its possible role in preservation of motor function': [\"['A. Jon Stoessl', 'Vesna Sossi']\"], \"Longitudinal progression of sporadic Parkinson's disease: A multi-tracer positron emission tomography study\": [\"['A. Jon Stoessl', 'Vesna Sossi']\"], \"Visualizing vesicular dopamine dynamics in Parkinson's disease\": [\"['A. Jon Stoessl', 'Vesna Sossi']\"], 'PET demonstrates reduced dopamine transporter expression in PD with dyskinesias': [\"['A. Jon Stoessl', 'Vesna Sossi']\"], \"Dopamine transporter relation to levodopa-derived synaptic dopamine in a rat model of Parkinson's: An in vivo imaging study\": [\"['A. Jon Stoessl', 'Vesna Sossi']\"], 'Progression of dopaminergic dysfunction in a LRRK2 kindred: A multitracer PET study': [\"['A. Jon Stoessl', 'Vesna Sossi']\"], \"Dopamine transporter relation to dopamine turnover in Parkinson's disease: A positron emission tomography study\": [\"['A. Jon Stoessl', 'Vesna Sossi']\"], 'Imaging of the parkinsonian brain in relation to restorative therapy': [\"['A. Jon Stoessl', 'Vesna Sossi']\"], 'Autosomal dominant dystonia-plus with cerebral calcifications': [\"['A. Jon Stoessl', 'Ian Mackenzie']\"], \"Oral methylphenidate fails to elicit significant changes in extracellular putaminal dopamine levels in Parkinson's disease patients: Positron emission tomographic studies\": [\"['A. Jon Stoessl', 'Vesna Sossi']\"], 'Genetic heterogeneity in paroxysmal nonkinesigenic dyskinesia': [\"['A. Jon Stoessl', 'Terrance P. Snutch']\"], \"Age-related differences in levodopa dynamics in Parkinson's: Implications for motor complications\": [\"['A. Jon Stoessl', 'Vesna Sossi']\"], \"PET in LRRK2 mutations: Comparison to sporadic Parkinson's disease and evidence for presymptomatic compensation\": [\"['A. Jon Stoessl', 'Vesna Sossi']\"], \"Positron emission tomography after fetal transplantation in Huntington's disease\": [\"['A. Jon Stoessl', 'Vesna Sossi']\"], \"Levodopa-induced changes in synaptic dopamine levels increase with progression of Parkinson's disease: Implications for dyskinesias\": [\"['A. Jon Stoessl', 'Vesna Sossi']\"], 'Lack of regional selectivity during the progression of Parkinson disease: Implications for pathogenesis': [\"['A. Jon Stoessl', 'Vesna Sossi']\"], 'Impact of the spatial normalization template and realignment procedure on the SPM analysis of [11C]raclopride PET studies': [\"['A. Jon Stoessl', 'Vesna Sossi']\"], \"Changes of dopamine turnover in the progression of Parkinson's disease as measured by positron emission tomography: Their relation to disease-compensatory mechanisms\": [\"['A. Jon Stoessl', 'Vesna Sossi']\"], \"[<sup>11</sup>C]DTBZ-PET correlates of levodopa responses in asymmetric Parkinson's disease\": [\"['A. Jon Stoessl', 'Vesna Sossi']\"], \"A double-blind controlled trial of bilateral fetal nigral transplantation in Parkinson's disease\": [\"['A. Jon Stoessl', 'Vesna Sossi']\"], 'Effect of dopamine loss and the metabolite 3-O-methyl-[<sup>18</sup>F]fluoro-dopa on the relation between the <sup>18</sup>F-fluorodopa tissue input uptake rate constant K<inf>occ</inf> and the [<sup>18</sup>F]fluorodopa plasma input uptake rate constant K<inf>i</inf>': [\"['A. Jon Stoessl', 'Vesna Sossi']\"], \"Age and severity of nigrostriatal damage at onset of Parkinson's disease\": [\"['A. Jon Stoessl', 'Vesna Sossi']\"], 'Impact of Different Realignment Algorithms on the SPM Analysis of [ <sup>11</sup>C]Raclopride PET Studies': [\"['A. Jon Stoessl', 'Vesna Sossi']\"], 'Dopamine release in human ventral striatum and expectation of reward': [\"['A. Jon Stoessl', 'Anthony G. Phillips', 'Vesna Sossi']\"], 'PET study of the effects of valproate on dopamine D<inf>2</inf> receptors in neuroleptic- and mood-stabilizer-naive patients with nonpsychotic mania': [\"['A. Jon Stoessl', 'Vesna Sossi']\"], 'PET study of [<sup>18</sup>F]6-fluoro-L-dopa uptake in neuroleptic and mood-stabilizer-naive first-episode nonpsychotic mania: Effects of treatment with divalproex sodium': [\"['A. Jon Stoessl', 'Vesna Sossi']\"], \"Bilateral human fetal striatal transplantation in Huntington's disease\": [\"['A. Jon Stoessl', 'Vesna Sossi']\"], \"Increase in dopamine turnover occurs early in Parkinson's disease: Evidence from a new modeling approach to PET <sup>18</sup>F-fluorodopa data\": [\"['A. Jon Stoessl', 'Vesna Sossi']\"], \"Expectation and dopamine release: Mechanism of the placebo effect in Parkinson's disease\": [\"['A. Jon Stoessl', 'Vesna Sossi']\"], \"Biochemical variations in the synaptic level of dopamine precede motor fluctuations in Parkinson's disease: PET evidence of increased dopamine turnover\": [\"['A. Jon Stoessl', 'Vesna Sossi']\"], 'Positron emission tomography in pallido-ponto-nigral degeneration (PPND) family (frontotemporal dementia with parkinsonism linked to chromosome 17 and point mutation in tau gene)': [\"['A. Jon Stoessl', 'Vesna Sossi']\"], 'Apomorphine-induced changes in synaptic dopamine levels: Positron emission tomography evidence for presynaptic inhibition': [\"['A. Jon Stoessl', 'Vesna Sossi']\"], \"In vivo positron emission tomographic evidence for compensatory changes in presynaptic dopaminergic nerve terminals in Parkinson's disease\": [\"['A. Jon Stoessl', 'Vesna Sossi']\"], 'Analysis of four dopaminergic tracers kinetics using two different tissue input function methods': [\"['A. Jon Stoessl', 'Vesna Sossi']\"], 'Pet studies of parkinsonism associated with mutation in the α-synuclein gene': [\"['A. Jon Stoessl', 'Vesna Sossi']\"], 'High-Speed Fluoroscopy to Measure Dynamic Spinal Cord Deformation in an in Vivo Rat Model': [\"['P. A. Cripton', 'Wolfram G. Tetzlaff']\"], 'Radiography used to measure internal spinal cord deformation in an in vivo rat model': [\"['P. A. Cripton', 'Wolfram G. Tetzlaff']\"], 'Relating histopathology and mechanical strain in experimental contusion spinal cord injury in a rat model': [\"['P. A. Cripton', 'Wolfram G. Tetzlaff']\"], 'Quantifying the internal deformation of the rodent spinal cord during acute spinal cord injury – the validation of a method': [\"['P. A. Cripton', 'Wolfram G. Tetzlaff']\"], 'A Novel porcine model of traumatic thoracic spinal cord injury': [\"['P. A. Cripton', 'Wolfram G. Tetzlaff']\"], 'Biomechanical Aspects of Spinal Cord Injury': [\"['P. A. Cripton', 'Wolfram G. Tetzlaff']\"], 'HDAC inhibition leads to age-dependent opposite regenerative effect upon PTEN deletion in rubrospinal axons after SCI': [\"['Wolfram G. Tetzlaff', 'Angela Jane I. Roskams']\"], 'Adult spinal cord radial glia display a unique progenitor phenotype': [\"['Wolfram G. Tetzlaff', 'Angela Jane I. Roskams']\"], 'Combination of olfactory ensheathing cells with local versus systemic cAMP treatment after a cervical rubrospinal tract injury': [\"['Wolfram G. Tetzlaff', 'Angela Jane I. Roskams']\"], 'Undesired effects of a combinatorial treatment for spinal cord injury - Transplantation of olfactory ensheathing cells and BDNF infusion to the red nucleus': [\"['Wolfram G. Tetzlaff', 'Angela Jane I. Roskams']\"], 'Local self-renewal can sustain CNS microglia maintenance and function throughout adult life': [\"['Wolfram G. Tetzlaff', 'Fabio Rossi']\"], 'SPARC from olfactory ensheathing cells stimulates schwann cells to promote neurite outgrowth and enhances spinal cord repair': [\"['Wolfram G. Tetzlaff', 'Angela Jane I. Roskams']\"], 'Lamina propria and olfactory bulb ensheathing cells exhibit differential integration and migration and promote differential axon sprouting in the lesioned spinal cord': [\"['Wolfram G. Tetzlaff', 'Angela Jane I. Roskams']\"], 'Directing stem cells and progenitor cells on the stage of spinal cord injury': [\"['Wolfram G. Tetzlaff', 'Angela Jane I. Roskams']\"], 'Peripherally-derived olfactory ensheathing cells do not promote primary afferent regeneration following dorsal root injury': [\"['Wolfram G. Tetzlaff', 'Angela Jane I. Roskams']\"], 'Peripheral Olfactory Ensheathing Cells Reduce Scar and Cavity Formation and Promote Regeneration after Spinal Cord Injury': [\"['Wolfram G. Tetzlaff', 'Angela Jane I. Roskams']\"], 'Morphine Withdrawal-Induced Hyperalgesia in Models of Acute and Extended Withdrawal Is Attenuated by l-Tetrahydropalmatine': [\"['Anthony G. Phillips', 'Terrance P. Snutch']\"], 'Optogenetic modulation of glutamatergic afferents from the ventral subiculum to the nucleus accumbens: Effects on dopamine function, response vigor and locomotor activity': [\"['Anthony G. Phillips', 'Jeremy Keith Seamans']\"], 'LTD is involved in the formation and maintenance of rat hippocampal CA1 place-cell fields': [\"['Anthony G. Phillips', 'YuTian Wang', 'Jeremy Keith Seamans']\"], 'Corrigendum to “Evaluation of the Wistar-Kyoto rat model of depression and the role of synaptic plasticity in depression and antidepressant response” [Neurosci. Biobehav. Rev. 105 (2019) 1–23] (Neuroscience and Biobehavioral Reviews (2019) 105 (1–23), (S0149763419303483), (10.1016/j.neubiorev.2019.07.007))': [\"['Anthony G. Phillips', 'YuTian Wang']\"], 'Ketamine and its metabolite, (2R,6R)-HNK, restore hippocampal LTP and long-term spatial memory in the Wistar-Kyoto rat model of depression': [\"['Anthony G. Phillips', 'YuTian Wang']\"], 'Evaluation of the Wistar-Kyoto rat model of depression and the role of synaptic plasticity in depression and antidepressant response': [\"['Anthony G. Phillips', 'YuTian Wang']\"], 'Activation of the ventral subiculum reinvigorates behavior after failure to achieve a goal: Implications for dopaminergic modulation of motivational processes': [\"['Anthony G. Phillips', 'Jeremy Keith Seamans']\"], 'Temporal Dynamics of Hippocampal and Medial Prefrontal Cortex Interactions during the Delay Period of a Working Memory-Guided Foraging Task': [\"['Anthony G. Phillips', 'Jeremy Keith Seamans']\"], 'Hydroxynorketamine: Implications for the NMDA Receptor Hypothesis of Ketamine’s Antidepressant Action': [\"['Anthony G. Phillips', 'YuTian Wang']\"], 'Antidepressant effects of ketamine and the roles of AMPA glutamate receptors and other mechanisms beyond NMDA receptor antagonism': [\"['Anthony G. Phillips', 'YuTian Wang']\"], 'Heantos-4, a natural plant extract used in the treatment of drug addiction, modulates T-type calcium channels and thalamocortical burst-firing': [\"['Anthony G. Phillips', 'Terrance P. Snutch']\"], 'A quantitative analysis of context-dependent remapping of medial frontal cortex neurons and ensembles': [\"['Anthony G. Phillips', 'Jeremy Keith Seamans']\"], 'Amphetamine exerts dose-dependent changes in prefrontal cortex attractor dynamics during working memory': [\"['Anthony G. Phillips', 'Jeremy Keith Seamans']\"], 'Tracking progress toward a goal in corticostriatal ensembles': [\"['Anthony G. Phillips', 'Jeremy Keith Seamans']\"], 'Differences in the emergent coding properties of cortical and striatal ensembles': [\"['Anthony G. Phillips', 'Jeremy Keith Seamans']\"], 'Interference with AMPA receptor endocytosis: Effects on behavioural and neurochemical correlates of amphetamine sensitization in male rats': [\"['Anthony G. Phillips', 'YuTian Wang']\"], 'Facilitated extinction of morphine conditioned place preference with Tat-GluA2<inf>3Y</inf> interference peptide': [\"['Anthony G. Phillips', 'YuTian Wang']\"], 'Oscillatory power and synchrony in the rat forebrain are altered by a sensitizing regime of d-amphetamine': [\"['Anthony G. Phillips', 'Z. Jane Wang']\"], 'NMDA GluN2A and GluN2B receptors play separate roles in the induction of LTP and LTD in the amygdala and in the acquisition and extinction of conditioned fear': [\"['Anthony G. Phillips', 'YuTian Wang']\"], 'Hippocampal long-term depression is required for the consolidation of spatial memory': [\"['Anthony G. Phillips', 'YuTian Wang']\"], 'Block of voltage-gated calcium channels stimulates dopamine efflux in rat mesocorticolimbic system': [\"['Anthony G. Phillips', 'Terrance P. Snutch']\"], 'Tolcapone enhances food-evoked dopamine efflux and executive memory processes mediated by the rat prefrontal cortex': [\"['Anthony G. Phillips', 'Jeremy Keith Seamans']\"], 'Disruption of AMPA receptor endocytosis impairs the extinction, but not acquisition of learned fear': [\"['Anthony G. Phillips', 'YuTian Wang']\"], 'Hippocampal long-term depression mediates acute stress-induced spatial memory retrieval impairment': [\"['Anthony G. Phillips', 'YuTian Wang']\"], 'Interference peptides: A novel therapeutic approach targeting synaptic plasticity in drug addiction': [\"['Anthony G. Phillips', 'YuTian Wang']\"], 'Neuroscience: Nucleus accumbens long-term depression and the expression of behavioral sensitization': [\"['Anthony G. Phillips', 'YuTian Wang']\"], 'Processing efficiency of a verbal working memory system is modulated by amphetamine: An fMRI investigation': [\"['Anthony G. Phillips', 'Todd Stephen Woodward']\"], 'D<inf>1</inf> receptor modulation of hippocampal-prefrontal cortical circuits integrating spatial memory with executive functions in the rat': [\"['Anthony G. Phillips', 'Jeremy Keith Seamans']\"], 'Selective roles for hippocampal, prefrontal cortical, and ventral striatal circuits in radial-arm maze tasks with or without a delay': [\"['Anthony G. Phillips', 'Jeremy Keith Seamans']\"], 'Differential effects of lidocaine infusions into the ventral CA1/subiculum or the nucleus accumbens on the acquisition and retention of spatial information': [\"['Anthony G. Phillips', 'Jeremy Keith Seamans']\"], 'A selective role for dopamine in the nucleus accumbens of the rat in random foraging but not delayed spatial win-shift-based foraging': [\"['Anthony G. Phillips', 'Jeremy Keith Seamans']\"], 'Functional Differences Between the Prelimbic and Anterior Cingulate Regions of the Rat Prefrontal Cortex': [\"['Anthony G. Phillips', 'Jeremy Keith Seamans']\"], 'Selective memory impairments produced by transient lidocaine-induced lesions of the nucleus accumbens in rats': [\"['Anthony G. Phillips', 'Jeremy Keith Seamans']\"], 'Irrational choice under uncertainty correlates with lower striatal D<inf>2/3</inf> receptor binding in rats': [\"['Catharine A. Winstanley', 'Vesna Sossi']\"], \"Mitigation of augmented extrasynaptic NMDAR signaling and apoptosis in cortico-striatal co-cultures from Huntington's disease mice\": [\"['YuTian Wang', 'Lynn A. Raymond']\"], 'Sterol regulatory element binding protein-1 (SREBP1) activation in motor neurons in excitotoxicity and amyotrophic lateral sclerosis (ALS): Indip, a potential therapeutic peptide': [\"['YuTian Wang', 'Ian Mackenzie']\"], 'Essential role of SBP-1 activation in oxygen deprivation induced lipid accumulation and increase in body width/length ratio in Caenorhabditis elegans': [\"['YuTian Wang', 'Catharine Rankin']\"], 'Disruption of the endocytic protein HIP1 results in neurological deficits and decreased AMPA receptor trafficking': [\"['YuTian Wang', 'Lynn A. Raymond']\"], 'Action and outcome activity state patterns in the anterior cingulate cortex': [\"['Jeremy Keith Seamans', 'Todd Stephen Woodward']\"], 'FDG-PET in presymptomatic C9orf72 mutation carriers': [\"['Ian Mackenzie', 'Vesna Sossi']\"], 'Synaptic dysfunction in progranulin-deficient mice': [\"['Ian Mackenzie', 'Lynn A. Raymond']\"], 'Endocannabinoid-specific impairment in synaptic plasticity in striatum of huntington’s disease mouse model': [\"['Lynn A. Raymond', 'Jeffrey M. LeDue']\"], 'Front2Back: Single View 3D Shape Reconstruction via Front to Back Prediction': [\"['Leonid Sigal', 'Helge Rhodin']\"], 'Self-supervised 3D human pose estimation from video': [\"['Z. Jane Wang', 'Helge Rhodin']\"], 'AdaptPose: Cross-Dataset Adaptation for 3D Human Pose Estimation by Learnable Motion Generation': [\"['Z. Jane Wang', 'Helge Rhodin']\"], 'Preface': [\"['Z. Jane Wang', 'Liisa A. M. Galea', 'Brian Fisher', 'Purang Abolmaesumi']\"], 'A Blind Source Separation Framework for Monitoring Heart Beat Rate Using Nanofiber-Based Strain Sensors': [\"['Z. Jane Wang', 'Peyman Servati']\"], 'Sex differences in predictors and regional patterns of brain age gap estimates': [\"['Liisa A. M. Galea', 'Sophia Frangou']\"], \"Functional neuroimaging in Parkinson's disease\": [\"['Silke Appel-Cresswell', 'Vesna Sossi']\"], 'Lecture Notes in Computer Science (including subseries Lecture Notes in Artificial Intelligence and Lecture Notes in Bioinformatics): Preface': [\"['Brian Fisher', 'Purang Abolmaesumi']\"], 'Pannexin 1 regulates network ensembles and dendritic spine development in cortical neurons': [\"['Leigh Anne Swayne', 'Craig E. Brown']\"], 'Computational Neuroscience: Mathematical and Statistical Perspectives': [\"['Adrienne L. Fairhall', 'Eric T. Shea-Brown']\"], 'Constructing precisely computing networks with biophysical spiking neurons': [\"['Adrienne L. Fairhall', 'Eric T. Shea-Brown']\"], 'Information theoretic approaches to understanding circuit function': [\"['Adrienne L. Fairhall', 'Eric T. Shea-Brown']\"], 'Emerging neuroimaging technologies: Toward future personalized diagnostics, prognosis, targeted intervention, and ethical challenges': [\"['Todd Stephen Woodward', 'Vesna Sossi']\"], 'Interventional imaging: Ultrasound': [\"['Ilker Hacihaliloglu', 'Purang Abolmaesumi']\"], 'A multi-vertebrae CT to US registration of the lumbar spine in clinical data': [\"['Ilker Hacihaliloglu', 'Purang Abolmaesumi']\"], 'Bone enhancement in ultrasound using local spectrum variations for guiding percutaneous scaphoid fracture fixation procedures': [\"['Ilker Hacihaliloglu', 'Purang Abolmaesumi']\"], 'Projection-based phase features for localization of a needle tip in 2D curvilinear ultrasound': [\"['Ilker Hacihaliloglu', 'Purang Abolmaesumi']\"], 'Scaphoid fracture fixation: Localization of bones through statistical model to ultrasound registration': [\"['Ilker Hacihaliloglu', 'Purang Abolmaesumi']\"], 'Local phase tensor features for 3-D ultrasound to statistical shape+pose spine model registration': [\"['Ilker Hacihaliloglu', 'Purang Abolmaesumi']\"], 'CT to US registration of the lumbar spine: A clinical feasibility study': [\"['Ilker Hacihaliloglu', 'Purang Abolmaesumi']\"], 'A global CT to US registration of the lumbar spine': [\"['Ilker Hacihaliloglu', 'Purang Abolmaesumi']\"], 'Statistical shape model to 3D ultrasound registration for spine interventions using enhanced local phase features': [\"['Ilker Hacihaliloglu', 'Purang Abolmaesumi']\"], 'Non-iterative partial view 3D ultrasound to CT registration in ultrasound-guided computer-assisted orthopedic surgery': [\"['Ilker Hacihaliloglu', 'Purang Abolmaesumi']\"], 'Non-iterative multi-modal partial view to full view image registration using local phase-based image projections': [\"['Ilker Hacihaliloglu', 'Purang Abolmaesumi']\"]}\n"
     ]
    }
   ],
   "source": [
    "print(sv_pubs)"
   ]
  },
  {
   "cell_type": "code",
   "execution_count": 5,
   "id": "eccd178a",
   "metadata": {},
   "outputs": [],
   "source": [
    "# sv_titles = []\n",
    "# for pub in pubs:\n",
    "#     pub_dict = {\n",
    "#         \"title\":pub.title,\n",
    "#         \"authors_name\":pub.author_names,\n",
    "#         \"authors_id\":pub.author_ids,\n",
    "#         \"citations\":pub.citedby_count,\n",
    "#     }\n",
    "#     try:\n",
    "#         pub_dict[\"pub_type\"] = pub.aggregationType\n",
    "#     except KeyError:\n",
    "#         pub_dict[\"pub_type\"] = \"\"\n",
    "#     sv_titles.append(pub_dict)\n",
    "\n",
    "sv_titles = []\n",
    "for pub in pubs:\n",
    "    sv_titles.append(pub.title)\n",
    "\n",
    "sv_titles = [\n",
    "        title.replace(\"<sup>\",\"\").replace(\"</sup>\",\"\").replace(\"<inf>\",\"\").replace(\"</inf>\",\"\") \n",
    "        for title in sv_titles\n",
    "    ]\n",
    "\n",
    "sv_titles = [\n",
    "        \" \".join(\n",
    "            [\n",
    "                word.strip() \n",
    "                for word in re.sub(r'[^\\w]', ' ', title.lower()).split(\" \") \n",
    "                if word != \"\"])\n",
    "        for title in sv_titles\n",
    "        ]\n"
   ]
  },
  {
   "cell_type": "code",
   "execution_count": 6,
   "id": "94123123",
   "metadata": {},
   "outputs": [
    {
     "name": "stdout",
     "output_type": "stream",
     "text": [
      "morphine withdrawal induced hyperalgesia in models of acute and extended withdrawal is attenuated by l tetrahydropalmatine\n"
     ]
    }
   ],
   "source": [
    "print(sv_titles[0])"
   ]
  },
  {
   "cell_type": "code",
   "execution_count": 7,
   "id": "1f54a29d",
   "metadata": {},
   "outputs": [
    {
     "name": "stdout",
     "output_type": "stream",
     "text": [
      "defaultdict(<class 'list'>, {})\n"
     ]
    }
   ],
   "source": [
    "sv_items = defaultdict(list)\n",
    "print(sv_items)\n",
    "for i,item in enumerate(sv_titles):\n",
    "    sv_items[item].append(i)\n",
    "sv_duplicates = {k:v for k,v in sv_items.items() if len(v)>1}\n",
    "sv_num_duplicates = sum(np.array([len(v) for k,v in sv_duplicates.items()]))\n",
    "sv_unique = {k:v for k,v in sv_items.items() if len(v)==1}\n",
    "sv_num_unique = sum(np.array([len(v) for k,v in sv_unique.items()]))"
   ]
  },
  {
   "cell_type": "code",
   "execution_count": 8,
   "id": "2409fc74",
   "metadata": {},
   "outputs": [
    {
     "name": "stdout",
     "output_type": "stream",
     "text": [
      "0\n",
      "208\n"
     ]
    }
   ],
   "source": [
    "print(len(sv_duplicates))\n",
    "print(len(sv_unique))"
   ]
  },
  {
   "cell_type": "code",
   "execution_count": 13,
   "id": "3c355618-2b06-4d45-9910-60b11bb8b26f",
   "metadata": {},
   "outputs": [
    {
     "name": "stdout",
     "output_type": "stream",
     "text": [
      "scival publications: 208\n",
      "gs publications: 462\n"
     ]
    }
   ],
   "source": [
    "print(\"scival publications:\", len(sv_titles))\n",
    "print(\"gs publications:\", len(gs_titles))"
   ]
  },
  {
   "cell_type": "code",
   "execution_count": 14,
   "id": "8474414e",
   "metadata": {},
   "outputs": [
    {
     "ename": "AttributeError",
     "evalue": "'str' object has no attribute 'update'",
     "output_type": "error",
     "traceback": [
      "\u001b[1;31m---------------------------------------------------------------------------\u001b[0m",
      "\u001b[1;31mAttributeError\u001b[0m                            Traceback (most recent call last)",
      "Cell \u001b[1;32mIn[14], line 3\u001b[0m\n\u001b[0;32m      1\u001b[0m sv_titles_lowered \u001b[39m=\u001b[39m []\n\u001b[0;32m      2\u001b[0m \u001b[39mfor\u001b[39;00m d \u001b[39min\u001b[39;00m sv_titles:\n\u001b[1;32m----> 3\u001b[0m     d\u001b[39m.\u001b[39;49mupdate((k, v\u001b[39m.\u001b[39mreplace(\u001b[39m\"\u001b[39m\u001b[39m<sup>\u001b[39m\u001b[39m\"\u001b[39m,\u001b[39m\"\u001b[39m\u001b[39m\"\u001b[39m)\u001b[39m.\u001b[39mreplace(\u001b[39m\"\u001b[39m\u001b[39m</sup>\u001b[39m\u001b[39m\"\u001b[39m,\u001b[39m\"\u001b[39m\u001b[39m\"\u001b[39m)\u001b[39m.\u001b[39mreplace(\u001b[39m\"\u001b[39m\u001b[39m<inf>\u001b[39m\u001b[39m\"\u001b[39m,\u001b[39m\"\u001b[39m\u001b[39m\"\u001b[39m)\u001b[39m.\u001b[39mreplace(\u001b[39m\"\u001b[39m\u001b[39m</inf>\u001b[39m\u001b[39m\"\u001b[39m,\u001b[39m\"\u001b[39m\u001b[39m\"\u001b[39m)) \u001b[39mfor\u001b[39;00m k, v \u001b[39min\u001b[39;00m d\u001b[39m.\u001b[39mitems() \u001b[39mif\u001b[39;00m k \u001b[39m==\u001b[39m \u001b[39m\"\u001b[39m\u001b[39mtitle\u001b[39m\u001b[39m\"\u001b[39m)\n\u001b[0;32m      4\u001b[0m     d\u001b[39m.\u001b[39mupdate((k, \u001b[39m\"\u001b[39m\u001b[39m \u001b[39m\u001b[39m\"\u001b[39m\u001b[39m.\u001b[39mjoin(\n\u001b[0;32m      5\u001b[0m                 [\n\u001b[0;32m      6\u001b[0m                     word\u001b[39m.\u001b[39mstrip() \n\u001b[1;32m   (...)\u001b[0m\n\u001b[0;32m      9\u001b[0m                     )\n\u001b[0;32m     10\u001b[0m                     ) \u001b[39mfor\u001b[39;00m k, v \u001b[39min\u001b[39;00m d\u001b[39m.\u001b[39mitems() \u001b[39mif\u001b[39;00m k \u001b[39m==\u001b[39m \u001b[39m\"\u001b[39m\u001b[39mtitle\u001b[39m\u001b[39m\"\u001b[39m)\n\u001b[0;32m     11\u001b[0m     sv_titles_lowered\u001b[39m.\u001b[39mappend(d[\u001b[39m\"\u001b[39m\u001b[39mtitle\u001b[39m\u001b[39m\"\u001b[39m])\n",
      "\u001b[1;31mAttributeError\u001b[0m: 'str' object has no attribute 'update'"
     ]
    }
   ],
   "source": [
    "sv_titles_lowered = []\n",
    "for d in sv_titles:\n",
    "    d.update((k, v.replace(\"<sup>\",\"\").replace(\"</sup>\",\"\").replace(\"<inf>\",\"\").replace(\"</inf>\",\"\")) for k, v in d.items() if k == \"title\")\n",
    "    d.update((k, \" \".join(\n",
    "                [\n",
    "                    word.strip() \n",
    "                    for word in re.sub(r'[^\\w]', ' ', v.lower()).split(\" \") \n",
    "                    if word != \"\"]\n",
    "                    )\n",
    "                    ) for k, v in d.items() if k == \"title\")\n",
    "    sv_titles_lowered.append(d[\"title\"])"
   ]
  },
  {
   "cell_type": "code",
   "execution_count": null,
   "id": "3375d1c9",
   "metadata": {},
   "outputs": [],
   "source": [
    "gs_titles_lowered = []\n",
    "for d in gs_titles:\n",
    "    d.update((k, \" \".join(\n",
    "                [\n",
    "                    word.strip() \n",
    "                    for word in re.sub(r'[^\\w]', ' ', v.lower()).split(\" \") \n",
    "                    if word != \"\"]\n",
    "                    )\n",
    "                    ) for k, v in d.items() if k == \"title\")\n",
    "    gs_titles_lowered.append(d[\"title\"])"
   ]
  },
  {
   "cell_type": "code",
   "execution_count": 19,
   "id": "616c499c",
   "metadata": {},
   "outputs": [
    {
     "name": "stdout",
     "output_type": "stream",
     "text": [
      "{'title': 'ipca an interactive system for pca based visual analytics', 'authors_name': '', 'authors_id': '', 'citations': 275, 'pub_type': ''}\n"
     ]
    }
   ],
   "source": [
    "print(gs_titles[1])"
   ]
  },
  {
   "cell_type": "code",
   "execution_count": 20,
   "id": "66b92f2f",
   "metadata": {},
   "outputs": [
    {
     "name": "stdout",
     "output_type": "stream",
     "text": [
      "['interactive visual analytics and visualization for decision making minitrack', 'preface', 'interactive visual analytics and visualization for decision making making sense of a growing digital world', 'lecture notes in computer science preface', 'lecture notes in computer science including subseries lecture notes in artificial intelligence and lecture notes in bioinformatics preface']\n",
      "['experimental investigation of linguistic and parametric descriptions of human motion for animation', 'individual differences and translational science in the design of human centered visualizations', 'an interaction approach to enhance situational awareness and the production of anticipatory actions in emergency operation centers', 'peer presence and real time assessment a symbiotic relationship', 'introduction to the minitrack on interactive visual analytics and visualization for decision making', 'vis conference committee', 'vast steering committee', 'vast international program committee']\n"
     ]
    }
   ],
   "source": [
    "#find coauthors for comparison between gs and scival(?) since coauthors would be most important factor\n",
    "\n",
    "#filter for coauthors of interest\n",
    "\n",
    "#find sv/gs overlap in titles\n",
    "\n",
    "from collections import Counter\n",
    "sv_duplicates = [k for k,v in Counter(sv_titles_lowered).items() if v>1]\n",
    "gs_duplicates = [k for k,v in Counter(gs_titles_lowered).items() if v>1]\n",
    "\n",
    "print(sv_duplicates)\n",
    "print(gs_duplicates)"
   ]
  },
  {
   "cell_type": "code",
   "execution_count": 31,
   "id": "7281b2c5",
   "metadata": {},
   "outputs": [
    {
     "name": "stdout",
     "output_type": "stream",
     "text": [
      "scival duplicates: {'interactive visual analytics and visualization for decision making minitrack': [5, 10], 'preface': [8, 17, 19, 26], 'interactive visual analytics and visualization for decision making making sense of a growing digital world': [12, 16], 'lecture notes in computer science preface': [66, 77], 'lecture notes in computer science including subseries lecture notes in artificial intelligence and lecture notes in bioinformatics preface': [71, 72]}\n",
      "num of scival duplicates: 5\n",
      "total scival duplicates: 12\n",
      "\n",
      "google scholar duplicates: {'experimental investigation of linguistic and parametric descriptions of human motion for animation': [65, 178], 'individual differences and translational science in the design of human centered visualizations': [71, 121], 'an interaction approach to enhance situational awareness and the production of anticipatory actions in emergency operation centers': [98, 122], 'peer presence and real time assessment a symbiotic relationship': [104, 105], 'introduction to the minitrack on interactive visual analytics and visualization for decision making': [109, 110], 'vis conference committee': [147, 159, 161, 162, 164, 169], 'vast steering committee': [149, 170, 173], 'vast international program committee': [165, 172]}\n",
      "num of gs duplicates: 8\n"
     ]
    }
   ],
   "source": [
    "from collections import defaultdict\n",
    "\n",
    "sv_D = defaultdict(list)\n",
    "for i,item in enumerate(sv_titles_lowered):\n",
    "    sv_D[item].append(i)\n",
    "sv_D = {k:v for k,v in sv_D.items() if len(v)>1}\n",
    "print(\"scival duplicates:\",sv_D)\n",
    "print(\"num of scival duplicates:\",len(sv_D))\n",
    "print(\"total scival duplicates:\",sum(np.array([len(v) for k,v in sv_D.items()])))\n",
    "print()\n",
    "\n",
    "gs_D = defaultdict(list)\n",
    "for i,item in enumerate(gs_titles_lowered):\n",
    "    gs_D[item].append(i)\n",
    "gs_D = {k:v for k,v in gs_D.items() if len(v)>1}\n",
    "print(\"google scholar duplicates:\",gs_D)\n",
    "print(\"num of gs duplicates:\",len(gs_D))"
   ]
  },
  {
   "cell_type": "code",
   "execution_count": 22,
   "id": "14fec28a-ba61-4252-a788-f53838e79dc3",
   "metadata": {
    "scrolled": true
   },
   "outputs": [
    {
     "name": "stdout",
     "output_type": "stream",
     "text": [
      "72\n"
     ]
    }
   ],
   "source": [
    "matching_titles = list(set(gs_titles_lowered).intersection(sv_titles_lowered))\n",
    "# print(matching_titles)\n",
    "print(len(matching_titles))"
   ]
  },
  {
   "cell_type": "code",
   "execution_count": 23,
   "id": "12e132cb-6217-419e-afb1-dc53543eec06",
   "metadata": {
    "scrolled": true
   },
   "outputs": [
    {
     "name": "stdout",
     "output_type": "stream",
     "text": [
      "17\n"
     ]
    }
   ],
   "source": [
    "scival_only_titles = list(set(sv_titles_lowered) - set(gs_titles_lowered))\n",
    "print(len(scival_only_titles))\n",
    "# print(scival_only_titles)"
   ]
  },
  {
   "cell_type": "code",
   "execution_count": 24,
   "id": "a132689e-5ddd-43ac-a427-00e702987322",
   "metadata": {
    "scrolled": true
   },
   "outputs": [
    {
     "name": "stdout",
     "output_type": "stream",
     "text": [
      "102\n"
     ]
    }
   ],
   "source": [
    "gs_only_titles = list(set(gs_titles_lowered) - set(sv_titles_lowered))\n",
    "print(len(gs_only_titles))\n",
    "# print(gs_only_titles)"
   ]
  },
  {
   "cell_type": "code",
   "execution_count": 25,
   "id": "1d2eee66-5cfd-4c19-89de-a13c1e347faa",
   "metadata": {},
   "outputs": [],
   "source": [
    "out_df = pd.DataFrame(\n",
    "    {\n",
    "        \"gs publications\":gs_titles,\n",
    "        \"scival publications\":sv_titles + [\"\"]*(len(gs_titles_lowered)-len(sv_titles)),\n",
    "        \"GS ONLY publications\":gs_only_titles+ [\"\"]*(len(gs_titles_lowered)-len(gs_only_titles)),\n",
    "        \"SCIVAL ONLY publications\": scival_only_titles+ [\"\"]*(len(gs_titles_lowered)-len(scival_only_titles)),\n",
    "        \"shared publications\":matching_titles+ [\"\"]*(len(gs_titles_lowered)-len(matching_titles)),\n",
    "    })"
   ]
  },
  {
   "cell_type": "code",
   "execution_count": 75,
   "id": "36322da4-d835-4433-b96f-51e9594d3164",
   "metadata": {},
   "outputs": [],
   "source": [
    "out_df.to_csv(f\"{ar.surname}_{ar.given_name}_publication_compare.csv\")"
   ]
  },
  {
   "cell_type": "code",
   "execution_count": 77,
   "id": "85e78f75-d080-49c5-ba43-cb60e7ae3b23",
   "metadata": {},
   "outputs": [],
   "source": [
    "comp_df = pd.read_csv(\"6_publication_compare_standardspaces.csv\")\n",
    "gs_comp_list = comp_df[\"GS ONLY publications\"].dropna().tolist()"
   ]
  },
  {
   "cell_type": "code",
   "execution_count": 78,
   "id": "e7de904f",
   "metadata": {},
   "outputs": [
    {
     "name": "stdout",
     "output_type": "stream",
     "text": [
      "['analysis of gene networks in schizophrenia and the challenge of multifunctionality', 'a critical assessment of single cell transcriptomes sampled following patch clamp electrophysiology', 'ps73 changes in neuronal densities underlying transcriptional alterations in psychiatric patients', 'cutting edge stat6 serves as a positive and', 'analysis of gene expression profiles in schizophrenia using a large combined cohort', 'coexpression based gene discovery in the post synaptic proteome', 'basal and apical synapses of ca1 pyramidal cells employ different', 'drosophila mutations affecting electrical excitability', 'coexpression analysis of human genes across many microarray data sets', 'corrigendum to cortical functional connectivity decodes subconscious task irrelevant threat related emotion processing neuroimage 61 4 2012 1355 1363', 'nar molecular biology database collection entry number 1476', 'crosslaboratory comparison of human postmortem brain expression profiling data', 'data from assessing identity redundancy and confounds in gene ontology annotations over time', 'large scale network and machine learning analyses reveal functional connectivity between temporal pole and hippocampus is reduced in social anxiety disorder and increases', 'database editorial board 2010', 'supplemental data zac1 regulates an imprinted gene network critically involved in the control of embryonic growth', 'isdn2014_0418 dna methylation changes in fetal alcohol spectrum disorder', 'gene ontology matrices with descriptions ids etc from guilt by association is the exception rather than the rule in gene networks gillis j and pavlidis p 2012 plos', 'whose sample is it anyway widespread misannotation of samples in transcriptomics studies', 'changes in neuronal densities underlying transcriptional alterations in psychiatric patients', 'differential gene expression in schizophrenia and bipolar disorder in the corpus callosum', 'transcriptomic responses to high water temperature in two species of p acific salmon', 'large scale analysis of brain wide electrophysiological diversity reveals novel characterization of mammalian neuron types', 'supplementary information for', 'gist support vector machine and kernel principal components analysis software toolkit', 'programming of neural gene expression response to adjuvant induced arthritis by prenatal diet in a rat model of prenatal alcohol exposure', 'systematic phenomics analysis of asd associated genes reveals shared functions and parallel networks underlying reversible impairments in habituation learning', 'gene expression in lens epithelial cell lines conditioned to survive h2o2 or tbhp', 'application and evaluation of automated methods to extract brain connectivity statements from free text', 'the impact of multifunctional genes on', 'identification of three distinct blood mononuclear cell gene expression signatures reveals heterogeneity of recent onset polyarticular juvenile idiopathic arthritis', 'availability this version is available at http porto polito it 2649752 since september 2016', 'follow up progress and challenges in the', 'gp 5 10 mapk signaling pathway is commonly activated in hearts of mouse models of autosomal dominant and x linked emery dreifuss muscular dystrophy', 'interpreting cell type specific changes in bulk tissue transcriptomics data', 'a primate specific and brain enriched mirna is involved in depression and regulates the expression of grm4', 'cross validation calculation from guilt by association is the exception rather than the rule in gene networks gillis j and pavlidis p 2012 plos computational biology 8 3', 'use case the postsynaptic proteome from assessing identity redundancy and confounds in gene ontology annotations over time', 'p091 neurocarta online platform for integration and sharing of phenotypic and genomics information', 'gene expression in juvenile arthritis and spondyloarthropathy pro angiogenic elr chemokine genes relate to course of arthritis', 'supplemental data histone deacetylase inhibition elicits an evolutionarily conserved self renewal program in embryonic stem cells', 'physiological behavioral and molecular analysis of bang sensitive paralytic mutants of drosophila melanogaster', 'neurocarta aggregating and sharing disease gene relations for the interpretation of genomics studies', 'paul pavlidis and william stafford noble columbia genome center and department of computer science columbia university corresponding author', 'sharing expression profiling data with gemma', 'cognitive domains function complementation by ntng gene paralogs', 'figure data from the role of indirect connections in gene networks in predicting function gillis j and pavlidis p 2011 bioinformatics 27 13 pp 1860 1866', 'network data from the role of indirect connections in gene networks in predicting function gillis j and pavlidis p 2011 bioinformatics 27 13 pp 1860 1866', 'data and design files for 6 public datasets used in genome wide expression profiling of schizophrenia using a large combined cohort mistry m and gillis j and pavlidis p', 'promoter re ion ased classification of enes', 'assessing the utility of pharmacogenetic testing in a cohort with treatment resistant schizophrenia or schizoaffective disorder', 'gist support vector machine 1 0', 'classification of clear cell sarcoma as melanoma of soft parts by genomic profiling', 'molecular differences between chronic and aggressive periodontitis', 'combining microarray expression data and phylogenetic profiles to learn gene functional categories using support vector machines', 'general obstetrics and gynecology fetus placenta newborn a high throughput study of gene expression in preterm labor with a subtractive microarray approach the subtractive dna', 'variant selection gene exploration', 'cataloging the potential functional diversity of cacna1e splice variants using long read sequencing', 'methodology for analyzing temporal patterns of differential coexpression using meta analysis', 'neurocarta online plaiorm for integration and sharing of phenotypic and genomics information', 'can machine learning aid in identifying disease genes the case of autism spectrum disorder', 'gene coexpression analysis in the frontal cortex of bipolar patients and controls', 'classification of genes using probabilistic models of microarray expression profiles', 'single cell genomic strategies to understand psychopathological processes in suicide and associated psychopathology', 'gene lists from the role of indirect connections in gene networks in predicting function gillis j and pavlidis p 2011 bioinformatics 27 13 pp 1860 1866', 'cross scale mapping of gene expression to neuroimaging datasets via semantic decomposition', 'gist', 'varicarta a comprehensive database of harmonized genomic variants found in asd sequencing studies', 'live demos in incf booth 4112 atsfn in san diego', 'toll like receptor 4 tlr4 dependent gene expression in a murine model of bacterially induced preterm labor', 'whose sample is it anyway widespread misannotation of samples in transcriptomics studies version 1 referees awaiting', 'gene lists from gillis j and pavlidis p 2012 plos computational biology 8 3', 'a6 08 transcriptome profiling by next generation sequencing of hematopoietic progenitors in murine systemic lupus erythematosus sle', 'gene ontology matrices from the role of indirect connections in gene networks in predicting function gillis j and pavlidis p 2011 bioinformatics 27 13 pp 1860 1866', 'effect of electroconvulsive shock and magnetic seizure on gene expression profiles in the prefrontal cortex of the rhesus monkey', 'samples in transcriptomics studies version 1 referees 2', 'application of large scale text mining and curation for extracting neuronal electrophysiology data', 'whose sample is it anyway widespread misannotation of samples in transcriptomics studies version 2 peer review', 'decoding unattended fearful faces with whole brain correlations an approach to identify condition', 'supplementary santiago potashkin 2015 reanalysis', 'cellular and molecular properties of neurons modeling sources of interlaboratory variability in electrophysiological properties of mammalian neurons', 'michael smith laboratories university of british columbia vancouver bc canada department of psychiatry university of british columbia vancouver bc canada corresponding', 'ôø å òù ö ôø', 'systematic phenomics analysis of asd associated genes reveals shared functions and', 'experiment level curation identifies high confidence transcriptional regulatory interactions in neurodevelopment', 'single cell genomic strategies to understand psychopathological processes in depression and suicide', 'exceptional edges matrices from guilt by association is the exception rather than the rule in gene networks gillis j and pavlidis p 2012 plos computational biology 8 3', 'multi model functionalization of 106 pten missense mutations identifies multiple molecular mechanisms underlying protein dysfunction', 'tu71 significant incidence of rare chromosomal and genomic sequence variants in highly treatment resistant schizophrenia and schizoaffective disorder', '11 changes in cellular abundance underlying transcriptional alterations in psychiatric patients']\n"
     ]
    }
   ],
   "source": []
  },
  {
   "cell_type": "code",
   "execution_count": null,
   "id": "77d7d875",
   "metadata": {},
   "outputs": [],
   "source": [
    "'''gs_titles = [] #list of title strings\n",
    "data_dict = scholarly.fill(author, sections=['basics', 'indices', 'publications', 'counts'])\n",
    "\n",
    "for i in range(len(data_dict['publications'])):\n",
    "\n",
    "    filled_pub = scholarly.fill(data_dict['publications'][i])\n",
    "    \n",
    "    pub_dict = {\n",
    "        \"title\":filled_pub[\"bib\"][\"title\"],\n",
    "        \"authors_name\":filled_pub[\"bib\"][\"author\"],\n",
    "        \"authors_id\":filled_pub[\"author_id\"],\n",
    "        \"citations\":filled_pub['num_citations'],\n",
    "    }\n",
    "    try:\n",
    "        pub_dict[\"pub_type\"] = filled_pub['bib']['pub_type']\n",
    "    except KeyError:\n",
    "        pub_dict[\"pub_type\"] = \"\"\n",
    "\n",
    "    gs_titles.append(pub_dict)'''\n",
    "\n",
    "\n",
    "'''\n",
    "#clean list of title names\n",
    "scival_titles_lowered = [pub[\"title\"].replace(\"<sup>\",\"\").replace(\"</sup>\",\"\").replace(\"<inf>\",\"\").replace(\"</inf>\",\"\") for pub in sv_titles]\n",
    "\n",
    "scival_titles_lowered = [\n",
    "    \" \".join(\n",
    "        [\n",
    "            word.strip() \n",
    "            for word in re.sub(r'[^\\w]', ' ', title.lower()).split(\" \") \n",
    "            if word != \"\"])\n",
    "    for title in sv_titles\n",
    "    ]\n",
    "# gs_titles_lowered = [re.sub(r'[^\\w]', ' ', title.lower()).strip() for title in gs_titles]\n",
    "gs_titles_lowered = [\n",
    "    \" \".join(\n",
    "        [\n",
    "            word.strip() \n",
    "            for word in re.sub(r'[^\\w]', ' ', title.lower()).split(\" \") \n",
    "            if word != \"\"])\n",
    "    for title in gs_titles\n",
    "    ]\n",
    "'''\n"
   ]
  }
 ],
 "metadata": {
  "kernelspec": {
   "display_name": "Python 3 (ipykernel)",
   "language": "python",
   "name": "python3"
  },
  "language_info": {
   "codemirror_mode": {
    "name": "ipython",
    "version": 3
   },
   "file_extension": ".py",
   "mimetype": "text/x-python",
   "name": "python",
   "nbconvert_exporter": "python",
   "pygments_lexer": "ipython3",
   "version": "3.10.12"
  }
 },
 "nbformat": 4,
 "nbformat_minor": 5
}
