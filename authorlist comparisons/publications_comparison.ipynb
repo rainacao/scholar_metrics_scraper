{
 "cells": [
  {
   "cell_type": "code",
   "execution_count": 123,
   "id": "1dbb4105-b905-4425-9314-093ead56af07",
   "metadata": {},
   "outputs": [
    {
     "name": "stdout",
     "output_type": "stream",
     "text": [
      "127f5bf5de20d338f686704a9a328b86\n"
     ]
    }
   ],
   "source": [
    "import os\n",
    "import requests\n",
    "import json\n",
    "import csv\n",
    "import pandas as pd\n",
    "from time import sleep\n",
    "import numpy as np\n",
    "from pybliometrics.scopus import CitationOverview, AuthorRetrieval, AbstractRetrieval\n",
    "from pybliometrics.scopus.utils import config\n",
    "config['Authentication'] ['APIKey'] = \"127f5bf5de20d338f686704a9a328b86\"\n",
    "print(config['Authentication'] ['APIKey'])\n",
    "from scholarly import scholarly, ProxyGenerator\n",
    "import re"
   ]
  },
  {
   "cell_type": "code",
   "execution_count": 104,
   "id": "6a21d114",
   "metadata": {},
   "outputs": [],
   "source": [
    "sv_authids = pd.read_csv(\n",
    "    \"scival_outputs/scival_authorlist_publications_official.csv\"\n",
    "    ).loc[\n",
    "        :,\"Scopus ID\"\n",
    "        ].tolist()\n",
    "gs_authids = pd.read_csv(\n",
    "    \"gs_outputs/gs_authorlist_publications.csv\"\n",
    "    ).loc[\n",
    "        :,\"Scholar ID\"\n",
    "        ].tolist()"
   ]
  },
  {
   "cell_type": "code",
   "execution_count": 106,
   "id": "1f6bade5",
   "metadata": {},
   "outputs": [
    {
     "name": "stdout",
     "output_type": "stream",
     "text": [
      "[7401632487, 55491054000, 7006717711, 24279161600, 7005627810, 7101895712, 7004159655, 7005375626, 7004896118, 6603629883, 28167863900, 7006262846, 7401658611, 57207534482, 8908521300, 7102848867, 7003907622, 35408131500, 16407421900, 7102737545, 55554765000, 37036981000, 7401756510, 55889287500, 7007032941, 57210526278, 7103067039, 11241026700, 6701751588, 7004079043, 7004549374, 36237882900, 55860139200, 35146488900, 56363838400, 7004454250, 7408311558, 6602928622, 15065850600, 26634611400, 9239638800]\n",
      "['qJjM8hkAAAAJ', 'XAGfOIIAAAAJ', 'Sx3420cAAAAJ', 'VynxFpEAAAAJ', 'C832lNEAAAAJ', 'yutn3mwAAAAJ', 'ataejQQAAAAJ', 'cBAT2tQAAAAJ', 'KnhWIqwAAAAJ', 'hm6fJTkAAAAJ', 'B6Fe4-4AAAAJ', 'HgUvr-IAAAAJ', 'cHBZKa4AAAAJ', '62UFkZcAAAAJ', 'oUJOq0EAAAAJ', '72W33RkAAAAJ', 'cDn0toMAAAAJ', 'mTkQFQ8AAAAJ', 'Hx14DYYAAAAJ', 'VyLG_CgAAAAJ', 'zLPRoXUAAAAJ', 'f_ILrbMAAAAJ', 'K1VQtgwAAAAJ', 'nzIRBZ0AAAAJ', 'KM6fM-MAAAAJ', 'WVStjbgAAAAJ', 'P2mG6rcAAAAJ', 'W75uTm8AAAAJ', 'bl8U3JoAAAAJ', 'Q--hI3oAAAAJ', 'iRcTmwkAAAAJ', 'OrRZGCQAAAAJ', '2maWWboAAAAJ', 'OzV0TFoAAAAJ', '1NGZwzoAAAAJ', '6N7x3_wAAAAJ', 'JpTDgvYAAAAJ', 'Qd2_0VkAAAAJ', 'GyvbrjcAAAAJ', 'gKtP4d4AAAAJ', 'NcqRyesAAAAJ']\n"
     ]
    }
   ],
   "source": [
    "print(sv_authids)\n",
    "print(gs_authids)"
   ]
  },
  {
   "cell_type": "code",
   "execution_count": 62,
   "id": "7b83c193-1913-4017-933d-50e0fce1b917",
   "metadata": {},
   "outputs": [],
   "source": [
    "# identifier = \"7401632487\" #tim murphy\n",
    "identifier = \"7004159655\" #paul pavlidis\n",
    "author_row = 6\n",
    "ar = AuthorRetrieval(identifier)\n",
    "pubs = ar.get_documents()"
   ]
  },
  {
   "cell_type": "code",
   "execution_count": 108,
   "id": "eccd178a",
   "metadata": {},
   "outputs": [],
   "source": [
    "sv_titles = []\n",
    "for pub in pubs:\n",
    "    pub_dict = {\n",
    "        \"title\":pub.title,\n",
    "        \"authors_name\":pub.author_names,\n",
    "        \"authors_id\":pub.author_ids,\n",
    "        \"citations\":pub.citedby_count,\n",
    "    }\n",
    "    try:\n",
    "        pub_dict[\"pub_type\"] = pub.aggregationType\n",
    "    except KeyError:\n",
    "        pub_dict[\"pub_type\"] = \"\"\n",
    "    sv_titles.append(pub_dict)"
   ]
  },
  {
   "cell_type": "code",
   "execution_count": 113,
   "id": "94123123",
   "metadata": {},
   "outputs": [
    {
     "name": "stdout",
     "output_type": "stream",
     "text": [
      "{'title': 'Open science in play and in tension with patent protections', 'authors_name': 'Nuechterlein, Anna;Rotenberg, Ari;LeDue, Jeff;Pavlidis, Paul;Illes, Judy', 'authors_id': '58188935400;57447122900;56371437500;7004159655;7003845298', 'citations': 0, 'pub_type': 'Journal'}\n"
     ]
    }
   ],
   "source": [
    "print(sv_titles[0])"
   ]
  },
  {
   "cell_type": "code",
   "execution_count": 124,
   "id": "2221b732-22c8-405b-97a7-c5f537e653f0",
   "metadata": {},
   "outputs": [],
   "source": [
    "athr = \"ataejQQAAAAJ\" #Paul Pavlidis\n",
    "# athr = \"qJjM8hkAAAAJ\" #Tim Murphy\n",
    "pg = ProxyGenerator()\n",
    "success = pg.FreeProxies()\n",
    "scholarly.use_proxy(pg)\n",
    "author = scholarly.search_author_id(athr)\n",
    "data_dict = scholarly.fill(author, sections=['basics', 'indices', 'publications', 'counts'])"
   ]
  },
  {
   "cell_type": "code",
   "execution_count": 126,
   "id": "ff810ca5",
   "metadata": {},
   "outputs": [],
   "source": [
    "gs_titles = []\n",
    "for pub in data_dict['publications']:\n",
    "    pub_dict = {\n",
    "        \"title\":pub[\"bib\"][\"title\"]\n",
    "    }\n",
    "    try:\n",
    "        pub_dict[\"authors_name\"] = pub[\"bib\"][\"author\"]\n",
    "    except KeyError:\n",
    "        pub_dict[\"authors_name\"] = \"\"\n",
    "\n",
    "    try:\n",
    "        pub_dict[\"authors_id\"] = pub[\"author_id\"]\n",
    "    except KeyError:\n",
    "        pub_dict[\"authors_id\"] = \"\"\n",
    "    \n",
    "    try:\n",
    "        pub_dict[\"citations\"] = pub['num_citations']\n",
    "    except KeyError:\n",
    "        pub_dict[\"citations\"] = \"\"\n",
    "\n",
    "    try:\n",
    "        pub_dict[\"pub_type\"] = pub['bib']['pub_type']\n",
    "    except KeyError:\n",
    "        pub_dict[\"pub_type\"] = \"\"\n",
    "\n",
    "    gs_titles.append(pub_dict)"
   ]
  },
  {
   "cell_type": "code",
   "execution_count": 133,
   "id": "154597db",
   "metadata": {},
   "outputs": [
    {
     "ename": "MaxTriesExceededException",
     "evalue": "Cannot Fetch from Google Scholar.",
     "output_type": "error",
     "traceback": [
      "\u001b[1;31m---------------------------------------------------------------------------\u001b[0m",
      "\u001b[1;31mMaxTriesExceededException\u001b[0m                 Traceback (most recent call last)",
      "Cell \u001b[1;32mIn[133], line 5\u001b[0m\n\u001b[0;32m      2\u001b[0m data_dict \u001b[39m=\u001b[39m scholarly\u001b[39m.\u001b[39mfill(author, sections\u001b[39m=\u001b[39m[\u001b[39m'\u001b[39m\u001b[39mbasics\u001b[39m\u001b[39m'\u001b[39m, \u001b[39m'\u001b[39m\u001b[39mindices\u001b[39m\u001b[39m'\u001b[39m, \u001b[39m'\u001b[39m\u001b[39mpublications\u001b[39m\u001b[39m'\u001b[39m, \u001b[39m'\u001b[39m\u001b[39mcounts\u001b[39m\u001b[39m'\u001b[39m])\n\u001b[0;32m      4\u001b[0m \u001b[39mfor\u001b[39;00m i \u001b[39min\u001b[39;00m \u001b[39mrange\u001b[39m(\u001b[39mlen\u001b[39m(data_dict[\u001b[39m'\u001b[39m\u001b[39mpublications\u001b[39m\u001b[39m'\u001b[39m])):\n\u001b[1;32m----> 5\u001b[0m     pub \u001b[39m=\u001b[39m scholarly\u001b[39m.\u001b[39;49mfill(data_dict[\u001b[39m'\u001b[39;49m\u001b[39mpublications\u001b[39;49m\u001b[39m'\u001b[39;49m][i])\n\u001b[0;32m      6\u001b[0m     pub_dict \u001b[39m=\u001b[39m {\n\u001b[0;32m      7\u001b[0m         \u001b[39m\"\u001b[39m\u001b[39mtitle\u001b[39m\u001b[39m\"\u001b[39m:pub[\u001b[39m\"\u001b[39m\u001b[39mbib\u001b[39m\u001b[39m\"\u001b[39m][\u001b[39m\"\u001b[39m\u001b[39mtitle\u001b[39m\u001b[39m\"\u001b[39m]\n\u001b[0;32m      8\u001b[0m     }\n\u001b[0;32m      9\u001b[0m     \u001b[39mtry\u001b[39;00m:\n",
      "File \u001b[1;32mc:\\Users\\caoyut\\.conda\\envs\\sms\\lib\\site-packages\\scholarly\\_scholarly.py:238\u001b[0m, in \u001b[0;36m_Scholarly.fill\u001b[1;34m(self, object, sections, sortby, publication_limit)\u001b[0m\n\u001b[0;32m    236\u001b[0m \u001b[39melif\u001b[39;00m \u001b[39mobject\u001b[39m[\u001b[39m'\u001b[39m\u001b[39mcontainer_type\u001b[39m\u001b[39m'\u001b[39m] \u001b[39m==\u001b[39m \u001b[39m\"\u001b[39m\u001b[39mPublication\u001b[39m\u001b[39m\"\u001b[39m:\n\u001b[0;32m    237\u001b[0m     publication_parser \u001b[39m=\u001b[39m PublicationParser(\u001b[39mself\u001b[39m\u001b[39m.\u001b[39m__nav)\n\u001b[1;32m--> 238\u001b[0m     \u001b[39mobject\u001b[39m \u001b[39m=\u001b[39m publication_parser\u001b[39m.\u001b[39;49mfill(\u001b[39mobject\u001b[39;49m)\n\u001b[0;32m    239\u001b[0m \u001b[39mreturn\u001b[39;00m \u001b[39mobject\u001b[39m\n",
      "File \u001b[1;32mc:\\Users\\caoyut\\.conda\\envs\\sms\\lib\\site-packages\\scholarly\\publication_parser.py:278\u001b[0m, in \u001b[0;36mPublicationParser.fill\u001b[1;34m(self, publication)\u001b[0m\n\u001b[0;32m    276\u001b[0m \u001b[39mif\u001b[39;00m publication[\u001b[39m'\u001b[39m\u001b[39msource\u001b[39m\u001b[39m'\u001b[39m] \u001b[39m==\u001b[39m PublicationSource\u001b[39m.\u001b[39mAUTHOR_PUBLICATION_ENTRY:\n\u001b[0;32m    277\u001b[0m     url \u001b[39m=\u001b[39m _CITATIONPUB\u001b[39m.\u001b[39mformat(publication[\u001b[39m'\u001b[39m\u001b[39mauthor_pub_id\u001b[39m\u001b[39m'\u001b[39m])\n\u001b[1;32m--> 278\u001b[0m     soup \u001b[39m=\u001b[39m \u001b[39mself\u001b[39;49m\u001b[39m.\u001b[39;49mnav\u001b[39m.\u001b[39;49m_get_soup(url)\n\u001b[0;32m    279\u001b[0m     publication[\u001b[39m'\u001b[39m\u001b[39mbib\u001b[39m\u001b[39m'\u001b[39m][\u001b[39m'\u001b[39m\u001b[39mtitle\u001b[39m\u001b[39m'\u001b[39m] \u001b[39m=\u001b[39m soup\u001b[39m.\u001b[39mfind(\u001b[39m'\u001b[39m\u001b[39mdiv\u001b[39m\u001b[39m'\u001b[39m, \u001b[39mid\u001b[39m\u001b[39m=\u001b[39m\u001b[39m'\u001b[39m\u001b[39mgsc_oci_title\u001b[39m\u001b[39m'\u001b[39m)\u001b[39m.\u001b[39mtext\n\u001b[0;32m    280\u001b[0m     \u001b[39mif\u001b[39;00m publication[\u001b[39m'\u001b[39m\u001b[39mbib\u001b[39m\u001b[39m'\u001b[39m][\u001b[39m'\u001b[39m\u001b[39mtitle\u001b[39m\u001b[39m'\u001b[39m][\u001b[39m-\u001b[39m\u001b[39m1\u001b[39m] \u001b[39m==\u001b[39m \u001b[39m'\u001b[39m\u001b[39m\\u2026\u001b[39;00m\u001b[39m'\u001b[39m:\n",
      "File \u001b[1;32mc:\\Users\\caoyut\\.conda\\envs\\sms\\lib\\site-packages\\scholarly\\_navigator.py:239\u001b[0m, in \u001b[0;36mNavigator._get_soup\u001b[1;34m(self, url)\u001b[0m\n\u001b[0;32m    237\u001b[0m \u001b[39mdef\u001b[39;00m \u001b[39m_get_soup\u001b[39m(\u001b[39mself\u001b[39m, url: \u001b[39mstr\u001b[39m) \u001b[39m-\u001b[39m\u001b[39m>\u001b[39m BeautifulSoup:\n\u001b[0;32m    238\u001b[0m \u001b[39m    \u001b[39m\u001b[39m\"\"\"Return the BeautifulSoup for a page on scholar.google.com\"\"\"\u001b[39;00m\n\u001b[1;32m--> 239\u001b[0m     html \u001b[39m=\u001b[39m \u001b[39mself\u001b[39;49m\u001b[39m.\u001b[39;49m_get_page(\u001b[39m'\u001b[39;49m\u001b[39mhttps://scholar.google.com\u001b[39;49m\u001b[39m{0}\u001b[39;49;00m\u001b[39m'\u001b[39;49m\u001b[39m.\u001b[39;49mformat(url))\n\u001b[0;32m    240\u001b[0m     html \u001b[39m=\u001b[39m html\u001b[39m.\u001b[39mreplace(\u001b[39mu\u001b[39m\u001b[39m'\u001b[39m\u001b[39m\\xa0\u001b[39;00m\u001b[39m'\u001b[39m, \u001b[39mu\u001b[39m\u001b[39m'\u001b[39m\u001b[39m \u001b[39m\u001b[39m'\u001b[39m)\n\u001b[0;32m    241\u001b[0m     res \u001b[39m=\u001b[39m BeautifulSoup(html, \u001b[39m'\u001b[39m\u001b[39mhtml.parser\u001b[39m\u001b[39m'\u001b[39m)\n",
      "File \u001b[1;32mc:\\Users\\caoyut\\.conda\\envs\\sms\\lib\\site-packages\\scholarly\\_navigator.py:188\u001b[0m, in \u001b[0;36mNavigator._get_page\u001b[1;34m(self, pagerequest, premium)\u001b[0m\n\u001b[0;32m    186\u001b[0m \u001b[39m# If secondary proxy does not work, try again primary proxy.\u001b[39;00m\n\u001b[0;32m    187\u001b[0m \u001b[39mif\u001b[39;00m \u001b[39mnot\u001b[39;00m premium:\n\u001b[1;32m--> 188\u001b[0m     \u001b[39mreturn\u001b[39;00m \u001b[39mself\u001b[39;49m\u001b[39m.\u001b[39;49m_get_page(pagerequest, \u001b[39mTrue\u001b[39;49;00m)\n\u001b[0;32m    189\u001b[0m \u001b[39melse\u001b[39;00m:\n\u001b[0;32m    190\u001b[0m     \u001b[39mraise\u001b[39;00m MaxTriesExceededException(\u001b[39m\"\u001b[39m\u001b[39mCannot Fetch from Google Scholar.\u001b[39m\u001b[39m\"\u001b[39m)\n",
      "File \u001b[1;32mc:\\Users\\caoyut\\.conda\\envs\\sms\\lib\\site-packages\\scholarly\\_navigator.py:190\u001b[0m, in \u001b[0;36mNavigator._get_page\u001b[1;34m(self, pagerequest, premium)\u001b[0m\n\u001b[0;32m    188\u001b[0m     \u001b[39mreturn\u001b[39;00m \u001b[39mself\u001b[39m\u001b[39m.\u001b[39m_get_page(pagerequest, \u001b[39mTrue\u001b[39;00m)\n\u001b[0;32m    189\u001b[0m \u001b[39melse\u001b[39;00m:\n\u001b[1;32m--> 190\u001b[0m     \u001b[39mraise\u001b[39;00m MaxTriesExceededException(\u001b[39m\"\u001b[39m\u001b[39mCannot Fetch from Google Scholar.\u001b[39m\u001b[39m\"\u001b[39m)\n",
      "\u001b[1;31mMaxTriesExceededException\u001b[0m: Cannot Fetch from Google Scholar."
     ]
    }
   ],
   "source": [
    "gs_filled_titles = []\n",
    "data_dict = scholarly.fill(author, sections=['basics', 'indices', 'publications', 'counts'])\n",
    "\n",
    "for i in range(len(data_dict['publications'])):\n",
    "    pub = scholarly.fill(data_dict['publications'][i])\n",
    "    pub_dict = {\n",
    "        \"title\":pub[\"bib\"][\"title\"]\n",
    "    }\n",
    "    try:\n",
    "        pub_dict[\"authors_name\"] = pub[\"bib\"][\"author\"]\n",
    "    except KeyError:\n",
    "        pub_dict[\"authors_name\"] = \"\"\n",
    "\n",
    "    try:\n",
    "        pub_dict[\"authors_id\"] = pub[\"author_id\"]\n",
    "    except KeyError:\n",
    "        pub_dict[\"authors_id\"] = \"\"\n",
    "    \n",
    "    try:\n",
    "        pub_dict[\"citations\"] = pub['num_citations']\n",
    "    except KeyError:\n",
    "        pub_dict[\"citations\"] = \"\"\n",
    "\n",
    "    try:\n",
    "        pub_dict[\"pub_type\"] = pub['bib']['pub_type']\n",
    "    except KeyError:\n",
    "        pub_dict[\"pub_type\"] = \"\"\n",
    "\n",
    "    gs_filled_titles.append(pub_dict)"
   ]
  },
  {
   "cell_type": "code",
   "execution_count": 144,
   "id": "10de4069",
   "metadata": {},
   "outputs": [
    {
     "name": "stdout",
     "output_type": "stream",
     "text": [
      "22\n"
     ]
    }
   ],
   "source": [
    "print(len(gs_filled_titles))"
   ]
  },
  {
   "cell_type": "code",
   "execution_count": 145,
   "id": "d9efe7e4",
   "metadata": {},
   "outputs": [
    {
     "name": "stdout",
     "output_type": "stream",
     "text": [
      "{'container_type': 'Publication', 'source': <PublicationSource.AUTHOR_PUBLICATION_ENTRY: 'AUTHOR_PUBLICATION_ENTRY'>, 'bib': {'title': 'Molecular and functional heterogeneity of hyperpolarization-activated pacemaker channels in the mouse CNS', 'pub_year': 2000, 'citation': 'Journal of Neuroscience 20 (14), 5264-5275, 2000', 'author': 'Bina Santoro and Shan Chen and Anita Lüthi and Paul Pavlidis and Gleb P Shumyatsky and Gareth R Tibbs and Steven A Siegelbaum', 'journal': 'Journal of Neuroscience', 'volume': '20', 'number': '14', 'pages': '5264-5275', 'publisher': 'Society for Neuroscience', 'abstract': 'The hyperpolarization-activated cation current (termedIh,Iq, orIf) was recently shown to be encoded by a new family of genes, named HCN forhyperpolarization-activated cyclicnucleotide-sensitive cationnonselective. When expressed in heterologous cells, each HCN isoform generates channels with distinct activation kinetics, mirroring the range of biophysical properties of nativeIh currents recorded in different classes of neurons. To determine whether the functional diversity ofIh currents is attributable to different patterns of HCN gene expression, we determined the mRNA distribution across different regions of the mouse CNS of the three mouse HCN genes that are prominently expressed there (mHCN1, 2 and 4). We observe distinct patterns of distribution for each of the three genes. Whereas mHCN2 shows a widespread expression throughout the CNS, the expression of mHCN1 and mHCN4 is more limited, and …'}, 'filled': True, 'author_pub_id': 'ataejQQAAAAJ:u5HHmVD_uO8C', 'num_citations': 696, 'citedby_url': '/scholar?hl=en&cites=11688790525697323485', 'cites_id': ['11688790525697323485'], 'pub_url': 'https://www.jneurosci.org/content/20/14/5264.short', 'url_related_articles': '/scholar?oi=bibs&hl=en&q=related:3fEjog3tNqIJ:scholar.google.com/', 'cites_per_year': {2001: 27, 2002: 33, 2003: 44, 2004: 26, 2005: 32, 2006: 43, 2007: 43, 2008: 30, 2009: 34, 2010: 33, 2011: 31, 2012: 41, 2013: 37, 2014: 26, 2015: 41, 2016: 23, 2017: 12, 2018: 26, 2019: 24, 2020: 25, 2021: 19, 2022: 26, 2023: 13}}\n"
     ]
    }
   ],
   "source": [
    "print(data_dict['publications'][1])"
   ]
  },
  {
   "cell_type": "code",
   "execution_count": null,
   "id": "c6da6bad",
   "metadata": {},
   "outputs": [],
   "source": [
    "#make a dict with coauthor name information and coauthor IDs\n",
    "#filter down to documents that are looked at-- ones where co-author is among those in the list"
   ]
  },
  {
   "cell_type": "code",
   "execution_count": 93,
   "id": "44251e18",
   "metadata": {},
   "outputs": [],
   "source": [
    "# filled_pubs = []\n",
    "# pub_types = []\n",
    "# authors = []\n",
    "# for i in range(len(data_dict['publications'])):\n",
    "#     filled_pub = scholarly.fill(data_dict['publications'][i])\n",
    "#     filled_pubs.append(filled_pub)\n",
    "#     authors.append(filled_pub[\"bib\"][\"author\"])\n",
    "#     try:\n",
    "#         pub_types.append(filled_pub['bib']['pub_type'])\n",
    "#     except KeyError:\n",
    "#         filled_pubs.append(\"\")\n"
   ]
  },
  {
   "cell_type": "code",
   "execution_count": 99,
   "id": "847eec4e",
   "metadata": {},
   "outputs": [
    {
     "name": "stdout",
     "output_type": "stream",
     "text": [
      "{'container_type': 'Publication', 'source': <PublicationSource.AUTHOR_PUBLICATION_ENTRY: 'AUTHOR_PUBLICATION_ENTRY'>, 'bib': {'title': 'Molecular and functional heterogeneity of hyperpolarization-activated pacemaker channels in the mouse CNS', 'pub_year': 2000, 'citation': 'Journal of Neuroscience 20 (14), 5264-5275, 2000', 'author': 'Bina Santoro and Shan Chen and Anita Lüthi and Paul Pavlidis and Gleb P Shumyatsky and Gareth R Tibbs and Steven A Siegelbaum', 'journal': 'Journal of Neuroscience', 'volume': '20', 'number': '14', 'pages': '5264-5275', 'publisher': 'Society for Neuroscience', 'abstract': 'The hyperpolarization-activated cation current (termedIh,Iq, orIf) was recently shown to be encoded by a new family of genes, named HCN forhyperpolarization-activated cyclicnucleotide-sensitive cationnonselective. When expressed in heterologous cells, each HCN isoform generates channels with distinct activation kinetics, mirroring the range of biophysical properties of nativeIh currents recorded in different classes of neurons. To determine whether the functional diversity ofIh currents is attributable to different patterns of HCN gene expression, we determined the mRNA distribution across different regions of the mouse CNS of the three mouse HCN genes that are prominently expressed there (mHCN1, 2 and 4). We observe distinct patterns of distribution for each of the three genes. Whereas mHCN2 shows a widespread expression throughout the CNS, the expression of mHCN1 and mHCN4 is more limited, and …'}, 'filled': True, 'author_pub_id': 'ataejQQAAAAJ:u5HHmVD_uO8C', 'num_citations': 695, 'citedby_url': '/scholar?hl=en&cites=11688790525697323485', 'cites_id': ['11688790525697323485'], 'pub_url': 'https://www.jneurosci.org/content/20/14/5264.short', 'url_related_articles': '/scholar?oi=bibs&hl=en&q=related:3fEjog3tNqIJ:scholar.google.com/', 'cites_per_year': {2001: 27, 2002: 33, 2003: 44, 2004: 26, 2005: 32, 2006: 43, 2007: 43, 2008: 30, 2009: 34, 2010: 33, 2011: 31, 2012: 41, 2013: 37, 2014: 26, 2015: 41, 2016: 23, 2017: 12, 2018: 26, 2019: 24, 2020: 25, 2021: 19, 2022: 26, 2023: 12}}\n"
     ]
    }
   ],
   "source": [
    "# print(filled_pubs[2])"
   ]
  },
  {
   "cell_type": "code",
   "execution_count": 127,
   "id": "3c355618-2b06-4d45-9910-60b11bb8b26f",
   "metadata": {},
   "outputs": [
    {
     "name": "stdout",
     "output_type": "stream",
     "text": [
      "scival publications: 158\n",
      "gs publications: 245\n"
     ]
    }
   ],
   "source": [
    "print(\"scival publications:\", len(sv_titles))\n",
    "print(\"gs publications:\", len(gs_titles))"
   ]
  },
  {
   "cell_type": "code",
   "execution_count": 134,
   "id": "8474414e",
   "metadata": {},
   "outputs": [],
   "source": [
    "sv_titles_lowered = []\n",
    "for d in sv_titles:\n",
    "    d.update((k, v.replace(\"<sup>\",\"\").replace(\"</sup>\",\"\").replace(\"<inf>\",\"\").replace(\"</inf>\",\"\")) for k, v in d.items() if k == \"title\")\n",
    "    d.update((k, \" \".join(\n",
    "                [\n",
    "                    word.strip() \n",
    "                    for word in re.sub(r'[^\\w]', ' ', v.lower()).split(\" \") \n",
    "                    if word != \"\"]\n",
    "                    )\n",
    "                    ) for k, v in d.items() if k == \"title\")\n",
    "    sv_titles_lowered.append(d[\"title\"])"
   ]
  },
  {
   "cell_type": "code",
   "execution_count": 135,
   "id": "3375d1c9",
   "metadata": {},
   "outputs": [],
   "source": [
    "gs_titles_lowered = []\n",
    "for d in gs_titles:\n",
    "    d.update((k, \" \".join(\n",
    "                [\n",
    "                    word.strip() \n",
    "                    for word in re.sub(r'[^\\w]', ' ', v.lower()).split(\" \") \n",
    "                    if word != \"\"]\n",
    "                    )\n",
    "                    ) for k, v in d.items() if k == \"title\")\n",
    "    gs_titles_lowered.append(d[\"title\"])"
   ]
  },
  {
   "cell_type": "code",
   "execution_count": 131,
   "id": "616c499c",
   "metadata": {},
   "outputs": [
    {
     "name": "stdout",
     "output_type": "stream",
     "text": [
      "{'title': 'molecular and functional heterogeneity of hyperpolarization activated pacemaker channels in the mouse cns', 'authors_name': '', 'authors_id': '', 'citations': 696, 'pub_type': ''}\n"
     ]
    }
   ],
   "source": [
    "print(gs_titles[1])"
   ]
  },
  {
   "cell_type": "code",
   "execution_count": 139,
   "id": "66b92f2f",
   "metadata": {},
   "outputs": [
    {
     "name": "stdout",
     "output_type": "stream",
     "text": [
      "['fto obesity and the adolescent brain']\n",
      "['relationships between gene expression and brain wiring in the adult rodent brain', 'decoding unattended fearful faces with whole brain correlations an approach to identify condition dependent large scale functional connectivity', 'large scale analysis of gene expression and connectivity in the rodent brain insights through data integration', 'automated recognition of brain region mentions in neuroscience literature', 'monitoring changes in the gene ontology and their impact on genomic data analysis']\n"
     ]
    }
   ],
   "source": [
    "#find coauthors for comparison between gs and scival(?) since coauthors would be most important factor\n",
    "\n",
    "#filter for coauthors of interest\n",
    "\n",
    "#find sv/gs overlap in titles\n",
    "\n",
    "from collections import Counter\n",
    "sv_duplicates = [k for k,v in Counter(sv_titles_lowered).items() if v>1]\n",
    "gs_duplicates = [k for k,v in Counter(gs_titles_lowered).items() if v>1]\n",
    "\n",
    "print(sv_duplicates)\n",
    "print(gs_duplicates)"
   ]
  },
  {
   "cell_type": "code",
   "execution_count": 146,
   "id": "7281b2c5",
   "metadata": {},
   "outputs": [
    {
     "name": "stdout",
     "output_type": "stream",
     "text": [
      "scival duplicates: {'fto obesity and the adolescent brain': [55, 74]}\n",
      "num of scival duplicates: 1\n",
      "\n",
      "google scholar duplicates: {'relationships between gene expression and brain wiring in the adult rodent brain': [44, 45], 'decoding unattended fearful faces with whole brain correlations an approach to identify condition dependent large scale functional connectivity': [88, 89], 'large scale analysis of gene expression and connectivity in the rodent brain insights through data integration': [102, 103], 'automated recognition of brain region mentions in neuroscience literature': [112, 113], 'monitoring changes in the gene ontology and their impact on genomic data analysis': [145, 231]}\n",
      "num of gs duplicates: 5\n"
     ]
    }
   ],
   "source": [
    "from collections import defaultdict\n",
    "\n",
    "sv_D = defaultdict(list)\n",
    "for i,item in enumerate(sv_titles_lowered):\n",
    "    sv_D[item].append(i)\n",
    "sv_D = {k:v for k,v in sv_D.items() if len(v)>1}\n",
    "print(\"scival duplicates:\",sv_D)\n",
    "print(\"num of scival duplicates:\",len(sv_D))\n",
    "print()\n",
    "\n",
    "gs_D = defaultdict(list)\n",
    "for i,item in enumerate(gs_titles_lowered):\n",
    "    gs_D[item].append(i)\n",
    "gs_D = {k:v for k,v in gs_D.items() if len(v)>1}\n",
    "print(\"google scholar duplicates:\",gs_D)\n",
    "print(\"num of gs duplicates:\",len(gs_D))"
   ]
  },
  {
   "cell_type": "code",
   "execution_count": 70,
   "id": "14fec28a-ba61-4252-a788-f53838e79dc3",
   "metadata": {
    "scrolled": true
   },
   "outputs": [
    {
     "name": "stdout",
     "output_type": "stream",
     "text": [
      "150\n"
     ]
    }
   ],
   "source": [
    "matching_titles = list(set(gs_titles_lowered).intersection(sv_titles_lowered))\n",
    "# print(matching_titles)\n",
    "print(len(matching_titles))"
   ]
  },
  {
   "cell_type": "code",
   "execution_count": 71,
   "id": "12e132cb-6217-419e-afb1-dc53543eec06",
   "metadata": {
    "scrolled": true
   },
   "outputs": [
    {
     "name": "stdout",
     "output_type": "stream",
     "text": [
      "7\n"
     ]
    }
   ],
   "source": [
    "scival_only_titles = list(set(sv_titles_lowered) - set(gs_titles_lowered))\n",
    "print(len(scival_only_titles))\n",
    "# print(scival_only_titles)"
   ]
  },
  {
   "cell_type": "code",
   "execution_count": 72,
   "id": "a132689e-5ddd-43ac-a427-00e702987322",
   "metadata": {
    "scrolled": true
   },
   "outputs": [
    {
     "name": "stdout",
     "output_type": "stream",
     "text": [
      "90\n"
     ]
    }
   ],
   "source": [
    "gs_only_titles = list(set(gs_titles_lowered) - set(sv_titles_lowered))\n",
    "print(len(gs_only_titles))\n",
    "# print(gs_only_titles)"
   ]
  },
  {
   "cell_type": "code",
   "execution_count": 73,
   "id": "1d2eee66-5cfd-4c19-89de-a13c1e347faa",
   "metadata": {},
   "outputs": [],
   "source": [
    "out_df = pd.DataFrame(\n",
    "    {\n",
    "        \"gs publications\":gs_titles,\n",
    "        \"scival publications\":sv_titles + [\"\"]*(len(gs_titles_lowered)-len(sv_titles)),\n",
    "        \"GS ONLY publications\":gs_only_titles+ [\"\"]*(len(gs_titles_lowered)-len(gs_only_titles)),\n",
    "        \"SCIVAL ONLY publications\": scival_only_titles+ [\"\"]*(len(gs_titles_lowered)-len(scival_only_titles)),\n",
    "        \"shared publications\":matching_titles+ [\"\"]*(len(gs_titles_lowered)-len(matching_titles)),\n",
    "    })"
   ]
  },
  {
   "cell_type": "code",
   "execution_count": 75,
   "id": "36322da4-d835-4433-b96f-51e9594d3164",
   "metadata": {},
   "outputs": [],
   "source": [
    "out_df.to_csv(f\"{author_row}_publication_compare_standardspaces.csv\")"
   ]
  },
  {
   "cell_type": "code",
   "execution_count": 77,
   "id": "85e78f75-d080-49c5-ba43-cb60e7ae3b23",
   "metadata": {},
   "outputs": [],
   "source": [
    "comp_df = pd.read_csv(\"6_publication_compare_standardspaces.csv\")\n",
    "gs_comp_list = comp_df[\"GS ONLY publications\"].dropna().tolist()"
   ]
  },
  {
   "cell_type": "code",
   "execution_count": 78,
   "id": "e7de904f",
   "metadata": {},
   "outputs": [
    {
     "name": "stdout",
     "output_type": "stream",
     "text": [
      "['analysis of gene networks in schizophrenia and the challenge of multifunctionality', 'a critical assessment of single cell transcriptomes sampled following patch clamp electrophysiology', 'ps73 changes in neuronal densities underlying transcriptional alterations in psychiatric patients', 'cutting edge stat6 serves as a positive and', 'analysis of gene expression profiles in schizophrenia using a large combined cohort', 'coexpression based gene discovery in the post synaptic proteome', 'basal and apical synapses of ca1 pyramidal cells employ different', 'drosophila mutations affecting electrical excitability', 'coexpression analysis of human genes across many microarray data sets', 'corrigendum to cortical functional connectivity decodes subconscious task irrelevant threat related emotion processing neuroimage 61 4 2012 1355 1363', 'nar molecular biology database collection entry number 1476', 'crosslaboratory comparison of human postmortem brain expression profiling data', 'data from assessing identity redundancy and confounds in gene ontology annotations over time', 'large scale network and machine learning analyses reveal functional connectivity between temporal pole and hippocampus is reduced in social anxiety disorder and increases', 'database editorial board 2010', 'supplemental data zac1 regulates an imprinted gene network critically involved in the control of embryonic growth', 'isdn2014_0418 dna methylation changes in fetal alcohol spectrum disorder', 'gene ontology matrices with descriptions ids etc from guilt by association is the exception rather than the rule in gene networks gillis j and pavlidis p 2012 plos', 'whose sample is it anyway widespread misannotation of samples in transcriptomics studies', 'changes in neuronal densities underlying transcriptional alterations in psychiatric patients', 'differential gene expression in schizophrenia and bipolar disorder in the corpus callosum', 'transcriptomic responses to high water temperature in two species of p acific salmon', 'large scale analysis of brain wide electrophysiological diversity reveals novel characterization of mammalian neuron types', 'supplementary information for', 'gist support vector machine and kernel principal components analysis software toolkit', 'programming of neural gene expression response to adjuvant induced arthritis by prenatal diet in a rat model of prenatal alcohol exposure', 'systematic phenomics analysis of asd associated genes reveals shared functions and parallel networks underlying reversible impairments in habituation learning', 'gene expression in lens epithelial cell lines conditioned to survive h2o2 or tbhp', 'application and evaluation of automated methods to extract brain connectivity statements from free text', 'the impact of multifunctional genes on', 'identification of three distinct blood mononuclear cell gene expression signatures reveals heterogeneity of recent onset polyarticular juvenile idiopathic arthritis', 'availability this version is available at http porto polito it 2649752 since september 2016', 'follow up progress and challenges in the', 'gp 5 10 mapk signaling pathway is commonly activated in hearts of mouse models of autosomal dominant and x linked emery dreifuss muscular dystrophy', 'interpreting cell type specific changes in bulk tissue transcriptomics data', 'a primate specific and brain enriched mirna is involved in depression and regulates the expression of grm4', 'cross validation calculation from guilt by association is the exception rather than the rule in gene networks gillis j and pavlidis p 2012 plos computational biology 8 3', 'use case the postsynaptic proteome from assessing identity redundancy and confounds in gene ontology annotations over time', 'p091 neurocarta online platform for integration and sharing of phenotypic and genomics information', 'gene expression in juvenile arthritis and spondyloarthropathy pro angiogenic elr chemokine genes relate to course of arthritis', 'supplemental data histone deacetylase inhibition elicits an evolutionarily conserved self renewal program in embryonic stem cells', 'physiological behavioral and molecular analysis of bang sensitive paralytic mutants of drosophila melanogaster', 'neurocarta aggregating and sharing disease gene relations for the interpretation of genomics studies', 'paul pavlidis and william stafford noble columbia genome center and department of computer science columbia university corresponding author', 'sharing expression profiling data with gemma', 'cognitive domains function complementation by ntng gene paralogs', 'figure data from the role of indirect connections in gene networks in predicting function gillis j and pavlidis p 2011 bioinformatics 27 13 pp 1860 1866', 'network data from the role of indirect connections in gene networks in predicting function gillis j and pavlidis p 2011 bioinformatics 27 13 pp 1860 1866', 'data and design files for 6 public datasets used in genome wide expression profiling of schizophrenia using a large combined cohort mistry m and gillis j and pavlidis p', 'promoter re ion ased classification of enes', 'assessing the utility of pharmacogenetic testing in a cohort with treatment resistant schizophrenia or schizoaffective disorder', 'gist support vector machine 1 0', 'classification of clear cell sarcoma as melanoma of soft parts by genomic profiling', 'molecular differences between chronic and aggressive periodontitis', 'combining microarray expression data and phylogenetic profiles to learn gene functional categories using support vector machines', 'general obstetrics and gynecology fetus placenta newborn a high throughput study of gene expression in preterm labor with a subtractive microarray approach the subtractive dna', 'variant selection gene exploration', 'cataloging the potential functional diversity of cacna1e splice variants using long read sequencing', 'methodology for analyzing temporal patterns of differential coexpression using meta analysis', 'neurocarta online plaiorm for integration and sharing of phenotypic and genomics information', 'can machine learning aid in identifying disease genes the case of autism spectrum disorder', 'gene coexpression analysis in the frontal cortex of bipolar patients and controls', 'classification of genes using probabilistic models of microarray expression profiles', 'single cell genomic strategies to understand psychopathological processes in suicide and associated psychopathology', 'gene lists from the role of indirect connections in gene networks in predicting function gillis j and pavlidis p 2011 bioinformatics 27 13 pp 1860 1866', 'cross scale mapping of gene expression to neuroimaging datasets via semantic decomposition', 'gist', 'varicarta a comprehensive database of harmonized genomic variants found in asd sequencing studies', 'live demos in incf booth 4112 atsfn in san diego', 'toll like receptor 4 tlr4 dependent gene expression in a murine model of bacterially induced preterm labor', 'whose sample is it anyway widespread misannotation of samples in transcriptomics studies version 1 referees awaiting', 'gene lists from gillis j and pavlidis p 2012 plos computational biology 8 3', 'a6 08 transcriptome profiling by next generation sequencing of hematopoietic progenitors in murine systemic lupus erythematosus sle', 'gene ontology matrices from the role of indirect connections in gene networks in predicting function gillis j and pavlidis p 2011 bioinformatics 27 13 pp 1860 1866', 'effect of electroconvulsive shock and magnetic seizure on gene expression profiles in the prefrontal cortex of the rhesus monkey', 'samples in transcriptomics studies version 1 referees 2', 'application of large scale text mining and curation for extracting neuronal electrophysiology data', 'whose sample is it anyway widespread misannotation of samples in transcriptomics studies version 2 peer review', 'decoding unattended fearful faces with whole brain correlations an approach to identify condition', 'supplementary santiago potashkin 2015 reanalysis', 'cellular and molecular properties of neurons modeling sources of interlaboratory variability in electrophysiological properties of mammalian neurons', 'michael smith laboratories university of british columbia vancouver bc canada department of psychiatry university of british columbia vancouver bc canada corresponding', 'ôø å òù ö ôø', 'systematic phenomics analysis of asd associated genes reveals shared functions and', 'experiment level curation identifies high confidence transcriptional regulatory interactions in neurodevelopment', 'single cell genomic strategies to understand psychopathological processes in depression and suicide', 'exceptional edges matrices from guilt by association is the exception rather than the rule in gene networks gillis j and pavlidis p 2012 plos computational biology 8 3', 'multi model functionalization of 106 pten missense mutations identifies multiple molecular mechanisms underlying protein dysfunction', 'tu71 significant incidence of rare chromosomal and genomic sequence variants in highly treatment resistant schizophrenia and schizoaffective disorder', '11 changes in cellular abundance underlying transcriptional alterations in psychiatric patients']\n"
     ]
    }
   ],
   "source": []
  },
  {
   "cell_type": "code",
   "execution_count": null,
   "id": "77d7d875",
   "metadata": {},
   "outputs": [],
   "source": [
    "'''gs_titles = [] #list of title strings\n",
    "data_dict = scholarly.fill(author, sections=['basics', 'indices', 'publications', 'counts'])\n",
    "\n",
    "for i in range(len(data_dict['publications'])):\n",
    "\n",
    "    filled_pub = scholarly.fill(data_dict['publications'][i])\n",
    "    \n",
    "    pub_dict = {\n",
    "        \"title\":filled_pub[\"bib\"][\"title\"],\n",
    "        \"authors_name\":filled_pub[\"bib\"][\"author\"],\n",
    "        \"authors_id\":filled_pub[\"author_id\"],\n",
    "        \"citations\":filled_pub['num_citations'],\n",
    "    }\n",
    "    try:\n",
    "        pub_dict[\"pub_type\"] = filled_pub['bib']['pub_type']\n",
    "    except KeyError:\n",
    "        pub_dict[\"pub_type\"] = \"\"\n",
    "\n",
    "    gs_titles.append(pub_dict)'''\n",
    "\n",
    "\n",
    "'''\n",
    "#clean list of title names\n",
    "scival_titles_lowered = [pub[\"title\"].replace(\"<sup>\",\"\").replace(\"</sup>\",\"\").replace(\"<inf>\",\"\").replace(\"</inf>\",\"\") for pub in sv_titles]\n",
    "\n",
    "scival_titles_lowered = [\n",
    "    \" \".join(\n",
    "        [\n",
    "            word.strip() \n",
    "            for word in re.sub(r'[^\\w]', ' ', title.lower()).split(\" \") \n",
    "            if word != \"\"])\n",
    "    for title in sv_titles\n",
    "    ]\n",
    "# gs_titles_lowered = [re.sub(r'[^\\w]', ' ', title.lower()).strip() for title in gs_titles]\n",
    "gs_titles_lowered = [\n",
    "    \" \".join(\n",
    "        [\n",
    "            word.strip() \n",
    "            for word in re.sub(r'[^\\w]', ' ', title.lower()).split(\" \") \n",
    "            if word != \"\"])\n",
    "    for title in gs_titles\n",
    "    ]\n",
    "'''\n"
   ]
  }
 ],
 "metadata": {
  "kernelspec": {
   "display_name": "Python 3 (ipykernel)",
   "language": "python",
   "name": "python3"
  },
  "language_info": {
   "codemirror_mode": {
    "name": "ipython",
    "version": 3
   },
   "file_extension": ".py",
   "mimetype": "text/x-python",
   "name": "python",
   "nbconvert_exporter": "python",
   "pygments_lexer": "ipython3",
   "version": "3.10.0"
  }
 },
 "nbformat": 4,
 "nbformat_minor": 5
}
