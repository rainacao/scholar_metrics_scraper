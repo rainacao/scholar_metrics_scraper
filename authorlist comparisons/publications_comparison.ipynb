{
 "cells": [
  {
   "cell_type": "code",
   "execution_count": 48,
   "id": "1dbb4105-b905-4425-9314-093ead56af07",
   "metadata": {},
   "outputs": [
    {
     "name": "stdout",
     "output_type": "stream",
     "text": [
      "127f5bf5de20d338f686704a9a328b86\n"
     ]
    }
   ],
   "source": [
    "import os\n",
    "import requests\n",
    "import json\n",
    "import csv\n",
    "import pandas as pd\n",
    "from time import sleep\n",
    "import numpy as np\n",
    "from pybliometrics.scopus import CitationOverview, AuthorRetrieval, AbstractRetrieval\n",
    "from pybliometrics.scopus.utils import config\n",
    "config['Authentication'] ['APIKey'] = \"127f5bf5de20d338f686704a9a328b86\"\n",
    "print(config['Authentication'] ['APIKey'])\n",
    "from scholarly import scholarly\n",
    "import re"
   ]
  },
  {
   "cell_type": "code",
   "execution_count": 62,
   "id": "7b83c193-1913-4017-933d-50e0fce1b917",
   "metadata": {},
   "outputs": [],
   "source": [
    "# identifier = \"7401632487\" #tim murphy\n",
    "identifier = \"7004159655\" #paul pavlidis\n",
    "author_row = 6\n",
    "ar = AuthorRetrieval(identifier)"
   ]
  },
  {
   "cell_type": "code",
   "execution_count": 63,
   "id": "09c34a03",
   "metadata": {},
   "outputs": [],
   "source": [
    "pubs = ar.get_documents()\n",
    "scival_titles = []\n",
    "for pub in pubs:\n",
    "    scival_titles.append(pub.title)"
   ]
  },
  {
   "cell_type": "code",
   "execution_count": 30,
   "id": "d512e81c-f177-43d8-9e76-1b3f846eafc9",
   "metadata": {},
   "outputs": [],
   "source": [
    "# scival_publications = []\n",
    "# for pub in pubs:\n",
    "#     scival_publications.append((pub.title, pub.coverDate, pub.eid, pub.publicationName, pub.author_count))"
   ]
  },
  {
   "cell_type": "code",
   "execution_count": 64,
   "id": "2221b732-22c8-405b-97a7-c5f537e653f0",
   "metadata": {},
   "outputs": [],
   "source": [
    "athr = \"ataejQQAAAAJ\" #Paul Pavlidis\n",
    "# athr = \"qJjM8hkAAAAJ\"\n",
    "author = scholarly.search_author_id(athr)"
   ]
  },
  {
   "cell_type": "code",
   "execution_count": 65,
   "id": "7d432d27",
   "metadata": {},
   "outputs": [],
   "source": [
    "gs_titles = []\n",
    "data_dict = scholarly.fill(author, sections=['basics', 'indices', 'publications', 'counts'])\n",
    "\n",
    "for pub in data_dict['publications']:\n",
    "    # authors.append(author['name'])\n",
    "    # print(f\"adding publication {pub['bib']['title']}\")\n",
    "    gs_titles.append(pub['bib']['title'])"
   ]
  },
  {
   "cell_type": "code",
   "execution_count": 66,
   "id": "3c355618-2b06-4d45-9910-60b11bb8b26f",
   "metadata": {},
   "outputs": [
    {
     "name": "stdout",
     "output_type": "stream",
     "text": [
      "scival publications: 158\n",
      "gs publications: 245\n"
     ]
    }
   ],
   "source": [
    "print(\"scival publications:\", len(scival_titles))\n",
    "print(\"gs publications:\", len(gs_titles))"
   ]
  },
  {
   "cell_type": "code",
   "execution_count": 67,
   "id": "9aec2fc9-3566-428c-aa88-64e60e710eee",
   "metadata": {},
   "outputs": [],
   "source": [
    "scival_titles_lowered = [title.replace(\"<sup>\",\"\").replace(\"</sup>\",\"\").replace(\"<inf>\",\"\").replace(\"</inf>\",\"\") for title in scival_titles]"
   ]
  },
  {
   "cell_type": "code",
   "execution_count": 68,
   "id": "ebec8490-ef18-4c9d-b093-596f44636d68",
   "metadata": {},
   "outputs": [],
   "source": [
    "#clean\n",
    "scival_titles_lowered = [\n",
    "    \" \".join(\n",
    "        [\n",
    "            word.strip() \n",
    "            for word in re.sub(r'[^\\w]', ' ', title.lower()).split(\" \") \n",
    "            if word != \"\"])\n",
    "    for title in scival_titles\n",
    "    ]\n",
    "# gs_titles_lowered = [re.sub(r'[^\\w]', ' ', title.lower()).strip() for title in gs_titles]\n",
    "gs_titles_lowered = [\n",
    "    \" \".join(\n",
    "        [\n",
    "            word.strip() \n",
    "            for word in re.sub(r'[^\\w]', ' ', title.lower()).split(\" \") \n",
    "            if word != \"\"])\n",
    "    for title in gs_titles\n",
    "    ]"
   ]
  },
  {
   "cell_type": "code",
   "execution_count": 69,
   "id": "91a12267",
   "metadata": {},
   "outputs": [
    {
     "name": "stdout",
     "output_type": "stream",
     "text": [
      "['open science in play and in tension with patent protections', 'the canadian open neuroscience platform an open science framework for the neuroscience community', 'characterizing the targets of transcription regulators by aggregating chip seq and perturbation expression data sets', 'in silico discovery of small molecules for efficient stem cell differentiation into definitive endoderm', 'modelmatcher a scientist centric online platform to facilitate collaborations between stakeholders of rare and undiagnosed disease research', 'evaluation of connectivity map shows limited reproducibility in drug repositioning', 'guilt by association is not competitive with genetic association for identifying autism risk genes', 'experiment level curation of transcriptional regulatory interactions in neurodevelopment', 'estimating and correcting for off target cellular contamination in brain cell type specific rna seq data', 'multi parametric analysis of 57 syngap1 variants reveal impacts on gtpase signaling localization and protein stability', 'curation of over 10 000 transcriptomic studies to enable data reuse', 'multi model functionalization of disease associated pten missense mutations identifies multiple molecular mechanisms underlying protein dysfunction', 'a low affinity cis regulatory bmp response element restricts target gene activation to subsets of drosophila neurons', 'untangling the effects of cellular composition on coexpression analysis', 'single nucleus transcriptomics of the prefrontal cortex in major depressive disorder implicates oligodendrocyte precursor cells and excitatory neurons', 'the canadian rare diseases models and mechanisms rdmm network connecting understudied genes to model organisms', 'systematic phenomics analysis of autism associated genes reveals parallel networks underlying reversible impairments in habituation', 'varicarta a comprehensive database of harmonized genomic variants found in autism spectrum disorder sequencing studies', 'mega analysis of gene expression in mouse models of alzheimer s disease', 'transcriptomic correlates of electrophysiological and morphological diversity within and across excitatory and inhibitory neuron classes', 'whole genome sequencing and variant discovery in the aspire autism spectrum disorder cohort', 'predictability of human differential gene expression', 'differential coexpression in human tissues and the confounding effect of mean expression levels', 'transcriptomic evidence for alterations in astrocytes and parvalbumin interneurons in subjects with bipolar disorder and schizophrenia', 'c terminal truncation of ifn γ inhibits proinflammatory macrophage responses and is deficient in autoimmune disease', 'assessing transcriptome quality in patch seq datasets', 'systematic evaluation of isoform function in literature reports of alternative splicing', 'monitoring changes in the gene ontology and their impact on genomic data analysis', 'modeling sources of interlaboratory variability in electrophysiological properties of mammalian neurons', 'dna methylation as a predictor of fetal alcohol spectrum disorder', 'unpacking the heterogeneity of cognitive functioning in children and adolescents with fetal alcohol spectrum disorder determining the role of moderators and strengths', 'cross laboratory analysis of brain cell type transcriptomes with applications to interpretation of bulk tissue data', 'transcriptomic correlates of neuron electrophysiological diversity', 'a p53 regulated apoptotic gene signature predicts treatment response and outcome in pediatric acute lymphoblastic leukemia', 'can we predict protein from mrna levels', 'protease inhibitor interaction predictions lessons on the complexity of protein protein interactions', 'using predictive specificity to determine when gene set analysis is biologically meaningful', 'egad ultra fast functional analysis of gene networks', 'an expanded evaluation of protein function prediction methods shows an improvement in accuracy', 'interactive exploration analysis and visualization of complex phenome genome datasets with aspiredb', 'dna methylation signature of human fetal alcohol spectrum disorder', 'meta analysis of gene expression patterns in animal models of prenatal alcohol exposure suggests role for protein synthesis inhibition and chromatin remodeling', 'profiling placental and fetal dna methylation in human neural tube defects', 'linking wikidata to the rest of the semantic web', 'whose sample is it anyway widespread misannotation of samples in transcriptomics studies version 1 referees 2 approved', 'wikidata as a semantic framework for the gene wiki initiative', 'secondary neurotransmitter deficiencies in epilepsy caused by voltage gated sodium channelopathies a potential treatment target', 'transcriptome sequencing of the anterior cingulate in bipolar disorder dysregulation of g protein coupled receptors', 'meta analysis of gene expression in autism spectrum disorder', 'metaanalysis of flawed expression profiling data leading to erroneous parkinson s biomarker identification', 'the path of no return truncated protein n termini and current ignorance of their genesis', 'text mining for neuroanatomy using whitetext with an updated corpus and a new web application', 'expansion of the qars deficiency phenotype with report of a family with isolated supratentorial brain abnormalities', 'prenatal alcohol exposure alters steady state and activated gene expression in the adult rat brain', 'proteome topfind 3 0 with topfinder and pathfinder database and analysis tools for the association of protein termini to pre and post translational events', 'fto obesity and the adolescent brain', 'pitfalls in the application of gene set analysis to genetics studies', 'copy number variants cnvs analysis in a deeply phenotyped cohort of individuals with intellectual disability id', 'bias tradeoffs in the creation and analysis of protein protein interaction networks', 'transcriptomic responses to high water temperature in two species of pacific salmon', 'meta analysis of human methylomes reveals stably methylated sequences surrounding cpg islands associated with high gene expression', 'mir 1202 is a primate specific and brain enriched microrna involved in major depression and antidepressant treatment', 'network analyses reveal pervasive functional regulation between proteases in the human protease web', 'de novo mutations in schizophrenia implicate chromatin remodeling and support a genetic overlap with autism and intellectual disability', 'gingival tissue transcriptomes identify distinct periodontitis phenotypes', 'progress and challenges in the computational prediction of gene function using networks 2012 2013 update', 'meta analysis of gene coexpression networks in the post mortem prefrontal cortex of patients with schizophrenia and unaffected controls', 'mirna and mirna target genes in copy number variations occurring in individuals with intellectual disability', 'neuron enriched gene expression patterns are regionally anti correlated with oligodendrocyte enriched patterns in the adult mouse and human brain', 'corrigendum to cortical functional connectivity decodes subconscious task irrelevant threat related emotion processing neuroimage 61 4 2012 1355 1363 s1053811912003321 10 1016 j neuroimage 2012 03 051', 'characterizing the state of the art in the computational assignment of gene function lessons from the first critical assessment of functional annotation cafa', 'neurocarta aggregating and sharing disease gene relations for the neurosciences', 'assessing identity redundancy and confounds in gene ontology annotations over time', 'genome wide expression profiling of schizophrenia using a large combined cohort', 'fto obesity and the adolescent brain', 'application and evaluation of automated methods to extract neuroanatomical connectivity statements from free text', 'kctd8 gene and brain growth in adverse intrauterine environment a genome wide association study', 'progress and challenges in the computational prediction of gene function using networks', 'gemma a resource for the reuse sharing and meta analysis of expression profiling data', 'cortical functional connectivity decodes subconscious task irrelevant threat related emotion processing', 'consequences of high temperatures and premature mortality on the transcriptome and blood physiology of wild adult sockeye salmon oncorhynchus nerka', 'diverse epigenetic strategies interact to control epidermal differentiation', 'using text mining to link journal articles to neuroanatomical databases', 'comparison of techniques for correlating survival and gene expression data from wild salmon', 'guilt by association is the exception rather than the rule in gene networks', 'decoding unattended fearful faces with whole brain correlations an approach to identify condition dependent large scale functional connectivity', 'understanding the impact of 1q21 1 copy number variant', 'large scale analysis of gene expression and connectivity in the rodent brain insights through data integration', 'the role of indirect connections in gene networks in predicting function', 'the neurodevnet neuroinformatics core', 'the impact of multifunctional genes on guilt by association analysis', 'genomic signatures predict migration and spawning failure in wild canadian salmon', 'relationships between gene expression and brain wiring in the adult rodent brain', 'outcome of array cgh analysis for 255 subjects with intellectual disability and search for candidate genes using bioinformatics', 'gene function analysis in complex data sets using erminej', 'a cross laboratory comparison of expression profiling data from normal human postmortem brain', 'transcriptional changes in huntington disease identified using genome wide expression profiling and cross platform analysis', 'bioinformatics techniques in microarray research applied microarray data analysis using r and sas software', 'meta analysis of kindling induced gene expression changes in the rat hippocampus', 'subgingival bacterial colonization profiles correlate with gingival tissue gene expression', 'a methodology for the analysis of differential coexpression across the human lifespan', 'automated recognition of brain region mentions in neuroscience literature', 'granulocyte chemotactic protein 2 gcp 2 cxcl6 complements interleukin 8 in periodontal disease', 'subtype specific peripheral blood gene expression profiles in recent onset juvenile idiopathic arthritis', 'gene expression signatures in polyarticular juvenile idiopathic arthritis demonstrate disease heterogeneity and offer a molecular classification of disease subsets', 'application and evaluation of automated semantic annotation of gene expression experiments', 'histone deacetylase inhibition elicits an evolutionarily conserved self renewal program in embryonic stem cells', 'integration of neuroimaging and microarray datasets through mapping and model theoretic semantic decomposition of unstructured phenotypes', 'gene ontology term overlap as a measure of gene functional similarity', 'altered brain microrna biogenesis contributes to phenotypic deficits in a 22q11 deletion mouse model', 'transcriptomes in healthy and diseased gingival tissues', 'informatics in neuroscience', 'sharing and reusing gene expression profiling data in neuroscience', 'β catenin tcf lef controls a differentiation associated transcriptional program in renal epithelial progenitors', 'periodontal therapy alters gene expression of peripheral blood monocytes', 'activation of mapk in hearts of emd null mice similarities between mouse models of x linked and autosomal dominant emery dreifuss muscular dystrophy', 'activation of mapk pathways links lmna mutations to cardiomyopathy in emery dreifuss muscular dystrophy', 'akt1 deficiency affects neuronal morphology and predisposes to abnormalities in prefrontal cortex functioning', 'an ancestral haplotype defines susceptibility to doxorubicin nephropathy in the laboratory mouse', 'zac1 regulates an imprinted gene network critically involved in the control of embryonic growth', 'experimental comparison and cross validation of the affymetrix and illumina gene expression analysis platforms', 'erminej tool for functional analysis of gene expression data sets', 'transcriptional and behavioral interaction between 22q11 2 orthologs modulates schizophrenia related phenotypes in mice', 'microarray analysis of gene expression following the formalin test in the infant rat', 'molecular aging in human prefrontal cortex is selective and continuous throughout adult life', 'a mendelian locus on chromosome 16 determines susceptibility to doxorubicin nephropathy in the mouse', 'gene expression in juvenile arthritis and spondyloarthropathy pro angiogenic elr sup sup chemokine genes relate to course of arthritis', 'using the gene ontology for microarray data mining a comparison of methods and application to age effects in human prefrontal cortex', 'gene expression signatures in chronic and aggressive periodontitis a pilot study', 'coexpresion analysis of human genes across many microarray data sets', 'altered hippocampal transcript profile accompanies an age related spatial memory deficit in mice', 'support vector machine classification on the web', 'gene expression profiling of depression and suicide in human prefrontal cortex', 'cluster analysis of genes with significant change in expression in cells conditioned to survive tbooh', 'bioinformatic analysis of autism positional candidate genes using biological databases and computational gene network prediction', 'sex genes for genomic analysis in human brain internal controls for comparison of probe level data extraction', 'hierarchical model of gene regulation by transforming growth factor β', 'the effect of replication on gene expression microarray experiments', 'inducible enhancement of memory storage and synaptic plasticity in transgenic mice expressing an inhibitor of atf4 creb 2 and c ebp proteins', 'classification and subtype prediction of adult soft tissue sarcoma by functional genomics', 'classification of clear cell sarcoma as a subtype of melanoma by genomic profiling', 'matrix2png a utility for visualizing matrix data', 'using anova for gene selection from microarray studies of the nervous system', 'differential amplification of gene expression in lens cell lines conditioned to survive peroxide stress', 'cutting edge stat6 serves as a positive and negative regulator of gene expression in il 4 stimulated b lymphocytes', 'exploring gene expression data with class scores', 'learning gene functional classifications from multiple data types', 'analysis of strain and regional variation in gene expression in mouse brain', 'promoter region based classification of genes', 'pair recordings reveal all silent synaptic connections and the postsynaptic expression of long term potentiation', 'a high throughput study of gene expression in preterm labor with a subtractive microarray approach', 'gene functional classification from heterogeneous data', 'molecular and functional heterogeneity of hyperpolarization activated pacemaker channels in the mouse cns', 'presynaptic protein kinase activity supports long term potentiation at synapses between individual hippocampal neurons', 'synaptic transmission in pair recordings from ca3 pyramidal cells in organotypic culture', 'basal and apical synapses of ca1 pyramidal cells employ different ltp induction mechanisms', 'seizures and failures in the giant fiber pathway of drosophila bang sensitive paralytic mutants', 'the drosophila easily shocked gene a mutation in a phospholipid synthetic pathway causes seizure neuronal failure and paralysis']\n"
     ]
    }
   ],
   "source": [
    "print(scival_titles_lowered)"
   ]
  },
  {
   "cell_type": "code",
   "execution_count": null,
   "id": "66b92f2f",
   "metadata": {},
   "outputs": [],
   "source": [
    "#find coauthors for comparison between gs and scival(?) since coauthors would be most important factor"
   ]
  },
  {
   "cell_type": "code",
   "execution_count": 70,
   "id": "14fec28a-ba61-4252-a788-f53838e79dc3",
   "metadata": {
    "scrolled": true
   },
   "outputs": [
    {
     "name": "stdout",
     "output_type": "stream",
     "text": [
      "150\n"
     ]
    }
   ],
   "source": [
    "matching_titles = list(set(gs_titles_lowered).intersection(scival_titles_lowered))\n",
    "# print(matching_titles)\n",
    "print(len(matching_titles))"
   ]
  },
  {
   "cell_type": "code",
   "execution_count": 71,
   "id": "12e132cb-6217-419e-afb1-dc53543eec06",
   "metadata": {
    "scrolled": true
   },
   "outputs": [
    {
     "name": "stdout",
     "output_type": "stream",
     "text": [
      "7\n"
     ]
    }
   ],
   "source": [
    "scival_only_titles = list(set(scival_titles_lowered) - set(gs_titles_lowered))\n",
    "print(len(scival_only_titles))\n",
    "# print(scival_only_titles)"
   ]
  },
  {
   "cell_type": "code",
   "execution_count": 72,
   "id": "a132689e-5ddd-43ac-a427-00e702987322",
   "metadata": {
    "scrolled": true
   },
   "outputs": [
    {
     "name": "stdout",
     "output_type": "stream",
     "text": [
      "90\n"
     ]
    }
   ],
   "source": [
    "gs_only_titles = list(set(gs_titles_lowered) - set(scival_titles_lowered))\n",
    "print(len(gs_only_titles))\n",
    "# print(gs_only_titles)"
   ]
  },
  {
   "cell_type": "code",
   "execution_count": 73,
   "id": "1d2eee66-5cfd-4c19-89de-a13c1e347faa",
   "metadata": {},
   "outputs": [],
   "source": [
    "out_df = pd.DataFrame(\n",
    "    {\n",
    "        \"gs publications\":gs_titles,\n",
    "        \"scival publications\":scival_titles + [\"\"]*(len(gs_titles_lowered)-len(scival_titles)),\n",
    "        \"GS ONLY publications\":gs_only_titles+ [\"\"]*(len(gs_titles_lowered)-len(gs_only_titles)),\n",
    "        \"SCIVAL ONLY publications\": scival_only_titles+ [\"\"]*(len(gs_titles_lowered)-len(scival_only_titles)),\n",
    "        \"shared publications\":matching_titles+ [\"\"]*(len(gs_titles_lowered)-len(matching_titles)),\n",
    "    })"
   ]
  },
  {
   "cell_type": "code",
   "execution_count": 75,
   "id": "36322da4-d835-4433-b96f-51e9594d3164",
   "metadata": {},
   "outputs": [],
   "source": [
    "out_df.to_csv(f\"{author_row}_publication_compare_standardspaces.csv\")"
   ]
  },
  {
   "cell_type": "code",
   "execution_count": 94,
   "id": "77e87d41-0f94-4340-94cb-d5c0d591a2ee",
   "metadata": {},
   "outputs": [
    {
     "name": "stdout",
     "output_type": "stream",
     "text": [
      "[]\n"
     ]
    }
   ],
   "source": [
    "print([pub for pub in gs_titles if \",\" in pub])"
   ]
  },
  {
   "cell_type": "code",
   "execution_count": 10,
   "id": "85e78f75-d080-49c5-ba43-cb60e7ae3b23",
   "metadata": {},
   "outputs": [],
   "source": [
    "comp_df = pd.read_csv(\"6_publication_compare.csv\")\n",
    "scival_comp_list = comp_df[\"SCIVAL ONLY publications\"].dropna().tolist()"
   ]
  },
  {
   "cell_type": "code",
   "execution_count": 31,
   "id": "abf4e760",
   "metadata": {},
   "outputs": [
    {
     "name": "stdout",
     "output_type": "stream",
     "text": [
      "['coexpresion analysis of human genes across many microarray data sets', 'understanding the impact of 1q21 1 copy number variant', 'activation of mapk in hearts of emd null mice similarities between mouse models of x linked and autosomal dominant emery dreifuss muscular dystrophy', 'promoter region based classification of genes', 'transcriptional and behavioral interaction between 22q11 2 orthologs modulates schizophrenia related phenotypes in mice', 'the impact of multifunctional genes on guilt by association analysis', 'corrigendum to cortical functional connectivity decodes subconscious task irrelevant threat related emotion processing neuroimage 61 4 2012 1355 1363 s1053811912003321 10 1016 j neuroimage 2012 03 051', 'whose sample is it anyway widespread misannotation of samples in transcriptomics studies version 1 referees 2 approved', 'transcriptomic responses to high water temperature in two species of pacific salmon', 'fto obesity and the adolescent brain', 'proteome topfind 3 0 with topfinder and pathfinder database and analysis tools for the association of protein termini to pre and post translational events', 'seizures and failures in the giant fiber pathway of drosophila bang sensitive paralytic mutants']\n"
     ]
    }
   ],
   "source": [
    "scival_comp_lowered = [\n",
    "    \" \".join([word.strip() for word in title.split(\" \") if word != \"\"])\n",
    "    for title in scival_comp_list\n",
    "    ]\n",
    "\n",
    "print(scival_comp_lowered)"
   ]
  }
 ],
 "metadata": {
  "kernelspec": {
   "display_name": "Python 3 (ipykernel)",
   "language": "python",
   "name": "python3"
  },
  "language_info": {
   "codemirror_mode": {
    "name": "ipython",
    "version": 3
   },
   "file_extension": ".py",
   "mimetype": "text/x-python",
   "name": "python",
   "nbconvert_exporter": "python",
   "pygments_lexer": "ipython3",
   "version": "3.10.0"
  }
 },
 "nbformat": 4,
 "nbformat_minor": 5
}
