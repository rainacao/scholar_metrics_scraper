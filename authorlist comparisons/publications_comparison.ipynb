{
 "cells": [
  {
   "cell_type": "code",
   "execution_count": 2,
   "id": "1dbb4105-b905-4425-9314-093ead56af07",
   "metadata": {},
   "outputs": [
    {
     "name": "stdout",
     "output_type": "stream",
     "text": [
      "127f5bf5de20d338f686704a9a328b86\n"
     ]
    }
   ],
   "source": [
    "import os\n",
    "import requests\n",
    "import json\n",
    "import csv\n",
    "import pandas as pd\n",
    "from time import sleep\n",
    "import numpy as np\n",
    "from pybliometrics.scopus import CitationOverview, AuthorRetrieval, AbstractRetrieval\n",
    "from pybliometrics.scopus.utils import config\n",
    "config['Authentication'] ['APIKey'] = \"127f5bf5de20d338f686704a9a328b86\"\n",
    "print(config['Authentication'] ['APIKey'])\n",
    "from scholarly import scholarly\n",
    "import re"
   ]
  },
  {
   "cell_type": "code",
   "execution_count": 27,
   "id": "7b83c193-1913-4017-933d-50e0fce1b917",
   "metadata": {},
   "outputs": [],
   "source": [
    "# identifier = \"7401632487\" #tim murphy\n",
    "identifier = \"7004159655\" #paul pavlidis\n",
    "author_row = 6\n",
    "ar = AuthorRetrieval(identifier)"
   ]
  },
  {
   "cell_type": "code",
   "execution_count": null,
   "id": "09c34a03",
   "metadata": {},
   "outputs": [],
   "source": [
    "pubs = ar.get_documents()\n",
    "scival_titles = []\n",
    "for pub in pubs:\n",
    "    scival_titles.append(pub.title)"
   ]
  },
  {
   "cell_type": "code",
   "execution_count": 30,
   "id": "d512e81c-f177-43d8-9e76-1b3f846eafc9",
   "metadata": {},
   "outputs": [],
   "source": [
    "# scival_publications = []\n",
    "# for pub in pubs:\n",
    "#     scival_publications.append((pub.title, pub.coverDate, pub.eid, pub.publicationName, pub.author_count))"
   ]
  },
  {
   "cell_type": "code",
   "execution_count": 31,
   "id": "2221b732-22c8-405b-97a7-c5f537e653f0",
   "metadata": {},
   "outputs": [],
   "source": [
    "athr = \"ataejQQAAAAJ\" #Paul Pavlidis\n",
    "# athr = \"qJjM8hkAAAAJ\"\n",
    "author = scholarly.search_author_id(athr)"
   ]
  },
  {
   "cell_type": "code",
   "execution_count": null,
   "id": "7d432d27",
   "metadata": {},
   "outputs": [],
   "source": [
    "gs_titles = []\n",
    "data_dict = scholarly.fill(author, sections=['basics', 'indices', 'publications', 'counts'])\n",
    "\n",
    "for pub in data_dict['publications']:\n",
    "    # authors.append(author['name'])\n",
    "    # print(f\"adding publication {pub['bib']['title']}\")\n",
    "    gs_titles.append(pub['bib']['title'])"
   ]
  },
  {
   "cell_type": "code",
   "execution_count": 32,
   "id": "3c355618-2b06-4d45-9910-60b11bb8b26f",
   "metadata": {},
   "outputs": [
    {
     "name": "stdout",
     "output_type": "stream",
     "text": [
      "scival publications: 158\n",
      "gs publications: 245\n"
     ]
    }
   ],
   "source": [
    "print(\"scival publications:\", len(scival_titles))\n",
    "print(\"gs publications:\", len(gs_titles))"
   ]
  },
  {
   "cell_type": "code",
   "execution_count": 33,
   "id": "9aec2fc9-3566-428c-aa88-64e60e710eee",
   "metadata": {},
   "outputs": [],
   "source": [
    "scival_titles = [title.replace(\"<sup>\",\"\").replace(\"</sup>\",\"\").replace(\"<inf>\",\"\").replace(\"</inf>\",\"\") for title in scival_titles]"
   ]
  },
  {
   "cell_type": "code",
   "execution_count": 42,
   "id": "ebec8490-ef18-4c9d-b093-596f44636d68",
   "metadata": {},
   "outputs": [],
   "source": [
    "#clean\n",
    "scival_titles_lowered = [\n",
    "    \" \".join(\n",
    "        [\n",
    "            word.strip() \n",
    "            for word in re.sub(r'[^\\w]', ' ', title.lower()).split(\" \") \n",
    "            if word != \"\"])\n",
    "    for title in scival_titles\n",
    "    ]\n",
    "# gs_titles_lowered = [re.sub(r'[^\\w]', ' ', title.lower()).strip() for title in gs_titles]\n",
    "gs_titles_lowered = [\n",
    "    \" \".join(\n",
    "        [\n",
    "            word.strip() \n",
    "            for word in re.sub(r'[^\\w]', ' ', title.lower()).split(\" \") \n",
    "            if word != \"\"])\n",
    "    for title in gs_titles\n",
    "    ]"
   ]
  },
  {
   "cell_type": "code",
   "execution_count": null,
   "id": "66b92f2f",
   "metadata": {},
   "outputs": [],
   "source": [
    "#find coauthors for comparison between gs and scival(?) since coauthors would be most important factor"
   ]
  },
  {
   "cell_type": "code",
   "execution_count": 43,
   "id": "14fec28a-ba61-4252-a788-f53838e79dc3",
   "metadata": {
    "scrolled": true
   },
   "outputs": [
    {
     "name": "stdout",
     "output_type": "stream",
     "text": [
      "146\n"
     ]
    }
   ],
   "source": [
    "matching_titles = list(set(gs_titles_lowered).intersection(scival_titles_lowered))\n",
    "# print(matching_titles)\n",
    "print(len(matching_titles))"
   ]
  },
  {
   "cell_type": "code",
   "execution_count": 44,
   "id": "12e132cb-6217-419e-afb1-dc53543eec06",
   "metadata": {
    "scrolled": true
   },
   "outputs": [
    {
     "name": "stdout",
     "output_type": "stream",
     "text": [
      "12\n"
     ]
    }
   ],
   "source": [
    "scival_only_titles = list(set(scival_titles_lowered) - set(gs_titles_lowered))\n",
    "print(len(scival_only_titles))\n",
    "# print(scival_only_titles)"
   ]
  },
  {
   "cell_type": "code",
   "execution_count": 45,
   "id": "a132689e-5ddd-43ac-a427-00e702987322",
   "metadata": {
    "scrolled": true
   },
   "outputs": [
    {
     "name": "stdout",
     "output_type": "stream",
     "text": [
      "94\n"
     ]
    }
   ],
   "source": [
    "gs_only_titles = list(set(gs_titles_lowered) - set(scival_titles_lowered))\n",
    "print(len(gs_only_titles))\n",
    "# print(gs_only_titles)"
   ]
  },
  {
   "cell_type": "code",
   "execution_count": 40,
   "id": "1d2eee66-5cfd-4c19-89de-a13c1e347faa",
   "metadata": {},
   "outputs": [],
   "source": [
    "out_df = pd.DataFrame(\n",
    "    {\n",
    "        \"gs publications\":gs_titles_lowered,\n",
    "        \"scival publications\":scival_titles + [\"\"]*(len(gs_titles_lowered)-len(scival_titles)),\n",
    "        \"GS ONLY publications\":gs_only_titles+ [\"\"]*(len(gs_titles_lowered)-len(gs_only_titles)),\n",
    "        \"SCIVAL ONLY publications\": scival_only_titles+ [\"\"]*(len(gs_titles_lowered)-len(scival_only_titles)),\n",
    "        \"shared publications\":matching_titles+ [\"\"]*(len(gs_titles_lowered)-len(matching_titles)),\n",
    "    })"
   ]
  },
  {
   "cell_type": "code",
   "execution_count": 41,
   "id": "36322da4-d835-4433-b96f-51e9594d3164",
   "metadata": {},
   "outputs": [],
   "source": [
    "out_df.to_csv(f\"{author_row}_publication_compare.csv\")"
   ]
  },
  {
   "cell_type": "code",
   "execution_count": 94,
   "id": "77e87d41-0f94-4340-94cb-d5c0d591a2ee",
   "metadata": {},
   "outputs": [
    {
     "name": "stdout",
     "output_type": "stream",
     "text": [
      "[]\n"
     ]
    }
   ],
   "source": [
    "print([pub for pub in gs_titles if \",\" in pub])"
   ]
  },
  {
   "cell_type": "code",
   "execution_count": 10,
   "id": "85e78f75-d080-49c5-ba43-cb60e7ae3b23",
   "metadata": {},
   "outputs": [],
   "source": [
    "comp_df = pd.read_csv(\"6_publication_compare.csv\")\n",
    "scival_comp_list = comp_df[\"SCIVAL ONLY publications\"].dropna().tolist()"
   ]
  },
  {
   "cell_type": "code",
   "execution_count": 31,
   "id": "abf4e760",
   "metadata": {},
   "outputs": [
    {
     "name": "stdout",
     "output_type": "stream",
     "text": [
      "['coexpresion analysis of human genes across many microarray data sets', 'understanding the impact of 1q21 1 copy number variant', 'activation of mapk in hearts of emd null mice similarities between mouse models of x linked and autosomal dominant emery dreifuss muscular dystrophy', 'promoter region based classification of genes', 'transcriptional and behavioral interaction between 22q11 2 orthologs modulates schizophrenia related phenotypes in mice', 'the impact of multifunctional genes on guilt by association analysis', 'corrigendum to cortical functional connectivity decodes subconscious task irrelevant threat related emotion processing neuroimage 61 4 2012 1355 1363 s1053811912003321 10 1016 j neuroimage 2012 03 051', 'whose sample is it anyway widespread misannotation of samples in transcriptomics studies version 1 referees 2 approved', 'transcriptomic responses to high water temperature in two species of pacific salmon', 'fto obesity and the adolescent brain', 'proteome topfind 3 0 with topfinder and pathfinder database and analysis tools for the association of protein termini to pre and post translational events', 'seizures and failures in the giant fiber pathway of drosophila bang sensitive paralytic mutants']\n"
     ]
    }
   ],
   "source": [
    "scival_comp_lowered = [\n",
    "    \" \".join([word.strip() for word in title.split(\" \") if word != \"\"])\n",
    "    for title in scival_comp_list\n",
    "    ]\n",
    "\n",
    "print(scival_comp_lowered)"
   ]
  }
 ],
 "metadata": {
  "kernelspec": {
   "display_name": "Python 3 (ipykernel)",
   "language": "python",
   "name": "python3"
  },
  "language_info": {
   "codemirror_mode": {
    "name": "ipython",
    "version": 3
   },
   "file_extension": ".py",
   "mimetype": "text/x-python",
   "name": "python",
   "nbconvert_exporter": "python",
   "pygments_lexer": "ipython3",
   "version": "3.10.0"
  }
 },
 "nbformat": 4,
 "nbformat_minor": 5
}
