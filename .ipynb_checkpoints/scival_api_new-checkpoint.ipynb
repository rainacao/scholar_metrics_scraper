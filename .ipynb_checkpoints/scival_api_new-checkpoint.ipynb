{
 "cells": [
  {
   "cell_type": "code",
   "execution_count": null,
   "metadata": {},
   "outputs": [
    {
     "ename": "",
     "evalue": "",
     "output_type": "error",
     "traceback": [
      "\u001b[1;31mRunning cells with 'Python 3.7.12 ('sms1')' requires ipykernel package.\n",
      "Run the following command to install 'ipykernel' into the Python environment. \n",
      "Command: 'conda install -n sms1 ipykernel --update-deps --force-reinstall'"
     ]
    }
   ],
   "source": [
    "import requests\n",
    "import json\n",
    "import csv\n",
    "import pandas as pd\n",
    "# from dotenv import load_dotenv"
   ]
  },
  {
   "cell_type": "code",
   "execution_count": 38,
   "metadata": {},
   "outputs": [],
   "source": [
    "PATH_TO_DMCBH_MEMBERS_CSV = \"Copy of DMCBH member IRP categories_Aug2023.csv\"\n",
    "API_KEY = '11fa1d4e951478e40df536c0616abbbe'\n",
    "header = {\n",
    "    \"X-ELS-APIKey\": API_KEY,\n",
    "}\n",
    "api_url = \"http://api.elsevier.com/content/search/author?\""
   ]
  },
  {
   "cell_type": "code",
   "execution_count": 40,
   "metadata": {},
   "outputs": [],
   "source": [
    "def get_api_json(params: dict):\n",
    "    response = requests.get(url=api_url, params=params, headers=header)\n",
    "    return json.loads(response.text)"
   ]
  },
  {
   "cell_type": "code",
   "execution_count": null,
   "metadata": {},
   "outputs": [],
   "source": [
    "member_arr = []\n",
    "with open(PATH_TO_DMCBH_MEMBERS_CSV, \"r\") as f:\n",
    "    r = csv.reader(f)\n",
    "    for row in r:\n",
    "        if row[0] != \"\":\n",
    "            member_arr.append(row)\n",
    "\n",
    "# skip header rows\n",
    "member_arr = member_arr[2:]\n",
    "print(len(member_arr))\n",
    "\n",
    "# columns of the DMCBH CSV file\n",
    "cols = ['Last Name','First Name','Member Type','Mental Health & Addictions','Brain Development & Neurodevelopmental Disorders','Learning Memory & Dementias','Sensory Motor Systems & Movement Disorders','Brain Injury & Repair','Google Scholar?','GS Link']\n",
    "\n",
    "output_cols = [\"Author\", \"Name variants\", \"Affiliation\", \"EIDs\", \"DOIs\", \"PMIDs\", \"Title\", \"ISSN/Volume/Issues/Pages\", \"Scopus Author ID\", \"ORCID\", \"Level 1\", \"Level 2\", \"Level 3\", \"Level 4\",\"Level 5\",\"Level 6\",\"Level 7\",\"Level 8\",\"Level 9\",\"Level 10\",]\n",
    "\n",
    "last_names = []\n",
    "first_names = []\n",
    "affils = []\n",
    "auth_ids = []\n",
    "orcids = []\n",
    "tags = []\n",
    "warnings = []"
   ]
  },
  {
   "cell_type": "code",
   "execution_count": null,
   "metadata": {},
   "outputs": [],
   "source": [
    "for member in member_arr:\n",
    "    lastname = member_arr[0]\n",
    "    firstname = member_arr[1]\n",
    "\n",
    "    query = f\"authlastname({lastname}) and authfirst({firstname})\"\n",
    "    params = {\n",
    "        \"query\":query\n",
    "    }\n",
    "\n",
    "    data = get_api_json(params)\n",
    "\n",
    "    warning = \"\"\n",
    "    num_authors_found = data[\"search-results\"]\n",
    "    if num_authors_found == 0:\n",
    "        print(\"no author found for \" + firstname + \" \" + lastname)\n",
    "        warning = warning + \"no author found\"\n",
    "    #find author with matching affiliation id\n",
    "\n",
    "    affil_name = data[\"search-results\"][\"entry\"][0][\"affiliation-current\"][\"affiliation-name\"]\n",
    "    if \"University of British Columbia\" not in affil_name:\n",
    "        warning = warning + \"not affiliated with UBC\"\n",
    "\n",
    "    author_id = data[\"search-results\"][\"entry\"][0][\"dc:identifier\"].split(\":\")[1]\n",
    "    # affil_id = data[\"search-results\"][\"entry\"][0][\"affiliation-current\"][\"affiliation-id\"]\n",
    "\n",
    "    #find primary IRP\n",
    "    for i in range(3,8):\n",
    "        if member_arr[i].strip() == \"Primary\":\n",
    "            tags.append(cols[i])\n",
    "\n",
    "    last_names.append(lastname)\n",
    "    first_names.append(firstname)\n",
    "    affils.append(affil_name)\n",
    "    auth_ids.append(author_id)\n",
    "    warnings.append(warning)\n",
    "    try:\n",
    "        orcid = data[\"search-results\"][\"entry\"][0][\"orcid\"]\n",
    "        orcid.append(orcid)\n",
    "    except:\n",
    "        orcid.append(\"\")\n",
    "    "
   ]
  },
  {
   "cell_type": "code",
   "execution_count": null,
   "metadata": {},
   "outputs": [],
   "source": [
    "out_dict = {\n",
    "    \"Last Name\": last_names,\n",
    "    \"First Name\": first_names,\n",
    "    \"Affiliation\": affils,\n",
    "    \"Scopus Author ID\": auth_ids,\n",
    "    \"ORCID\": orcids,\n",
    "    \"Tags\": tags,\n",
    "    \"Warnings\": warnings,\n",
    "}\n",
    "print(out_dict)"
   ]
  },
  {
   "cell_type": "code",
   "execution_count": null,
   "metadata": {},
   "outputs": [],
   "source": [
    "df = pd.from_dict(out_dict)\n",
    "df.to_csv(\"DMCBH_scival_input.csv\")"
   ]
  },
  {
   "cell_type": "code",
   "execution_count": 41,
   "metadata": {},
   "outputs": [],
   "source": [
    "lastname = \"Auld\"\n",
    "firstname = \"Vanessa\"\n",
    "query = f\"authlastname({lastname}) and authfirst({firstname})\"\n",
    "params = {\n",
    "    \"query\":query\n",
    "}\n",
    "data = get_api_json(params)"
   ]
  },
  {
   "cell_type": "code",
   "execution_count": 42,
   "metadata": {},
   "outputs": [
    {
     "name": "stdout",
     "output_type": "stream",
     "text": [
      "{'search-results': {'opensearch:totalResults': '1', 'opensearch:startIndex': '0', 'opensearch:itemsPerPage': '1', 'opensearch:Query': {'@role': 'request', '@searchTerms': 'authlastname(Auld) and authfirst(Vanessa)', '@startPage': '0'}, 'link': [{'@_fa': 'true', '@ref': 'self', '@href': 'https://api.elsevier.com/content/search/author?start=0&count=25&query=authlastname%28Auld%29+and+authfirst%28Vanessa%29', '@type': 'application/json'}, {'@_fa': 'true', '@ref': 'first', '@href': 'https://api.elsevier.com/content/search/author?start=0&count=25&query=authlastname%28Auld%29+and+authfirst%28Vanessa%29', '@type': 'application/json'}], 'entry': [{'@_fa': 'true', 'link': [{'@_fa': 'true', '@ref': 'self', '@href': 'https://api.elsevier.com/content/author/author_id/7004622834'}, {'@_fa': 'true', '@ref': 'search', '@href': 'https://api.elsevier.com/content/search/author?query=au-id%287004622834%29'}, {'@_fa': 'true', '@ref': 'scopus-citedby', '@href': 'https://www.scopus.com/author/citedby.uri?partnerID=HzOxMe3b&citedAuthorId=7004622834&origin=inward'}, {'@_fa': 'true', '@ref': 'scopus-author', '@href': 'https://www.scopus.com/authid/detail.uri?partnerID=HzOxMe3b&authorId=7004622834&origin=inward'}], 'prism:url': 'https://api.elsevier.com/content/author/author_id/7004622834', 'dc:identifier': 'AUTHOR_ID:7004622834', 'eid': '9-s2.0-7004622834', 'orcid': '0000-0003-3976-9186', 'preferred-name': {'surname': 'Auld', 'given-name': 'Vanessa J.', 'initials': 'V.J.'}, 'name-variant': [{'@_fa': 'true', 'surname': 'Auld', 'given-name': 'V.', 'initials': 'V.'}, {'@_fa': 'true', 'surname': 'Auld', 'given-name': 'Vanessa', 'initials': 'V.'}, {'@_fa': 'true', 'surname': 'Jane Auld', 'given-name': 'Vanessa', 'initials': 'V.'}], 'document-count': '48', 'subject-area': [{'@abbrev': 'BIOC', '@frequency': '66', '$': 'Biochemistry, Genetics and Molecular Biology (all)'}, {'@abbrev': 'MEDI', '@frequency': '14', '$': 'Medicine (all)'}, {'@abbrev': 'NEUR', '@frequency': '14', '$': 'Neuroscience (all)'}], 'affiliation-current': {'affiliation-url': 'https://api.elsevier.com/content/affiliation/affiliation_id/60010365', 'affiliation-id': '60010365', 'affiliation-name': 'The University of British Columbia', 'affiliation-city': 'Vancouver', 'affiliation-country': 'Canada'}}]}}\n"
     ]
    }
   ],
   "source": [
    "print(data)"
   ]
  },
  {
   "cell_type": "code",
   "execution_count": 55,
   "metadata": {},
   "outputs": [
    {
     "name": "stdout",
     "output_type": "stream",
     "text": [
      "{'@_fa': 'true', 'link': [{'@_fa': 'true', '@ref': 'self', '@href': 'https://api.elsevier.com/content/author/author_id/7004622834'}, {'@_fa': 'true', '@ref': 'search', '@href': 'https://api.elsevier.com/content/search/author?query=au-id%287004622834%29'}, {'@_fa': 'true', '@ref': 'scopus-citedby', '@href': 'https://www.scopus.com/author/citedby.uri?partnerID=HzOxMe3b&citedAuthorId=7004622834&origin=inward'}, {'@_fa': 'true', '@ref': 'scopus-author', '@href': 'https://www.scopus.com/authid/detail.uri?partnerID=HzOxMe3b&authorId=7004622834&origin=inward'}], 'prism:url': 'https://api.elsevier.com/content/author/author_id/7004622834', 'dc:identifier': 'AUTHOR_ID:7004622834', 'eid': '9-s2.0-7004622834', 'orcid': '0000-0003-3976-9186', 'preferred-name': {'surname': 'Auld', 'given-name': 'Vanessa J.', 'initials': 'V.J.'}, 'name-variant': [{'@_fa': 'true', 'surname': 'Auld', 'given-name': 'V.', 'initials': 'V.'}, {'@_fa': 'true', 'surname': 'Auld', 'given-name': 'Vanessa', 'initials': 'V.'}, {'@_fa': 'true', 'surname': 'Jane Auld', 'given-name': 'Vanessa', 'initials': 'V.'}], 'document-count': '48', 'subject-area': [{'@abbrev': 'BIOC', '@frequency': '66', '$': 'Biochemistry, Genetics and Molecular Biology (all)'}, {'@abbrev': 'MEDI', '@frequency': '14', '$': 'Medicine (all)'}, {'@abbrev': 'NEUR', '@frequency': '14', '$': 'Neuroscience (all)'}], 'affiliation-current': {'affiliation-url': 'https://api.elsevier.com/content/affiliation/affiliation_id/60010365', 'affiliation-id': '60010365', 'affiliation-name': 'The University of British Columbia', 'affiliation-city': 'Vancouver', 'affiliation-country': 'Canada'}}\n",
      "7004622834\n",
      "The University of British Columbia\n"
     ]
    }
   ],
   "source": [
    "print(data[\"search-results\"][\"entry\"][0])\n",
    "print(data[\"search-results\"][\"entry\"][0][\"dc:identifier\"].split(\":\")[1])\n"
   ]
  },
  {
   "cell_type": "code",
   "execution_count": 34,
   "metadata": {},
   "outputs": [
    {
     "name": "stdout",
     "output_type": "stream",
     "text": [
      "1\n"
     ]
    }
   ],
   "source": [
    "#UBC \"affiliation-id\":\"60010365\"\n",
    "\n",
    "num_authors_found = data[\"search-results\"][\"opensearch:totalResults\"]\n",
    "\n",
    "if num_authors_found == 0:\n",
    "    print(\"no author found\")\n",
    "if num_authors_found > 1:\n",
    "    print(\"more than one author found\")\n",
    "    #find author with matching affiliation id"
   ]
  },
  {
   "cell_type": "code",
   "execution_count": null,
   "metadata": {},
   "outputs": [],
   "source": [
    "#add name, institution, etc to csv. tagged in diff irp groups?\n"
   ]
  }
 ],
 "metadata": {
  "kernelspec": {
   "display_name": "sms",
   "language": "python",
   "name": "python3"
  },
  "language_info": {
   "codemirror_mode": {
    "name": "ipython",
    "version": 3
   },
   "file_extension": ".py",
   "mimetype": "text/x-python",
   "name": "python",
   "nbconvert_exporter": "python",
   "pygments_lexer": "ipython3",
   "version": "3.7.12"
  },
  "orig_nbformat": 4
 },
 "nbformat": 4,
 "nbformat_minor": 2
}
