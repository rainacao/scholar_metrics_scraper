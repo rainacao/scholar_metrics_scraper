{
 "cells": [
  {
   "cell_type": "code",
   "execution_count": 19,
   "metadata": {},
   "outputs": [],
   "source": [
    "# API_KEY = \"aed73b6c0f9f233daa5f733cf7cfe7d4\"\n",
    "API_KEY = '11fa1d4e951478e40df536c0616abbbe'"
   ]
  },
  {
   "cell_type": "code",
   "execution_count": 21,
   "metadata": {},
   "outputs": [],
   "source": [
    "import requests\n",
    "import json\n",
    "from pybliometrics.scopus import AuthorSearch"
   ]
  },
  {
   "cell_type": "code",
   "execution_count": 18,
   "metadata": {},
   "outputs": [
    {
     "ename": "Scopus401Error",
     "evalue": "Invalid API Key: valid apikey credentials required.",
     "output_type": "error",
     "traceback": [
      "\u001b[0;31m---------------------------------------------------------------------------\u001b[0m",
      "\u001b[0;31mScopus401Error\u001b[0m                            Traceback (most recent call last)",
      "Cell \u001b[0;32mIn[18], line 1\u001b[0m\n\u001b[0;32m----> 1\u001b[0m ar \u001b[39m=\u001b[39m AuthorSearch(\u001b[39m\"\u001b[39;49m\u001b[39mAUTHLASTNAME\u001b[39;49m\u001b[39m%\u001b[39;49m\u001b[39m28Werker\u001b[39;49m\u001b[39m%\u001b[39;49m\u001b[39m29+AND+AUTHFIRST\u001b[39;49m\u001b[39m%\u001b[39;49m\u001b[39m28Janet\u001b[39;49m\u001b[39m%\u001b[39;49m\u001b[39m29\u001b[39;49m\u001b[39m\"\u001b[39;49m)\n",
      "File \u001b[0;32m~/miniconda3/envs/sms/lib/python3.10/site-packages/pybliometrics/scopus/author_search.py:125\u001b[0m, in \u001b[0;36mAuthorSearch.__init__\u001b[0;34m(self, query, refresh, verbose, download, integrity_fields, integrity_action, count, **kwds)\u001b[0m\n\u001b[1;32m    123\u001b[0m \u001b[39mself\u001b[39m\u001b[39m.\u001b[39m_refresh \u001b[39m=\u001b[39m refresh\n\u001b[1;32m    124\u001b[0m \u001b[39mself\u001b[39m\u001b[39m.\u001b[39m_view \u001b[39m=\u001b[39m \u001b[39m\"\u001b[39m\u001b[39mSTANDARD\u001b[39m\u001b[39m\"\u001b[39m\n\u001b[0;32m--> 125\u001b[0m Search\u001b[39m.\u001b[39;49m\u001b[39m__init__\u001b[39;49m(\u001b[39mself\u001b[39;49m, query\u001b[39m=\u001b[39;49mquery, api\u001b[39m=\u001b[39;49m\u001b[39m'\u001b[39;49m\u001b[39mAuthorSearch\u001b[39;49m\u001b[39m'\u001b[39;49m, count\u001b[39m=\u001b[39;49mcount,\n\u001b[1;32m    126\u001b[0m                 download\u001b[39m=\u001b[39;49mdownload, verbose\u001b[39m=\u001b[39;49mverbose, \u001b[39m*\u001b[39;49m\u001b[39m*\u001b[39;49mkwds)\n",
      "File \u001b[0;32m~/miniconda3/envs/sms/lib/python3.10/site-packages/pybliometrics/scopus/superclasses/search.py:62\u001b[0m, in \u001b[0;36mSearch.__init__\u001b[0;34m(self, query, api, count, cursor, download, verbose, **kwds)\u001b[0m\n\u001b[1;32m     59\u001b[0m \u001b[39mself\u001b[39m\u001b[39m.\u001b[39m_cache_file_path \u001b[39m=\u001b[39m get_folder(api, \u001b[39mself\u001b[39m\u001b[39m.\u001b[39m_view)\u001b[39m/\u001b[39mstem\n\u001b[1;32m     61\u001b[0m \u001b[39m# Init\u001b[39;00m\n\u001b[0;32m---> 62\u001b[0m Base\u001b[39m.\u001b[39;49m\u001b[39m__init__\u001b[39;49m(\u001b[39mself\u001b[39;49m, params\u001b[39m=\u001b[39;49mparams, url\u001b[39m=\u001b[39;49mURLS[api], download\u001b[39m=\u001b[39;49mdownload,\n\u001b[1;32m     63\u001b[0m               api\u001b[39m=\u001b[39;49mapi, verbose\u001b[39m=\u001b[39;49mverbose)\n",
      "File \u001b[0;32m~/miniconda3/envs/sms/lib/python3.10/site-packages/pybliometrics/scopus/superclasses/base.py:60\u001b[0m, in \u001b[0;36mBase.__init__\u001b[0;34m(self, params, url, api, download, verbose, *args, **kwds)\u001b[0m\n\u001b[1;32m     58\u001b[0m         \u001b[39mself\u001b[39m\u001b[39m.\u001b[39m_json \u001b[39m=\u001b[39m loads(fname\u001b[39m.\u001b[39mread_text())\n\u001b[1;32m     59\u001b[0m \u001b[39melse\u001b[39;00m:\n\u001b[0;32m---> 60\u001b[0m     resp \u001b[39m=\u001b[39m get_content(url, api, params, \u001b[39m*\u001b[39;49margs, \u001b[39m*\u001b[39;49m\u001b[39m*\u001b[39;49mkwds)\n\u001b[1;32m     61\u001b[0m     header \u001b[39m=\u001b[39m resp\u001b[39m.\u001b[39mheaders\n\u001b[1;32m     62\u001b[0m     \u001b[39mif\u001b[39;00m search_request:\n\u001b[1;32m     63\u001b[0m         \u001b[39m# Get number of results\u001b[39;00m\n",
      "File \u001b[0;32m~/miniconda3/envs/sms/lib/python3.10/site-packages/pybliometrics/scopus/utils/get_content.py:116\u001b[0m, in \u001b[0;36mget_content\u001b[0;34m(url, api, params, **kwds)\u001b[0m\n\u001b[1;32m    114\u001b[0m         \u001b[39mexcept\u001b[39;00m:\n\u001b[1;32m    115\u001b[0m             reason \u001b[39m=\u001b[39m \u001b[39m\"\u001b[39m\u001b[39m\"\u001b[39m\n\u001b[0;32m--> 116\u001b[0m     \u001b[39mraise\u001b[39;00m errors[resp\u001b[39m.\u001b[39mstatus_code](reason)\n\u001b[1;32m    117\u001b[0m \u001b[39mexcept\u001b[39;00m \u001b[39mKeyError\u001b[39;00m:\n\u001b[1;32m    118\u001b[0m     resp\u001b[39m.\u001b[39mraise_for_status()\n",
      "\u001b[0;31mScopus401Error\u001b[0m: Invalid API Key: valid apikey credentials required."
     ]
    }
   ],
   "source": [
    "ar = AuthorSearch(\"AUTHLASTNAME%28Werker%29+AND+AUTHFIRST%28Janet%29\")"
   ]
  },
  {
   "cell_type": "code",
   "execution_count": 22,
   "metadata": {},
   "outputs": [],
   "source": [
    "header = {\n",
    "    \"X-ELS-APIKey\": API_KEY,\n",
    "}\n",
    "\n",
    "query_dict = {\n",
    "    \"authlast\": None, \n",
    "    \"authfirst\": None, \n",
    "    \"affil\": None\n",
    "}\n",
    "\n",
    "api_url = \"http://api.elsevier.com/content/search/author?\"\n",
    "query = \"authname(Werker, Janet)\"\n",
    "query = \"AUTHLASTNAME%28Werker%29+AND+AUTHFIRST%28Janet%29\""
   ]
  },
  {
   "cell_type": "code",
   "execution_count": 23,
   "metadata": {},
   "outputs": [],
   "source": [
    "response = requests.get(url=api_url, params=query, headers=header)"
   ]
  },
  {
   "cell_type": "code",
   "execution_count": 24,
   "metadata": {},
   "outputs": [
    {
     "name": "stdout",
     "output_type": "stream",
     "text": [
      "{\"service-error\":{\"status\":{\"statusCode\":\"AUTHORIZATION_ERROR\",\"statusText\":\"The requestor is not authorized to access the requested view or fields of the resource\"}}}\n"
     ]
    }
   ],
   "source": [
    "print(response.text)"
   ]
  }
 ],
 "metadata": {
  "kernelspec": {
   "display_name": "sms",
   "language": "python",
   "name": "python3"
  },
  "language_info": {
   "codemirror_mode": {
    "name": "ipython",
    "version": 3
   },
   "file_extension": ".py",
   "mimetype": "text/x-python",
   "name": "python",
   "nbconvert_exporter": "python",
   "pygments_lexer": "ipython3",
   "version": "3.10.0"
  },
  "orig_nbformat": 4
 },
 "nbformat": 4,
 "nbformat_minor": 2
}
