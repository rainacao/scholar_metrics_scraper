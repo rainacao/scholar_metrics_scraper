{
 "cells": [
  {
   "cell_type": "code",
   "execution_count": 1,
   "metadata": {},
   "outputs": [
    {
     "name": "stdout",
     "output_type": "stream",
     "text": [
      "aed73b6c0f9f233daa5f733cf7cfe7d4\n",
      "127f5bf5de20d338f686704a9a328b86\n"
     ]
    }
   ],
   "source": [
    "import os\n",
    "import requests\n",
    "import json\n",
    "import csv\n",
    "import pandas as pd\n",
    "from dotenv import load_dotenv\n",
    "from time import sleep\n",
    "load_dotenv()\n",
    "\n",
    "from pybliometrics.scopus.utils import config\n",
    "print(config['Authentication'] ['APIKey'])\n",
    "config['Authentication'] ['APIKey'] = \"127f5bf5de20d338f686704a9a328b86\"\n",
    "print(config['Authentication'] ['APIKey'])"
   ]
  },
  {
   "cell_type": "code",
   "execution_count": 2,
   "metadata": {},
   "outputs": [],
   "source": [
    "from pybliometrics.scopus import CitationOverview, AuthorRetrieval, AuthorSearch"
   ]
  },
  {
   "cell_type": "code",
   "execution_count": 10,
   "metadata": {},
   "outputs": [],
   "source": [
    "PATH_TO_INPUT_CSV = \"authorlist.csv\"\n",
    "OUTPUT_FILEPATH = \"ss_scival_dmcbh.csv\"\n",
    "\n",
    "# https://dev.elsevier.com/sc_author_search_tips.html for list of subjects\n",
    "subjects_list = [\"NEUR\", \"BIOC\", \"MEDI\", \"PSYC\", \"HEAL\", \"IMMU\", \"NURS\", \"PHAR\"]\n",
    "affiliation_list = ['University of British Columbia', 'UBC', 'Djavad Mowafaghian', 'Simon Fraser University', 'University of Victoria', 'University of Washington']\n",
    "city_list = [\"Vancouver\", \"Victoria\", \"Seattle\"]\n",
    "# affil_id_list = ['60023077', '60010365', '60012423'] #[UBC faculty of medicine, UBC, UBC hospital]\n",
    "\n",
    "affil_search_string = \"affil(UBC or University of British Columbia or Djavad Mowafaghian or Simon Fraser University or University of Victoria or University of Washington') and subjarea(NEUR or BIOC or MEDI or PSYC or HEAL or IMMU or NURS or PHAR)\"\n",
    "cols_of_interest = [\"Last Name\", \"First Name\", \"Affiliation\", \"Author ID\", \"ORCID\", \"Research Areas\", \"Warning\"]"
   ]
  },
  {
   "cell_type": "code",
   "execution_count": 4,
   "metadata": {},
   "outputs": [],
   "source": [
    "def is_matching_subjects(author) -> bool:\n",
    "    try:\n",
    "        return any([topic in author.areas for topic in subjects_list])\n",
    "    except:\n",
    "        print(\"no subjects on profile\")\n",
    "        return False"
   ]
  },
  {
   "cell_type": "code",
   "execution_count": 5,
   "metadata": {},
   "outputs": [],
   "source": [
    "def is_matching_affils(author) -> bool:\n",
    "    try:\n",
    "        # return (any([affil in author.affiliation for affil in affiliation_list]) \n",
    "        #         and any([city in author.city for city in city_list]))\n",
    "        return (any([affil in author.affiliation for affil in affiliation_list]) \n",
    "                or any([city in author.city for city in city_list]))\n",
    "    except:\n",
    "        print(\"no affiliation on profile\")\n",
    "        return False"
   ]
  },
  {
   "cell_type": "code",
   "execution_count": 6,
   "metadata": {},
   "outputs": [],
   "source": [
    "def is_target_profile(author) -> bool:\n",
    "    '''criteria for whether or not profile matches the target requirements'''\n",
    "    print(\"subject match:\",is_matching_subjects(author))\n",
    "    print(\"affiliation match:\",is_matching_affils(author))\n",
    "    return (is_matching_subjects(author) or is_matching_affils(author))\n",
    "    # return (is_matching_subjects(author) and is_matching_affils(author))\n",
    "\n",
    "    # subject_check = False\n",
    "    # affiliation_check = False\n",
    "    # city_check = False\n",
    "    # country_check = False\n",
    "\n",
    "    # try:\n",
    "    #     subject_check = any([topic in author.areas for topic in subjects_list])\n",
    "    # except:\n",
    "    #     print(\"no subject with associated profile\")\n",
    "\n",
    "    # try:\n",
    "    #     affiliation_check = any([affil in affiliation_list for affil in author.affiliation])\n",
    "    #     city_check = any([city in city_list for city in author.city]) \n",
    "    #     country_check = any([country in affiliation_list for country in author.country])\n",
    "    # except:\n",
    "    #     print(\"no affiliation with associated profile\")\n",
    "\n",
    "    # # if subject and affiliations match\n",
    "    # if subject_check and affiliation_check:\n",
    "    #     return True\n",
    "    # elif affiliation_check:\n",
    "    #     return True\n",
    "    # elif (city_check or country_check) and subject_check:\n",
    "    #     return True\n",
    "    # else:\n",
    "    #     return False"
   ]
  },
  {
   "cell_type": "code",
   "execution_count": 7,
   "metadata": {},
   "outputs": [],
   "source": [
    "def add_author_row(author:tuple, is_target, out_dict, warning=\"\", affil_override=\"\", subj_override=\"\"):\n",
    "    '''\n",
    "    fills in author information to the output dictionary.\n",
    "    if is_target is True, meaning the author matches criteria, author variable should be a pybliometrics Author tuple. \n",
    "    if is_target is False, meaning author is not found or does not match criteria, author variable should be a tuple of\n",
    "    (\"author last name\", \"author first name\")\n",
    "    '''\n",
    "    match is_target:\n",
    "        case True:\n",
    "            #add author information to dictionary\n",
    "            lastname = author.surname\n",
    "            firstname = author.givenname\n",
    "            print(\"adding \" + firstname + \" \" + lastname + \"...\\n\")\n",
    "\n",
    "            affil_name = author.affiliation\n",
    "            author_id = author.eid.split(\"-\")[-1]\n",
    "            orcid = \"\"\n",
    "            try:\n",
    "                orcid = author.orcid\n",
    "            except:\n",
    "                pass\n",
    "            subject = author.areas\n",
    "\n",
    "            out_dict[cols_of_interest[0]].append(lastname) #\"Last Name\"\n",
    "            out_dict[cols_of_interest[1]].append(firstname) #\"First Name\"\n",
    "            out_dict[cols_of_interest[2]].append(affil_name) #\"Affiliation\"\n",
    "            out_dict[cols_of_interest[3]].append(author_id) #\"Author ID\"\n",
    "            out_dict[cols_of_interest[4]].append(orcid) #\"ORCID\"\n",
    "            out_dict[cols_of_interest[5]].append(subject) #\"Research Areas\"\n",
    "            out_dict[cols_of_interest[6]].append(\"\") #\"Warning\"\n",
    "        case False:\n",
    "            #add blank rows with warning or affiliation/research area overrides\n",
    "            lastname = author[0]\n",
    "            firstname = author[1]\n",
    "            print(\"no scival profile found\\n\")\n",
    "            out_dict[cols_of_interest[0]].append(lastname) #\"Last Name\"\n",
    "            out_dict[cols_of_interest[1]].append(firstname) #\"First Name\"\n",
    "            out_dict[cols_of_interest[2]].append(affil_override) #\"Affiliation\"\n",
    "            out_dict[cols_of_interest[3]].append(\"\") #\"Author ID\"\n",
    "            out_dict[cols_of_interest[4]].append(\"\") #\"ORCID\"\n",
    "            out_dict[cols_of_interest[5]].append(subj_override) #\"Research Areas\"\n",
    "            out_dict[cols_of_interest[6]].append(warning) #\"Warning\"\n",
    "            "
   ]
  },
  {
   "cell_type": "code",
   "execution_count": 8,
   "metadata": {},
   "outputs": [],
   "source": [
    "def compare_all_profiles(authors):\n",
    "    for i in range(len(authors)):\n",
    "        print(\"looking at profile \" + str(i))\n",
    "        if is_target_profile(authors[i]):\n",
    "            return authors[i]\n",
    "    return None"
   ]
  },
  {
   "cell_type": "code",
   "execution_count": 11,
   "metadata": {},
   "outputs": [
    {
     "name": "stdout",
     "output_type": "stream",
     "text": [
      "47\n"
     ]
    }
   ],
   "source": [
    "#read member csv file accordingly\n",
    "member_arr = []\n",
    "with open(PATH_TO_INPUT_CSV, \"r\") as f:\n",
    "    r = csv.reader(f)\n",
    "    for row in r:\n",
    "        if row[0] != \"\":\n",
    "            member_arr.append(row)\n",
    "\n",
    "# skip header rows\n",
    "# member_arr = member_arr[1:]\n",
    "print(len(member_arr))"
   ]
  },
  {
   "cell_type": "code",
   "execution_count": 12,
   "metadata": {},
   "outputs": [
    {
     "ename": "IndexError",
     "evalue": "list index out of range",
     "output_type": "error",
     "traceback": [
      "\u001b[0;31m---------------------------------------------------------------------------\u001b[0m",
      "\u001b[0;31mIndexError\u001b[0m                                Traceback (most recent call last)",
      "Cell \u001b[0;32mIn[12], line 10\u001b[0m\n\u001b[1;32m      7\u001b[0m sleep(\u001b[38;5;241m1\u001b[39m) \u001b[38;5;66;03m#pause for one second to prevent API warning\u001b[39;00m\n\u001b[1;32m      9\u001b[0m \u001b[38;5;66;03m#search for author\u001b[39;00m\n\u001b[0;32m---> 10\u001b[0m lastname \u001b[38;5;241m=\u001b[39m \u001b[43mmember\u001b[49m\u001b[43m[\u001b[49m\u001b[38;5;241;43m0\u001b[39;49m\u001b[43m]\u001b[49m\u001b[38;5;241;43m.\u001b[39;49m\u001b[43mrsplit\u001b[49m\u001b[43m(\u001b[49m\u001b[38;5;124;43m\"\u001b[39;49m\u001b[38;5;124;43m \u001b[39;49m\u001b[38;5;124;43m\"\u001b[39;49m\u001b[43m,\u001b[49m\u001b[38;5;241;43m1\u001b[39;49m\u001b[43m)\u001b[49m\u001b[43m[\u001b[49m\u001b[38;5;241;43m1\u001b[39;49m\u001b[43m]\u001b[49m\n\u001b[1;32m     11\u001b[0m firstname \u001b[38;5;241m=\u001b[39m member[\u001b[38;5;241m0\u001b[39m]\u001b[38;5;241m.\u001b[39mrsplit(\u001b[38;5;124m\"\u001b[39m\u001b[38;5;124m \u001b[39m\u001b[38;5;124m\"\u001b[39m,\u001b[38;5;241m1\u001b[39m)[\u001b[38;5;241m0\u001b[39m]\n\u001b[1;32m     12\u001b[0m \u001b[38;5;66;03m# lastname = member[0].strip()\u001b[39;00m\n\u001b[1;32m     13\u001b[0m \u001b[38;5;66;03m# firstname = member[1].strip()\u001b[39;00m\n",
      "\u001b[0;31mIndexError\u001b[0m: list index out of range"
     ]
    }
   ],
   "source": [
    "# if changing columns, make sure to change code in add_author_row() as well!\n",
    "output_dict = {f\"{key}\":[] for key in cols_of_interest}\n",
    "\n",
    "#go through all members\n",
    "for member in member_arr:\n",
    "    start = 0\n",
    "    sleep(1) #pause for one second to prevent API warning\n",
    "\n",
    "    #search for author\n",
    "    lastname = member[0].rsplit(\" \",1)[1]\n",
    "    firstname = member[0].rsplit(\" \",1)[0]\n",
    "    # lastname = member[0].strip()\n",
    "    # firstname = member[1].strip()\n",
    "    print(f\"searching for author {firstname} {lastname}\")\n",
    "\n",
    "    # query = f\"authlastname({lastname}) and authfirst({firstname}) and {affil_search_string}\"\n",
    "    query = f\"authlastname({lastname}) and authfirst({firstname})\"\n",
    "    s = AuthorSearch(query)\n",
    "    authors = s.authors\n",
    "    \n",
    "    num_authors_found = s.get_results_size()\n",
    "\n",
    "    match num_authors_found:\n",
    "        case 0:\n",
    "            #if there are no profiles, add blank row\n",
    "            add_author_row((lastname, firstname), False, output_dict, warning=f\"no profiles found\")\n",
    "            # add_author_row((lastname, firstname), False, output_dict, warning=f\"no profiles found with query ({affil_search_string})\")\n",
    "        case 1:\n",
    "            #if there is a profile, save if subjects and affiliations match\n",
    "            if is_target_profile(authors[0]):\n",
    "                add_author_row(authors[0], True, output_dict)\n",
    "            else:\n",
    "                add_author_row((authors[0].surname, authors[0].givenname), \n",
    "                               False, output_dict, warning=f\"!!! profile for {firstname} {lastname} does not pass addition condition\",\n",
    "                               affil_override=authors[0].affiliation,\n",
    "                               subj_override=authors[0].areas)\n",
    "        case _:\n",
    "            #if there are multiple profile, take a look through each\n",
    "            best_match_author = compare_all_profiles(authors)\n",
    "            if best_match_author == None:\n",
    "                add_author_row((authors[0].surname, authors[0].givenname), \n",
    "                               False, output_dict, warning=f\"!!! FIRST profile for {firstname} {lastname} does not pass addition condition\",\n",
    "                               affil_override=authors[0].affiliation,\n",
    "                               subj_override=authors[0].areas)\n",
    "                print(\"no match found among profiles\\n\")\n",
    "            else:\n",
    "                add_author_row(best_match_author, True, output_dict)"
   ]
  },
  {
   "cell_type": "code",
   "execution_count": 14,
   "metadata": {},
   "outputs": [],
   "source": [
    "# save file\n",
    "df = pd.DataFrame.from_dict(output_dict)\n",
    "df.to_csv(\"scival_ids_authorlist_adjusted.csv\")\n",
    "# df.to_csv(OUTPUT_FILEPATH)"
   ]
  },
  {
   "cell_type": "code",
   "execution_count": 15,
   "metadata": {},
   "outputs": [
    {
     "ename": "Scopus401Error",
     "evalue": "",
     "output_type": "error",
     "traceback": [
      "\u001b[0;31m---------------------------------------------------------------------------\u001b[0m",
      "\u001b[0;31mScopus401Error\u001b[0m                            Traceback (most recent call last)",
      "Cell \u001b[0;32mIn[15], line 4\u001b[0m\n\u001b[1;32m      2\u001b[0m firstname \u001b[38;5;241m=\u001b[39m \u001b[38;5;124m\"\u001b[39m\u001b[38;5;124mTodd\u001b[39m\u001b[38;5;124m\"\u001b[39m\n\u001b[1;32m      3\u001b[0m query \u001b[38;5;241m=\u001b[39m \u001b[38;5;124mf\u001b[39m\u001b[38;5;124m\"\u001b[39m\u001b[38;5;124mauthlastname(\u001b[39m\u001b[38;5;132;01m{\u001b[39;00mlastname\u001b[38;5;132;01m}\u001b[39;00m\u001b[38;5;124m) and authfirst(\u001b[39m\u001b[38;5;132;01m{\u001b[39;00mfirstname\u001b[38;5;132;01m}\u001b[39;00m\u001b[38;5;124m)\u001b[39m\u001b[38;5;124m\"\u001b[39m\n\u001b[0;32m----> 4\u001b[0m s \u001b[38;5;241m=\u001b[39m \u001b[43mAuthorSearch\u001b[49m\u001b[43m(\u001b[49m\u001b[43mquery\u001b[49m\u001b[43m)\u001b[49m\n\u001b[1;32m      5\u001b[0m authors \u001b[38;5;241m=\u001b[39m s\u001b[38;5;241m.\u001b[39mauthors\n",
      "File \u001b[0;32m~/miniconda3/envs/sms/lib/python3.10/site-packages/pybliometrics/scopus/author_search.py:125\u001b[0m, in \u001b[0;36mAuthorSearch.__init__\u001b[0;34m(self, query, refresh, verbose, download, integrity_fields, integrity_action, count, **kwds)\u001b[0m\n\u001b[1;32m    123\u001b[0m \u001b[38;5;28mself\u001b[39m\u001b[38;5;241m.\u001b[39m_refresh \u001b[38;5;241m=\u001b[39m refresh\n\u001b[1;32m    124\u001b[0m \u001b[38;5;28mself\u001b[39m\u001b[38;5;241m.\u001b[39m_view \u001b[38;5;241m=\u001b[39m \u001b[38;5;124m\"\u001b[39m\u001b[38;5;124mSTANDARD\u001b[39m\u001b[38;5;124m\"\u001b[39m\n\u001b[0;32m--> 125\u001b[0m \u001b[43mSearch\u001b[49m\u001b[38;5;241;43m.\u001b[39;49m\u001b[38;5;21;43m__init__\u001b[39;49m\u001b[43m(\u001b[49m\u001b[38;5;28;43mself\u001b[39;49m\u001b[43m,\u001b[49m\u001b[43m \u001b[49m\u001b[43mquery\u001b[49m\u001b[38;5;241;43m=\u001b[39;49m\u001b[43mquery\u001b[49m\u001b[43m,\u001b[49m\u001b[43m \u001b[49m\u001b[43mapi\u001b[49m\u001b[38;5;241;43m=\u001b[39;49m\u001b[38;5;124;43m'\u001b[39;49m\u001b[38;5;124;43mAuthorSearch\u001b[39;49m\u001b[38;5;124;43m'\u001b[39;49m\u001b[43m,\u001b[49m\u001b[43m \u001b[49m\u001b[43mcount\u001b[49m\u001b[38;5;241;43m=\u001b[39;49m\u001b[43mcount\u001b[49m\u001b[43m,\u001b[49m\n\u001b[1;32m    126\u001b[0m \u001b[43m                \u001b[49m\u001b[43mdownload\u001b[49m\u001b[38;5;241;43m=\u001b[39;49m\u001b[43mdownload\u001b[49m\u001b[43m,\u001b[49m\u001b[43m \u001b[49m\u001b[43mverbose\u001b[49m\u001b[38;5;241;43m=\u001b[39;49m\u001b[43mverbose\u001b[49m\u001b[43m,\u001b[49m\u001b[43m \u001b[49m\u001b[38;5;241;43m*\u001b[39;49m\u001b[38;5;241;43m*\u001b[39;49m\u001b[43mkwds\u001b[49m\u001b[43m)\u001b[49m\n",
      "File \u001b[0;32m~/miniconda3/envs/sms/lib/python3.10/site-packages/pybliometrics/scopus/superclasses/search.py:62\u001b[0m, in \u001b[0;36mSearch.__init__\u001b[0;34m(self, query, api, count, cursor, download, verbose, **kwds)\u001b[0m\n\u001b[1;32m     59\u001b[0m \u001b[38;5;28mself\u001b[39m\u001b[38;5;241m.\u001b[39m_cache_file_path \u001b[38;5;241m=\u001b[39m get_folder(api, \u001b[38;5;28mself\u001b[39m\u001b[38;5;241m.\u001b[39m_view)\u001b[38;5;241m/\u001b[39mstem\n\u001b[1;32m     61\u001b[0m \u001b[38;5;66;03m# Init\u001b[39;00m\n\u001b[0;32m---> 62\u001b[0m \u001b[43mBase\u001b[49m\u001b[38;5;241;43m.\u001b[39;49m\u001b[38;5;21;43m__init__\u001b[39;49m\u001b[43m(\u001b[49m\u001b[38;5;28;43mself\u001b[39;49m\u001b[43m,\u001b[49m\u001b[43m \u001b[49m\u001b[43mparams\u001b[49m\u001b[38;5;241;43m=\u001b[39;49m\u001b[43mparams\u001b[49m\u001b[43m,\u001b[49m\u001b[43m \u001b[49m\u001b[43murl\u001b[49m\u001b[38;5;241;43m=\u001b[39;49m\u001b[43mURLS\u001b[49m\u001b[43m[\u001b[49m\u001b[43mapi\u001b[49m\u001b[43m]\u001b[49m\u001b[43m,\u001b[49m\u001b[43m \u001b[49m\u001b[43mdownload\u001b[49m\u001b[38;5;241;43m=\u001b[39;49m\u001b[43mdownload\u001b[49m\u001b[43m,\u001b[49m\n\u001b[1;32m     63\u001b[0m \u001b[43m              \u001b[49m\u001b[43mapi\u001b[49m\u001b[38;5;241;43m=\u001b[39;49m\u001b[43mapi\u001b[49m\u001b[43m,\u001b[49m\u001b[43m \u001b[49m\u001b[43mverbose\u001b[49m\u001b[38;5;241;43m=\u001b[39;49m\u001b[43mverbose\u001b[49m\u001b[43m)\u001b[49m\n",
      "File \u001b[0;32m~/miniconda3/envs/sms/lib/python3.10/site-packages/pybliometrics/scopus/superclasses/base.py:60\u001b[0m, in \u001b[0;36mBase.__init__\u001b[0;34m(self, params, url, api, download, verbose, *args, **kwds)\u001b[0m\n\u001b[1;32m     58\u001b[0m         \u001b[38;5;28mself\u001b[39m\u001b[38;5;241m.\u001b[39m_json \u001b[38;5;241m=\u001b[39m loads(fname\u001b[38;5;241m.\u001b[39mread_text())\n\u001b[1;32m     59\u001b[0m \u001b[38;5;28;01melse\u001b[39;00m:\n\u001b[0;32m---> 60\u001b[0m     resp \u001b[38;5;241m=\u001b[39m \u001b[43mget_content\u001b[49m\u001b[43m(\u001b[49m\u001b[43murl\u001b[49m\u001b[43m,\u001b[49m\u001b[43m \u001b[49m\u001b[43mapi\u001b[49m\u001b[43m,\u001b[49m\u001b[43m \u001b[49m\u001b[43mparams\u001b[49m\u001b[43m,\u001b[49m\u001b[43m \u001b[49m\u001b[38;5;241;43m*\u001b[39;49m\u001b[43margs\u001b[49m\u001b[43m,\u001b[49m\u001b[43m \u001b[49m\u001b[38;5;241;43m*\u001b[39;49m\u001b[38;5;241;43m*\u001b[39;49m\u001b[43mkwds\u001b[49m\u001b[43m)\u001b[49m\n\u001b[1;32m     61\u001b[0m     header \u001b[38;5;241m=\u001b[39m resp\u001b[38;5;241m.\u001b[39mheaders\n\u001b[1;32m     62\u001b[0m     \u001b[38;5;28;01mif\u001b[39;00m search_request:\n\u001b[1;32m     63\u001b[0m         \u001b[38;5;66;03m# Get number of results\u001b[39;00m\n",
      "File \u001b[0;32m~/miniconda3/envs/sms/lib/python3.10/site-packages/pybliometrics/scopus/utils/get_content.py:116\u001b[0m, in \u001b[0;36mget_content\u001b[0;34m(url, api, params, **kwds)\u001b[0m\n\u001b[1;32m    114\u001b[0m         \u001b[38;5;28;01mexcept\u001b[39;00m:\n\u001b[1;32m    115\u001b[0m             reason \u001b[38;5;241m=\u001b[39m \u001b[38;5;124m\"\u001b[39m\u001b[38;5;124m\"\u001b[39m\n\u001b[0;32m--> 116\u001b[0m     \u001b[38;5;28;01mraise\u001b[39;00m errors[resp\u001b[38;5;241m.\u001b[39mstatus_code](reason)\n\u001b[1;32m    117\u001b[0m \u001b[38;5;28;01mexcept\u001b[39;00m \u001b[38;5;167;01mKeyError\u001b[39;00m:\n\u001b[1;32m    118\u001b[0m     resp\u001b[38;5;241m.\u001b[39mraise_for_status()\n",
      "\u001b[0;31mScopus401Error\u001b[0m: "
     ]
    }
   ],
   "source": [
    "lastname = \"Woodward\" \n",
    "firstname = \"Todd\"\n",
    "query = f\"authlastname({lastname}) and authfirst({firstname})\"\n",
    "s = AuthorSearch(query)\n",
    "authors = s.authors"
   ]
  },
  {
   "cell_type": "code",
   "execution_count": null,
   "metadata": {},
   "outputs": [],
   "source": [
    "print(authors)"
   ]
  },
  {
   "cell_type": "code",
   "execution_count": null,
   "metadata": {},
   "outputs": [],
   "source": [
    "lastname = \"ledue\" \n",
    "firstname = \"jeffrey m\"\n",
    "query = f\"authlastname({lastname}) and authfirst({firstname})\"\n",
    "s = AuthorSearch(query)\n",
    "authors = s.authors\n",
    "print(authors)"
   ]
  },
  {
   "cell_type": "markdown",
   "metadata": {},
   "source": [
    "duplicate accounts: \n",
    "- yutian wang\n",
    "- jeffrey ledue (58606026100, 56371437500)"
   ]
  }
 ],
 "metadata": {
  "kernelspec": {
   "display_name": "authorlookup",
   "language": "python",
   "name": "python3"
  },
  "language_info": {
   "codemirror_mode": {
    "name": "ipython",
    "version": 3
   },
   "file_extension": ".py",
   "mimetype": "text/x-python",
   "name": "python",
   "nbconvert_exporter": "python",
   "pygments_lexer": "ipython3",
   "version": "3.10.0"
  },
  "orig_nbformat": 4
 },
 "nbformat": 4,
 "nbformat_minor": 2
}
